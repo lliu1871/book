{
 "cells": [
  {
   "cell_type": "markdown",
   "id": "a04fcdd2",
   "metadata": {},
   "source": [
    "# 第15卷\n",
    "![](image/cover.jpg)\n",
    "\n",
    "【王子侯表第三】\n",
    "\n",
    "大哉，圣祖之建业也！后嗣承序，以广亲亲。至于孝武，以诸侯王□土过制，或替差失轨，而子弟为匹夫，轻重不相准，于是制诏御史：「诸侯王或欲推私恩分子弟邑者，令各条上，朕且临定其号名。」自是支庶毕侯矣。《诗》云：「文王孙子，本支百世」，信矣哉！\n",
    "\n",
    "孝元之世，亡王子侯者，盛衰终始，岂非命哉！元始之际，王莽擅朝，伪褒宗室，侯及王之孙焉；居摄而愈多，非其正，故弗录。旋踵亦绝，悲夫！\n",
    "\n",
    "（表略）"
   ]
  }
 ],
 "metadata": {
  "jupytext": {
   "cell_metadata_filter": "-all",
   "formats": "md:myst",
   "text_representation": {
    "extension": ".md",
    "format_name": "myst",
    "format_version": 0.13,
    "jupytext_version": "1.11.5"
   }
  },
  "kernelspec": {
   "display_name": "Python 3",
   "language": "python",
   "name": "python3"
  },
  "language_info": {
   "codemirror_mode": {
    "name": "ipython",
    "version": 3
   },
   "file_extension": ".py",
   "mimetype": "text/x-python",
   "name": "python",
   "nbconvert_exporter": "python",
   "pygments_lexer": "ipython3",
   "version": "3.7.4"
  },
  "source_map": [
   14
  ]
 },
 "nbformat": 4,
 "nbformat_minor": 5
}