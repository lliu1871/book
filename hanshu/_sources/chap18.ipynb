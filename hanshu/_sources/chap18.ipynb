{
 "cells": [
  {
   "cell_type": "markdown",
   "id": "a5e01643",
   "metadata": {},
   "source": [
    "# 第18卷\n",
    "![](image/cover.jpg)\n",
    "\n",
    "【外戚恩泽侯表第六】\n",
    "\n",
    "自古受命及中兴之君，必兴灭继绝，修废举逸，然后天下归仁，四方之政行焉。传称武王克殷，追存贤圣，至乎不及下车。世代虽殊，其揆一也。高帝拨乱诛暴，庶事草创，日不暇给，然犹修祀六国，求聘四皓，过魏则宠无忌之墓，适赵则封乐毅之后。及其行赏而授位也，爵以功为先后，宫用能为次序。后嗣共己遵业，旧臣继踵居位。至乎孝武，元功宿将略尽。会上亦兴文学，进拔幽隐，公孙弘自海濒而登宰相，于是宠以列侯之爵。又畴咨前代，询问耆老，初得周后，复加爵、邑。自是之后，宰相毕侯矣。元、成之间，晚得殷世，以备宾位。\n",
    "\n",
    "汉兴，外戚与定天下，侯者二人。故誓曰：「非刘氏不王，若有亡功非上所置而侯者，天下共诛之。」是以高后欲王诸吕，王陵廷争；孝景将侯王氏，修侯犯色。卒用废黜。是后薄昭、窦婴、上官、卫、霍之侯，以功受爵。其余后父据《春秋》褒纪之义，帝舅缘《大雅》申伯之意，浸广博矣。是以别而叙之。\n",
    "\n",
    "（表略）"
   ]
  }
 ],
 "metadata": {
  "jupytext": {
   "cell_metadata_filter": "-all",
   "formats": "md:myst",
   "text_representation": {
    "extension": ".md",
    "format_name": "myst",
    "format_version": 0.13,
    "jupytext_version": "1.11.5"
   }
  },
  "kernelspec": {
   "display_name": "Python 3",
   "language": "python",
   "name": "python3"
  },
  "language_info": {
   "codemirror_mode": {
    "name": "ipython",
    "version": 3
   },
   "file_extension": ".py",
   "mimetype": "text/x-python",
   "name": "python",
   "nbconvert_exporter": "python",
   "pygments_lexer": "ipython3",
   "version": "3.7.4"
  },
  "source_map": [
   14
  ]
 },
 "nbformat": 4,
 "nbformat_minor": 5
}