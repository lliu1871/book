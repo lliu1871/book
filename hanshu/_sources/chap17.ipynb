{
 "cells": [
  {
   "cell_type": "markdown",
   "id": "61b1baf4",
   "metadata": {},
   "source": [
    "# 第17卷\n",
    "![](image/cover.jpg)\n",
    "\n",
    "【景武昭宣元成功臣表第五】\n",
    "\n",
    "昔《书》称「蛮夷帅服」，《诗》云「徐方既俫」，《春秋》列潞子之爵，许其慕诸夏也。汉兴至于孝文时，乃有弓高、襄城之封，虽自外来，本功臣后。故至孝景始欲侯降者，丞相周亚夫守约而争。帝黜其议，初开封赏之科，又有吴、楚之事。武兴胡、越之伐，将帅受爵，应本约矣。后世承平，颇有劳臣，辑而序之，续元功次云。\n",
    "\n",
    "（表略）"
   ]
  }
 ],
 "metadata": {
  "jupytext": {
   "cell_metadata_filter": "-all",
   "formats": "md:myst",
   "text_representation": {
    "extension": ".md",
    "format_name": "myst",
    "format_version": 0.13,
    "jupytext_version": "1.11.5"
   }
  },
  "kernelspec": {
   "display_name": "Python 3",
   "language": "python",
   "name": "python3"
  },
  "language_info": {
   "codemirror_mode": {
    "name": "ipython",
    "version": 3
   },
   "file_extension": ".py",
   "mimetype": "text/x-python",
   "name": "python",
   "nbconvert_exporter": "python",
   "pygments_lexer": "ipython3",
   "version": "3.7.4"
  },
  "source_map": [
   14
  ]
 },
 "nbformat": 4,
 "nbformat_minor": 5
}