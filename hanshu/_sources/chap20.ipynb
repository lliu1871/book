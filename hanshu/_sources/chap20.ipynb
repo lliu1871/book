{
 "cells": [
  {
   "cell_type": "markdown",
   "id": "38faa92e",
   "metadata": {},
   "source": [
    "# 第20卷\n",
    "![](image/cover.jpg)\n",
    "\n",
    "【古今人表第八】\n",
    "\n",
    "自书契之作，先民可得而闻者，经传所称，唐、虞以上，帝王有号谥。辅佐不可得而称矣，而诸子颇言之，虽不考虖孔氏，然犹著在篇籍，归乎显善昭恶，劝戒后人，故博采焉。孔子曰：「若圣与仁，则吾岂敢？」又曰：「何事于仁，必也圣乎！」「未知，焉得仁？」「生而知之者，上也；学而知之者，次也；因而学之，又其次也；困而不学，民斯为下矣。」又曰：「中人以上，可以语上也。」「唯上智与下愚不移。」传曰：譬如尧、舜，禹、稷、卨与之为善则行，鮌、讙兜欲与为恶则诛。可与为善，不可与为恶，是谓上智。桀、纣，龙逢、比干欲与之为善则诛，于莘、崇侯与之为恶则行。可与为恶，不可与为善，是谓下愚。齐桓公，管仲相之则霸，竖貂辅之则乱。可与为善，可与为恶，是谓中人。因兹以列九等之序，究极经传，继世相次，总备古今之略要云。\n",
    "\n",
    "（表略）"
   ]
  }
 ],
 "metadata": {
  "jupytext": {
   "cell_metadata_filter": "-all",
   "formats": "md:myst",
   "text_representation": {
    "extension": ".md",
    "format_name": "myst",
    "format_version": 0.13,
    "jupytext_version": "1.11.5"
   }
  },
  "kernelspec": {
   "display_name": "Python 3",
   "language": "python",
   "name": "python3"
  },
  "language_info": {
   "codemirror_mode": {
    "name": "ipython",
    "version": 3
   },
   "file_extension": ".py",
   "mimetype": "text/x-python",
   "name": "python",
   "nbconvert_exporter": "python",
   "pygments_lexer": "ipython3",
   "version": "3.7.4"
  },
  "source_map": [
   14
  ]
 },
 "nbformat": 4,
 "nbformat_minor": 5
}