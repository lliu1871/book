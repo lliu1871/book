{
 "cells": [
  {
   "cell_type": "markdown",
   "id": "24ddc9da",
   "metadata": {},
   "source": [
    "# 人面桃花\n",
    "\n",
    "![](image/cover.jpg)\n",
    "\n",
    "人面桃花\n",
    "\n",
    "出孟棨《本事诗》\n",
    "\n",
    "崔护博陵崔护，姿质甚美，少而孤洁寡合。举进士第。清明日，独游都城南，得居人庄。一\n",
    "亩之宫，而花木丛萃，寂若无人。叩门久之，有女子自门隙窥之，间曰：“谁耶？”护以姓字对，\n",
    "曰：“寻春独行，酒渴求饮。”女入，以杯水至。开门设床命坐，独倚小桃斜柯伫立，而意属殊厚。\n",
    "妖姿媚态，绰有余妍。崔以言挑之，不对，目注者久之。崔辞去，送至门，如不胜情而入。崔亦眷\n",
    "盼而归，尔后绝不复至。\n",
    "\n",
    "及来岁清明日，忽思之，情不可抑，径往寻之。门院如故，而已锁矣。崔因题诗于左扉曰：\n",
    "\n",
    "去年今日此门中，人面桃花相映红。\\\n",
    "人面不知何处去？桃花依旧笑春风。\n",
    "\n",
    "后数日，偶至都城南，复往寻之，闻其中有哭声。叩门问之，有老父出曰：“君非崔护耶？”\n",
    "曰：“是也。”又哭曰：“君杀吾女。”惊但莫知所答。父曰：“吾女笄年知书，未适人。自去年\n",
    "已来，常恍惚若有所失。比日与之出，及归，见左扉有字，读之，人门而病。遂绝食，数日而死。\n",
    "吾老矣，惟此一女，所以不嫁者，将求君子以托吾身。今不幸而殒，得非君杀之耶！”又持崔大哭。\n",
    "崔亦感恸，请人哭之，尚俨然在床。崔举其首，枕其股，哭而祝曰：“某在斯。”须臾开目，半日\n",
    "复活。父喜，遂以女归之。"
   ]
  }
 ],
 "metadata": {
  "jupytext": {
   "cell_metadata_filter": "-all",
   "formats": "md:myst",
   "text_representation": {
    "extension": ".md",
    "format_name": "myst",
    "format_version": 0.13,
    "jupytext_version": "1.11.5"
   }
  },
  "kernelspec": {
   "display_name": "Python 3",
   "language": "python",
   "name": "python3"
  },
  "language_info": {
   "codemirror_mode": {
    "name": "ipython",
    "version": 3
   },
   "file_extension": ".py",
   "mimetype": "text/x-python",
   "name": "python",
   "nbconvert_exporter": "python",
   "pygments_lexer": "ipython3",
   "version": "3.7.4"
  },
  "source_map": [
   14
  ]
 },
 "nbformat": 4,
 "nbformat_minor": 5
}