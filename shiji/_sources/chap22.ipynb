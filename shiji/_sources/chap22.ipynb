{
 "cells": [
  {
   "cell_type": "markdown",
   "id": "85dedf6a",
   "metadata": {},
   "source": [
    "# 汉兴以来将相名臣年表\n",
    "\n",
    "（表略）高祖初起，啸命群雄。天下未定，王我汉中。三杰既得，六奇献功。\n",
    "\n",
    "章邯已破，萧何筑宫。周勃厚重，朱虚至忠。陈平作相，条侯总戎。丙魏立志，汤尧饰躬。\n",
    "\n",
    "天汉之后，表述非功。"
   ]
  }
 ],
 "metadata": {
  "jupytext": {
   "cell_metadata_filter": "-all",
   "formats": "md:myst",
   "text_representation": {
    "extension": ".md",
    "format_name": "myst",
    "format_version": 0.13,
    "jupytext_version": "1.11.5"
   }
  },
  "kernelspec": {
   "display_name": "Python 3",
   "language": "python",
   "name": "python3"
  },
  "language_info": {
   "codemirror_mode": {
    "name": "ipython",
    "version": 3
   },
   "file_extension": ".py",
   "mimetype": "text/x-python",
   "name": "python",
   "nbconvert_exporter": "python",
   "pygments_lexer": "ipython3",
   "version": "3.7.4"
  },
  "source_map": [
   14
  ]
 },
 "nbformat": 4,
 "nbformat_minor": 5
}