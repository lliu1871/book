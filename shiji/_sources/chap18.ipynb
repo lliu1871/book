{
 "cells": [
  {
   "cell_type": "markdown",
   "id": "457e9669",
   "metadata": {},
   "source": [
    "# 高祖功臣侯者年表\n",
    "\n",
    "太史公曰：古者人臣功有五品，以德立宗庙定社稷曰勋，以言曰劳，用力曰功，明其等曰伐，积日曰阅。\n",
    "\n",
    "封爵之誓曰：“使河如带，泰山若厉。国以永宁，爰及苗裔。”始未尝不欲固其根本，而枝叶稍陵夷衰微也。\n",
    "\n",
    "余读高祖侯功臣，察其首封，所以失之者，曰：异哉新闻！书曰\n",
    "\n",
    "“协和万国”，迁于夏商，或数千岁。盖周封八百，幽厉之後，见於春秋。\n",
    "\n",
    "尚书有唐虞之侯伯，历三代千有馀载，自全以蕃卫天子，岂非笃於仁义，奉上法哉？\n",
    "\n",
    "汉兴，功臣受封者百有馀人。天下初定，故大城名都散亡，户口可得而数者十二三，是以大侯不过万家，小者五六百户。\n",
    "\n",
    "後数世，民咸归乡里，户益息，萧、曹、绛、灌之属或至四万，小侯自倍，富厚如之。\n",
    "\n",
    "子孙骄溢，忘其先，淫嬖。至太初百年之间，见侯五，馀皆坐法陨命亡国，秏矣。\n",
    "\n",
    "罔亦少密焉，然皆身无兢兢於当世之禁云。居今之世，志古之道，所以自镜也，未必尽同。\n",
    "\n",
    "帝王者各殊礼而异务，要以成功为统纪，岂可绲乎？观所以得尊宠及所以废辱，亦当世得失之林也，何必旧闻？\n",
    "\n",
    "於是谨其终始，表其文，颇有所不尽本末；著其明，疑者阙之。後有君子，欲推而列之，得以览焉。\n",
    "\n",
    "（表略）圣贤影响，风云潜契。高祖应箓，功臣命世。起沛入秦，凭谋仗计。\n",
    "\n",
    "纪勋书爵，河盟山誓。萧曹轻重，绛灌权势。咸就封国，或萌罪戾。仁贤者祀，昏虐者替。\n",
    "\n",
    "永监前修，良惭固蒂。"
   ]
  }
 ],
 "metadata": {
  "jupytext": {
   "cell_metadata_filter": "-all",
   "formats": "md:myst",
   "text_representation": {
    "extension": ".md",
    "format_name": "myst",
    "format_version": 0.13,
    "jupytext_version": "1.11.5"
   }
  },
  "kernelspec": {
   "display_name": "Python 3",
   "language": "python",
   "name": "python3"
  },
  "language_info": {
   "codemirror_mode": {
    "name": "ipython",
    "version": 3
   },
   "file_extension": ".py",
   "mimetype": "text/x-python",
   "name": "python",
   "nbconvert_exporter": "python",
   "pygments_lexer": "ipython3",
   "version": "3.7.4"
  },
  "source_map": [
   14
  ]
 },
 "nbformat": 4,
 "nbformat_minor": 5
}