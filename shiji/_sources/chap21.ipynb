{
 "cells": [
  {
   "cell_type": "markdown",
   "id": "eba731ed",
   "metadata": {},
   "source": [
    "# 建元已来王子侯者年表\n",
    "\n",
    "制诏御史：“诸侯王或欲推私恩分子弟邑者，令各条上，朕且临定其号名。”太史公曰：盛哉，天子之德！\n",
    "\n",
    "一人有庆，天下赖之。（表略）汉世之初，矫枉过正。欲大本枝，先封同姓。\n",
    "\n",
    "建元已后，籓翰克盛。主父上言，推恩下令。长沙济北，中山赵敬。分邑广封。\n",
    "\n",
    "振振在咏。扞城御侮，晔晔辉映。百足不僵，一人有庆。"
   ]
  }
 ],
 "metadata": {
  "jupytext": {
   "cell_metadata_filter": "-all",
   "formats": "md:myst",
   "text_representation": {
    "extension": ".md",
    "format_name": "myst",
    "format_version": 0.13,
    "jupytext_version": "1.11.5"
   }
  },
  "kernelspec": {
   "display_name": "Python 3",
   "language": "python",
   "name": "python3"
  },
  "language_info": {
   "codemirror_mode": {
    "name": "ipython",
    "version": 3
   },
   "file_extension": ".py",
   "mimetype": "text/x-python",
   "name": "python",
   "nbconvert_exporter": "python",
   "pygments_lexer": "ipython3",
   "version": "3.7.4"
  },
  "source_map": [
   14
  ]
 },
 "nbformat": 4,
 "nbformat_minor": 5
}