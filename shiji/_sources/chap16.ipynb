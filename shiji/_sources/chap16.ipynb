{
 "cells": [
  {
   "cell_type": "markdown",
   "id": "00b54eb9",
   "metadata": {},
   "source": [
    "# 秦楚之际月表\n",
    "\n",
    "太史公读秦楚之际，曰：初作难，发於陈涉；虐戾灭秦，自项氏；拨乱诛暴，平定海内，卒践帝祚，成於汉家。\n",
    "\n",
    "五年之间，号令三嬗。自生民以来，未始有受命若斯之亟也。昔虞、夏之兴，积善累功数十年，德洽百姓，摄行政事，考之于天，然後在位。\n",
    "\n",
    "汤、武之王，乃由契、后稷脩仁行义十馀世，不期而会孟津八百诸侯，犹以为未可，其後乃放弑。\n",
    "\n",
    "秦起襄公，章於文、缪，献、孝之後，稍以蚕食六国，百有馀载，至始皇乃能并冠带之伦。\n",
    "\n",
    "以德若彼，用力如此，盖一统若斯之难也。秦既称帝，患兵革不休，以有诸侯也，於是无尺土之封，堕坏名城，销锋镝，鉏豪桀，维万世之安。\n",
    "\n",
    "然王迹之兴，起於闾巷，合从讨伐，轶於三代，乡秦之禁，適足以资贤者为驱除难耳。\n",
    "\n",
    "故愤发其所为天下雄，安在无土不王。此乃传之所谓大圣乎？岂非天哉，岂非天哉！\n",
    "\n",
    "非大圣孰能当此受命而帝者乎？（表略）"
   ]
  }
 ],
 "metadata": {
  "jupytext": {
   "cell_metadata_filter": "-all",
   "formats": "md:myst",
   "text_representation": {
    "extension": ".md",
    "format_name": "myst",
    "format_version": 0.13,
    "jupytext_version": "1.11.5"
   }
  },
  "kernelspec": {
   "display_name": "Python 3",
   "language": "python",
   "name": "python3"
  },
  "language_info": {
   "codemirror_mode": {
    "name": "ipython",
    "version": 3
   },
   "file_extension": ".py",
   "mimetype": "text/x-python",
   "name": "python",
   "nbconvert_exporter": "python",
   "pygments_lexer": "ipython3",
   "version": "3.7.4"
  },
  "source_map": [
   14
  ]
 },
 "nbformat": 4,
 "nbformat_minor": 5
}