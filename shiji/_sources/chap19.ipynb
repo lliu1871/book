{
 "cells": [
  {
   "cell_type": "markdown",
   "id": "fbe3f83f",
   "metadata": {},
   "source": [
    "# 惠景闲侯者年表\n",
    "\n",
    "太史公读列封至便侯曰：有以也夫！长沙王者，着令甲，称其忠焉。昔高祖定天下，功臣非同姓疆土而王者八国。\n",
    "\n",
    "至孝惠帝时，唯独长沙全，禅五世，以无嗣绝，竟无过，为籓守职，信矣。\n",
    "\n",
    "故其泽流枝庶，毋功而侯者数人。及孝惠讫孝景间五十载，追修高祖时遗功臣，及从代来，吴楚之劳，诸侯子若肺腑，外国归义，封者九十有余。\n",
    "\n",
    "咸表始终，当世仁义成功之著者也。（表略）惠景之际，天下已平。诸吕构祸，吴楚连兵。\n",
    "\n",
    "条侯出讨，壮武奉迎。薄窦恩泽，张赵忠贞。本枝分荫，肺腑归诚。新市死事，建陵勋荣。\n",
    "\n",
    "咸开青社，俱受丹旌。旋窥甲令，吴便有声。"
   ]
  }
 ],
 "metadata": {
  "jupytext": {
   "cell_metadata_filter": "-all",
   "formats": "md:myst",
   "text_representation": {
    "extension": ".md",
    "format_name": "myst",
    "format_version": 0.13,
    "jupytext_version": "1.11.5"
   }
  },
  "kernelspec": {
   "display_name": "Python 3",
   "language": "python",
   "name": "python3"
  },
  "language_info": {
   "codemirror_mode": {
    "name": "ipython",
    "version": 3
   },
   "file_extension": ".py",
   "mimetype": "text/x-python",
   "name": "python",
   "nbconvert_exporter": "python",
   "pygments_lexer": "ipython3",
   "version": "3.7.4"
  },
  "source_map": [
   14
  ]
 },
 "nbformat": 4,
 "nbformat_minor": 5
}