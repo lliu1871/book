{
 "cells": [
  {
   "cell_type": "markdown",
   "id": "8518c43b",
   "metadata": {},
   "source": [
    "# Lab 15: Phylogenetic tree reconstruction\n",
    "\n",
    "## Preparation\n",
    "- Install the R package phybase hosted at [Github](https://github.com/lliu1871/phybase). The **devtools** package provides **install_github()** that enables installing R packages from GitHub. \n",
    "\n",
    "```{code}\n",
    "    install.packages(\"devtools\")\n",
    "    library(devtools)\n",
    "    install_github(\"lliu1871/phybase\") \n",
    "```\n",
    "- Download Phylip at https://evolution.genetics.washington.edu/phylip/getme-new1.html \n",
    "- Download RAxML at https://cme.h-its.org/exelixis/web/software/raxml/index.html \n",
    "- Download Figtree (tree visualization) at https://github.com/rambaut/figtree/releases \n",
    "- Install the python package **dendropy** at https://dendropy.org/\n",
    "- [WebPhy](https://bioinformatics.phylolab.net/)\n",
    "\n",
    "## Data files\n",
    "Download the data files ([lab15_primates.nex](https://book.phylolab.net/binf8441/data/lab15_primates.nex) and [lab15_primates.phy](https://book.phylolab.net/binf8441/data/lab15_primates.phy)) of DNA alignments in Phylip and Nexus format. You may convert a format to another format in R using the packages **ape** and **phybase**."
   ]
  },
  {
   "cell_type": "code",
   "execution_count": 1,
   "id": "5a05c8e2",
   "metadata": {},
   "outputs": [
    {
     "name": "stderr",
     "output_type": "stream",
     "text": [
      "Loading required package: ape\n",
      "\n"
     ]
    },
    {
     "name": "stderr",
     "output_type": "stream",
     "text": [
      "Loading required package: Matrix\n",
      "\n"
     ]
    },
    {
     "name": "stderr",
     "output_type": "stream",
     "text": [
      "\n",
      "Attaching package: 'phybase'\n",
      "\n",
      "\n"
     ]
    },
    {
     "name": "stderr",
     "output_type": "stream",
     "text": [
      "The following objects are masked from 'package:ape':\n",
      "\n",
      "    dist.dna, node.height\n",
      "\n",
      "\n"
     ]
    },
    {
     "data": {
      "text/html": [
       "1"
      ],
      "text/latex": [
       "1"
      ],
      "text/markdown": [
       "1"
      ],
      "text/plain": [
       "[1] 1"
      ]
     },
     "metadata": {},
     "output_type": "display_data"
    }
   ],
   "source": [
    "library(phybase)\n",
    "data = read.dna.seq(\"https://book.phylolab.net/binf8441/data/lab15_primates.nex\")\n",
    "write.dna.seq(data$seq, data$name, file=\"primates.phy\", format=\"phylip\")"
   ]
  },
  {
   "cell_type": "markdown",
   "id": "a6279b8a",
   "metadata": {},
   "source": [
    "## Distance methods\n",
    "1.\tGiven the DNA alignments, calculate the pairwise distances in phylip using the subroutine **dnadist** (read the [instruction](https://evolution.genetics.washington.edu/phylip/doc/dnadist.html))\n",
    "2.\tReconstructing the UPGMA and NJ trees from pairwise distances in phylip using the subroutine **neighbor** (read the [instruction](https://evolution.genetics.washington.edu/phylip/doc/neighbor.html))\n",
    "3.\tPerforming the bootstrap analysis using the subroutine **seqboot** (read the [instruction](https://evolution.genetics.washington.edu/phylip/doc/seqboot.html))\n",
    "4.\tbuilding a consensus tree from the bootstrap trees using the subroutine **consense** (read the [instruction](https://evolution.genetics.washington.edu/phylip/doc/consense.html))\n",
    "\n",
    "## Parsimony methods\n",
    "Given the DNA alignments, find the most parsimonious tree in phylip using the subroutine **dnapars** (read the [instruction](https://evolution.genetics.washington.edu/phylip/doc/dnapars.html))\n",
    "\n",
    "## Maximum likelihood \n",
    "Find the maximum likelihood tree using **RAxML** with the command line \n",
    "```{code}\n",
    "raxmlHPC.exe  -p7635673  -s primates.phy  -mGTRGAMMA -n outputfile\n",
    "```\n",
    "Perform the bootstrap analysis with 100 replicates\n",
    "```{code}\n",
    "raxmlHPC.exe   -b14635  -p7635673 -N100  -s primates.phy -mGTRGAMMA -n outputfile\n",
    "```\n",
    "Build the majority rule consensus tree from bootstrap trees\n",
    "```{code}\n",
    "raxmlHPC.exe   -J MRE  -z bootstraptreefile  -mGTRGAMMA  -n outputfile\n",
    "```\n",
    "\n",
    "## Summarizing bootstrap trees\n",
    "The python program **sumtrees.py**, which is available in the package dendropy, can build a majority rule consensus tree from a set of trees. The command line is\n",
    "\n",
    "```{code}\n",
    "sumtrees.py -f 0 -o output.con.tre -p  input_treefile --to-phylip  --no-summary-metadata\n",
    "```\n",
    "\n",
    "## Tree distance\n",
    "Calculate tree distances using the R function **dist.topo()** in **ape**"
   ]
  },
  {
   "cell_type": "code",
   "execution_count": 2,
   "id": "b348b559",
   "metadata": {},
   "outputs": [
    {
     "name": "stderr",
     "output_type": "stream",
     "text": [
      "Warning message in dist.topo(trees):\n",
      "\"Some trees were rooted: topological distances may be spurious.\"\n"
     ]
    },
    {
     "data": {
      "text/plain": [
       "      tree1 tree2 tree3 tree4\n",
       "tree2     6                  \n",
       "tree3     6     2            \n",
       "tree4     6     6     4      \n",
       "tree5     6     2     0     4"
      ]
     },
     "metadata": {},
     "output_type": "display_data"
    }
   ],
   "source": [
    "library(phybase)\n",
    "trees = read.tree(\"https://book.phylolab.net/binf8441/data/lab15_trees.tre\")\n",
    "dist.topo(trees)"
   ]
  }
 ],
 "metadata": {
  "jupytext": {
   "cell_metadata_filter": "-all",
   "formats": "md:myst",
   "text_representation": {
    "extension": ".md",
    "format_name": "myst",
    "format_version": 0.13,
    "jupytext_version": "1.11.5"
   }
  },
  "kernelspec": {
   "display_name": "R",
   "language": "R",
   "name": "ir"
  },
  "language_info": {
   "codemirror_mode": "r",
   "file_extension": ".r",
   "mimetype": "text/x-r-source",
   "name": "R",
   "pygments_lexer": "r",
   "version": "4.2.2"
  },
  "source_map": [
   14,
   35,
   39,
   74
  ]
 },
 "nbformat": 4,
 "nbformat_minor": 5
}