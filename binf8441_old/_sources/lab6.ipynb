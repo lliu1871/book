{
 "cells": [
  {
   "cell_type": "markdown",
   "id": "f3c8e12a",
   "metadata": {},
   "source": [
    "# Lab 6: Hypothesis testing\n",
    "\n",
    "- Two sample t-test\n",
    "- ANOVA for multiple samples \n",
    "- F-test for equal variance\n",
    "- Association chi-square test\n",
    "- Nonparametric test (Mann-Whitney) for two samples\n",
    "- Likelihood ratio test\n",
    "- Normality test\n",
    "\n",
    "\n",
    "## Two sample t-test\n",
    "We first generate data in R. The observations in the control group are simulated from $Normal(1,1)$. The treatment group is simulated from $Normal(2,1)$."
   ]
  },
  {
   "cell_type": "code",
   "execution_count": 1,
   "id": "45ea1e2f",
   "metadata": {},
   "outputs": [
    {
     "data": {
      "image/png": "[encoded data removed]",
      "text/plain": [
       "plot without title"
      ]
     },
     "metadata": {
      "filenames": {
       "image/png": "D:\\books\\jupyter_book\\binf8441\\_build\\jupyter_execute\\lab6_1_0.png"
      },
      "image/png": {
       "height": 420,
       "width": 420
      }
     },
     "output_type": "display_data"
    }
   ],
   "source": [
    "control = rnorm(20, mean=1, sd=1)\n",
    "treatment = rnorm(30, mean=2, sd=1)\n",
    "boxplot(control, treatment, col=c(\"orange\",\"brown\"))"
   ]
  },
  {
   "cell_type": "markdown",
   "id": "b82fb22e",
   "metadata": {},
   "source": [
    "$\\mu_1$: the population mean of the control population \\\n",
    "$\\mu_2$: the population mean of the treatment population\n",
    "\n",
    "$H_0: \\mu_1 = \\mu_2$ and $H_1: \\mu_1\\ne \\mu_2$\n",
    "\n",
    "We perform the two sample t-test in R. This is a two-sided test."
   ]
  },
  {
   "cell_type": "code",
   "execution_count": 2,
   "id": "bc86d9be",
   "metadata": {},
   "outputs": [
    {
     "data": {
      "text/plain": [
       "\n",
       "\tWelch Two Sample t-test\n",
       "\n",
       "data:  control and treatment\n",
       "t = -3.0384, df = 46.782, p-value = 0.003884\n",
       "alternative hypothesis: true difference in means is not equal to 0\n",
       "95 percent confidence interval:\n",
       " -1.3691431 -0.2782593\n",
       "sample estimates:\n",
       "mean of x mean of y \n",
       " 1.004949  1.828651 \n"
      ]
     },
     "metadata": {},
     "output_type": "display_data"
    }
   ],
   "source": [
    "t.test(x=control, y=treatment, alternative=\"two.sided\")"
   ]
  },
  {
   "cell_type": "markdown",
   "id": "d4356103",
   "metadata": {},
   "source": [
    "Because pvalue < 0.05, we reject the null and accept the alternative hypothesis that two population means (control and treatment) are not equal to each other. \n",
    "\n",
    "## Analysis of Variance (ANOVA) \n",
    "We generate multiple samples from the normal distributions with the same variance, and combine the samples as a data.frame in R. The first column is data and the second column denotes groups."
   ]
  },
  {
   "cell_type": "code",
   "execution_count": 3,
   "id": "4a8d0ee1",
   "metadata": {},
   "outputs": [
    {
     "data": {
      "image/png": "[encoded data removed]",
      "text/plain": [
       "plot without title"
      ]
     },
     "metadata": {
      "filenames": {
       "image/png": "D:\\books\\jupyter_book\\binf8441\\_build\\jupyter_execute\\lab6_5_0.png"
      },
      "image/png": {
       "height": 420,
       "width": 420
      }
     },
     "output_type": "display_data"
    }
   ],
   "source": [
    "data = matrix(0,nrow=30,ncol=2)\n",
    "data[1:12,1] = rnorm(12,mean=3,sd=1)\n",
    "data[1:12,2]= 1\n",
    "data[13:20,1] = rnorm(8,mean=3,sd=1)\n",
    "data[13:20,2]= 2\n",
    "data[21:30,1] = rnorm(10,mean=3,sd=1)\n",
    "data[21:30,2] = 3\n",
    "colnames(data) = c(\"bloodtest\",\"group\")\n",
    "data = data.frame(data)\n",
    "data$group = as.factor(data$group)\n",
    "boxplot(data$bloodtest ~ data$group, col=c(\"orange\",\"darkorange\",\"brown\"))"
   ]
  },
  {
   "cell_type": "markdown",
   "id": "39e24495",
   "metadata": {},
   "source": [
    "$H_0: \\mu_1=\\mu_2=\\mu_3$ and $H_1$: at least two population means are not equal\n",
    "\n",
    "We perform ANOVA in R."
   ]
  },
  {
   "cell_type": "code",
   "execution_count": 4,
   "id": "7d527d8b",
   "metadata": {},
   "outputs": [
    {
     "data": {
      "text/plain": [
       "            Df Sum Sq Mean Sq F value Pr(>F)\n",
       "data$group   2  0.106  0.0532   0.056  0.945\n",
       "Residuals   27 25.496  0.9443               "
      ]
     },
     "metadata": {},
     "output_type": "display_data"
    }
   ],
   "source": [
    "fit = aov(data$bloodtest~data$group)\n",
    "summary(fit)"
   ]
  },
  {
   "cell_type": "markdown",
   "id": "865d5643",
   "metadata": {},
   "source": [
    "Because pvalue > 0.05, we cannot reject the null hypothesis. Next, we generate multiple samples from the normal distributions with different means."
   ]
  },
  {
   "cell_type": "code",
   "execution_count": 5,
   "id": "2720ba6f",
   "metadata": {},
   "outputs": [
    {
     "data": {
      "image/png": "[encoded data removed]",
      "text/plain": [
       "plot without title"
      ]
     },
     "metadata": {
      "filenames": {
       "image/png": "D:\\books\\jupyter_book\\binf8441\\_build\\jupyter_execute\\lab6_9_0.png"
      },
      "image/png": {
       "height": 420,
       "width": 420
      }
     },
     "output_type": "display_data"
    }
   ],
   "source": [
    "data = matrix(0,nrow=30,ncol=2)\n",
    "data[1:12,1] = rnorm(12,mean=3,sd=1)\n",
    "data[1:12,2]= 1\n",
    "data[13:20,1] = rnorm(8,mean=5,sd=1)\n",
    "data[13:20,2]= 2\n",
    "data[21:30,1] = rnorm(10,mean=3,sd=1)\n",
    "data[21:30,2] = 3\n",
    "colnames(data) = c(\"bloodtest\",\"group\")\n",
    "data = data.frame(data)\n",
    "data$group = as.factor(data$group)\n",
    "boxplot(data$bloodtest ~ data$group, col=c(\"orange\",\"darkorange\",\"brown\"))"
   ]
  },
  {
   "cell_type": "markdown",
   "id": "3a252ab7",
   "metadata": {},
   "source": [
    "We perform ANOVA in R."
   ]
  },
  {
   "cell_type": "code",
   "execution_count": 6,
   "id": "fa7eb2e2",
   "metadata": {},
   "outputs": [
    {
     "data": {
      "text/plain": [
       "            Df Sum Sq Mean Sq F value   Pr(>F)    \n",
       "data$group   2  26.65  13.327      13 0.000111 ***\n",
       "Residuals   27  27.67   1.025                     \n",
       "---\n",
       "Signif. codes:  0 '***' 0.001 '**' 0.01 '*' 0.05 '.' 0.1 ' ' 1"
      ]
     },
     "metadata": {},
     "output_type": "display_data"
    }
   ],
   "source": [
    "fit = aov(data$bloodtest~data$group)\n",
    "summary(fit)"
   ]
  },
  {
   "cell_type": "markdown",
   "id": "d60e9d05",
   "metadata": {},
   "source": [
    "## F-test to compare two variances\n",
    "We generate the control and treatment groups from two normal distributions with the same variance, and perform the F test to compare the two population variances. \n",
    "\n",
    "$H_0:\\sigma_1^2 = \\sigma_2^2$ and $H_0:\\sigma_1^2 \\ne \\sigma_2^2$"
   ]
  },
  {
   "cell_type": "code",
   "execution_count": 7,
   "id": "b9aa9dab",
   "metadata": {},
   "outputs": [
    {
     "data": {
      "text/plain": [
       "\n",
       "\tF test to compare two variances\n",
       "\n",
       "data:  control and treatment\n",
       "F = 0.74462, num df = 19, denom df = 29, p-value = 0.5082\n",
       "alternative hypothesis: true ratio of variances is not equal to 1\n",
       "95 percent confidence interval:\n",
       " 0.3337217 1.7885454\n",
       "sample estimates:\n",
       "ratio of variances \n",
       "         0.7446245 \n"
      ]
     },
     "metadata": {},
     "output_type": "display_data"
    },
    {
     "data": {
      "image/png": "[encoded data removed]",
      "text/plain": [
       "plot without title"
      ]
     },
     "metadata": {
      "filenames": {
       "image/png": "D:\\books\\jupyter_book\\binf8441\\_build\\jupyter_execute\\lab6_13_1.png"
      },
      "image/png": {
       "height": 420,
       "width": 420
      }
     },
     "output_type": "display_data"
    }
   ],
   "source": [
    "control = rnorm(20, mean=1, sd=1)\n",
    "treatment = rnorm(30, mean=2, sd=1)\n",
    "boxplot(control, treatment, col=c(\"orange\",\"brown\"))\n",
    "var.test(x=control, y=treatment, alternative = \"two.sided\")"
   ]
  },
  {
   "cell_type": "markdown",
   "id": "87e7adfd",
   "metadata": {},
   "source": [
    "Then, we generate the control and treatment groups from two normal distributions with unequal variances."
   ]
  },
  {
   "cell_type": "code",
   "execution_count": 8,
   "id": "e1fa2e97",
   "metadata": {},
   "outputs": [
    {
     "data": {
      "text/plain": [
       "\n",
       "\tF test to compare two variances\n",
       "\n",
       "data:  control and treatment\n",
       "F = 11.789, num df = 19, denom df = 29, p-value = 1.133e-08\n",
       "alternative hypothesis: true ratio of variances is not equal to 1\n",
       "95 percent confidence interval:\n",
       "  5.283405 28.315838\n",
       "sample estimates:\n",
       "ratio of variances \n",
       "          11.78872 \n"
      ]
     },
     "metadata": {},
     "output_type": "display_data"
    },
    {
     "data": {
      "image/png": "[encoded data removed]",
      "text/plain": [
       "plot without title"
      ]
     },
     "metadata": {
      "filenames": {
       "image/png": "D:\\books\\jupyter_book\\binf8441\\_build\\jupyter_execute\\lab6_15_1.png"
      },
      "image/png": {
       "height": 420,
       "width": 420
      }
     },
     "output_type": "display_data"
    }
   ],
   "source": [
    "control = rnorm(20, mean=1, sd=5)\n",
    "treatment = rnorm(30, mean=2, sd=1)\n",
    "boxplot(control, treatment, col=c(\"orange\",\"brown\"))\n",
    "var.test(x=control, y=treatment, alternative = \"two.sided\")"
   ]
  },
  {
   "cell_type": "markdown",
   "id": "2b250904",
   "metadata": {},
   "source": [
    "## Association chi-square test\n",
    "A contingency table is generated from an R build-in dataset **survey** using an R function **table()**."
   ]
  },
  {
   "cell_type": "code",
   "execution_count": 9,
   "id": "d08c919f",
   "metadata": {},
   "outputs": [
    {
     "data": {
      "text/plain": [
       "       \n",
       "        Freq None Some\n",
       "  Heavy    7    1    3\n",
       "  Never   87   18   84\n",
       "  Occas   12    3    4\n",
       "  Regul    9    1    7"
      ]
     },
     "metadata": {},
     "output_type": "display_data"
    }
   ],
   "source": [
    "library(MASS)       # load the MASS package \n",
    "tbl = table(survey$Smoke, survey$Exer) \n",
    "tbl     #the contingency table"
   ]
  },
  {
   "cell_type": "markdown",
   "id": "48a9f463",
   "metadata": {},
   "source": [
    "$H_0$: smoking and exercise are independent and $H_1$: not independent\n",
    "\n",
    "We perform the chi-square test to test if smoking is associated with exercise."
   ]
  },
  {
   "cell_type": "code",
   "execution_count": 10,
   "id": "7dabba04",
   "metadata": {},
   "outputs": [
    {
     "name": "stderr",
     "output_type": "stream",
     "text": [
      "Warning message in chisq.test(tbl):\n",
      "\"Chi-squared approximation may be incorrect\"\n"
     ]
    },
    {
     "data": {
      "text/plain": [
       "\n",
       "\tPearson's Chi-squared test\n",
       "\n",
       "data:  tbl\n",
       "X-squared = 5.4885, df = 6, p-value = 0.4828\n"
      ]
     },
     "metadata": {},
     "output_type": "display_data"
    }
   ],
   "source": [
    "chisq.test(tbl) "
   ]
  },
  {
   "cell_type": "markdown",
   "id": "bb948df7",
   "metadata": {},
   "source": [
    "## Nonparametric test (Mann-Whitney) for two samples\n",
    "Because two sample t-test assumes that data follow the normal distribution. If the normality assumption is not satisfied, it is not appropriate to use two sample t-test. But we may use nonparametric tests, because nonparametric tests do not assume underlying probability distributions. In this example, we generate two samples from the exponential distributions with different means. Let $\\mu_1$ and $\\mu_2$ be two population means. In this case, $\\mu_1=1/2$ and $\\mu_2=1/5$.\n",
    "\n",
    "$H_0: pop_1=pop_2$ and $H_1:pop_1\\ne pop_2$"
   ]
  },
  {
   "cell_type": "code",
   "execution_count": 11,
   "id": "9dafd6ce",
   "metadata": {},
   "outputs": [
    {
     "data": {
      "image/png": "[encoded data removed]",
      "text/plain": [
       "plot without title"
      ]
     },
     "metadata": {
      "filenames": {
       "image/png": "D:\\books\\jupyter_book\\binf8441\\_build\\jupyter_execute\\lab6_21_0.png"
      },
      "image/png": {
       "height": 420,
       "width": 420
      }
     },
     "output_type": "display_data"
    }
   ],
   "source": [
    "control = rexp(20, rate=2)\n",
    "treatment = rexp(30, rate=5)\n",
    "boxplot(control, treatment, col=c(\"orange\",\"brown\"))"
   ]
  },
  {
   "cell_type": "markdown",
   "id": "1007b468",
   "metadata": {},
   "source": [
    "We perform the nonparametric test"
   ]
  },
  {
   "cell_type": "code",
   "execution_count": 12,
   "id": "de368c64",
   "metadata": {},
   "outputs": [
    {
     "data": {
      "text/plain": [
       "\n",
       "\tWilcoxon rank sum exact test\n",
       "\n",
       "data:  control and treatment\n",
       "W = 459, p-value = 0.001295\n",
       "alternative hypothesis: true location shift is not equal to 0\n"
      ]
     },
     "metadata": {},
     "output_type": "display_data"
    }
   ],
   "source": [
    "wilcox.test(control,treatment)"
   ]
  },
  {
   "cell_type": "markdown",
   "id": "8b311689",
   "metadata": {},
   "source": [
    "If the sample size is small (<5), it is not appropriate to use two sample t-test to compare two samples. But we can use nonparametric tests to compare two samples with a small sample size. \n",
    "\n",
    "## Likelihood Ratio Test (LRT)"
   ]
  },
  {
   "cell_type": "code",
   "execution_count": 13,
   "id": "09c05a08",
   "metadata": {},
   "outputs": [],
   "source": [
    "x = rnorm(20, mean=1.5, sd = 1)"
   ]
  },
  {
   "cell_type": "markdown",
   "id": "daf21cb9",
   "metadata": {},
   "source": [
    "$H_0: \\mu = 1$ and $H_1:\\mu\\ne 1$\n",
    "\n",
    "We assume that the variance $\\sigma^2=1$ is given and calculate the loglikelihood score log_L0 for the null hypothesis $\\mu=1$"
   ]
  },
  {
   "cell_type": "code",
   "execution_count": 14,
   "id": "08a3c056",
   "metadata": {},
   "outputs": [],
   "source": [
    "log_L0 = sum(log(dnorm(x,mean=1,sd=1)))"
   ]
  },
  {
   "cell_type": "markdown",
   "id": "5a3639a3",
   "metadata": {},
   "source": [
    "We calculate the loglikelihood score log_L1 for the alternative hypothesis. Because the alternative hypothesis does not specify the value of $\\mu$, we use the maximum likelihood estimate (i.e., the sample average) of $\\mu$ to calculate the loglikelihood score."
   ]
  },
  {
   "cell_type": "code",
   "execution_count": 15,
   "id": "0b62efcc",
   "metadata": {},
   "outputs": [],
   "source": [
    "mu_hat = mean(x)\n",
    "log_L1 = sum(log(dnorm(x,mean=mu_hat,sd=1)))"
   ]
  },
  {
   "cell_type": "markdown",
   "id": "6eab396f",
   "metadata": {},
   "source": [
    "We calculate the LRT statistic and find the pvalue"
   ]
  },
  {
   "cell_type": "code",
   "execution_count": 16,
   "id": "798a983a",
   "metadata": {},
   "outputs": [
    {
     "name": "stdout",
     "output_type": "stream",
     "text": [
      "[1] \"pvalue = 0.160020369287103\"\n"
     ]
    }
   ],
   "source": [
    "t = -2*(log_L0 - log_L1)\n",
    "critical_value = qchisq(0.95,df=1)\n",
    "pvalue = 1-pchisq(t,df=1)\n",
    "print(paste(\"pvalue =\",pvalue))"
   ]
  },
  {
   "cell_type": "markdown",
   "id": "ca08d91d",
   "metadata": {},
   "source": [
    "## Normality test (Sapiro-Wilk test)\n",
    "Sapiro-Wilk test can be used to test if the real data follow the normal distribution or not. We simulate data from the exponential distribution with rate = 1."
   ]
  },
  {
   "cell_type": "code",
   "execution_count": 17,
   "id": "4dce8160",
   "metadata": {},
   "outputs": [],
   "source": [
    "data = rexp(100)"
   ]
  },
  {
   "cell_type": "markdown",
   "id": "b899e111",
   "metadata": {},
   "source": [
    "$H_0:$ the normal distribution and $H_1:$ not the normal distribution\n",
    "\n",
    "The Q-Q plot can illustrate if the dataset follows the normal distribution. It is a scatter plot of the sample quantiles generated from data versus the quantiles expected from the normal distribution. If the dataset follows the normal distribution, the points should be close to the straight line."
   ]
  },
  {
   "cell_type": "code",
   "execution_count": 18,
   "id": "741ab41b",
   "metadata": {},
   "outputs": [
    {
     "data": {
      "image/png": "[encoded data removed]",
      "text/plain": [
       "Plot with title \"Normal Q-Q Plot\""
      ]
     },
     "metadata": {
      "filenames": {
       "image/png": "D:\\books\\jupyter_book\\binf8441\\_build\\jupyter_execute\\lab6_35_0.png"
      },
      "image/png": {
       "height": 420,
       "width": 420
      }
     },
     "output_type": "display_data"
    }
   ],
   "source": [
    "par(mfrow=c(2,2))\n",
    "hist(data,col=\"brown\")\n",
    "plot(density(data),col=\"brown\")\n",
    "qqnorm(data, pch=16)\n",
    "qqline(data, col = \"brown\")"
   ]
  },
  {
   "cell_type": "markdown",
   "id": "bc4d2b95",
   "metadata": {},
   "source": [
    "The Sapiro-Wilk test is widely used to check normality."
   ]
  },
  {
   "cell_type": "code",
   "execution_count": 19,
   "id": "a4e3cc3b",
   "metadata": {},
   "outputs": [
    {
     "data": {
      "text/plain": [
       "\n",
       "\tShapiro-Wilk normality test\n",
       "\n",
       "data:  data\n",
       "W = 0.81981, p-value = 1.054e-09\n"
      ]
     },
     "metadata": {},
     "output_type": "display_data"
    }
   ],
   "source": [
    "shapiro.test(data)"
   ]
  }
 ],
 "metadata": {
  "jupytext": {
   "cell_metadata_filter": "-all",
   "formats": "md:myst",
   "text_representation": {
    "extension": ".md",
    "format_name": "myst",
    "format_version": 0.13,
    "jupytext_version": "1.11.5"
   }
  },
  "kernelspec": {
   "display_name": "R",
   "language": "R",
   "name": "ir"
  },
  "language_info": {
   "codemirror_mode": "r",
   "file_extension": ".r",
   "mimetype": "text/x-r-source",
   "name": "R",
   "pygments_lexer": "r",
   "version": "4.2.2"
  },
  "source_map": [
   14,
   30,
   34,
   43,
   45,
   52,
   64,
   69,
   72,
   75,
   87,
   89,
   92,
   99,
   104,
   107,
   112,
   116,
   120,
   125,
   127,
   134,
   138,
   140,
   142,
   148,
   150,
   155,
   157,
   160,
   163,
   167,
   172,
   176,
   178,
   183,
   189,
   193
  ]
 },
 "nbformat": 4,
 "nbformat_minor": 5
}