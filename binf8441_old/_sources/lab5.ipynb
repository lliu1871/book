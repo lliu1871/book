{
 "cells": [
  {
   "cell_type": "markdown",
   "id": "c882c87d",
   "metadata": {},
   "source": [
    "# Lab 5: Optimization algorithms\n",
    "\n",
    "In statistical analysis, it often requires to maximize or minimize a target function $f(x)$ with respect to $x$. For example, if the likelihood function $L(\\theta)=P(D|\\theta)$ is given, the maximum likelihood estimate of $\\theta$ is obtained by maximizing the likelihood function \n",
    "$L(\\theta)$. For the least square estimates, when the error function is given, we estimate parameters by minimizing the sum of squared errors. In mathematics, those problems are called optimization problems, which may not have analytic solutions. \n",
    "\n",
    "If the likelihood function or the error function is continuous and differentiable with respect to $\\theta$, then the optimizer is the solution to the equation  \n",
    "\n",
    "$$\\frac{dL(\\theta)}{d\\theta}=0$$\n",
    " \n",
    "````{prf:example} \n",
    ":nonumber:\n",
    "$x_1,\\dots,x_n\\sim Exponential (\\lambda)$ and we want to find the maximum likelihood estimate of $\\lambda$. The likelihood function is given by  \n",
    "\n",
    "\n",
    "$$L(\\lambda)=f(x_1,\\dots,x_n|\\lambda)=\\prod_{i=1}^nf(x_i|\\lambda)=\\prod_{i=1}^n\\frac{1}{\\lambda}e^{-\\frac{x_i}{\\lambda}}=\\frac{1}{\\lambda^n}e^{−\\frac{\\sum_ix_i}{\\lambda}}$$\n",
    "\n",
    "The loglikelihood function is given by\n",
    "\n",
    "$$logL(\\lambda)=−n\\log\\lambda−\\frac{\\sum_ix_i}{\\lambda}$$\n",
    "\n",
    " \n",
    "Setting the first derivate of the loglikelihood function to be 0,\n",
    "\n",
    "$$−\\frac{n}{\\lambda}+\\frac{\\sum_ix_i}{\\lambda^2}=0 \\Rightarrow \\lambda=\\bar{x}$$\n",
    "````\n",
    " \n",
    "What if there is no analytic solution? We may use numerical approaches to solve optimization problems.  \n",
    "\n",
    " \n",
    "## Newton-Raphson algorithms  \n",
    "If $g(x)$ is a differentiable function, we want to find the solution $x^∗$ such that \n",
    "$g(x^∗)=0$. When $x$ is close to $x^∗$, we have the following approximation  \n",
    "\n",
    "$$\\frac{g(x)−g(x^∗)}{x−x^∗}\\approx g'(x)$$\n",
    "\n",
    "The Newton-Raphson algorithm uses a recursive function to iteratively update the value of $x$,\n",
    "\n",
    "$$x^∗=x−\\frac{g(x)}{g'(x)}$$\n",
    "\n",
    "```{prf:algorithm} Newton-Raphson\n",
    ":label: Newton\n",
    "\n",
    "**Inputs** Given a target function $G=(x)$ with or without constraints, its derivative $g'(x)$, and a small $\\epsilon$.\n",
    "\n",
    "**Output** the maximum or minimum value.\n",
    "\n",
    "1. Set an initial value $x_0$\n",
    "2. Update $x_{n+1} = x_n - \\frac{g(x_n)}{g'(x_n)}$\n",
    "3. Stop if $|x_{n+1}-x_n|<\\epsilon$\n",
    "\n",
    "```\n",
    "\n",
    "We may use the NR algorithm to calculate $\\sqrt{2}$. This is equivalent to finding the solution to the equation $x^2 - 2 = 0$."
   ]
  },
  {
   "cell_type": "code",
   "execution_count": 1,
   "id": "608aec2b",
   "metadata": {},
   "outputs": [
    {
     "name": "stdout",
     "output_type": "stream",
     "text": [
      "[1] \"the squre root of 2 is 1.41421356237469\"\n"
     ]
    },
    {
     "name": "stdout",
     "output_type": "stream",
     "text": [
      "[1] \"the error is 2.12389982001682e-06\"\n"
     ]
    }
   ],
   "source": [
    "epsilon = 1e-5\n",
    "error = 1\n",
    "x_old = 2\n",
    "while(error > epsilon){\n",
    "    x = x_old - (x_old^2-2)/(2*x_old)\n",
    "    error = abs(x-x_old)\n",
    "    x_old = x\n",
    "}\n",
    "print(paste(\"the squre root of 2 is\", x))\n",
    "print(paste(\"the error is\", error))"
   ]
  },
  {
   "cell_type": "markdown",
   "id": "e35707c1",
   "metadata": {},
   "source": [
    "We may generalize this algorithm to calculate the square root of any positive number $a$."
   ]
  },
  {
   "cell_type": "code",
   "execution_count": 2,
   "id": "9ac07a14",
   "metadata": {},
   "outputs": [
    {
     "name": "stdout",
     "output_type": "stream",
     "text": [
      "[1] \"the squre root of 9 is 3\"\n"
     ]
    },
    {
     "name": "stdout",
     "output_type": "stream",
     "text": [
      "[1] \"the error is 1.39698386192322e-09\"\n"
     ]
    }
   ],
   "source": [
    "my_sqrt = function (a){\n",
    "    epsilon = 1e-5\n",
    "    error = 1\n",
    "    x_old = a\n",
    "    while(error > epsilon){\n",
    "        x = x_old - (x_old^2-a)/(2*x_old)\n",
    "        error = abs(x-x_old)\n",
    "        x_old = x\n",
    "    }\n",
    "    return(c(x,error))\n",
    "}\n",
    "\n",
    "a = 9\n",
    "result = my_sqrt(a)\n",
    "print(paste(\"the squre root of\", a, \"is\", result[1]))\n",
    "print(paste(\"the error is\", result[2]))"
   ]
  },
  {
   "cell_type": "markdown",
   "id": "7a0c4d4e",
   "metadata": {},
   "source": [
    "## Optimization in R\n",
    "Generate 10 random numbers from the exponential distribution with $\\lambda=1/3$ and find the maximum likelihood estimate of $\\lambda$. We plot the loglikelihood as a function of $\\lambda$."
   ]
  },
  {
   "cell_type": "code",
   "execution_count": 3,
   "id": "11e06919",
   "metadata": {},
   "outputs": [
    {
     "data": {
      "image/png": "[encoded data removed]",
      "text/plain": [
       "plot without title"
      ]
     },
     "metadata": {
      "filenames": {
       "image/png": "D:\\books\\jupyter_book\\binf8441\\_build\\jupyter_execute\\lab5_5_0.png"
      },
      "image/png": {
       "height": 420,
       "width": 420
      }
     },
     "output_type": "display_data"
    }
   ],
   "source": [
    "n = 10\n",
    "data = rexp(n, rate=3) #rate = 1/lambda\n",
    "x = sum(data)\n",
    "rate = seq(0.1,15,0.1)\n",
    "\n",
    "loglike = 1:length(rate)\n",
    "for(i in 1:length(rate)){\n",
    "    loglike[i] = sum(log(dexp(data,rate[i])))\n",
    "}\n",
    "plot(rate,loglike,type=\"l\",col=\"red\")"
   ]
  },
  {
   "cell_type": "markdown",
   "id": "64e87532",
   "metadata": {},
   "source": [
    "In theory, the MLE of $\\lambda$ is the sample average. Here, we use the optimization function **optim()** to find the MLE of $\\lambda$ in R."
   ]
  },
  {
   "cell_type": "code",
   "execution_count": 4,
   "id": "a5878a5a",
   "metadata": {},
   "outputs": [
    {
     "name": "stderr",
     "output_type": "stream",
     "text": [
      "Warning message in optim(par = 1, fn = loglikelihood, data = data):\n",
      "\"one-dimensional optimization by Nelder-Mead is unreliable:\n",
      "use \"Brent\" or optimize() directly\"\n"
     ]
    },
    {
     "name": "stdout",
     "output_type": "stream",
     "text": [
      "[1] \"the maximum likelihood estimate of lambda is 0.419672131147541\"\n"
     ]
    },
    {
     "name": "stdout",
     "output_type": "stream",
     "text": [
      "[1] \"the sample average is 0.419734918982615\"\n"
     ]
    }
   ],
   "source": [
    "#the optimization funciton optim minimizes a target function\n",
    "#therefore, we calculate -loglike\n",
    "loglikelihood = function(x, data){\n",
    "    loglike = sum(log(dexp(data,x)))\n",
    "    -loglike \n",
    "}\n",
    "\n",
    "result = optim(par = 1, fn = loglikelihood, data = data)\n",
    "print(paste(\"the maximum likelihood estimate of lambda is\", 1/result$par))\n",
    "print(paste(\"the sample average is\", mean(data)))"
   ]
  }
 ],
 "metadata": {
  "jupytext": {
   "cell_metadata_filter": "-all",
   "formats": "md:myst",
   "text_representation": {
    "extension": ".md",
    "format_name": "myst",
    "format_version": 0.13,
    "jupytext_version": "1.11.5"
   }
  },
  "kernelspec": {
   "display_name": "R",
   "language": "R",
   "name": "ir"
  },
  "language_info": {
   "codemirror_mode": "r",
   "file_extension": ".r",
   "mimetype": "text/x-r-source",
   "name": "R",
   "pygments_lexer": "r",
   "version": "4.2.2"
  },
  "source_map": [
   14,
   70,
   81,
   84,
   102,
   107,
   118,
   122
  ]
 },
 "nbformat": 4,
 "nbformat_minor": 5
}