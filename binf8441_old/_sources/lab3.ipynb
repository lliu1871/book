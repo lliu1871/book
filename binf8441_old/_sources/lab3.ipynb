{
 "cells": [
  {
   "cell_type": "markdown",
   "id": "b791bca7",
   "metadata": {},
   "source": [
    "# Lab 3: The law of large numbers \n",
    "\n",
    "\n",
    "The law of large numbers states that as the sample size $n$ goes to infinity the sample average $\\bar{X}$  converges to the true population mean $\\mu$ , i.e., as $n\\rightarrow \\infty$ , $\\bar{X}\\rightarrow \\mu$ . In this lab, we will simulate data to demonstrate the law of large numbers.\n",
    "\n",
    "\n",
    "## A discrete case (Poisson distribution)\n",
    "\n",
    "The population mean of the Poisson distribution $(\\lambda=5)$ is $E(X)=\\lambda=5$. We simulate $n=10$ observations from the Poisson distribution and calculate the sample average."
   ]
  },
  {
   "cell_type": "code",
   "execution_count": 1,
   "id": "e0845ba0",
   "metadata": {},
   "outputs": [
    {
     "name": "stdout",
     "output_type": "stream",
     "text": [
      "[1] \"the sample average is 4.2\"\n"
     ]
    },
    {
     "data": {
      "text/html": [
       "1.3984117975602"
      ],
      "text/latex": [
       "1.3984117975602"
      ],
      "text/markdown": [
       "1.3984117975602"
      ],
      "text/plain": [
       "[1] 1.398412"
      ]
     },
     "metadata": {},
     "output_type": "display_data"
    },
    {
     "data": {
      "text/plain": [
       "   Min. 1st Qu.  Median    Mean 3rd Qu.    Max. \n",
       "    2.0     3.0     4.5     4.2     5.0     6.0 "
      ]
     },
     "metadata": {},
     "output_type": "display_data"
    },
    {
     "data": {
      "text/html": [
       "<style>\n",
       ".list-inline {list-style: none; margin:0; padding: 0}\n",
       ".list-inline>li {display: inline-block}\n",
       ".list-inline>li:not(:last-child)::after {content: \"\\00b7\"; padding: 0 .5ex}\n",
       "</style>\n",
       "<ol class=list-inline><li>2</li><li>3</li><li>3</li><li>3</li><li>4</li><li>5</li><li>5</li><li>5</li><li>6</li><li>6</li></ol>\n"
      ],
      "text/latex": [
       "\\begin{enumerate*}\n",
       "\\item 2\n",
       "\\item 3\n",
       "\\item 3\n",
       "\\item 3\n",
       "\\item 4\n",
       "\\item 5\n",
       "\\item 5\n",
       "\\item 5\n",
       "\\item 6\n",
       "\\item 6\n",
       "\\end{enumerate*}\n"
      ],
      "text/markdown": [
       "1. 2\n",
       "2. 3\n",
       "3. 3\n",
       "4. 3\n",
       "5. 4\n",
       "6. 5\n",
       "7. 5\n",
       "8. 5\n",
       "9. 6\n",
       "10. 6\n",
       "\n",
       "\n"
      ],
      "text/plain": [
       " [1] 2 3 3 3 4 5 5 5 6 6"
      ]
     },
     "metadata": {},
     "output_type": "display_data"
    },
    {
     "data": {
      "text/html": [
       "6"
      ],
      "text/latex": [
       "6"
      ],
      "text/markdown": [
       "6"
      ],
      "text/plain": [
       "[1] 6"
      ]
     },
     "metadata": {},
     "output_type": "display_data"
    },
    {
     "data": {
      "text/html": [
       "2"
      ],
      "text/latex": [
       "2"
      ],
      "text/markdown": [
       "2"
      ],
      "text/plain": [
       "[1] 2"
      ]
     },
     "metadata": {},
     "output_type": "display_data"
    },
    {
     "data": {
      "text/html": [
       "<strong>95%:</strong> 6"
      ],
      "text/latex": [
       "\\textbf{95\\textbackslash{}\\%:} 6"
      ],
      "text/markdown": [
       "**95%:** 6"
      ],
      "text/plain": [
       "95% \n",
       "  6 "
      ]
     },
     "metadata": {},
     "output_type": "display_data"
    },
    {
     "data": {
      "image/png": "[encoded data removed]",
      "text/plain": [
       "Plot with title \"Histogram of data\""
      ]
     },
     "metadata": {
      "filenames": {
       "image/png": "D:\\books\\jupyter_book\\binf8441\\_build\\jupyter_execute\\lab3_1_7.png"
      },
      "image/png": {
       "height": 420,
       "width": 420
      }
     },
     "output_type": "display_data"
    }
   ],
   "source": [
    "n=10\n",
    "data = rpois(n, lambda=5)\n",
    "\n",
    "print(paste(\"the sample average is\",mean(data)))\n",
    "sd(data)\n",
    "summary(data)\n",
    "sort(data)\n",
    "max(data)\n",
    "min(data)\n",
    "quantile(data, prob=0.95)\n",
    "\n",
    "par(mfrow=c(2,2))\n",
    "plot(data)\n",
    "hist(data)\n",
    "boxplot(data)"
   ]
  },
  {
   "cell_type": "markdown",
   "id": "12687a6f",
   "metadata": {},
   "source": [
    "Then we increase the sample size $n$ from 100, 200, up to 100,000 and recalculate the sample average. By the law of large numbers, we expect that the sample average gets closer to the true population mean 5 as the sample size increases."
   ]
  },
  {
   "cell_type": "code",
   "execution_count": 2,
   "id": "0fef7064",
   "metadata": {},
   "outputs": [
    {
     "data": {
      "image/png": "[encoded data removed]",
      "text/plain": [
       "plot without title"
      ]
     },
     "metadata": {
      "filenames": {
       "image/png": "D:\\books\\jupyter_book\\binf8441\\_build\\jupyter_execute\\lab3_3_0.png"
      },
      "image/png": {
       "height": 420,
       "width": 420
      }
     },
     "output_type": "display_data"
    }
   ],
   "source": [
    "nsim = 1000\n",
    "sample_size = (1:nsim)*100\n",
    "sample_average = 1:nsim\n",
    "for(i in 1:nsim){\n",
    "\tdata = rpois(sample_size[i],lambda=5)\n",
    "\tsample_average[i] = mean(data)\n",
    "}\n",
    "\n",
    "plot(x=sample_size, y=sample_average,col='blue',pch=16)\n",
    "abline(a=5,b=0,col='red')"
   ]
  },
  {
   "cell_type": "markdown",
   "id": "f6f9e9c6",
   "metadata": {},
   "source": [
    "## A continuous case (Normal distribution)\n",
    "\n",
    "In this case, the population is a normal distribution with mean 2.7 and variance 1.6. We simulate data from $Normal(\\mu=2.7, \\sigma^2=1.6)$ and calculate the sample average."
   ]
  },
  {
   "cell_type": "code",
   "execution_count": 3,
   "id": "4402b4b0",
   "metadata": {},
   "outputs": [
    {
     "name": "stdout",
     "output_type": "stream",
     "text": [
      "[1] \"the sample average is 2.59060162931741\"\n"
     ]
    },
    {
     "data": {
      "text/html": [
       "1.300952905172"
      ],
      "text/latex": [
       "1.300952905172"
      ],
      "text/markdown": [
       "1.300952905172"
      ],
      "text/plain": [
       "[1] 1.300953"
      ]
     },
     "metadata": {},
     "output_type": "display_data"
    },
    {
     "data": {
      "text/plain": [
       "   Min. 1st Qu.  Median    Mean 3rd Qu.    Max. \n",
       "0.01428 1.92303 2.49089 2.59060 3.53131 4.39963 "
      ]
     },
     "metadata": {},
     "output_type": "display_data"
    },
    {
     "data": {
      "text/html": [
       "<style>\n",
       ".list-inline {list-style: none; margin:0; padding: 0}\n",
       ".list-inline>li {display: inline-block}\n",
       ".list-inline>li:not(:last-child)::after {content: \"\\00b7\"; padding: 0 .5ex}\n",
       "</style>\n",
       "<ol class=list-inline><li>0.0142820901990759</li><li>1.84704803417117</li><li>1.89715621726676</li><li>2.00064617500781</li><li>2.27081488454176</li><li>2.71095577700812</li><li>2.8764942878145</li><li>3.74958617572026</li><li>4.13940047421829</li><li>4.39963217722631</li></ol>\n"
      ],
      "text/latex": [
       "\\begin{enumerate*}\n",
       "\\item 0.0142820901990759\n",
       "\\item 1.84704803417117\n",
       "\\item 1.89715621726676\n",
       "\\item 2.00064617500781\n",
       "\\item 2.27081488454176\n",
       "\\item 2.71095577700812\n",
       "\\item 2.8764942878145\n",
       "\\item 3.74958617572026\n",
       "\\item 4.13940047421829\n",
       "\\item 4.39963217722631\n",
       "\\end{enumerate*}\n"
      ],
      "text/markdown": [
       "1. 0.0142820901990759\n",
       "2. 1.84704803417117\n",
       "3. 1.89715621726676\n",
       "4. 2.00064617500781\n",
       "5. 2.27081488454176\n",
       "6. 2.71095577700812\n",
       "7. 2.8764942878145\n",
       "8. 3.74958617572026\n",
       "9. 4.13940047421829\n",
       "10. 4.39963217722631\n",
       "\n",
       "\n"
      ],
      "text/plain": [
       " [1] 0.01428209 1.84704803 1.89715622 2.00064618 2.27081488 2.71095578\n",
       " [7] 2.87649429 3.74958618 4.13940047 4.39963218"
      ]
     },
     "metadata": {},
     "output_type": "display_data"
    },
    {
     "data": {
      "text/html": [
       "4.39963217722631"
      ],
      "text/latex": [
       "4.39963217722631"
      ],
      "text/markdown": [
       "4.39963217722631"
      ],
      "text/plain": [
       "[1] 4.399632"
      ]
     },
     "metadata": {},
     "output_type": "display_data"
    },
    {
     "data": {
      "text/html": [
       "0.0142820901990759"
      ],
      "text/latex": [
       "0.0142820901990759"
      ],
      "text/markdown": [
       "0.0142820901990759"
      ],
      "text/plain": [
       "[1] 0.01428209"
      ]
     },
     "metadata": {},
     "output_type": "display_data"
    },
    {
     "data": {
      "text/html": [
       "<strong>95%:</strong> 4.2825279108727"
      ],
      "text/latex": [
       "\\textbf{95\\textbackslash{}\\%:} 4.2825279108727"
      ],
      "text/markdown": [
       "**95%:** 4.2825279108727"
      ],
      "text/plain": [
       "     95% \n",
       "4.282528 "
      ]
     },
     "metadata": {},
     "output_type": "display_data"
    },
    {
     "data": {
      "image/png": "[encoded data removed]",
      "text/plain": [
       "Plot with title \"Histogram of data\""
      ]
     },
     "metadata": {
      "filenames": {
       "image/png": "D:\\books\\jupyter_book\\binf8441\\_build\\jupyter_execute\\lab3_5_7.png"
      },
      "image/png": {
       "height": 420,
       "width": 420
      }
     },
     "output_type": "display_data"
    }
   ],
   "source": [
    "n=10\n",
    "data = rnorm(n, mean=2.7, sd=sqrt(1.6))\n",
    "\n",
    "print(paste(\"the sample average is\",mean(data)))\n",
    "sd(data)\n",
    "summary(data)\n",
    "sort(data)\n",
    "max(data)\n",
    "min(data)\n",
    "quantile(data, prob=0.95)\n",
    "\n",
    "par(mfrow=c(2,2))\n",
    "plot(data)\n",
    "hist(data)\n",
    "boxplot(data)"
   ]
  },
  {
   "cell_type": "markdown",
   "id": "f97ec657",
   "metadata": {},
   "source": [
    "Then we increase the sample size $n$ from 100, 200, up to 100,000 and recalculate the sample average. By the law of large numbers, we expect that the sample average gets closer to the true population mean 2.7 as the sample size increases."
   ]
  },
  {
   "cell_type": "code",
   "execution_count": 4,
   "id": "75909282",
   "metadata": {},
   "outputs": [
    {
     "data": {
      "image/png": "[encoded data removed]",
      "text/plain": [
       "plot without title"
      ]
     },
     "metadata": {
      "filenames": {
       "image/png": "D:\\books\\jupyter_book\\binf8441\\_build\\jupyter_execute\\lab3_7_0.png"
      },
      "image/png": {
       "height": 420,
       "width": 420
      }
     },
     "output_type": "display_data"
    }
   ],
   "source": [
    "nsim = 1000\n",
    "sample_size = (1:nsim)*100\n",
    "sample_average = 1:nsim\n",
    "for(i in 1:nsim){\n",
    "\tdata = rnorm(sample_size[i],mean=2.7,sd=sqrt(1.6))\n",
    "\tsample_average[i] = mean(data)\n",
    "}\n",
    "\n",
    "plot(x=sample_size, y=sample_average,col='blue',pch=16)\n",
    "abline(a=2.7,b=0,col='red')"
   ]
  },
  {
   "cell_type": "markdown",
   "id": "0738a723",
   "metadata": {},
   "source": [
    "## Exercise\n",
    "Demonstrate the law of large numbers for the Binomial distribution, the Exponential distribution, and the Gamma distribution."
   ]
  }
 ],
 "metadata": {
  "jupytext": {
   "cell_metadata_filter": "-all",
   "formats": "md:myst",
   "text_representation": {
    "extension": ".md",
    "format_name": "myst",
    "format_version": 0.13,
    "jupytext_version": "1.11.5"
   }
  },
  "kernelspec": {
   "display_name": "R",
   "language": "R",
   "name": "ir"
  },
  "language_info": {
   "codemirror_mode": "r",
   "file_extension": ".r",
   "mimetype": "text/x-r-source",
   "name": "R",
   "pygments_lexer": "r",
   "version": "4.2.2"
  },
  "source_map": [
   14,
   27,
   43,
   47,
   58,
   64,
   80,
   83,
   94
  ]
 },
 "nbformat": 4,
 "nbformat_minor": 5
}