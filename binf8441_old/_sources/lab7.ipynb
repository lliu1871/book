{
 "cells": [
  {
   "cell_type": "markdown",
   "id": "be8e9e65",
   "metadata": {},
   "source": [
    "# Lab 7: Multiple tests\n",
    "We generate gene expression data for 4 genes"
   ]
  },
  {
   "cell_type": "code",
   "execution_count": 1,
   "id": "86a6182e",
   "metadata": {},
   "outputs": [
    {
     "data": {
      "text/html": [
       "<table class=\"dataframe\">\n",
       "<caption>A data.frame: 20 × 5</caption>\n",
       "<thead>\n",
       "\t<tr><th scope=col>group</th><th scope=col>gene1</th><th scope=col>gene2</th><th scope=col>gene3</th><th scope=col>gene4</th></tr>\n",
       "\t<tr><th scope=col>&lt;dbl&gt;</th><th scope=col>&lt;dbl&gt;</th><th scope=col>&lt;dbl&gt;</th><th scope=col>&lt;dbl&gt;</th><th scope=col>&lt;dbl&gt;</th></tr>\n",
       "</thead>\n",
       "<tbody>\n",
       "\t<tr><td>0</td><td> 0.38368255</td><td>-1.20030283</td><td> 0.2572832</td><td>-1.5429010</td></tr>\n",
       "\t<tr><td>0</td><td> 1.43630777</td><td> 1.47802973</td><td> 1.7283585</td><td> 1.1215944</td></tr>\n",
       "\t<tr><td>0</td><td>-0.10894568</td><td>-0.66453925</td><td> 0.1319284</td><td> 1.1544129</td></tr>\n",
       "\t<tr><td>0</td><td> 0.02999506</td><td>-0.05750245</td><td> 1.5966634</td><td> 1.6782346</td></tr>\n",
       "\t<tr><td>0</td><td> 0.57495730</td><td> 1.10722288</td><td> 0.4809750</td><td> 1.8755157</td></tr>\n",
       "\t<tr><td>0</td><td> 0.67827521</td><td>-0.36114128</td><td> 0.1484803</td><td> 1.1348031</td></tr>\n",
       "\t<tr><td>0</td><td>-1.12761164</td><td> 0.02951702</td><td> 0.7004820</td><td> 0.1158356</td></tr>\n",
       "\t<tr><td>0</td><td> 1.43281087</td><td>-0.22447377</td><td> 0.3951082</td><td> 0.5565606</td></tr>\n",
       "\t<tr><td>0</td><td> 1.45289960</td><td> 0.39023365</td><td> 0.6224474</td><td> 2.0515763</td></tr>\n",
       "\t<tr><td>0</td><td>-0.42238353</td><td>-0.61667785</td><td>-0.8804218</td><td>-0.1224929</td></tr>\n",
       "\t<tr><td>1</td><td> 2.43722305</td><td>-0.04730743</td><td>-0.3068725</td><td> 1.5711420</td></tr>\n",
       "\t<tr><td>1</td><td> 1.55500867</td><td> 0.91671359</td><td> 1.2430572</td><td> 3.2495352</td></tr>\n",
       "\t<tr><td>1</td><td> 0.10265706</td><td>-1.11345454</td><td> 0.2178696</td><td> 1.8328443</td></tr>\n",
       "\t<tr><td>1</td><td> 2.09955924</td><td> 1.18674706</td><td>-0.7522695</td><td> 2.4995078</td></tr>\n",
       "\t<tr><td>1</td><td> 2.15113854</td><td> 1.42861978</td><td> 1.5491907</td><td> 1.3854098</td></tr>\n",
       "\t<tr><td>1</td><td> 3.13542877</td><td>-0.71263613</td><td>-1.8634777</td><td> 0.3119637</td></tr>\n",
       "\t<tr><td>1</td><td> 1.80677242</td><td> 0.20195694</td><td> 0.8857870</td><td> 2.0802046</td></tr>\n",
       "\t<tr><td>1</td><td> 1.98771098</td><td>-1.45204727</td><td> 1.2820736</td><td> 1.5871959</td></tr>\n",
       "\t<tr><td>1</td><td> 2.28395563</td><td>-0.16424074</td><td> 0.9816924</td><td> 0.7144261</td></tr>\n",
       "\t<tr><td>1</td><td> 2.42678898</td><td>-0.21202637</td><td>-0.8866849</td><td> 2.9173178</td></tr>\n",
       "</tbody>\n",
       "</table>\n"
      ],
      "text/latex": [
       "A data.frame: 20 × 5\n",
       "\\begin{tabular}{lllll}\n",
       " group & gene1 & gene2 & gene3 & gene4\\\\\n",
       " <dbl> & <dbl> & <dbl> & <dbl> & <dbl>\\\\\n",
       "\\hline\n",
       "\t 0 &  0.38368255 & -1.20030283 &  0.2572832 & -1.5429010\\\\\n",
       "\t 0 &  1.43630777 &  1.47802973 &  1.7283585 &  1.1215944\\\\\n",
       "\t 0 & -0.10894568 & -0.66453925 &  0.1319284 &  1.1544129\\\\\n",
       "\t 0 &  0.02999506 & -0.05750245 &  1.5966634 &  1.6782346\\\\\n",
       "\t 0 &  0.57495730 &  1.10722288 &  0.4809750 &  1.8755157\\\\\n",
       "\t 0 &  0.67827521 & -0.36114128 &  0.1484803 &  1.1348031\\\\\n",
       "\t 0 & -1.12761164 &  0.02951702 &  0.7004820 &  0.1158356\\\\\n",
       "\t 0 &  1.43281087 & -0.22447377 &  0.3951082 &  0.5565606\\\\\n",
       "\t 0 &  1.45289960 &  0.39023365 &  0.6224474 &  2.0515763\\\\\n",
       "\t 0 & -0.42238353 & -0.61667785 & -0.8804218 & -0.1224929\\\\\n",
       "\t 1 &  2.43722305 & -0.04730743 & -0.3068725 &  1.5711420\\\\\n",
       "\t 1 &  1.55500867 &  0.91671359 &  1.2430572 &  3.2495352\\\\\n",
       "\t 1 &  0.10265706 & -1.11345454 &  0.2178696 &  1.8328443\\\\\n",
       "\t 1 &  2.09955924 &  1.18674706 & -0.7522695 &  2.4995078\\\\\n",
       "\t 1 &  2.15113854 &  1.42861978 &  1.5491907 &  1.3854098\\\\\n",
       "\t 1 &  3.13542877 & -0.71263613 & -1.8634777 &  0.3119637\\\\\n",
       "\t 1 &  1.80677242 &  0.20195694 &  0.8857870 &  2.0802046\\\\\n",
       "\t 1 &  1.98771098 & -1.45204727 &  1.2820736 &  1.5871959\\\\\n",
       "\t 1 &  2.28395563 & -0.16424074 &  0.9816924 &  0.7144261\\\\\n",
       "\t 1 &  2.42678898 & -0.21202637 & -0.8866849 &  2.9173178\\\\\n",
       "\\end{tabular}\n"
      ],
      "text/markdown": [
       "\n",
       "A data.frame: 20 × 5\n",
       "\n",
       "| group &lt;dbl&gt; | gene1 &lt;dbl&gt; | gene2 &lt;dbl&gt; | gene3 &lt;dbl&gt; | gene4 &lt;dbl&gt; |\n",
       "|---|---|---|---|---|\n",
       "| 0 |  0.38368255 | -1.20030283 |  0.2572832 | -1.5429010 |\n",
       "| 0 |  1.43630777 |  1.47802973 |  1.7283585 |  1.1215944 |\n",
       "| 0 | -0.10894568 | -0.66453925 |  0.1319284 |  1.1544129 |\n",
       "| 0 |  0.02999506 | -0.05750245 |  1.5966634 |  1.6782346 |\n",
       "| 0 |  0.57495730 |  1.10722288 |  0.4809750 |  1.8755157 |\n",
       "| 0 |  0.67827521 | -0.36114128 |  0.1484803 |  1.1348031 |\n",
       "| 0 | -1.12761164 |  0.02951702 |  0.7004820 |  0.1158356 |\n",
       "| 0 |  1.43281087 | -0.22447377 |  0.3951082 |  0.5565606 |\n",
       "| 0 |  1.45289960 |  0.39023365 |  0.6224474 |  2.0515763 |\n",
       "| 0 | -0.42238353 | -0.61667785 | -0.8804218 | -0.1224929 |\n",
       "| 1 |  2.43722305 | -0.04730743 | -0.3068725 |  1.5711420 |\n",
       "| 1 |  1.55500867 |  0.91671359 |  1.2430572 |  3.2495352 |\n",
       "| 1 |  0.10265706 | -1.11345454 |  0.2178696 |  1.8328443 |\n",
       "| 1 |  2.09955924 |  1.18674706 | -0.7522695 |  2.4995078 |\n",
       "| 1 |  2.15113854 |  1.42861978 |  1.5491907 |  1.3854098 |\n",
       "| 1 |  3.13542877 | -0.71263613 | -1.8634777 |  0.3119637 |\n",
       "| 1 |  1.80677242 |  0.20195694 |  0.8857870 |  2.0802046 |\n",
       "| 1 |  1.98771098 | -1.45204727 |  1.2820736 |  1.5871959 |\n",
       "| 1 |  2.28395563 | -0.16424074 |  0.9816924 |  0.7144261 |\n",
       "| 1 |  2.42678898 | -0.21202637 | -0.8866849 |  2.9173178 |\n",
       "\n"
      ],
      "text/plain": [
       "   group gene1       gene2       gene3      gene4     \n",
       "1  0      0.38368255 -1.20030283  0.2572832 -1.5429010\n",
       "2  0      1.43630777  1.47802973  1.7283585  1.1215944\n",
       "3  0     -0.10894568 -0.66453925  0.1319284  1.1544129\n",
       "4  0      0.02999506 -0.05750245  1.5966634  1.6782346\n",
       "5  0      0.57495730  1.10722288  0.4809750  1.8755157\n",
       "6  0      0.67827521 -0.36114128  0.1484803  1.1348031\n",
       "7  0     -1.12761164  0.02951702  0.7004820  0.1158356\n",
       "8  0      1.43281087 -0.22447377  0.3951082  0.5565606\n",
       "9  0      1.45289960  0.39023365  0.6224474  2.0515763\n",
       "10 0     -0.42238353 -0.61667785 -0.8804218 -0.1224929\n",
       "11 1      2.43722305 -0.04730743 -0.3068725  1.5711420\n",
       "12 1      1.55500867  0.91671359  1.2430572  3.2495352\n",
       "13 1      0.10265706 -1.11345454  0.2178696  1.8328443\n",
       "14 1      2.09955924  1.18674706 -0.7522695  2.4995078\n",
       "15 1      2.15113854  1.42861978  1.5491907  1.3854098\n",
       "16 1      3.13542877 -0.71263613 -1.8634777  0.3119637\n",
       "17 1      1.80677242  0.20195694  0.8857870  2.0802046\n",
       "18 1      1.98771098 -1.45204727  1.2820736  1.5871959\n",
       "19 1      2.28395563 -0.16424074  0.9816924  0.7144261\n",
       "20 1      2.42678898 -0.21202637 -0.8866849  2.9173178"
      ]
     },
     "metadata": {},
     "output_type": "display_data"
    }
   ],
   "source": [
    "data = data.frame(group=c(rep(0,10),rep(1,10)), \n",
    "                  gene1 = c(rnorm(10, mean=0.2, sd=1), rnorm(10, mean=2.2, sd=1)), \n",
    "                  gene2 = c(rnorm(10, mean=0.2, sd=1), rnorm(10, mean=0.2, sd=1)), \n",
    "                  gene3 = c(rnorm(10, mean=0.2, sd=1), rnorm(10, mean=0.2, sd=1)), \n",
    "                  gene4 = c(rnorm(10, mean=0.2, sd=1), rnorm(10, mean=2.2, sd=1)))\n",
    "data"
   ]
  },
  {
   "cell_type": "markdown",
   "id": "8d60418e",
   "metadata": {},
   "source": [
    "## Bonferroni correction"
   ]
  },
  {
   "cell_type": "code",
   "execution_count": 2,
   "id": "8f2ec801",
   "metadata": {},
   "outputs": [
    {
     "name": "stdout",
     "output_type": "stream",
     "text": [
      "[1] \"the Bonferroni adjusted pvalues\"\n"
     ]
    },
    {
     "data": {
      "text/html": [
       "<style>\n",
       ".list-inline {list-style: none; margin:0; padding: 0}\n",
       ".list-inline>li {display: inline-block}\n",
       ".list-inline>li:not(:last-child)::after {content: \"\\00b7\"; padding: 0 .5ex}\n",
       "</style>\n",
       "<ol class=list-inline><li>0.00207492706899543</li><li>3.87995284663922</li><li>2.08525675528907</li><li>0.151297837797904</li></ol>\n"
      ],
      "text/latex": [
       "\\begin{enumerate*}\n",
       "\\item 0.00207492706899543\n",
       "\\item 3.87995284663922\n",
       "\\item 2.08525675528907\n",
       "\\item 0.151297837797904\n",
       "\\end{enumerate*}\n"
      ],
      "text/markdown": [
       "1. 0.00207492706899543\n",
       "2. 3.87995284663922\n",
       "3. 2.08525675528907\n",
       "4. 0.151297837797904\n",
       "\n",
       "\n"
      ],
      "text/plain": [
       "[1] 0.002074927 3.879952847 2.085256755 0.151297838"
      ]
     },
     "metadata": {},
     "output_type": "display_data"
    }
   ],
   "source": [
    "numtest = 4\n",
    "pvalue = 1:numtest\n",
    "for(i in 1:numtest){\n",
    "    pvalue[i] = t.test(data[,i+1] ~ data[,1])$p.value\n",
    "}\n",
    "\n",
    "print(\"the Bonferroni adjusted pvalues\")\n",
    "pvalue*numtest"
   ]
  },
  {
   "cell_type": "markdown",
   "id": "cd72b60f",
   "metadata": {},
   "source": [
    "## False Discovery Rate (FDR)\n",
    "To perform the FDR analysis in R, we need to install the package **fuzzySim** by typing **install.packages(\"fuzzySim\")** in R."
   ]
  },
  {
   "cell_type": "code",
   "execution_count": 3,
   "id": "d3e76ff8",
   "metadata": {},
   "outputs": [
    {
     "data": {
      "text/html": [
       "<table class=\"dataframe\">\n",
       "<caption>A data.frame: 20 × 5</caption>\n",
       "<thead>\n",
       "\t<tr><th scope=col>group</th><th scope=col>gene1</th><th scope=col>gene2</th><th scope=col>gene3</th><th scope=col>gene4</th></tr>\n",
       "\t<tr><th scope=col>&lt;dbl&gt;</th><th scope=col>&lt;dbl&gt;</th><th scope=col>&lt;dbl&gt;</th><th scope=col>&lt;dbl&gt;</th><th scope=col>&lt;dbl&gt;</th></tr>\n",
       "</thead>\n",
       "<tbody>\n",
       "\t<tr><td>0</td><td>-1.4836304</td><td>-0.29204406</td><td> 0.8115310</td><td>-1.3285233</td></tr>\n",
       "\t<tr><td>0</td><td> 2.4667778</td><td> 2.93956139</td><td>-0.1075958</td><td> 0.1601818</td></tr>\n",
       "\t<tr><td>0</td><td> 0.6357290</td><td> 0.24576133</td><td>-1.4794328</td><td> 0.4958417</td></tr>\n",
       "\t<tr><td>0</td><td> 1.0677016</td><td>-0.16148797</td><td>-0.6224058</td><td> 0.2732525</td></tr>\n",
       "\t<tr><td>0</td><td> 1.6654709</td><td> 0.09465299</td><td>-0.2840279</td><td> 0.4730431</td></tr>\n",
       "\t<tr><td>0</td><td>-0.3582700</td><td>-0.30484736</td><td>-2.3907885</td><td> 0.5620690</td></tr>\n",
       "\t<tr><td>0</td><td>-0.2229971</td><td> 0.82586631</td><td> 2.0766703</td><td>-0.1518701</td></tr>\n",
       "\t<tr><td>0</td><td> 2.2459287</td><td> 1.12936942</td><td> 1.2197401</td><td>-0.1411929</td></tr>\n",
       "\t<tr><td>0</td><td>-0.1349941</td><td> 1.19386600</td><td> 0.2715439</td><td> 0.2396521</td></tr>\n",
       "\t<tr><td>0</td><td> 0.3251509</td><td>-1.94824072</td><td> 1.5014754</td><td>-0.4937352</td></tr>\n",
       "\t<tr><td>1</td><td> 2.7903208</td><td>-0.23117900</td><td> 0.7417876</td><td> 1.8496545</td></tr>\n",
       "\t<tr><td>1</td><td> 3.5558088</td><td>-0.07008063</td><td> 1.9383660</td><td> 3.5516604</td></tr>\n",
       "\t<tr><td>1</td><td> 2.2909710</td><td>-0.13006931</td><td> 1.2184269</td><td> 2.1592351</td></tr>\n",
       "\t<tr><td>1</td><td> 2.1955948</td><td>-1.24404744</td><td>-0.8408627</td><td> 1.2053556</td></tr>\n",
       "\t<tr><td>1</td><td> 2.8911825</td><td>-0.34831138</td><td> 0.1284066</td><td> 2.5806534</td></tr>\n",
       "\t<tr><td>1</td><td> 3.2348626</td><td>-0.51867275</td><td> 0.4011103</td><td> 0.6583699</td></tr>\n",
       "\t<tr><td>1</td><td> 1.6698425</td><td>-0.08314624</td><td> 2.4582862</td><td> 2.0478018</td></tr>\n",
       "\t<tr><td>1</td><td> 2.1551708</td><td> 0.58880868</td><td>-0.3962686</td><td> 2.9778250</td></tr>\n",
       "\t<tr><td>1</td><td> 1.1743424</td><td>-0.17892783</td><td> 1.5283520</td><td> 2.2524070</td></tr>\n",
       "\t<tr><td>1</td><td> 2.1873761</td><td>-0.38100404</td><td>-2.8146567</td><td> 2.8366883</td></tr>\n",
       "</tbody>\n",
       "</table>\n"
      ],
      "text/latex": [
       "A data.frame: 20 × 5\n",
       "\\begin{tabular}{lllll}\n",
       " group & gene1 & gene2 & gene3 & gene4\\\\\n",
       " <dbl> & <dbl> & <dbl> & <dbl> & <dbl>\\\\\n",
       "\\hline\n",
       "\t 0 & -1.4836304 & -0.29204406 &  0.8115310 & -1.3285233\\\\\n",
       "\t 0 &  2.4667778 &  2.93956139 & -0.1075958 &  0.1601818\\\\\n",
       "\t 0 &  0.6357290 &  0.24576133 & -1.4794328 &  0.4958417\\\\\n",
       "\t 0 &  1.0677016 & -0.16148797 & -0.6224058 &  0.2732525\\\\\n",
       "\t 0 &  1.6654709 &  0.09465299 & -0.2840279 &  0.4730431\\\\\n",
       "\t 0 & -0.3582700 & -0.30484736 & -2.3907885 &  0.5620690\\\\\n",
       "\t 0 & -0.2229971 &  0.82586631 &  2.0766703 & -0.1518701\\\\\n",
       "\t 0 &  2.2459287 &  1.12936942 &  1.2197401 & -0.1411929\\\\\n",
       "\t 0 & -0.1349941 &  1.19386600 &  0.2715439 &  0.2396521\\\\\n",
       "\t 0 &  0.3251509 & -1.94824072 &  1.5014754 & -0.4937352\\\\\n",
       "\t 1 &  2.7903208 & -0.23117900 &  0.7417876 &  1.8496545\\\\\n",
       "\t 1 &  3.5558088 & -0.07008063 &  1.9383660 &  3.5516604\\\\\n",
       "\t 1 &  2.2909710 & -0.13006931 &  1.2184269 &  2.1592351\\\\\n",
       "\t 1 &  2.1955948 & -1.24404744 & -0.8408627 &  1.2053556\\\\\n",
       "\t 1 &  2.8911825 & -0.34831138 &  0.1284066 &  2.5806534\\\\\n",
       "\t 1 &  3.2348626 & -0.51867275 &  0.4011103 &  0.6583699\\\\\n",
       "\t 1 &  1.6698425 & -0.08314624 &  2.4582862 &  2.0478018\\\\\n",
       "\t 1 &  2.1551708 &  0.58880868 & -0.3962686 &  2.9778250\\\\\n",
       "\t 1 &  1.1743424 & -0.17892783 &  1.5283520 &  2.2524070\\\\\n",
       "\t 1 &  2.1873761 & -0.38100404 & -2.8146567 &  2.8366883\\\\\n",
       "\\end{tabular}\n"
      ],
      "text/markdown": [
       "\n",
       "A data.frame: 20 × 5\n",
       "\n",
       "| group &lt;dbl&gt; | gene1 &lt;dbl&gt; | gene2 &lt;dbl&gt; | gene3 &lt;dbl&gt; | gene4 &lt;dbl&gt; |\n",
       "|---|---|---|---|---|\n",
       "| 0 | -1.4836304 | -0.29204406 |  0.8115310 | -1.3285233 |\n",
       "| 0 |  2.4667778 |  2.93956139 | -0.1075958 |  0.1601818 |\n",
       "| 0 |  0.6357290 |  0.24576133 | -1.4794328 |  0.4958417 |\n",
       "| 0 |  1.0677016 | -0.16148797 | -0.6224058 |  0.2732525 |\n",
       "| 0 |  1.6654709 |  0.09465299 | -0.2840279 |  0.4730431 |\n",
       "| 0 | -0.3582700 | -0.30484736 | -2.3907885 |  0.5620690 |\n",
       "| 0 | -0.2229971 |  0.82586631 |  2.0766703 | -0.1518701 |\n",
       "| 0 |  2.2459287 |  1.12936942 |  1.2197401 | -0.1411929 |\n",
       "| 0 | -0.1349941 |  1.19386600 |  0.2715439 |  0.2396521 |\n",
       "| 0 |  0.3251509 | -1.94824072 |  1.5014754 | -0.4937352 |\n",
       "| 1 |  2.7903208 | -0.23117900 |  0.7417876 |  1.8496545 |\n",
       "| 1 |  3.5558088 | -0.07008063 |  1.9383660 |  3.5516604 |\n",
       "| 1 |  2.2909710 | -0.13006931 |  1.2184269 |  2.1592351 |\n",
       "| 1 |  2.1955948 | -1.24404744 | -0.8408627 |  1.2053556 |\n",
       "| 1 |  2.8911825 | -0.34831138 |  0.1284066 |  2.5806534 |\n",
       "| 1 |  3.2348626 | -0.51867275 |  0.4011103 |  0.6583699 |\n",
       "| 1 |  1.6698425 | -0.08314624 |  2.4582862 |  2.0478018 |\n",
       "| 1 |  2.1551708 |  0.58880868 | -0.3962686 |  2.9778250 |\n",
       "| 1 |  1.1743424 | -0.17892783 |  1.5283520 |  2.2524070 |\n",
       "| 1 |  2.1873761 | -0.38100404 | -2.8146567 |  2.8366883 |\n",
       "\n"
      ],
      "text/plain": [
       "   group gene1      gene2       gene3      gene4     \n",
       "1  0     -1.4836304 -0.29204406  0.8115310 -1.3285233\n",
       "2  0      2.4667778  2.93956139 -0.1075958  0.1601818\n",
       "3  0      0.6357290  0.24576133 -1.4794328  0.4958417\n",
       "4  0      1.0677016 -0.16148797 -0.6224058  0.2732525\n",
       "5  0      1.6654709  0.09465299 -0.2840279  0.4730431\n",
       "6  0     -0.3582700 -0.30484736 -2.3907885  0.5620690\n",
       "7  0     -0.2229971  0.82586631  2.0766703 -0.1518701\n",
       "8  0      2.2459287  1.12936942  1.2197401 -0.1411929\n",
       "9  0     -0.1349941  1.19386600  0.2715439  0.2396521\n",
       "10 0      0.3251509 -1.94824072  1.5014754 -0.4937352\n",
       "11 1      2.7903208 -0.23117900  0.7417876  1.8496545\n",
       "12 1      3.5558088 -0.07008063  1.9383660  3.5516604\n",
       "13 1      2.2909710 -0.13006931  1.2184269  2.1592351\n",
       "14 1      2.1955948 -1.24404744 -0.8408627  1.2053556\n",
       "15 1      2.8911825 -0.34831138  0.1284066  2.5806534\n",
       "16 1      3.2348626 -0.51867275  0.4011103  0.6583699\n",
       "17 1      1.6698425 -0.08314624  2.4582862  2.0478018\n",
       "18 1      2.1551708  0.58880868 -0.3962686  2.9778250\n",
       "19 1      1.1743424 -0.17892783  1.5283520  2.2524070\n",
       "20 1      2.1873761 -0.38100404 -2.8146567  2.8366883"
      ]
     },
     "metadata": {},
     "output_type": "display_data"
    },
    {
     "name": "stderr",
     "output_type": "stream",
     "text": [
      "\n",
      "Bivariate p-values adjusted with 'fdr' correction;\n",
      "2 variable(s) excluded, 2 selected (with q = 0.05)\n",
      "\n"
     ]
    },
    {
     "data": {
      "text/html": [
       "<dl>\n",
       "\t<dt>$exclude</dt>\n",
       "\t\t<dd><table class=\"dataframe\">\n",
       "<caption>A data.frame: 2 × 5</caption>\n",
       "<thead>\n",
       "\t<tr><th></th><th scope=col>bivariate.coeff</th><th scope=col>AIC</th><th scope=col>BIC</th><th scope=col>p.value</th><th scope=col>p.adjusted</th></tr>\n",
       "\t<tr><th></th><th scope=col>&lt;dbl&gt;</th><th scope=col>&lt;dbl&gt;</th><th scope=col>&lt;dbl&gt;</th><th scope=col>&lt;dbl&gt;</th><th scope=col>&lt;dbl&gt;</th></tr>\n",
       "</thead>\n",
       "<tbody>\n",
       "\t<tr><th scope=row>gene2</th><td>-0.17010709</td><td>32.75725</td><td>34.74872</td><td>0.1409195</td><td>0.1878926</td></tr>\n",
       "\t<tr><th scope=row>gene3</th><td> 0.04330138</td><td>34.73798</td><td>36.72945</td><td>0.6058558</td><td>0.6058558</td></tr>\n",
       "</tbody>\n",
       "</table>\n",
       "</dd>\n",
       "\t<dt>$select</dt>\n",
       "\t\t<dd><table class=\"dataframe\">\n",
       "<caption>A data.frame: 2 × 5</caption>\n",
       "<thead>\n",
       "\t<tr><th></th><th scope=col>bivariate.coeff</th><th scope=col>AIC</th><th scope=col>BIC</th><th scope=col>p.value</th><th scope=col>p.adjusted</th></tr>\n",
       "\t<tr><th></th><th scope=col>&lt;dbl&gt;</th><th scope=col>&lt;dbl&gt;</th><th scope=col>&lt;dbl&gt;</th><th scope=col>&lt;dbl&gt;</th><th scope=col>&lt;dbl&gt;</th></tr>\n",
       "</thead>\n",
       "<tbody>\n",
       "\t<tr><th scope=row>gene4</th><td>0.3262927</td><td> 9.65408</td><td>11.64554</td><td>1.168419e-11</td><td>4.673677e-11</td></tr>\n",
       "\t<tr><th scope=row>gene1</th><td>0.2576939</td><td>22.62380</td><td>24.61526</td><td>8.365451e-05</td><td>1.673090e-04</td></tr>\n",
       "</tbody>\n",
       "</table>\n",
       "</dd>\n",
       "</dl>\n"
      ],
      "text/latex": [
       "\\begin{description}\n",
       "\\item[\\$exclude] A data.frame: 2 × 5\n",
       "\\begin{tabular}{r|lllll}\n",
       "  & bivariate.coeff & AIC & BIC & p.value & p.adjusted\\\\\n",
       "  & <dbl> & <dbl> & <dbl> & <dbl> & <dbl>\\\\\n",
       "\\hline\n",
       "\tgene2 & -0.17010709 & 32.75725 & 34.74872 & 0.1409195 & 0.1878926\\\\\n",
       "\tgene3 &  0.04330138 & 34.73798 & 36.72945 & 0.6058558 & 0.6058558\\\\\n",
       "\\end{tabular}\n",
       "\n",
       "\\item[\\$select] A data.frame: 2 × 5\n",
       "\\begin{tabular}{r|lllll}\n",
       "  & bivariate.coeff & AIC & BIC & p.value & p.adjusted\\\\\n",
       "  & <dbl> & <dbl> & <dbl> & <dbl> & <dbl>\\\\\n",
       "\\hline\n",
       "\tgene4 & 0.3262927 &  9.65408 & 11.64554 & 1.168419e-11 & 4.673677e-11\\\\\n",
       "\tgene1 & 0.2576939 & 22.62380 & 24.61526 & 8.365451e-05 & 1.673090e-04\\\\\n",
       "\\end{tabular}\n",
       "\n",
       "\\end{description}\n"
      ],
      "text/markdown": [
       "$exclude\n",
       ":   \n",
       "A data.frame: 2 × 5\n",
       "\n",
       "| <!--/--> | bivariate.coeff &lt;dbl&gt; | AIC &lt;dbl&gt; | BIC &lt;dbl&gt; | p.value &lt;dbl&gt; | p.adjusted &lt;dbl&gt; |\n",
       "|---|---|---|---|---|---|\n",
       "| gene2 | -0.17010709 | 32.75725 | 34.74872 | 0.1409195 | 0.1878926 |\n",
       "| gene3 |  0.04330138 | 34.73798 | 36.72945 | 0.6058558 | 0.6058558 |\n",
       "\n",
       "\n",
       "$select\n",
       ":   \n",
       "A data.frame: 2 × 5\n",
       "\n",
       "| <!--/--> | bivariate.coeff &lt;dbl&gt; | AIC &lt;dbl&gt; | BIC &lt;dbl&gt; | p.value &lt;dbl&gt; | p.adjusted &lt;dbl&gt; |\n",
       "|---|---|---|---|---|---|\n",
       "| gene4 | 0.3262927 |  9.65408 | 11.64554 | 1.168419e-11 | 4.673677e-11 |\n",
       "| gene1 | 0.2576939 | 22.62380 | 24.61526 | 8.365451e-05 | 1.673090e-04 |\n",
       "\n",
       "\n",
       "\n",
       "\n"
      ],
      "text/plain": [
       "$exclude\n",
       "      bivariate.coeff      AIC      BIC   p.value p.adjusted\n",
       "gene2     -0.17010709 32.75725 34.74872 0.1409195  0.1878926\n",
       "gene3      0.04330138 34.73798 36.72945 0.6058558  0.6058558\n",
       "\n",
       "$select\n",
       "      bivariate.coeff      AIC      BIC      p.value   p.adjusted\n",
       "gene4       0.3262927  9.65408 11.64554 1.168419e-11 4.673677e-11\n",
       "gene1       0.2576939 22.62380 24.61526 8.365451e-05 1.673090e-04\n"
      ]
     },
     "metadata": {},
     "output_type": "display_data"
    }
   ],
   "source": [
    "library(fuzzySim)\n",
    "data = data.frame(group=c(rep(0,10),rep(1,10)), \n",
    "                  gene1 = c(rnorm(10, mean=0.2, sd=1), rnorm(10, mean=2.2, sd=1)), \n",
    "                  gene2 = c(rnorm(10, mean=0.2, sd=1), rnorm(10, mean=0.2, sd=1)), \n",
    "                  gene3 = c(rnorm(10, mean=0.2, sd=1), rnorm(10, mean=0.2, sd=1)), \n",
    "                  gene4 = c(rnorm(10, mean=0.2, sd=1), rnorm(10, mean=2.2, sd=1)))\n",
    "data\n",
    "\n",
    "FDR(data = data, sp.cols = 1, var.cols = 2:5, family = \"gaussian\")"
   ]
  },
  {
   "cell_type": "markdown",
   "id": "0ac887aa",
   "metadata": {},
   "source": [
    "## Microarray gene expression analysis\n",
    "\n",
    "To analyze gene expression data, we need to install Bioconductor packages. To install Bioconductor packages, type the following in an R command window:\n",
    "\n",
    "```{code}\n",
    "if (!require(\"BiocManager\", quietly = TRUE))\n",
    "    install.packages(\"BiocManager\")\n",
    "BiocManager::install(c(\"affy\",\"limma\",\"arrays\"))\n",
    "\n",
    "```\n",
    "\n",
    "1. We first import data from the package **arrays**."
   ]
  },
  {
   "cell_type": "code",
   "execution_count": 4,
   "id": "90d62dd3",
   "metadata": {},
   "outputs": [
    {
     "name": "stderr",
     "output_type": "stream",
     "text": [
      "Loading required package: BiocGenerics\n",
      "\n"
     ]
    },
    {
     "name": "stderr",
     "output_type": "stream",
     "text": [
      "\n",
      "Attaching package: 'BiocGenerics'\n",
      "\n",
      "\n"
     ]
    },
    {
     "name": "stderr",
     "output_type": "stream",
     "text": [
      "The following objects are masked from 'package:stats':\n",
      "\n",
      "    IQR, mad, sd, var, xtabs\n",
      "\n",
      "\n"
     ]
    },
    {
     "name": "stderr",
     "output_type": "stream",
     "text": [
      "The following objects are masked from 'package:base':\n",
      "\n",
      "    anyDuplicated, aperm, append, as.data.frame, basename, cbind,\n",
      "    colnames, dirname, do.call, duplicated, eval, evalq, Filter, Find,\n",
      "    get, grep, grepl, intersect, is.unsorted, lapply, Map, mapply,\n",
      "    match, mget, order, paste, pmax, pmax.int, pmin, pmin.int,\n",
      "    Position, rank, rbind, Reduce, rownames, sapply, setdiff, sort,\n",
      "    table, tapply, union, unique, unsplit, which.max, which.min\n",
      "\n",
      "\n"
     ]
    },
    {
     "name": "stderr",
     "output_type": "stream",
     "text": [
      "Loading required package: Biobase\n",
      "\n"
     ]
    },
    {
     "name": "stderr",
     "output_type": "stream",
     "text": [
      "Welcome to Bioconductor\n",
      "\n",
      "    Vignettes contain introductory material; view with\n",
      "    'browseVignettes()'. To cite Bioconductor, see\n",
      "    'citation(\"Biobase\")', and for packages 'citation(\"pkgname\")'.\n",
      "\n",
      "\n"
     ]
    },
    {
     "name": "stderr",
     "output_type": "stream",
     "text": [
      "\n",
      "Attaching package: 'limma'\n",
      "\n",
      "\n"
     ]
    },
    {
     "name": "stderr",
     "output_type": "stream",
     "text": [
      "The following object is masked from 'package:BiocGenerics':\n",
      "\n",
      "    plotMA\n",
      "\n",
      "\n"
     ]
    }
   ],
   "source": [
    "library(affy)   # Affymetrix pre-processing\n",
    "library(limma)  # two-color pre-processing; differential\n",
    "                  # expression\n",
    "                \n",
    "## import \"phenotype\" data, describing the experimental design\n",
    "phenoData <- read.AnnotatedDataFrame(system.file(\"extdata\", \"pData.txt\", package=\"arrays\"))\n",
    "celfiles <- system.file(\"extdata\", package=\"arrays\")"
   ]
  },
  {
   "cell_type": "markdown",
   "id": "48d1d15a",
   "metadata": {},
   "source": [
    "2. RMA normalization for microarray expression data"
   ]
  },
  {
   "cell_type": "code",
   "execution_count": 5,
   "id": "303c35ad",
   "metadata": {},
   "outputs": [
    {
     "name": "stderr",
     "output_type": "stream",
     "text": [
      "Warning message:\n",
      "\"replacing previous import 'AnnotationDbi::tail' by 'utils::tail' when loading 'hgfocuscdf'\"\n"
     ]
    },
    {
     "name": "stderr",
     "output_type": "stream",
     "text": [
      "Warning message:\n",
      "\"replacing previous import 'AnnotationDbi::head' by 'utils::head' when loading 'hgfocuscdf'\"\n"
     ]
    },
    {
     "name": "stderr",
     "output_type": "stream",
     "text": [
      "\n",
      "\n"
     ]
    }
   ],
   "source": [
    "eset <- justRMA(phenoData=phenoData, celfile.path=celfiles)"
   ]
  },
  {
   "cell_type": "markdown",
   "id": "809ee5cf",
   "metadata": {},
   "source": [
    "3. Identify differentially expressed genes"
   ]
  },
  {
   "cell_type": "code",
   "execution_count": 6,
   "id": "84d9bd43",
   "metadata": {},
   "outputs": [
    {
     "data": {
      "text/html": [
       "<table class=\"dataframe\">\n",
       "<caption>A data.frame: 10 × 6</caption>\n",
       "<thead>\n",
       "\t<tr><th></th><th scope=col>logFC</th><th scope=col>AveExpr</th><th scope=col>t</th><th scope=col>P.Value</th><th scope=col>adj.P.Val</th><th scope=col>B</th></tr>\n",
       "\t<tr><th></th><th scope=col>&lt;dbl&gt;</th><th scope=col>&lt;dbl&gt;</th><th scope=col>&lt;dbl&gt;</th><th scope=col>&lt;dbl&gt;</th><th scope=col>&lt;dbl&gt;</th><th scope=col>&lt;dbl&gt;</th></tr>\n",
       "</thead>\n",
       "<tbody>\n",
       "\t<tr><th scope=row>204582_s_at</th><td> 3.468416</td><td>10.150533</td><td> 39.03471</td><td>1.969915e-14</td><td>1.732146e-10</td><td>19.86082</td></tr>\n",
       "\t<tr><th scope=row>211548_s_at</th><td>-2.325670</td><td> 7.178610</td><td>-22.73165</td><td>1.541158e-11</td><td>6.775701e-08</td><td>15.88709</td></tr>\n",
       "\t<tr><th scope=row>216598_s_at</th><td> 1.936306</td><td> 7.692822</td><td> 21.73818</td><td>2.658881e-11</td><td>7.793180e-08</td><td>15.48223</td></tr>\n",
       "\t<tr><th scope=row>211110_s_at</th><td> 3.157766</td><td> 7.909391</td><td> 21.19204</td><td>3.625216e-11</td><td>7.969130e-08</td><td>15.24728</td></tr>\n",
       "\t<tr><th scope=row>206001_at</th><td>-1.590732</td><td>12.402722</td><td>-18.64398</td><td>1.715422e-10</td><td>3.016740e-07</td><td>14.01955</td></tr>\n",
       "\t<tr><th scope=row>202409_at</th><td> 3.274118</td><td> 6.704989</td><td> 17.72512</td><td>3.156709e-10</td><td>4.626157e-07</td><td>13.51659</td></tr>\n",
       "\t<tr><th scope=row>221019_s_at</th><td> 2.251730</td><td> 7.104012</td><td> 16.34552</td><td>8.353283e-10</td><td>1.049292e-06</td><td>12.69145</td></tr>\n",
       "\t<tr><th scope=row>204688_at</th><td> 1.813001</td><td> 7.125307</td><td> 14.75281</td><td>2.834343e-09</td><td>3.115297e-06</td><td>11.61959</td></tr>\n",
       "\t<tr><th scope=row>205489_at</th><td> 1.240713</td><td> 7.552260</td><td> 13.62265</td><td>7.264649e-09</td><td>7.097562e-06</td><td>10.76948</td></tr>\n",
       "\t<tr><th scope=row>209288_s_at</th><td>-1.226421</td><td> 7.603917</td><td>-13.32681</td><td>9.401074e-09</td><td>7.784531e-06</td><td>10.53327</td></tr>\n",
       "</tbody>\n",
       "</table>\n"
      ],
      "text/latex": [
       "A data.frame: 10 × 6\n",
       "\\begin{tabular}{r|llllll}\n",
       "  & logFC & AveExpr & t & P.Value & adj.P.Val & B\\\\\n",
       "  & <dbl> & <dbl> & <dbl> & <dbl> & <dbl> & <dbl>\\\\\n",
       "\\hline\n",
       "\t204582\\_s\\_at &  3.468416 & 10.150533 &  39.03471 & 1.969915e-14 & 1.732146e-10 & 19.86082\\\\\n",
       "\t211548\\_s\\_at & -2.325670 &  7.178610 & -22.73165 & 1.541158e-11 & 6.775701e-08 & 15.88709\\\\\n",
       "\t216598\\_s\\_at &  1.936306 &  7.692822 &  21.73818 & 2.658881e-11 & 7.793180e-08 & 15.48223\\\\\n",
       "\t211110\\_s\\_at &  3.157766 &  7.909391 &  21.19204 & 3.625216e-11 & 7.969130e-08 & 15.24728\\\\\n",
       "\t206001\\_at & -1.590732 & 12.402722 & -18.64398 & 1.715422e-10 & 3.016740e-07 & 14.01955\\\\\n",
       "\t202409\\_at &  3.274118 &  6.704989 &  17.72512 & 3.156709e-10 & 4.626157e-07 & 13.51659\\\\\n",
       "\t221019\\_s\\_at &  2.251730 &  7.104012 &  16.34552 & 8.353283e-10 & 1.049292e-06 & 12.69145\\\\\n",
       "\t204688\\_at &  1.813001 &  7.125307 &  14.75281 & 2.834343e-09 & 3.115297e-06 & 11.61959\\\\\n",
       "\t205489\\_at &  1.240713 &  7.552260 &  13.62265 & 7.264649e-09 & 7.097562e-06 & 10.76948\\\\\n",
       "\t209288\\_s\\_at & -1.226421 &  7.603917 & -13.32681 & 9.401074e-09 & 7.784531e-06 & 10.53327\\\\\n",
       "\\end{tabular}\n"
      ],
      "text/markdown": [
       "\n",
       "A data.frame: 10 × 6\n",
       "\n",
       "| <!--/--> | logFC &lt;dbl&gt; | AveExpr &lt;dbl&gt; | t &lt;dbl&gt; | P.Value &lt;dbl&gt; | adj.P.Val &lt;dbl&gt; | B &lt;dbl&gt; |\n",
       "|---|---|---|---|---|---|---|\n",
       "| 204582_s_at |  3.468416 | 10.150533 |  39.03471 | 1.969915e-14 | 1.732146e-10 | 19.86082 |\n",
       "| 211548_s_at | -2.325670 |  7.178610 | -22.73165 | 1.541158e-11 | 6.775701e-08 | 15.88709 |\n",
       "| 216598_s_at |  1.936306 |  7.692822 |  21.73818 | 2.658881e-11 | 7.793180e-08 | 15.48223 |\n",
       "| 211110_s_at |  3.157766 |  7.909391 |  21.19204 | 3.625216e-11 | 7.969130e-08 | 15.24728 |\n",
       "| 206001_at | -1.590732 | 12.402722 | -18.64398 | 1.715422e-10 | 3.016740e-07 | 14.01955 |\n",
       "| 202409_at |  3.274118 |  6.704989 |  17.72512 | 3.156709e-10 | 4.626157e-07 | 13.51659 |\n",
       "| 221019_s_at |  2.251730 |  7.104012 |  16.34552 | 8.353283e-10 | 1.049292e-06 | 12.69145 |\n",
       "| 204688_at |  1.813001 |  7.125307 |  14.75281 | 2.834343e-09 | 3.115297e-06 | 11.61959 |\n",
       "| 205489_at |  1.240713 |  7.552260 |  13.62265 | 7.264649e-09 | 7.097562e-06 | 10.76948 |\n",
       "| 209288_s_at | -1.226421 |  7.603917 | -13.32681 | 9.401074e-09 | 7.784531e-06 | 10.53327 |\n",
       "\n"
      ],
      "text/plain": [
       "            logFC     AveExpr   t         P.Value      adj.P.Val    B       \n",
       "204582_s_at  3.468416 10.150533  39.03471 1.969915e-14 1.732146e-10 19.86082\n",
       "211548_s_at -2.325670  7.178610 -22.73165 1.541158e-11 6.775701e-08 15.88709\n",
       "216598_s_at  1.936306  7.692822  21.73818 2.658881e-11 7.793180e-08 15.48223\n",
       "211110_s_at  3.157766  7.909391  21.19204 3.625216e-11 7.969130e-08 15.24728\n",
       "206001_at   -1.590732 12.402722 -18.64398 1.715422e-10 3.016740e-07 14.01955\n",
       "202409_at    3.274118  6.704989  17.72512 3.156709e-10 4.626157e-07 13.51659\n",
       "221019_s_at  2.251730  7.104012  16.34552 8.353283e-10 1.049292e-06 12.69145\n",
       "204688_at    1.813001  7.125307  14.75281 2.834343e-09 3.115297e-06 11.61959\n",
       "205489_at    1.240713  7.552260  13.62265 7.264649e-09 7.097562e-06 10.76948\n",
       "209288_s_at -1.226421  7.603917 -13.32681 9.401074e-09 7.784531e-06 10.53327"
      ]
     },
     "metadata": {},
     "output_type": "display_data"
    }
   ],
   "source": [
    "combn <- factor(paste(pData(phenoData)[,1], pData(phenoData)[,2], sep = \"_\"))\n",
    "design <- model.matrix(~combn) # describe model to be fit\n",
    "\n",
    "fit <- lmFit(eset, design)  # fit each probeset to model\n",
    "efit <- eBayes(fit)        # empirical Bayes adjustment\n",
    "topTable(efit, coef=2)      # table of differentially expressed probesets"
   ]
  }
 ],
 "metadata": {
  "jupytext": {
   "cell_metadata_filter": "-all",
   "formats": "md:myst",
   "text_representation": {
    "extension": ".md",
    "format_name": "myst",
    "format_version": 0.13,
    "jupytext_version": "1.11.5"
   }
  },
  "kernelspec": {
   "display_name": "R",
   "language": "R",
   "name": "ir"
  },
  "language_info": {
   "codemirror_mode": "r",
   "file_extension": ".r",
   "mimetype": "text/x-r-source",
   "name": "R",
   "pygments_lexer": "r",
   "version": "4.2.2"
  },
  "source_map": [
   14,
   20,
   27,
   30,
   39,
   45,
   55,
   71,
   79,
   83,
   85,
   88
  ]
 },
 "nbformat": 4,
 "nbformat_minor": 5
}