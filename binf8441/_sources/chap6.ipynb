{
 "cells": [
  {
   "cell_type": "markdown",
   "id": "f1e1a627",
   "metadata": {},
   "source": [
    "# Chapter 6: Hypothesis testing\n",
    "\n",
    "```{epigraph}\n",
    "*\"Do the difficult things while they are easy and do the great things while they are small. A journey of a thousand miles must begin with a single step.\"*\n",
    "\n",
    "-- Lao Tzu\n",
    "```\n",
    "\n",
    "```{seealso}\n",
    "- [Statistical hypothesis testing](https://en.wikipedia.org/wiki/Statistical_hypothesis_testing)\n",
    "```\n",
    "\n",
    "We begin this chapter with an example of the two sample t-test. There are two pizza companies A and B. We have collected the data from a sample of deliveries of Company A and Company B. \n",
    "\n",
    "$$\n",
    "\\begin{array}{|l|l|l|l|l|l|l|l|}\n",
    "\\hline A & 20.4 & 24.2 & 15.4 & 21.4 & 20.2 & 19.3 & 22.3 \\\\\n",
    "\\hline B & 20.2 & 16.9 & 18.5 & 17.3 & 20.5 & 20.3 & 18.4 \\\\\n",
    "\\hline\n",
    "\\end{array}\n",
    "$$\n",
    "\n",
    "The average delivery time for company A is 20.46, while it is 18.87 for company B. It seems that company B delivers pizza faster than company A. But this conclusion is based on a single sample. If we take another sample, the result may be different. We really want to know if company B indeed delivers pizza faster than company A?\n",
    "\n",
    "Let $\\mu_A$ and $\\mu_B$ be the overall mean delivery time for company A and B respectively. By \"company B delivers pizza faster than company A\", we mean that the overall average delivery time of company B is less than that of company A, i.e., $\\mu_A > \\mu_B$. Hence, we have two hypotheses (the null hypothesis and the alternative hypothesis)\n",
    "\n",
    "$\\mathrm{H}_{0}: \\mu_{A}=\\mu_{B}$ vs $\\mathrm{H}_{1}: \\mu_{A} > \\mu_{B}$\n",
    "\n",
    "Test-stat: $t=\\frac{\\bar{x}_{A}-\\bar{x}_{B}}{s d\\left(\\bar{x}_{A}-\\bar{x}_{B}\\right)}$. \n",
    "\n",
    "Rejection region: we reject the null hypothesis $\\mathrm{H}_{0}$ if $t$ is too large, i.e., $t>a$ where $a$ is called the critical value for rejecting the null hypothesis.\n",
    "\n",
    "## General principles (hypothesis, test stat, decision)\n",
    "\n",
    "1. The null and alternative hypotheses must be about unknown parameters. They should NOT involve statistics.\n",
    "2. If we reject the null hypothesis, we can say that the alternative hypothesis is true. But if we cannot reject the null hypothesis, we cannot say that the null hypothesis is true. We can only say that there is no enough information in the data to support either the null or the alternative hypothesis.\n",
    "3. Because we cannot accept the null hypothesis, the scientifically significant hypothesis (or the hypothesis you want to conclude) should be formulated as the alternative hypothesis.\n",
    "4. The test statistic should be a function of the estimators of parameters in the hypotheses.\n",
    "5. The rejection region consists of values of test statistic for rejecting the null hypothesis.\n",
    "\n",
    "\n",
    "````\\{prf:example\\} 6.1\n",
    ":nonumber:\n",
    ":label: 6.1\n",
    ":nonumber:\n",
    "A pharmaceutical company is testing if a new drug is effective. In this case, we should formulate the hypotheses as follows\n",
    "\n",
    "H0: the drug is not effective\n",
    "\n",
    "H1: the drug is effective\n",
    "\n",
    "If we reject the null hypothesis, we can conclude that the drug is effective. However, if we switch the null and alternative hypothsis\n",
    "\n",
    "H0: the drug is effective\n",
    "\n",
    "H1: the drug is not effective\n",
    "\n",
    "If we reject the null, we conclude that the drug is not effective. If we cannot reject the null, we still cannot accept the null hypothesis. Thus, we would NEVER conclude that the drug is effective if we formulate the null and alternative hypothese in this way.\n",
    "\n",
    "````\n",
    "## Type I and II errors\n",
    "\n",
    "| | H0 is true | H1 is true |\n",
    "| --- | --- | --- | \n",
    "|Accept H0 | - |  Type II error| \n",
    "|Reject H0 | Type I error | - | \n",
    "| | | |\n",
    "\n",
    "````{prf:definition} Type I and II error\n",
    ":nonumber:\n",
    ":label: Type I error\n",
    "\n",
    "Type I error $=\\mathrm{P}\\left(\\right.$ rejection region $\\left.\\mid \\mathrm{H}_{0}\\right)$\n",
    "\n",
    "Type II error $=\\mathrm{P}\\left(\\right.$ acceptance region $\\left.\\mid \\mathrm{H}_{1}\\right)$\n",
    "````\n",
    "\n",
    "Type I and II errors depend on the rejection region. Our goal is to minimize both types of errors. We may make Type I error arbitrarily small using trivial rejection regions.\n",
    "\n",
    "For example, in the two sample $t$ test, we reject the null if $t>\\infty$ (this is the rejection region), then Type I error $=0$, because we never reject the null. But type II error $=1$ for the same reason. If the rejection region is $t>-\\infty$, then Type I error $=1$ and type II error $=0$. \n",
    "\n",
    "```{important}\n",
    "We can control Type I or Type II error separately, but we cannot control both errors simultaneously. \n",
    "```\n",
    "\n",
    "By convension, we choose to control type I error at the level of 5%. For example, the rejection region in the example of the two sample $t$ test is $t>a$. To control the type I error at the level of 5%, we have\n",
    "\n",
    "$$\n",
    "P\\left(t>a \\mid H_{0}\\right)=0.05\n",
    "$$\n",
    "\n",
    "Solving this equation, we can find the critical value $a$. The solution is that $a$ is the 95% quantile of the null distribution of the test statistic $t$.\n",
    "\n",
    "## Evaluating the performance of a test\n",
    "\n",
    "The performance of a test is evaluated by its power, which is defined as the probability of rejecting $H_{0}$ while $H_{1}$ is true, i.e.,\n",
    "\n",
    "$$\n",
    "\\text { Power }=P\\left(\\text { rejection region } \\mid \\mathrm{H}_{1}\\right)=1 \\text { - Type II error. }\n",
    "$$\n",
    "\n",
    "When the alternative hypothesis $\\mathrm{H}_{1}$ is an interval, the power of the test must be evaluated at each value in the interval of the parameters.\n",
    "\n",
    "## One sample t-test\n",
    "\n",
    "### one-sided tests\n",
    "Given a random sample $X_{1}, X_{2}, \\ldots, X_{n} \\sim \\operatorname{Normal}\\left(\\mu, \\sigma^{2}\\right)$, we want to test if the population mean is $\\mu=1$ or $\\mu>1$. This is called the one-sided test. If the alternative hypothesis is $\\mu\\ne 1$, it is called the two-sided test.\n",
    "\n",
    "$$\n",
    "\\mathrm{H}_{0}: \\mu=1 \\text{ versus } \\mathrm{H}_{1}: \\mu>1\n",
    "$$\n",
    "\n",
    "Test-stat: $t=\\frac{\\bar{x}-1} {sd(\\bar{x})}$. The null distribution of $t$ is the student $t$ distribution with degrees of freedom $(n-1)$.\n",
    "\n",
    "Rejection region: we reject the null if $t>a$, where $a$ is the 95% quantile of the null distribution of the test statistic.\n",
    "\n",
    "If the alternative is H1: $\\mu<1$, we only need to change the rejection region and we reject the null if $t<a$ where $a$ is the 5% quantile of the null distribution of the test statistic.\n",
    "\n",
    "Here, we use the rejection region to make decisions. Alternatively, we may calculate the pvalue and reject the null if $\\text{pvalue}\\le 0.05$. The pvalue is an estimate of the Type I error, defined as \n",
    "\n",
    "$$ pvalue = P(\\text{rejection region} | H_0)$$\n",
    "\n",
    "where the critical value $a$ in the rejection region is replaced by the test statistic calculated from data."
   ]
  },
  {
   "cell_type": "code",
   "execution_count": 1,
   "id": "86b125ab",
   "metadata": {},
   "outputs": [
    {
     "data": {
      "text/plain": [
       "\n",
       "\tOne Sample t-test\n",
       "\n",
       "data:  data\n",
       "t = -3.9186, df = 19, p-value = 0.0004614\n",
       "alternative hypothesis: true mean is less than 3\n",
       "95 percent confidence interval:\n",
       "     -Inf 2.487668\n",
       "sample estimates:\n",
       "mean of x \n",
       " 2.083058 \n"
      ]
     },
     "metadata": {},
     "output_type": "display_data"
    }
   ],
   "source": [
    "data = rnorm(20, mean=2, sd = 1)\n",
    "t.test(data, mu = 3, alternative=\"less\")"
   ]
  },
  {
   "cell_type": "markdown",
   "id": "e27b7dc7",
   "metadata": {},
   "source": [
    "### two-sided tests\n",
    "\n",
    "$$\n",
    "\\mathrm{H}_{0}: \\mu=1 \\text{ versus } \\mathrm{H}_{1}: \\mu\\ne 1\n",
    "$$\n",
    "\n",
    "Test-stat: $t=\\frac{\\bar{x}-1} {sd(\\bar{x})}$. The null distribution of $t$ is the student $t$ distribution with degrees of freedom $(n-1)$.\n",
    "\n",
    "Rejection region: we reject the null if $t>a$ or $t<b$, where $a$ is the 97.5% quantile and $b$ is the 2.5% quantile of the null distribution of the test statistic."
   ]
  },
  {
   "cell_type": "code",
   "execution_count": 2,
   "id": "ce3cd54f",
   "metadata": {},
   "outputs": [
    {
     "data": {
      "text/plain": [
       "\n",
       "\tOne Sample t-test\n",
       "\n",
       "data:  data\n",
       "t = -6.8901, df = 19, p-value = 1.429e-06\n",
       "alternative hypothesis: true mean is not equal to 3\n",
       "95 percent confidence interval:\n",
       " 1.968794 2.449327\n",
       "sample estimates:\n",
       "mean of x \n",
       "  2.20906 \n"
      ]
     },
     "metadata": {},
     "output_type": "display_data"
    }
   ],
   "source": [
    "data = rnorm(20, mean=2, sd = 1)\n",
    "t.test(data, mu = 3, alternative=\"two.sided\")"
   ]
  },
  {
   "cell_type": "markdown",
   "id": "317d7a37",
   "metadata": {},
   "source": [
    "## Two sample t-test\n",
    "The two-sample t-test is used to determine if two population means $\\mu_1$ and $\\mu_2$ are equal.\n",
    "\n",
    "### one-sided tests\n",
    "The test is one-sided, if the alternative hypothesis is one-sided.\n",
    "\n",
    "$$\n",
    "H_0: \\mu_1 = \\mu_2 \\text{ versus } H_1: \\mu_1 > \\mu_2\n",
    "$$\n",
    "\n",
    "Test-stat: $t= \\frac{\\bar{X_{1}} - \\bar{X_{2}}}{\\sqrt{{s^{2}_{1}}/n_{1} + {s^{2}_{2}}/n_{2}}}$, where $n_1$ and $n_2$ are the sample sizes, $\\bar{X}_1$ and $\\bar{X}_2$ are the sample means, and $s^2_1$ and $s_2^2$ are the sample variances.\n",
    "\n",
    "Rejection region: we reject the null if the test statistic is too large, i.e., $t>a$ where the critical value $a$ is the 95% quantile of the t distribution with $n_1+n_2-2$ degrees of freedom.\n",
    "\n",
    "$$\n",
    "H_0: \\mu_1 = \\mu_2 \\text{ versus } H_1: \\mu_1 < \\mu_2\n",
    "$$\n",
    "\n",
    "Test-stat: the same\n",
    "\n",
    "Rejection region: we reject the null if the test statistic is $t<a$ where the critical value $a$ is the 5% quantile of the t distribution with $n_1+n_2-2$ degrees of freedom."
   ]
  },
  {
   "cell_type": "code",
   "execution_count": 3,
   "id": "af78517c",
   "metadata": {},
   "outputs": [
    {
     "data": {
      "text/plain": [
       "\n",
       "\tWelch Two Sample t-test\n",
       "\n",
       "data:  group1 and group2\n",
       "t = -1.9968, df = 36.366, p-value = 0.9733\n",
       "alternative hypothesis: true difference in means is greater than 0\n",
       "95 percent confidence interval:\n",
       " -1.114647       Inf\n",
       "sample estimates:\n",
       "mean of x mean of y \n",
       " 2.148254  2.752307 \n"
      ]
     },
     "metadata": {},
     "output_type": "display_data"
    },
    {
     "data": {
      "image/png": "[encoded data removed]",
      "text/plain": [
       "plot without title"
      ]
     },
     "metadata": {
      "filenames": {
       "image/png": "D:\\OneDrive\\Github\\Jupyter\\jupyter_book\\binf8441\\_build\\jupyter_execute\\chap6_5_1.png"
      },
      "image/png": {
       "height": 420,
       "width": 420
      }
     },
     "output_type": "display_data"
    }
   ],
   "source": [
    "group1 = rnorm(20, mean=2, sd = 1)\n",
    "group2 = rnorm(20, mean=3, sd = 1)\n",
    "boxplot(cbind(group1,group2))\n",
    "t.test(group1, group2, alternative=\"greater\")"
   ]
  },
  {
   "cell_type": "markdown",
   "id": "46f66d0e",
   "metadata": {},
   "source": [
    "### two-sided tests\n",
    "\n",
    "$$\n",
    "H_0: \\mu_1 = \\mu_2 \\text{ versus } H_1: \\mu_1 \\ne \\mu_2\n",
    "$$\n",
    "\n",
    "Test-stat: the same\n",
    "\n",
    "Rejection region: we reject the null if the test statistic is $t<a$ or $t>b$ where the critical values $a$ and $b$ are the 97.5% and 2.5% quantile of the t distribution with $n_1+n_2-2$ degrees of freedom."
   ]
  },
  {
   "cell_type": "code",
   "execution_count": 4,
   "id": "af9ce53d",
   "metadata": {},
   "outputs": [
    {
     "data": {
      "text/plain": [
       "\n",
       "\tWelch Two Sample t-test\n",
       "\n",
       "data:  group1 and group2\n",
       "t = -1.9968, df = 36.366, p-value = 0.05337\n",
       "alternative hypothesis: true difference in means is not equal to 0\n",
       "95 percent confidence interval:\n",
       " -1.217361172  0.009254676\n",
       "sample estimates:\n",
       "mean of x mean of y \n",
       " 2.148254  2.752307 \n"
      ]
     },
     "metadata": {},
     "output_type": "display_data"
    }
   ],
   "source": [
    "t.test(group1, group2, alternative=\"two.sided\")"
   ]
  },
  {
   "cell_type": "markdown",
   "id": "25cfe7f8",
   "metadata": {},
   "source": [
    "## F-test for more than two samples\n",
    "The F-test (ANOVA) can determine whether multiple group means are equal. Let $\\mu_1,\\dots,\\mu_k$ be the means of $k$ populations. \n",
    "\n",
    "$$ H_0: \\mu_1 = \\dots = \\mu_k \\text{ versus } H_1: \\text{at least two means are not equal}$$\n",
    "\n",
    "Test-stat: $t$ = variation between sample means / variation within the samples\n",
    "\n",
    "Rejection region: We reject the null if $t>a$ where $a$ is the 95% quantile of the F distribution."
   ]
  },
  {
   "cell_type": "code",
   "execution_count": 5,
   "id": "04125839",
   "metadata": {},
   "outputs": [
    {
     "data": {
      "text/plain": [
       "            Df Sum Sq Mean Sq F value   Pr(>F)    \n",
       "group        2  23.99  11.993   10.64 0.000118 ***\n",
       "Residuals   57  64.23   1.127                     \n",
       "---\n",
       "Signif. codes:  0 '***' 0.001 '**' 0.01 '*' 0.05 '.' 0.1 ' ' 1"
      ]
     },
     "metadata": {},
     "output_type": "display_data"
    },
    {
     "data": {
      "image/png": "[encoded data removed]",
      "text/plain": [
       "plot without title"
      ]
     },
     "metadata": {
      "filenames": {
       "image/png": "D:\\OneDrive\\Github\\Jupyter\\jupyter_book\\binf8441\\_build\\jupyter_execute\\chap6_9_1.png"
      },
      "image/png": {
       "height": 420,
       "width": 420
      }
     },
     "output_type": "display_data"
    }
   ],
   "source": [
    "group1 = rnorm(20, mean=2, sd = 1)\n",
    "group2 = rnorm(20, mean=3.2, sd = 1)\n",
    "group3 = rnorm(20, mean=4, sd = 1)\n",
    "data = c(group1,group2,group3)\n",
    "group= c(rep(\"group1\",20),rep(\"group2\",20),rep(\"group3\",20))\n",
    "boxplot(data~group)\n",
    "result = aov(data~group)\n",
    "summary(result)"
   ]
  },
  {
   "cell_type": "markdown",
   "id": "de02fee6",
   "metadata": {},
   "source": [
    "## Association test (contingency table):\n",
    "\n",
    "The association test can determine whether there is association between two variables, for instance, smoking and gender. We randomly take 20 people (12 female and 8 male) and count the number of people who smoke. We want to know if smoking is associated with gender.\n",
    "\n",
    "$$\n",
    "\\begin{array}{|l|l|l|l|}\n",
    "\\hline & smoking & non-smoking & total \\\\\n",
    "\\hline male & 6(3.6) & 2(4.4) & 8 \\\\\n",
    "\\hline female & 3(5.4) & 9(6.6) & 12 \\\\\n",
    "\\hline total & 9 & 11 & 20 \\\\\n",
    "\\hline\n",
    "\\end{array}\n",
    "$$\n",
    "\n",
    "$H_0$ : gender and smoking are independent versus $H_1$ : not independent\n",
    "\n",
    "If the null hypothesis is true, then $P(M\\cap S))=P(M)) * P(S)=8 / 20 * 9 / 20$. Thus, under the null hypothesis, the expected number of male who smoke is $8 / 20 * 9 / 20 * 20=3.6$. Similarly, the expected number of female who smoke is $12 / 20 * 9 / 20 * 20=5.4$. The expected number of male who do not smoke is $8 / 20 * 11 / 20 * 20=4.4$. The expected number of female who do not smoke is $12 / 20 * 11 / 20 * 20=6.6$.\n",
    "\n",
    "Test-stat: $t=\\sum_{i=1}^{4} \\frac{\\left(o_{i}-e_{i}\\right)^{2}}{e_{i}}$. \n",
    "\n",
    "The null distribution of the test statistic is asymptotically (sample size is large) the chi-square distribution with $(r-1)(c-1)$ degrees of freedom, in which $r$ is the number of rows and $c$ is the number of columns.\n",
    "\n",
    "Rejection region: we reject the null if $t>a$, where $a$ is the 95% quantile of the chi-square distribution with $(r-1)(c-1)$ degrees of freedom."
   ]
  },
  {
   "cell_type": "code",
   "execution_count": 6,
   "id": "4b4cadf2",
   "metadata": {},
   "outputs": [
    {
     "name": "stderr",
     "output_type": "stream",
     "text": [
      "Warning message in chisq.test(contingency_table):\n",
      "\"Chi-squared approximation may be incorrect\"\n"
     ]
    },
    {
     "data": {
      "text/plain": [
       "\n",
       "\tPearson's Chi-squared test with Yates' continuity correction\n",
       "\n",
       "data:  contingency_table\n",
       "X-squared = 3.0387, df = 1, p-value = 0.0813\n"
      ]
     },
     "metadata": {},
     "output_type": "display_data"
    },
    {
     "name": "stdout",
     "output_type": "stream",
     "text": [
      "[1] \"the expected count is  3.6\" \"the expected count is  5.4\"\n",
      "[3] \"the expected count is  4.4\" \"the expected count is  6.6\"\n"
     ]
    }
   ],
   "source": [
    "x=matrix(c(6,3,2,9),2,2)\n",
    "contingency_table = as.table(x)\n",
    "result = chisq.test(contingency_table)\n",
    "result\n",
    "print(paste(\"the expected count is \",result$expected))"
   ]
  },
  {
   "cell_type": "markdown",
   "id": "beff9c7f",
   "metadata": {},
   "source": [
    "## Likelihood ratio test\n",
    "\n",
    "### 1. Two points hypothesis\n",
    "\n",
    "$\\mathrm{H}_{0}: \\theta=\\theta_{0}$ vs $\\mathrm{H}_{1}: \\theta=\\theta_{1}$ \n",
    "\n",
    "Test-stat: $t=\\frac{l_{0}}{l_{1}}$, or equivalently, $t=2 \\log \\left(l_{1}\\right)-2 \\log \\left(l_{0}\\right)$, where $l_{0}$ is the likelihood under the null hypothesis and $l_{1}$ is the likelihood under the alternative hypothesis.\n",
    "\n",
    "Rejection region: we reject the null if $t>a$, where $a$ is the 95% quantile of the null distribution of the test statistic.\n",
    "\n",
    "\n",
    "````\\{prf:example\\} 6.2\n",
    ":nonumber:\n",
    ":label: 6.2\n",
    ":nonumber:\n",
    "Given a random sample $X_{1}, X_{2}, \\ldots, X_{n} \\sim \\operatorname{Normal}\\left(\\mu, \\sigma^{2}=1\\right)$, we want to test if $\\mu=1$ or $\\mu=2$.\n",
    "\n",
    "$$\\mathrm{H}_{0}: u=1 \\text { vs } \\mathrm{H}_{1}: u=2 \\\\$$\n",
    "\n",
    "We first find the likelihood score $l_0$ for the null hypothesis\n",
    "\n",
    "$$\n",
    "\\begin{gathered}\n",
    "l_{0}=\\prod_{i=1}^{n} \\frac{1}{\\sqrt{2 \\pi \\sigma^{2}}} e^{-\\frac{\\left(x_{i}-\\mu\\right)^{2}}{2 \\sigma^{2}}}=\\prod_{i=1}^{n} \\frac{1}{\\sqrt{2 \\pi}} e^{-\\frac{\\left(x_{i}-1\\right)^{2}}{2}}\n",
    "\\end{gathered}\n",
    "$$\n",
    "\n",
    "and the likelihood score $l_1$ for the alternative hypothesis\n",
    "\n",
    "$$\n",
    "l_{1}=\\prod_{i=1}^{n} \\frac{1}{\\sqrt{2 \\pi}} e^{-\\frac{\\left(x_{i}-2\\right)^{2}}{2}}\n",
    "$$\n",
    "\n",
    "The test statistic is given by\n",
    "\n",
    "$$\n",
    "t=2 \\log \\left(l_{1}\\right)-2 \\log \\left(l_{0}\\right)=\\frac{-2 \\sum_{i=1}^{n} x_{i}+3 n}{2}=-\\sum_{i=1}^{n} x_{i}+\\frac{3 n}{2}\n",
    "$$\n",
    "\n",
    "The null distribution of $t$ is normal with mean $-n \\mu+\\frac{3 n}{2}$ and variance $n \\sigma^{2}$.\n",
    "\n",
    "Rejection region: we reject the null if $t>a$, where $a$ is the 95% quantile of the null distribution of the test statistic $t$.\n",
    "````"
   ]
  },
  {
   "cell_type": "code",
   "execution_count": 7,
   "id": "725173fb",
   "metadata": {},
   "outputs": [
    {
     "name": "stdout",
     "output_type": "stream",
     "text": [
      "[1] \"the test statistic is -19.8215542842016 and the critical value a = 3.84145882069412\"\n"
     ]
    }
   ],
   "source": [
    "x = rnorm(20,mean=2,sd=1)\n",
    "loglike0 = sum(log(dnorm(x,mean=2,sd=1)))\n",
    "loglike1 = sum(log(dnorm(x,mean=3,sd=1)))\n",
    "t = 2*loglike1 - 2*loglike0\n",
    "a = qchisq(0.95,df=1)\n",
    "print(paste(\"the test statistic is\",t, \"and the critical value a =\",a))"
   ]
  },
  {
   "cell_type": "markdown",
   "id": "13998407",
   "metadata": {},
   "source": [
    "````{prf:lemma} Neyman-Pearson lemma\n",
    "The likelihood ratio test for two simple hypotheses is the most powerful test.\n",
    "````\n",
    "\n",
    "### 2. The hypotheses are intervals\n",
    "\n",
    "$\\mathrm{H}_{0}: \\theta \\in \\Theta_{0}$ vs $\\mathrm{H}_{1}: \\theta \\in \\Theta_{1}$ \n",
    "\n",
    "Test-stat: $t=2 \\log \\left(l_{1}\\right)-2 \\log \\left(l_{0}\\right)$, where $l_{0}=\\max _{\\theta \\in \\Theta_{0}}\\{l(\\theta)\\}$ is the maximum likelihood score under the null hypothesis and $l_{1}$ is the maximum likelihood score $l_{1}=$ $\\max _{\\theta \\in \\Theta_{1}}\\{l(\\theta)\\}$ under the alternative hypothesis.\n",
    "\n",
    "Rejection region: we reject the null if $t>a$ where $a$ is the 95% quantile of the null distribution of the test statistic.\n",
    "\n",
    "### 3. Nested hypotheses (the null hypothesis is nested in the alternative hypothesis)\n",
    "\n",
    "$\\mathrm{H}_{0}: \\mathrm{M}_{0}$ vs $\\mathrm{H}_{1}: \\mathrm{M}_{1}$\n",
    "\n",
    "Test-stat: $t=2 \\log \\left(l_{1}\\right)-2 \\log \\left(l_{0}\\right)$, where $l_{0}=\\max _{\\theta \\in \\mathrm{M}_{0}}\\{l(\\theta)\\}$ is the maximum likelihood score under the null hypothesis and $l_{1}$ is the maximum likelihood score $l_{1}=$ $\\max _{\\theta \\in \\mathrm{M}_{1}}\\{l(\\theta)\\}$ under the alternative hypothesis. \n",
    "\n",
    "The null distribution of the test statistic is asymptotically the chi-square distribution with $\\mathrm{df}=\\left(\\right.$ number of free parameters in $\\mathrm{H}_{1}-$ number of free parameters in $\\left.\\mathrm{H}_{0}\\right)$\n",
    "\n",
    "Rejection region: we reject the null if $t>a$ where $a$ is the 95% quantile of the chi-square distribution"
   ]
  },
  {
   "cell_type": "code",
   "execution_count": 8,
   "id": "e66fa3e7",
   "metadata": {},
   "outputs": [
    {
     "name": "stdout",
     "output_type": "stream",
     "text": [
      "[1] \"the test statistic is 31.2677726478089 and the critical value a = 3.84145882069412\"\n"
     ]
    }
   ],
   "source": [
    "x = rnorm(20,mean=2,sd=1)\n",
    "loglike0 = sum(log(dnorm(x,mean=1.2,sd=1)))\n",
    "loglike1 = sum(log(dnorm(x,mean=mean(x),sd=1)))\n",
    "t = 2*loglike1 - 2*loglike0\n",
    "a = qchisq(0.95,df=1)\n",
    "print(paste(\"the test statistic is\",t, \"and the critical value a =\",a))"
   ]
  },
  {
   "cell_type": "markdown",
   "id": "4d1fe262",
   "metadata": {},
   "source": [
    "## Mann-Whitney test (nonparametric test for two samples)\n",
    "\n",
    "The data consist of two random samples. Let $X_{1}, \\dots, X_{n}$ be the sample generated from population 1 and $Y_{1}, \\dots, Y_{m}$ be the sample from population 2. We want to test if two samples are from the same population, i.e.,\n",
    "\n",
    "$$\n",
    "\\mathrm{H}_{0}: pop1 = pop2 \\text{  versus } \\mathrm{H}_{1}: \\text{pop1 not equal pop2}\n",
    "$$\n",
    "\n",
    "Test-stat: Ranking all observations from the minimum to the maximum. If several sample values are exactly equal to each other (tied), assign to each the average rank. Let $\\mathrm{R}\\left(\\mathrm{X}_{\\mathrm{i}}\\right)$ denote the ranks of $\\mathrm{X}_{\\mathrm{i}}$. The test statistic is $T=\\sum_{i=1}^{n} R\\left(X_{i}\\right)$.\n",
    "\n",
    "Under the null hypothesis that two samples are generated from the same population, the ranks of $X$ and $Y$ are totally random. Thus, the ranks of $X$ (assuming no ties) are $n$ numbers chosen at random without replacement from $(1,2, \\ldots, n+m)$. The null distribution of $\\mathrm{T}$ can be derived for small $\\mathrm{n}$ and $\\mathrm{m}$ (table). For large $\\mathrm{n}$ and $\\mathrm{m}$, we can use simulation to calculate the null distribution of $T$.\n",
    "\n",
    "Rejection region: we reject the null hypothesis if $t>a$ or $t<b$, where $a$ is the 97.5% quantile of the null distribution of the test statistic, and $b$ is the 2.5% quantile of the null distribution of the test statistic.\n",
    "\n",
    "````\\{prf:example\\} 6.3\n",
    ":nonumber:\n",
    ":label: 6.3\n",
    ":nonumber:\n",
    "\n",
    "Data is given in the table\n",
    "\n",
    "$$\n",
    "\\begin{array}{|l|l|l|l|l|l|}\n",
    "\\hline X & 2.3(5) & 1.4(1) & 1.6(3) & 1.8(4) & \\\\\n",
    "\\hline Y & 1.5(2) & 3.7(9) & 3.2(7) & 2.8(6) & 3.3(8) \\\\\n",
    "\\hline\n",
    "\\end{array}\n",
    "$$\n",
    "\n",
    "Test-stat: Let $R_i$ be the sum of the ranks in group $i$. Define $U_i=n_1n_2+\\frac{n_i(n_i+1)}{2}-R_i$. The test statistic is the smaller of $U_1$ and $U_2$. \n",
    "\n",
    "Rejection region: we reject the null hypothesis if $t>a$ or $t<b$, where $a$ is the 97.5% quantile of the null distribution of the test statistic, and $b$ is the 2.5% quantile of the null distribution of the test statistic.\n",
    "\n",
    "````"
   ]
  },
  {
   "cell_type": "code",
   "execution_count": 9,
   "id": "553a9207",
   "metadata": {},
   "outputs": [
    {
     "data": {
      "text/plain": [
       "\n",
       "\tWilcoxon rank sum exact test\n",
       "\n",
       "data:  x and y\n",
       "W = 3, p-value = 0.1111\n",
       "alternative hypothesis: true location shift is not equal to 0\n"
      ]
     },
     "metadata": {},
     "output_type": "display_data"
    }
   ],
   "source": [
    "x=c(2.3,1.4,1.6,1.8)\n",
    "y=c(1.5,3.7,3.2,2.8,3.3)\n",
    "wilcox.test(x,y)"
   ]
  }
 ],
 "metadata": {
  "jupytext": {
   "cell_metadata_filter": "-all",
   "formats": "md:myst",
   "text_representation": {
    "extension": ".md",
    "format_name": "myst",
    "format_version": 0.13,
    "jupytext_version": "1.11.5"
   }
  },
  "kernelspec": {
   "display_name": "R",
   "language": "R",
   "name": "ir"
  },
  "language_info": {
   "codemirror_mode": "r",
   "file_extension": ".r",
   "mimetype": "text/x-r-source",
   "name": "R",
   "pygments_lexer": "r",
   "version": "4.2.2"
  },
  "source_map": [
   14,
   140,
   143,
   155,
   158,
   182,
   187,
   199,
   201,
   212,
   221,
   247,
   253,
   299,
   306,
   330,
   337,
   374
  ]
 },
 "nbformat": 4,
 "nbformat_minor": 5
}