{
 "cells": [
  {
   "cell_type": "markdown",
   "id": "13ee55a5",
   "metadata": {},
   "source": [
    "# Lab 2: Generating random numbers\n",
    "\n",
    "## Discrete probability distributions\n",
    "\n",
    "In this lab, we will generate random numbers from a probability distribution. We begin with a discrete probability distribution.\n",
    "\n",
    "| x |1 |2 |3 |\n",
    "| --- | --- | --- | --- |\n",
    "| p| 1/3| 1/3|1/3 |\n",
    "|||||\n",
    "\n",
    "The R function *sample()* can be used to generate random numbers from a discrete probability distribution. For example, the following code will randomly pick a number from (1,2,3) without replacement"
   ]
  },
  {
   "cell_type": "code",
   "execution_count": 1,
   "id": "8fb668ee",
   "metadata": {},
   "outputs": [
    {
     "data": {
      "text/html": [
       "3"
      ],
      "text/latex": [
       "3"
      ],
      "text/markdown": [
       "3"
      ],
      "text/plain": [
       "[1] 3"
      ]
     },
     "metadata": {},
     "output_type": "display_data"
    }
   ],
   "source": [
    "sample(x=1:3, size = 1, replace=FALSE, prob = c(1/3,1/3,1/3))"
   ]
  },
  {
   "cell_type": "markdown",
   "id": "9a865ea2",
   "metadata": {},
   "source": [
    "To select two numbers at random from (1,2,3) without replacement, we do"
   ]
  },
  {
   "cell_type": "code",
   "execution_count": 2,
   "id": "7c4b8187",
   "metadata": {},
   "outputs": [
    {
     "data": {
      "text/html": [
       "<style>\n",
       ".list-inline {list-style: none; margin:0; padding: 0}\n",
       ".list-inline>li {display: inline-block}\n",
       ".list-inline>li:not(:last-child)::after {content: \"\\00b7\"; padding: 0 .5ex}\n",
       "</style>\n",
       "<ol class=list-inline><li>1</li><li>2</li></ol>\n"
      ],
      "text/latex": [
       "\\begin{enumerate*}\n",
       "\\item 1\n",
       "\\item 2\n",
       "\\end{enumerate*}\n"
      ],
      "text/markdown": [
       "1. 1\n",
       "2. 2\n",
       "\n",
       "\n"
      ],
      "text/plain": [
       "[1] 1 2"
      ]
     },
     "metadata": {},
     "output_type": "display_data"
    }
   ],
   "source": [
    "sample(x=1:3, size = 2, replace=FALSE, prob = c(1/3,1/3,1/3))"
   ]
  },
  {
   "cell_type": "markdown",
   "id": "c0e5d51d",
   "metadata": {},
   "source": [
    "To select two numbers at random from (1,2,3) with replacement, we do"
   ]
  },
  {
   "cell_type": "code",
   "execution_count": 3,
   "id": "93af4450",
   "metadata": {},
   "outputs": [
    {
     "data": {
      "text/html": [
       "2"
      ],
      "text/latex": [
       "2"
      ],
      "text/markdown": [
       "2"
      ],
      "text/plain": [
       "[1] 2"
      ]
     },
     "metadata": {},
     "output_type": "display_data"
    }
   ],
   "source": [
    "sample(x=1:3, size = 1, replace=TRUE, prob = c(1/3,1/3,1/3))"
   ]
  },
  {
   "cell_type": "markdown",
   "id": "04325e28",
   "metadata": {},
   "source": [
    "```{admonition} Exercise 1\n",
    "Flipping a fair coin 5 times and then we count the number of heads. Suppose head is 1 and tail is 0. Because it is a fair coin, the probability distribution of X is\n",
    "\n",
    "|x| 0| 1|\n",
    "| ---|---|---|\n",
    "|p| 0.5| 0.5|\n",
    "||||\n",
    "```"
   ]
  },
  {
   "cell_type": "code",
   "execution_count": 4,
   "id": "e3932895",
   "metadata": {},
   "outputs": [
    {
     "data": {
      "text/html": [
       "<style>\n",
       ".list-inline {list-style: none; margin:0; padding: 0}\n",
       ".list-inline>li {display: inline-block}\n",
       ".list-inline>li:not(:last-child)::after {content: \"\\00b7\"; padding: 0 .5ex}\n",
       "</style>\n",
       "<ol class=list-inline><li>1</li><li>0</li><li>0</li><li>1</li><li>0</li></ol>\n"
      ],
      "text/latex": [
       "\\begin{enumerate*}\n",
       "\\item 1\n",
       "\\item 0\n",
       "\\item 0\n",
       "\\item 1\n",
       "\\item 0\n",
       "\\end{enumerate*}\n"
      ],
      "text/markdown": [
       "1. 1\n",
       "2. 0\n",
       "3. 0\n",
       "4. 1\n",
       "5. 0\n",
       "\n",
       "\n"
      ],
      "text/plain": [
       "[1] 1 0 0 1 0"
      ]
     },
     "metadata": {},
     "output_type": "display_data"
    },
    {
     "name": "stdout",
     "output_type": "stream",
     "text": [
      "[1] \"The count of heads is 2\"\n"
     ]
    }
   ],
   "source": [
    "outcome = sample(x=c(0,1), size = 5, replace=TRUE, prob=rep(0.5,2))\n",
    "outcome\n",
    "print(paste(\"The count of heads is\", sum(outcome)))"
   ]
  },
  {
   "cell_type": "markdown",
   "id": "121a73f7",
   "metadata": {},
   "source": [
    "```{admonition} Exercise 2\n",
    "We repeat the above experiment 1000 times and we would like to see how the number of heads varies across 1000 experiments.\n",
    "```"
   ]
  },
  {
   "cell_type": "code",
   "execution_count": 5,
   "id": "1031d216",
   "metadata": {},
   "outputs": [
    {
     "data": {
      "text/plain": [
       "result\n",
       "  0   1   2   3   4   5 \n",
       " 35 164 306 307 151  37 "
      ]
     },
     "metadata": {},
     "output_type": "display_data"
    },
    {
     "data": {
      "image/png": "[encoded data removed]",
      "text/plain": [
       "plot without title"
      ]
     },
     "metadata": {
      "filenames": {
       "image/png": "D:\\OneDrive\\Github\\Jupyter\\jupyter_book\\binf8441\\_build\\jupyter_execute\\lab2_9_1.png"
      },
      "image/png": {
       "height": 420,
       "width": 420
      }
     },
     "output_type": "display_data"
    }
   ],
   "source": [
    "nsim = 1000\n",
    "result = rep(0,nsim)\n",
    "for(i in 1:nsim){\n",
    "    outcome = sample(x=c(0,1), size = 5, replace=TRUE, prob=rep(0.5,2))\n",
    "    result[i] = sum(outcome)\n",
    "}\n",
    "table(result)\n",
    "barplot(table(result))"
   ]
  },
  {
   "cell_type": "markdown",
   "id": "70938977",
   "metadata": {},
   "source": [
    "Alternative, we may simulate random numbers from the binomial distribution with $n=5$ and $p=0.5$."
   ]
  },
  {
   "cell_type": "code",
   "execution_count": 6,
   "id": "028858c2",
   "metadata": {},
   "outputs": [
    {
     "data": {
      "text/plain": [
       "result\n",
       "  0   1   2   3   4   5 \n",
       " 32 159 299 308 168  34 "
      ]
     },
     "metadata": {},
     "output_type": "display_data"
    },
    {
     "data": {
      "image/png": "[encoded data removed]",
      "text/plain": [
       "plot without title"
      ]
     },
     "metadata": {
      "filenames": {
       "image/png": "D:\\OneDrive\\Github\\Jupyter\\jupyter_book\\binf8441\\_build\\jupyter_execute\\lab2_11_1.png"
      },
      "image/png": {
       "height": 420,
       "width": 420
      }
     },
     "output_type": "display_data"
    }
   ],
   "source": [
    "result = rbinom(1000,size=5,p=0.5)\n",
    "table(result)\n",
    "barplot(table(result))"
   ]
  },
  {
   "cell_type": "markdown",
   "id": "05fc571a",
   "metadata": {},
   "source": [
    "```{admonition} Exercise 3\n",
    "Given a DNA sequence AGCCCGGGTTTACCCTTGGGAAAATTGCCCCAGTGACCCCT, \n",
    "1. calculate the proportion of A, C, G, T.\n",
    "2. Use R to randomly select a nucleotide from the DNA sequence\n",
    "3. Now we want to select 10 nucleotides without replacement. Then calculate the sample proportions of A, C, G, T among the 10 selected nucleotides and compare them with the population proportions of A, C, G, T in the DNA sequence.\n",
    "4. Let's select 100 nucleotides and calculate the sample proportions.\n",
    "```"
   ]
  },
  {
   "cell_type": "code",
   "execution_count": 7,
   "id": "af1e053e",
   "metadata": {},
   "outputs": [
    {
     "data": {
      "text/html": [
       "0.195121951219512"
      ],
      "text/latex": [
       "0.195121951219512"
      ],
      "text/markdown": [
       "0.195121951219512"
      ],
      "text/plain": [
       "[1] 0.195122"
      ]
     },
     "metadata": {},
     "output_type": "display_data"
    },
    {
     "data": {
      "text/html": [
       "0.341463414634146"
      ],
      "text/latex": [
       "0.341463414634146"
      ],
      "text/markdown": [
       "0.341463414634146"
      ],
      "text/plain": [
       "[1] 0.3414634"
      ]
     },
     "metadata": {},
     "output_type": "display_data"
    },
    {
     "data": {
      "text/html": [
       "0.24390243902439"
      ],
      "text/latex": [
       "0.24390243902439"
      ],
      "text/markdown": [
       "0.24390243902439"
      ],
      "text/plain": [
       "[1] 0.2439024"
      ]
     },
     "metadata": {},
     "output_type": "display_data"
    },
    {
     "data": {
      "text/html": [
       "0.219512195121951"
      ],
      "text/latex": [
       "0.219512195121951"
      ],
      "text/markdown": [
       "0.219512195121951"
      ],
      "text/plain": [
       "[1] 0.2195122"
      ]
     },
     "metadata": {},
     "output_type": "display_data"
    },
    {
     "data": {
      "text/html": [
       "'A'"
      ],
      "text/latex": [
       "'A'"
      ],
      "text/markdown": [
       "'A'"
      ],
      "text/plain": [
       "[1] \"A\""
      ]
     },
     "metadata": {},
     "output_type": "display_data"
    },
    {
     "data": {
      "text/html": [
       "<style>\n",
       ".list-inline {list-style: none; margin:0; padding: 0}\n",
       ".list-inline>li {display: inline-block}\n",
       ".list-inline>li:not(:last-child)::after {content: \"\\00b7\"; padding: 0 .5ex}\n",
       "</style>\n",
       "<ol class=list-inline><li>'T'</li><li>'C'</li><li>'G'</li><li>'G'</li><li>'C'</li><li>'C'</li><li>'C'</li><li>'G'</li><li>'C'</li><li>'T'</li></ol>\n"
      ],
      "text/latex": [
       "\\begin{enumerate*}\n",
       "\\item 'T'\n",
       "\\item 'C'\n",
       "\\item 'G'\n",
       "\\item 'G'\n",
       "\\item 'C'\n",
       "\\item 'C'\n",
       "\\item 'C'\n",
       "\\item 'G'\n",
       "\\item 'C'\n",
       "\\item 'T'\n",
       "\\end{enumerate*}\n"
      ],
      "text/markdown": [
       "1. 'T'\n",
       "2. 'C'\n",
       "3. 'G'\n",
       "4. 'G'\n",
       "5. 'C'\n",
       "6. 'C'\n",
       "7. 'C'\n",
       "8. 'G'\n",
       "9. 'C'\n",
       "10. 'T'\n",
       "\n",
       "\n"
      ],
      "text/plain": [
       " [1] \"T\" \"C\" \"G\" \"G\" \"C\" \"C\" \"C\" \"G\" \"C\" \"T\""
      ]
     },
     "metadata": {},
     "output_type": "display_data"
    },
    {
     "name": "stdout",
     "output_type": "stream",
     "text": [
      "[1] \"the proportions of A, C, G, T in the sample of 10 nucleotides\"\n"
     ]
    },
    {
     "data": {
      "text/html": [
       "0"
      ],
      "text/latex": [
       "0"
      ],
      "text/markdown": [
       "0"
      ],
      "text/plain": [
       "[1] 0"
      ]
     },
     "metadata": {},
     "output_type": "display_data"
    },
    {
     "data": {
      "text/html": [
       "0.5"
      ],
      "text/latex": [
       "0.5"
      ],
      "text/markdown": [
       "0.5"
      ],
      "text/plain": [
       "[1] 0.5"
      ]
     },
     "metadata": {},
     "output_type": "display_data"
    },
    {
     "data": {
      "text/html": [
       "0.3"
      ],
      "text/latex": [
       "0.3"
      ],
      "text/markdown": [
       "0.3"
      ],
      "text/plain": [
       "[1] 0.3"
      ]
     },
     "metadata": {},
     "output_type": "display_data"
    },
    {
     "data": {
      "text/html": [
       "0.2"
      ],
      "text/latex": [
       "0.2"
      ],
      "text/markdown": [
       "0.2"
      ],
      "text/plain": [
       "[1] 0.2"
      ]
     },
     "metadata": {},
     "output_type": "display_data"
    },
    {
     "name": "stdout",
     "output_type": "stream",
     "text": [
      "[1] \"the proportions of A, C, G, T in the sample of 100 nucleotides\"\n"
     ]
    },
    {
     "data": {
      "text/html": [
       "0.22"
      ],
      "text/latex": [
       "0.22"
      ],
      "text/markdown": [
       "0.22"
      ],
      "text/plain": [
       "[1] 0.22"
      ]
     },
     "metadata": {},
     "output_type": "display_data"
    },
    {
     "data": {
      "text/html": [
       "0.33"
      ],
      "text/latex": [
       "0.33"
      ],
      "text/markdown": [
       "0.33"
      ],
      "text/plain": [
       "[1] 0.33"
      ]
     },
     "metadata": {},
     "output_type": "display_data"
    },
    {
     "data": {
      "text/html": [
       "0.23"
      ],
      "text/latex": [
       "0.23"
      ],
      "text/markdown": [
       "0.23"
      ],
      "text/plain": [
       "[1] 0.23"
      ]
     },
     "metadata": {},
     "output_type": "display_data"
    },
    {
     "data": {
      "text/html": [
       "0.22"
      ],
      "text/latex": [
       "0.22"
      ],
      "text/markdown": [
       "0.22"
      ],
      "text/plain": [
       "[1] 0.22"
      ]
     },
     "metadata": {},
     "output_type": "display_data"
    }
   ],
   "source": [
    "seq = \"AGCCCGGGTTTACCCTTGGGAAAATTGCCCCAGTGACCCCT\"\n",
    "x = unlist(strsplit(seq,split=\"\"))\n",
    "\n",
    "#proportions of A, C, G, T\n",
    "sum(x=='A')/length(x)\n",
    "sum(x=='C')/length(x)\n",
    "sum(x=='G')/length(x)\n",
    "sum(x=='T')/length(x)\n",
    "\n",
    "#select a nucleotide\n",
    "position=sample(1:length(x),size=1)\n",
    "x[position]\n",
    "\n",
    "#sample 10 nucleotides without replacement\n",
    "position = sample(1:length(x),size=10)\n",
    "data = x[position]\n",
    "data\n",
    "print(\"the proportions of A, C, G, T in the sample of 10 nucleotides\")\n",
    "sum(data=='A')/10\n",
    "sum(data=='C')/10\n",
    "sum(data=='G')/10\n",
    "sum(data=='T')/10\n",
    "\n",
    "#sample 100 nucleotides with replacement\n",
    "position = sample(1:length(x),size=100,replace=TRUE)\n",
    "data = x[position]\n",
    "print(\"the proportions of A, C, G, T in the sample of 100 nucleotides\")\n",
    "sum(data=='A')/100\n",
    "sum(data=='C')/100\n",
    "sum(data=='G')/100\n",
    "sum(data=='T')/100"
   ]
  },
  {
   "cell_type": "markdown",
   "id": "7d095299",
   "metadata": {},
   "source": [
    "To generate a random number from the binomial distribution"
   ]
  },
  {
   "cell_type": "code",
   "execution_count": 8,
   "id": "10e3231f",
   "metadata": {},
   "outputs": [
    {
     "data": {
      "text/html": [
       "<style>\n",
       ".list-inline {list-style: none; margin:0; padding: 0}\n",
       ".list-inline>li {display: inline-block}\n",
       ".list-inline>li:not(:last-child)::after {content: \"\\00b7\"; padding: 0 .5ex}\n",
       "</style>\n",
       "<ol class=list-inline><li>4</li><li>1</li><li>4</li><li>2</li><li>1</li><li>2</li><li>3</li><li>2</li><li>5</li><li>2</li></ol>\n"
      ],
      "text/latex": [
       "\\begin{enumerate*}\n",
       "\\item 4\n",
       "\\item 1\n",
       "\\item 4\n",
       "\\item 2\n",
       "\\item 1\n",
       "\\item 2\n",
       "\\item 3\n",
       "\\item 2\n",
       "\\item 5\n",
       "\\item 2\n",
       "\\end{enumerate*}\n"
      ],
      "text/markdown": [
       "1. 4\n",
       "2. 1\n",
       "3. 4\n",
       "4. 2\n",
       "5. 1\n",
       "6. 2\n",
       "7. 3\n",
       "8. 2\n",
       "9. 5\n",
       "10. 2\n",
       "\n",
       "\n"
      ],
      "text/plain": [
       " [1] 4 1 4 2 1 2 3 2 5 2"
      ]
     },
     "metadata": {},
     "output_type": "display_data"
    }
   ],
   "source": [
    "rbinom(n=10, size=5, prob=0.5)"
   ]
  },
  {
   "cell_type": "markdown",
   "id": "22e5b5c2",
   "metadata": {},
   "source": [
    "to generate a random number from the Poisson distribution"
   ]
  },
  {
   "cell_type": "code",
   "execution_count": 9,
   "id": "14fd6957",
   "metadata": {},
   "outputs": [
    {
     "data": {
      "text/html": [
       "<style>\n",
       ".list-inline {list-style: none; margin:0; padding: 0}\n",
       ".list-inline>li {display: inline-block}\n",
       ".list-inline>li:not(:last-child)::after {content: \"\\00b7\"; padding: 0 .5ex}\n",
       "</style>\n",
       "<ol class=list-inline><li>4</li><li>3</li><li>4</li><li>2</li><li>2</li><li>3</li><li>5</li><li>4</li><li>4</li><li>5</li></ol>\n"
      ],
      "text/latex": [
       "\\begin{enumerate*}\n",
       "\\item 4\n",
       "\\item 3\n",
       "\\item 4\n",
       "\\item 2\n",
       "\\item 2\n",
       "\\item 3\n",
       "\\item 5\n",
       "\\item 4\n",
       "\\item 4\n",
       "\\item 5\n",
       "\\end{enumerate*}\n"
      ],
      "text/markdown": [
       "1. 4\n",
       "2. 3\n",
       "3. 4\n",
       "4. 2\n",
       "5. 2\n",
       "6. 3\n",
       "7. 5\n",
       "8. 4\n",
       "9. 4\n",
       "10. 5\n",
       "\n",
       "\n"
      ],
      "text/plain": [
       " [1] 4 3 4 2 2 3 5 4 4 5"
      ]
     },
     "metadata": {},
     "output_type": "display_data"
    }
   ],
   "source": [
    "rpois(n=10, lambda=3.5)"
   ]
  },
  {
   "cell_type": "markdown",
   "id": "6533118e",
   "metadata": {},
   "source": [
    "## Continuous probability distributions\n",
    "\n",
    "We may generate a random number from an interval [a, b] using the R function **runif()**. For example, we may generate a random number between 0 and 2,"
   ]
  },
  {
   "cell_type": "code",
   "execution_count": 10,
   "id": "7379bb5a",
   "metadata": {},
   "outputs": [
    {
     "data": {
      "text/html": [
       "1.25624482380226"
      ],
      "text/latex": [
       "1.25624482380226"
      ],
      "text/markdown": [
       "1.25624482380226"
      ],
      "text/plain": [
       "[1] 1.256245"
      ]
     },
     "metadata": {},
     "output_type": "display_data"
    }
   ],
   "source": [
    "runif(1, min=0, max=2)"
   ]
  },
  {
   "cell_type": "markdown",
   "id": "15e34d84",
   "metadata": {},
   "source": [
    "Or generate 10 random numbers from the interval [2, 10]"
   ]
  },
  {
   "cell_type": "code",
   "execution_count": 11,
   "id": "2763e2d1",
   "metadata": {},
   "outputs": [
    {
     "data": {
      "text/html": [
       "<style>\n",
       ".list-inline {list-style: none; margin:0; padding: 0}\n",
       ".list-inline>li {display: inline-block}\n",
       ".list-inline>li:not(:last-child)::after {content: \"\\00b7\"; padding: 0 .5ex}\n",
       "</style>\n",
       "<ol class=list-inline><li>4.65436875633895</li><li>9.36995267681777</li><li>8.556072358042</li><li>4.29266740567982</li><li>8.57309349998832</li><li>7.49321645498276</li><li>4.9463406894356</li><li>5.21113450080156</li><li>8.48597253859043</li><li>5.51667669601738</li></ol>\n"
      ],
      "text/latex": [
       "\\begin{enumerate*}\n",
       "\\item 4.65436875633895\n",
       "\\item 9.36995267681777\n",
       "\\item 8.556072358042\n",
       "\\item 4.29266740567982\n",
       "\\item 8.57309349998832\n",
       "\\item 7.49321645498276\n",
       "\\item 4.9463406894356\n",
       "\\item 5.21113450080156\n",
       "\\item 8.48597253859043\n",
       "\\item 5.51667669601738\n",
       "\\end{enumerate*}\n"
      ],
      "text/markdown": [
       "1. 4.65436875633895\n",
       "2. 9.36995267681777\n",
       "3. 8.556072358042\n",
       "4. 4.29266740567982\n",
       "5. 8.57309349998832\n",
       "6. 7.49321645498276\n",
       "7. 4.9463406894356\n",
       "8. 5.21113450080156\n",
       "9. 8.48597253859043\n",
       "10. 5.51667669601738\n",
       "\n",
       "\n"
      ],
      "text/plain": [
       " [1] 4.654369 9.369953 8.556072 4.292667 8.573093 7.493216 4.946341 5.211135\n",
       " [9] 8.485973 5.516677"
      ]
     },
     "metadata": {},
     "output_type": "display_data"
    }
   ],
   "source": [
    "runif(10, min=2, max=10)"
   ]
  },
  {
   "cell_type": "markdown",
   "id": "e429b9f1",
   "metadata": {},
   "source": [
    "We may generate 10 random numbers from the normal distribution with mean = 4.5 and variance = 2 and then calculate the sample average."
   ]
  },
  {
   "cell_type": "code",
   "execution_count": 12,
   "id": "ad692355",
   "metadata": {},
   "outputs": [
    {
     "data": {
      "text/html": [
       "<style>\n",
       ".list-inline {list-style: none; margin:0; padding: 0}\n",
       ".list-inline>li {display: inline-block}\n",
       ".list-inline>li:not(:last-child)::after {content: \"\\00b7\"; padding: 0 .5ex}\n",
       "</style>\n",
       "<ol class=list-inline><li>4.41432881739206</li><li>3.40340718903434</li><li>4.03331253619019</li><li>4.32580693245129</li><li>3.82407775572167</li><li>5.97044868646156</li><li>4.50478560326093</li><li>4.18018013641269</li><li>6.0222783217109</li><li>5.1519783057896</li></ol>\n"
      ],
      "text/latex": [
       "\\begin{enumerate*}\n",
       "\\item 4.41432881739206\n",
       "\\item 3.40340718903434\n",
       "\\item 4.03331253619019\n",
       "\\item 4.32580693245129\n",
       "\\item 3.82407775572167\n",
       "\\item 5.97044868646156\n",
       "\\item 4.50478560326093\n",
       "\\item 4.18018013641269\n",
       "\\item 6.0222783217109\n",
       "\\item 5.1519783057896\n",
       "\\end{enumerate*}\n"
      ],
      "text/markdown": [
       "1. 4.41432881739206\n",
       "2. 3.40340718903434\n",
       "3. 4.03331253619019\n",
       "4. 4.32580693245129\n",
       "5. 3.82407775572167\n",
       "6. 5.97044868646156\n",
       "7. 4.50478560326093\n",
       "8. 4.18018013641269\n",
       "9. 6.0222783217109\n",
       "10. 5.1519783057896\n",
       "\n",
       "\n"
      ],
      "text/plain": [
       " [1] 4.414329 3.403407 4.033313 4.325807 3.824078 5.970449 4.504786 4.180180\n",
       " [9] 6.022278 5.151978"
      ]
     },
     "metadata": {},
     "output_type": "display_data"
    },
    {
     "name": "stdout",
     "output_type": "stream",
     "text": [
      "[1] \"the sample average: 4.58306042844252\"\n"
     ]
    }
   ],
   "source": [
    "data = rnorm(10, mean=4.5, sd=sqrt(2))\n",
    "data\n",
    "print(paste(\"the sample average:\",mean(data)))"
   ]
  },
  {
   "cell_type": "markdown",
   "id": "b4f6e938",
   "metadata": {},
   "source": [
    "## Dealing with sequence files\n",
    "The R function **scan()** can read text files into R. FASTA format: A sequence record in a FASTA format consists of a single-line description (sequence name), followed by line(s) of sequence data. The first character of the description line is a greater-than (\">\") symbol. To read FASTA file test.fasta, the R code is"
   ]
  },
  {
   "cell_type": "code",
   "execution_count": 13,
   "id": "54c15345",
   "metadata": {},
   "outputs": [],
   "source": [
    "x = scan(\"https://book.phylolab.net/binf8441/data/lab2_test.fasta\", what=\"character\",sep=\"\\n\")"
   ]
  },
  {
   "cell_type": "markdown",
   "id": "693cf49a",
   "metadata": {},
   "source": [
    "Then, we count the number of sequences in the file. In addition, what is the length of those sequences. Also, calculate the proportion of A, C, G, T in each sequence."
   ]
  },
  {
   "cell_type": "code",
   "execution_count": 14,
   "id": "e4a311b7",
   "metadata": {},
   "outputs": [
    {
     "name": "stdout",
     "output_type": "stream",
     "text": [
      "[1] \"the number of sequences: 5\"\n"
     ]
    },
    {
     "name": "stdout",
     "output_type": "stream",
     "text": [
      "[1] \"the sequence length is 279\"\n"
     ]
    },
    {
     "name": "stdout",
     "output_type": "stream",
     "text": [
      "[1] \"the proportions of a, c, g, t in each sequence\"\n"
     ]
    },
    {
     "data": {
      "text/html": [
       "<table class=\"dataframe\">\n",
       "<caption>A matrix: 5 × 4 of type dbl</caption>\n",
       "<tbody>\n",
       "\t<tr><th scope=row>seq1</th><td>0.1792115</td><td>0.1648746</td><td>0.1505376</td><td>0.3225806</td></tr>\n",
       "\t<tr><th scope=row>seq2</th><td>0.1505376</td><td>0.1505376</td><td>0.1433692</td><td>0.3010753</td></tr>\n",
       "\t<tr><th scope=row>seq3</th><td>0.1720430</td><td>0.1648746</td><td>0.1541219</td><td>0.3261649</td></tr>\n",
       "\t<tr><th scope=row>seq4</th><td>0.2329749</td><td>0.1075269</td><td>0.1648746</td><td>0.3225806</td></tr>\n",
       "\t<tr><th scope=row>seq5</th><td>0.2258065</td><td>0.1039427</td><td>0.1648746</td><td>0.3333333</td></tr>\n",
       "</tbody>\n",
       "</table>\n"
      ],
      "text/latex": [
       "A matrix: 5 × 4 of type dbl\n",
       "\\begin{tabular}{r|llll}\n",
       "\tseq1 & 0.1792115 & 0.1648746 & 0.1505376 & 0.3225806\\\\\n",
       "\tseq2 & 0.1505376 & 0.1505376 & 0.1433692 & 0.3010753\\\\\n",
       "\tseq3 & 0.1720430 & 0.1648746 & 0.1541219 & 0.3261649\\\\\n",
       "\tseq4 & 0.2329749 & 0.1075269 & 0.1648746 & 0.3225806\\\\\n",
       "\tseq5 & 0.2258065 & 0.1039427 & 0.1648746 & 0.3333333\\\\\n",
       "\\end{tabular}\n"
      ],
      "text/markdown": [
       "\n",
       "A matrix: 5 × 4 of type dbl\n",
       "\n",
       "| seq1 | 0.1792115 | 0.1648746 | 0.1505376 | 0.3225806 |\n",
       "| seq2 | 0.1505376 | 0.1505376 | 0.1433692 | 0.3010753 |\n",
       "| seq3 | 0.1720430 | 0.1648746 | 0.1541219 | 0.3261649 |\n",
       "| seq4 | 0.2329749 | 0.1075269 | 0.1648746 | 0.3225806 |\n",
       "| seq5 | 0.2258065 | 0.1039427 | 0.1648746 | 0.3333333 |\n",
       "\n"
      ],
      "text/plain": [
       "     [,1]      [,2]      [,3]      [,4]     \n",
       "seq1 0.1792115 0.1648746 0.1505376 0.3225806\n",
       "seq2 0.1505376 0.1505376 0.1433692 0.3010753\n",
       "seq3 0.1720430 0.1648746 0.1541219 0.3261649\n",
       "seq4 0.2329749 0.1075269 0.1648746 0.3225806\n",
       "seq5 0.2258065 0.1039427 0.1648746 0.3333333"
      ]
     },
     "metadata": {},
     "output_type": "display_data"
    }
   ],
   "source": [
    "#count the number of >\n",
    "index = grep(\">\",x)\n",
    "nseq = length(index)\n",
    "print(paste(\"the number of sequences:\",nseq))\n",
    "\n",
    "#get sequences\n",
    "seq=rep(\"\",length(index))\n",
    "for(i in 1:length(index)){\n",
    "    if(i < length(index)){\n",
    "        seq[i] = paste(x[(index[i]+1):(index[i+1]-1)],collapse=\"\",sep=\"\")\n",
    "    }else{\n",
    "        seq[i] = paste(x[(index[i]+1):length(x)],collapse=\"\",sep=\"\")\n",
    "    }\n",
    "}\n",
    "\n",
    "#sequence length\n",
    "seqlength = nchar(seq[1])\n",
    "print(paste(\"the sequence length is\",seqlength))\n",
    "\n",
    "#proportions\n",
    "prop = matrix(0,nrow=nseq,ncol=4)\n",
    "row.names(prop) = paste(\"seq\",1:nseq,sep=\"\")\n",
    "for(i in 1:nseq){\n",
    "    s = unlist(strsplit(seq[i],split=\"\"))\n",
    "    prop[i,] = c(sum(s=='a'), sum(s=='c'), sum(s=='g'), sum(s=='t'))/seqlength\n",
    "}\n",
    "print(\"the proportions of a, c, g, t in each sequence\")\n",
    "prop"
   ]
  }
 ],
 "metadata": {
  "jupytext": {
   "cell_metadata_filter": "-all",
   "formats": "md:myst",
   "text_representation": {
    "extension": ".md",
    "format_name": "myst",
    "format_version": 0.13,
    "jupytext_version": "1.11.5"
   }
  },
  "kernelspec": {
   "display_name": "R",
   "language": "R",
   "name": "ir"
  },
  "language_info": {
   "codemirror_mode": "r",
   "file_extension": ".r",
   "mimetype": "text/x-r-source",
   "name": "R",
   "pygments_lexer": "r",
   "version": "4.2.2"
  },
  "source_map": [
   14,
   29,
   31,
   35,
   37,
   41,
   43,
   54,
   58,
   64,
   73,
   76,
   80,
   90,
   122,
   126,
   128,
   131,
   133,
   139,
   141,
   145,
   147,
   151,
   155,
   160,
   162,
   166
  ]
 },
 "nbformat": 4,
 "nbformat_minor": 5
}