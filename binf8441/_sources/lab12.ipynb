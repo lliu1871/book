{
 "cells": [
  {
   "cell_type": "markdown",
   "id": "4ab9f45e",
   "metadata": {},
   "source": [
    "# Lab 12: Markov Chain Monte Carlo algorithm\n",
    "\n",
    "$(x_{1},\\ldots,x_{n})$ is a random sample generated from the\n",
    "exponential distribution with rate $\\lambda$. The prior of $\\lambda$\n",
    "is the exponential distribution with mean 1/2. The posterior\n",
    "distribution of $\\lambda$ given $(x_{1},\\ldots,x_{n})$ is\n",
    "\n",
    "$$f\\left( \\lambda \\middle| X \\right) = \\frac{f(X|\\lambda)f(\\lambda)}{f(X)} = \\frac{\\lambda^{n}e^{- \\lambda\\sum_{i = 1}^{n}x_{i}}*2e^{- 2\\lambda}}{f(X)} = \\frac{2\\lambda^{n}e^{- \\left( \\sum_{i = 1}^{n}x_{i} + 2 \\right)\\lambda}}{f(X)}$$\n",
    "\n",
    "This is a gamma distribution with $\\alpha = n + 1$ and\n",
    "$\\beta = \\sum_{i = 1}^{n}x_{i} + 2$. The posterior mean is\n",
    "$\\frac{\\alpha}{\\beta} = \\frac{n + 1}{\\sum_{i = 1}^{n}x_{i} + 2}$. Thus,\n",
    "the Bayesian estimate of $\\lambda$ is\n",
    "$\\frac{n + 1}{\\sum_{i = 1}^{n}x_{i} + 2}$.\n",
    "\n",
    "Suppose the data is (1.001, 0.065, 0.014, 1.601, 0.288, 0.095, 0.401,\n",
    "0.227, 0.234, 0.488). Then, the Bayesian estimate of $\\lambda$ is\n",
    "\n",
    "$$\\frac{n + 1}{\\sum_{i = 1}^{n}x_{i} + 2} = \\frac{10 + 1}{4.41 + 2} = 1.716$$\n",
    "\n",
    "Here, we use the MCMC algorithm to approximate the posterior distribution\n",
    "$f\\left( \\lambda \\middle| X \\right)$, then calculate the posterior mean.\n",
    "\n",
    "The R code of the MCMC algorithm should have the following functions (1)\n",
    "Likelihood function, (2) Prior, (3) a function for updating $\\lambda$,\n",
    "and (4) a function for accepting or rejecting the proposed\n",
    "$\\lambda_{new}$."
   ]
  },
  {
   "cell_type": "code",
   "execution_count": 1,
   "id": "ad6d261b",
   "metadata": {},
   "outputs": [
    {
     "name": "stdout",
     "output_type": "stream",
     "text": [
      "[1] \"MCMC estimate of lambda: 0.992350136663558\"\n"
     ]
    },
    {
     "name": "stdout",
     "output_type": "stream",
     "text": [
      "[1] \"Bayesian estimate of lambda: 1.00317697927174\"\n"
     ]
    },
    {
     "data": {
      "image/png": "[encoded data removed]",
      "text/plain": [
       "plot without title"
      ]
     },
     "metadata": {
      "filenames": {
       "image/png": "D:\\books\\jupyter_book\\binf8441\\_build\\jupyter_execute\\lab12_1_2.png"
      },
      "image/png": {
       "height": 420,
       "width": 420
      }
     },
     "output_type": "display_data"
    }
   ],
   "source": [
    "########################################################\n",
    "# mcmc algorithm: likelihood: exp, prior: exp\n",
    "########################################################\n",
    "loglikelihood <- function (x, lambda) {\n",
    "  n <- length(x)\n",
    "  loglike <- n*log(lambda) - sum(x) * lambda\n",
    "  return (loglike)\n",
    "}\n",
    "logprior <- function(lambda, theta) {\n",
    "  logprior <- log(theta) - lambda*theta\n",
    "  return (logprior)\n",
    "}\n",
    "update_lambda<-function(lambda, window_width){\n",
    "  newlambda <- lambda + (2*runif(1)-1) * window_width\n",
    "  return (newlambda)\n",
    "}\n",
    "\n",
    "#######################################################\n",
    "# algorithm\n",
    "########################################################\n",
    "x = rexp(100)\n",
    "samplesize = length(x)\n",
    "theta <- 10 #prior of lambda\n",
    "lambda_theory = (samplesize+1)/(sum(x)+theta)\n",
    "\n",
    "totalround <- 100000\n",
    "lambda <- 1:totalround\n",
    "loglike <- 1:totalround\n",
    "window_width <- 0.05\n",
    "\n",
    "oldlambda <- 1 #initial value of lambda\n",
    "oldloglike <- loglikelihood(x, oldlambda)\n",
    "oldlogprior <- logprior(oldlambda, theta)\n",
    "\n",
    "for (i in 1:totalround)\n",
    "{\n",
    "  newlambda <- update_lambda(oldlambda, window_width)\n",
    "  if (newlambda<0) newlambda = -newlambda\n",
    "  newloglike <- loglikelihood(x, newlambda)\n",
    "  newlogprior <- logprior(newlambda, theta)\n",
    "\n",
    "  hastings_ratio <- min(exp((newloglike+newlogprior)-(oldloglike+oldlogprior)),1)\n",
    "\n",
    "  if(runif(1) < hastings_ratio){\n",
    "    lambda[i] = newlambda\n",
    "    loglike[i] = newloglike\n",
    "    oldlambda = newlambda\n",
    "    oldlogprior = newlogprior\n",
    "  }else{\n",
    "    lambda[i] = oldlambda\n",
    "    loglike[i] = oldloglike\n",
    "  }\n",
    "}\n",
    "\n",
    "plot(loglike,type=\"l\")\n",
    "burnin = totalround/2\n",
    "\n",
    "print(paste(\"MCMC estimate of lambda:\", mean(lambda[burnin:totalround])))\n",
    "print(paste(\"Bayesian estimate of lambda:\",lambda_theory))\n"
   ]
  },
  {
   "cell_type": "markdown",
   "id": "5ead2ed6",
   "metadata": {},
   "source": [
    "## Bayesian phylogenetic inference\n",
    "Preparation: Download MrBayes at http://nbisweden.github.io/MrBayes/download.html\n",
    "Then, unzip the downloaded file MrBayes-3.2.7a.zip and navigate into the unzipped folder by typing cd ./MrBayes-3.2.7a in the terminal window.\n",
    "\n",
    "To install MrBayes on your laptop, type **./configure** and then type make. The executable **mb** is located in the src folder. To run MrBayes interactively, type ./mb. Alternatively, you may run MrBayes using a batch file.\n",
    "\n",
    "The data file finch.nex is available in the example folder. We will run MrBayes on this data set. We first add a MrBayes block in the data file and then run MrBayes by the command line \n",
    "\n",
    "```{code}\n",
    "../src/mb -i finch.nex\n",
    "```"
   ]
  }
 ],
 "metadata": {
  "jupytext": {
   "cell_metadata_filter": "-all",
   "formats": "md:myst",
   "text_representation": {
    "extension": ".md",
    "format_name": "myst",
    "format_version": 0.13,
    "jupytext_version": "1.11.5"
   }
  },
  "kernelspec": {
   "display_name": "R",
   "language": "R",
   "name": "ir"
  },
  "language_info": {
   "codemirror_mode": "r",
   "file_extension": ".r",
   "mimetype": "text/x-r-source",
   "name": "R",
   "pygments_lexer": "r",
   "version": "4.2.2"
  },
  "source_map": [
   14,
   45,
   106
  ]
 },
 "nbformat": 4,
 "nbformat_minor": 5
}