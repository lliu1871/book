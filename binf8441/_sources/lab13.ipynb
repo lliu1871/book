{
 "cells": [
  {
   "cell_type": "markdown",
   "id": "175e816f",
   "metadata": {},
   "source": [
    "# Lab 13: Markov chains\n",
    "\n",
    "## Discrete time Markov chain\n",
    "Consider a random walk $\\left\\{X_n\\right\\}$ with a finite state space $X_n=\\{-1,0,1\\}$. The initial state is 0, i.e., $\\pi_0=(0,1,0)$. Suppose the one-step transition probability matrix is \n",
    "\n",
    "$$P=\\left(\\begin{array}{ccc}0 & 0.5 & 0.5 \\\\ 0.5 & 0 & 0.5 \\\\ 0.1 & 0.1 & 0.8\\end{array}\\right)$$\n",
    "\n",
    "We first find the probability distribution of $X_1$ after the first step, i.e., $\\pi_1=\\pi_0 P$."
   ]
  },
  {
   "cell_type": "code",
   "execution_count": 1,
   "id": "ae3e9c41",
   "metadata": {},
   "outputs": [
    {
     "data": {
      "text/html": [
       "<table class=\"dataframe\">\n",
       "<caption>A matrix: 1 × 3 of type dbl</caption>\n",
       "<tbody>\n",
       "\t<tr><td>0.5</td><td>0</td><td>0.5</td></tr>\n",
       "</tbody>\n",
       "</table>\n"
      ],
      "text/latex": [
       "A matrix: 1 × 3 of type dbl\n",
       "\\begin{tabular}{lll}\n",
       "\t 0.5 & 0 & 0.5\\\\\n",
       "\\end{tabular}\n"
      ],
      "text/markdown": [
       "\n",
       "A matrix: 1 × 3 of type dbl\n",
       "\n",
       "| 0.5 | 0 | 0.5 |\n",
       "\n"
      ],
      "text/plain": [
       "     [,1] [,2] [,3]\n",
       "[1,] 0.5  0    0.5 "
      ]
     },
     "metadata": {},
     "output_type": "display_data"
    }
   ],
   "source": [
    "pi_0 = c(0,1,0)\n",
    "pmatrix = matrix(c(0,0.5,0.5,0.5,0,0.5,0.1,0.1,0.8),3,3,byrow=T)\n",
    "pi_1 = t(pi_0) %*% pmatrix\n",
    "pi_1"
   ]
  },
  {
   "cell_type": "markdown",
   "id": "4e5a93f4",
   "metadata": {},
   "source": [
    "The probability distribution of $X_2$ after two steps is given by $\\pi_2=\\pi_1 P$"
   ]
  },
  {
   "cell_type": "code",
   "execution_count": 2,
   "id": "3d3e2064",
   "metadata": {},
   "outputs": [
    {
     "data": {
      "text/html": [
       "<table class=\"dataframe\">\n",
       "<caption>A matrix: 1 × 3 of type dbl</caption>\n",
       "<tbody>\n",
       "\t<tr><td>0.05</td><td>0.3</td><td>0.65</td></tr>\n",
       "</tbody>\n",
       "</table>\n"
      ],
      "text/latex": [
       "A matrix: 1 × 3 of type dbl\n",
       "\\begin{tabular}{lll}\n",
       "\t 0.05 & 0.3 & 0.65\\\\\n",
       "\\end{tabular}\n"
      ],
      "text/markdown": [
       "\n",
       "A matrix: 1 × 3 of type dbl\n",
       "\n",
       "| 0.05 | 0.3 | 0.65 |\n",
       "\n"
      ],
      "text/plain": [
       "     [,1] [,2] [,3]\n",
       "[1,] 0.05 0.3  0.65"
      ]
     },
     "metadata": {},
     "output_type": "display_data"
    }
   ],
   "source": [
    "pi_2 = pi_1 %*% pmatrix\n",
    "pi_2"
   ]
  },
  {
   "cell_type": "markdown",
   "id": "c2a6e3b0",
   "metadata": {},
   "source": [
    "Similarly, we can find $\\pi_n=\\pi_0 P^n$. To calculate $P^n$, suppose $\\mathrm{P}$ is expressed as $P=E V E^{-1}$ where $E$ is the eigen vector matrix and $V$ is the diagonal matrix of eigen values. Then $P^n=$ $E V^n E^{-1}$."
   ]
  },
  {
   "cell_type": "code",
   "execution_count": 3,
   "id": "4bc12ae7",
   "metadata": {},
   "outputs": [
    {
     "data": {
      "text/html": [
       "<table class=\"dataframe\">\n",
       "<caption>A matrix: 1 × 3 of type dbl</caption>\n",
       "<tbody>\n",
       "\t<tr><td>0.142371</td><td>0.1433475</td><td>0.7142815</td></tr>\n",
       "</tbody>\n",
       "</table>\n"
      ],
      "text/latex": [
       "A matrix: 1 × 3 of type dbl\n",
       "\\begin{tabular}{lll}\n",
       "\t 0.142371 & 0.1433475 & 0.7142815\\\\\n",
       "\\end{tabular}\n"
      ],
      "text/markdown": [
       "\n",
       "A matrix: 1 × 3 of type dbl\n",
       "\n",
       "| 0.142371 | 0.1433475 | 0.7142815 |\n",
       "\n"
      ],
      "text/plain": [
       "     [,1]     [,2]      [,3]     \n",
       "[1,] 0.142371 0.1433475 0.7142815"
      ]
     },
     "metadata": {},
     "output_type": "display_data"
    }
   ],
   "source": [
    "n = 10\n",
    "x = eigen(pmatrix)\n",
    "E = x$vectors\n",
    "V = diag(x$values)\n",
    "pi_n = t(pi_0) %*% E %*% (V^n) %*% solve(E)\n",
    "pi_n"
   ]
  },
  {
   "cell_type": "markdown",
   "id": "0081b3b5",
   "metadata": {},
   "source": [
    "In addition, we can find the limiting probability distribution $\\pi_{\\infty}=\\left(\\begin{array}{lll}a 1 & a 2 & a 3\\end{array}\\right)$ by solving the equations $\\pi_{\\infty}=\\pi_{\\infty} P$ and $\\sum \\pi_{\\infty}=1$. Thus, $\\pi_\\infty$ is the eigenvector of the transition probability matrix $P$ with the eigenvalue = 1."
   ]
  },
  {
   "cell_type": "code",
   "execution_count": 4,
   "id": "2db088af",
   "metadata": {},
   "outputs": [
    {
     "data": {
      "text/plain": [
       "eigen() decomposition\n",
       "$values\n",
       "[1]  1.0 -0.5  0.3\n",
       "\n",
       "$vectors\n",
       "          [,1]          [,2]       [,3]\n",
       "[1,] 0.5773503  7.071068e-01 -0.6804138\n",
       "[2,] 0.5773503 -7.071068e-01 -0.6804138\n",
       "[3,] 0.5773503 -1.214306e-17  0.2721655\n"
      ]
     },
     "metadata": {},
     "output_type": "display_data"
    },
    {
     "name": "stdout",
     "output_type": "stream",
     "text": [
      "[1] \"the limiting probability distribution\"\n"
     ]
    },
    {
     "data": {
      "text/html": [
       "<style>\n",
       ".list-inline {list-style: none; margin:0; padding: 0}\n",
       ".list-inline>li {display: inline-block}\n",
       ".list-inline>li:not(:last-child)::after {content: \"\\00b7\"; padding: 0 .5ex}\n",
       "</style>\n",
       "<ol class=list-inline><li>0.333333333333333</li><li>0.333333333333333</li><li>0.333333333333334</li></ol>\n"
      ],
      "text/latex": [
       "\\begin{enumerate*}\n",
       "\\item 0.333333333333333\n",
       "\\item 0.333333333333333\n",
       "\\item 0.333333333333334\n",
       "\\end{enumerate*}\n"
      ],
      "text/markdown": [
       "1. 0.333333333333333\n",
       "2. 0.333333333333333\n",
       "3. 0.333333333333334\n",
       "\n",
       "\n"
      ],
      "text/plain": [
       "[1] 0.3333333 0.3333333 0.3333333"
      ]
     },
     "metadata": {},
     "output_type": "display_data"
    }
   ],
   "source": [
    "x\n",
    "print(\"the limiting probability distribution\")\n",
    "E[,1]/sum(E[,1])"
   ]
  },
  {
   "cell_type": "markdown",
   "id": "94007f4e",
   "metadata": {},
   "source": [
    "## Continuous time Markov chain\n",
    "Consider a continuous time Markov chain for two alleles A and a. The initial allele at time 0 is $a$, i.e., $\\pi_0 = (1,0)$. Suppose the mutation rate from A to a is 0.1 and the mutation rate from a to A is 0.1. The rate matrix is \n",
    "\n",
    "$$Q = \\left(\\begin{array}{ll} -0.1 & 0.1 \\\\ 0.1 & -0.1\\end{array}\\right)$$\n",
    "\n",
    "We find the transition probability matrix $P(t)=e^{Qt}$."
   ]
  },
  {
   "cell_type": "code",
   "execution_count": 5,
   "id": "325ebb69",
   "metadata": {},
   "outputs": [
    {
     "data": {
      "text/plain": [
       "2 x 2 Matrix of class \"dgeMatrix\"\n",
       "           [,1]       [,2]\n",
       "[1,] 0.95241871 0.04758129\n",
       "[2,] 0.04758129 0.95241871"
      ]
     },
     "metadata": {},
     "output_type": "display_data"
    }
   ],
   "source": [
    "library(Matrix)\n",
    "pi_0 = c(1,0)\n",
    "t = 0.5\n",
    "qmatrix = matrix(c(-0.1,0.1,0.1,-0.1),2,2)\n",
    "pmatrix = expm(qmatrix*t)\n",
    "pmatrix"
   ]
  },
  {
   "cell_type": "markdown",
   "id": "d5cc5164",
   "metadata": {},
   "source": [
    "The probability distribution $\\pi_t$ of alleles at time $t$ is given by"
   ]
  },
  {
   "cell_type": "code",
   "execution_count": 6,
   "id": "dac1ba91",
   "metadata": {},
   "outputs": [
    {
     "data": {
      "text/plain": [
       "1 x 2 Matrix of class \"dgeMatrix\"\n",
       "          [,1]       [,2]\n",
       "[1,] 0.9524187 0.04758129"
      ]
     },
     "metadata": {},
     "output_type": "display_data"
    }
   ],
   "source": [
    "pi_t = t(pi_0) %*% pmatrix\n",
    "pi_t"
   ]
  },
  {
   "cell_type": "markdown",
   "id": "b4b4130f",
   "metadata": {},
   "source": [
    "The limiting probability distribution satisfies the equations $\\pi_{\\infty}Q=0$ and $\\sum \\pi_{\\infty}=1$. Thus, $\\pi_{\\infty}$ is the eigenvector of the rate matrix $Q$ with the eigenvalue 0."
   ]
  },
  {
   "cell_type": "code",
   "execution_count": 7,
   "id": "a9bc9bb4",
   "metadata": {},
   "outputs": [
    {
     "data": {
      "text/plain": [
       "eigen() decomposition\n",
       "$values\n",
       "[1]  0.0 -0.2\n",
       "\n",
       "$vectors\n",
       "          [,1]       [,2]\n",
       "[1,] 0.7071068  0.7071068\n",
       "[2,] 0.7071068 -0.7071068\n"
      ]
     },
     "metadata": {},
     "output_type": "display_data"
    },
    {
     "name": "stdout",
     "output_type": "stream",
     "text": [
      "[1] \"the limiting probabilities\"\n"
     ]
    },
    {
     "data": {
      "text/html": [
       "<style>\n",
       ".list-inline {list-style: none; margin:0; padding: 0}\n",
       ".list-inline>li {display: inline-block}\n",
       ".list-inline>li:not(:last-child)::after {content: \"\\00b7\"; padding: 0 .5ex}\n",
       "</style>\n",
       "<ol class=list-inline><li>0.5</li><li>0.5</li></ol>\n"
      ],
      "text/latex": [
       "\\begin{enumerate*}\n",
       "\\item 0.5\n",
       "\\item 0.5\n",
       "\\end{enumerate*}\n"
      ],
      "text/markdown": [
       "1. 0.5\n",
       "2. 0.5\n",
       "\n",
       "\n"
      ],
      "text/plain": [
       "[1] 0.5 0.5"
      ]
     },
     "metadata": {},
     "output_type": "display_data"
    }
   ],
   "source": [
    "x = eigen(qmatrix)\n",
    "x\n",
    "print(\"the limiting probabilities\")\n",
    "x$vectors[,1]/sum(x$vectors[,1])"
   ]
  }
 ],
 "metadata": {
  "jupytext": {
   "cell_metadata_filter": "-all",
   "formats": "md:myst",
   "text_representation": {
    "extension": ".md",
    "format_name": "myst",
    "format_version": 0.13,
    "jupytext_version": "1.11.5"
   }
  },
  "kernelspec": {
   "display_name": "R",
   "language": "R",
   "name": "ir"
  },
  "language_info": {
   "codemirror_mode": "r",
   "file_extension": ".r",
   "mimetype": "text/x-r-source",
   "name": "R",
   "pygments_lexer": "r",
   "version": "4.2.1"
  },
  "source_map": [
   14,
   26,
   31,
   34,
   37,
   41,
   48,
   52,
   56,
   65,
   72,
   74,
   77,
   81
  ]
 },
 "nbformat": 4,
 "nbformat_minor": 5
}