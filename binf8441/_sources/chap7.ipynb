{
 "cells": [
  {
   "cell_type": "markdown",
   "id": "1832588c",
   "metadata": {},
   "source": [
    "# Chapter 7: Multiple tests\n",
    "\n",
    "```{epigraph}\n",
    "*\"Do the difficult things while they are easy and do the great things while they are small. A journey of a thousand miles must begin with a single step.\"*\n",
    "\n",
    "-- Lao Tzu\n",
    "```\n",
    "\n",
    "```{seealso}\n",
    "- [Multiple tests problems](https://en.wikipedia.org/wiki/Multiple_comparisons_problem)\n",
    "```\n",
    "\n",
    "Statistical analysis may involve multiple tests. Although the $\\alpha$ level of each test is 0.05, the overall $\\alpha$ level is much greater than 0.05 when multiple tests are involved. Therefore, correction is needed in order to control the overall $\\alpha$ at the level of 5%. \n",
    "\n",
    "## Bonferroni correction\n",
    "\n",
    "Suppose there are $k$  tests and they are independent of each other. Let $R_i$ be the rejection region for the test $i$. The overall type I error is given by\n",
    "\n",
    "$$\n",
    "\\begin{equation}\n",
    "\\begin{split}\n",
    "P(\\cup_{i=1}^kR_i) &= 1- P(\\bar{\\cup_{i=1}^kR_i})\\\\\n",
    "&= 1- P(\\cap_{i=1}^k\\bar{R_i})\\\\ \n",
    "&= 1-\\prod_{i=1}^kP(\\bar{R_i}) \\\\\n",
    "&= 1-\\prod_{i=1}^k\\left(1-P(R_i)\\right)\\\\ \n",
    "&= 1-\\prod_{i=1}^k(1-\\alpha)\\\\ \n",
    "&= 1-(1-\\alpha)^k \\approx 1-(1-k\\alpha) = k\\alpha\n",
    "\\end{split}\n",
    "\\end{equation}\n",
    "$$\n",
    "\n",
    "The overall $\\alpha$-level $\\theta = k\\alpha$ where $\\alpha$ is the $\\alpha$ level of each test. Or $\\alpha = \\frac{\\theta}{k}$. \n",
    "\n",
    "```{admonition} Bonferroni correction\n",
    "If the overall $\\alpha$ level is 0.05, then the Bonferroni correction for individual tests is\n",
    "\n",
    " $$\\alpha = \\frac{0.05}{k}$$ \n",
    "```"
   ]
  },
  {
   "cell_type": "code",
   "execution_count": 1,
   "id": "efe0173d",
   "metadata": {},
   "outputs": [
    {
     "name": "stdout",
     "output_type": "stream",
     "text": [
      " [1] \"adjusted pvalues: 0.02\" \"adjusted pvalues: 0.05\" \"adjusted pvalues: 0.15\"\n",
      " [4] \"adjusted pvalues: 1\"    \"adjusted pvalues: 1\"    \"adjusted pvalues: 1\"   \n",
      " [7] \"adjusted pvalues: 1\"    \"adjusted pvalues: 1\"    \"adjusted pvalues: 1\"   \n",
      "[10] \"adjusted pvalues: 1\"   \n"
     ]
    }
   ],
   "source": [
    "pvalues <- c(.002, .005, .015, .113, .222, .227, .454, .552, .663, .751)\n",
    "result = p.adjust(pvalues,method=\"bonferroni\")\n",
    "print(paste(\"adjusted pvalues:\",result))"
   ]
  },
  {
   "cell_type": "markdown",
   "id": "7065dc6b",
   "metadata": {},
   "source": [
    "If $k$ is large, the $\\alpha$ level for each test is extremely small, making it very difficult to reject the null hypothesis for each test. Bonferroni correction is too conservative.\n",
    "\n",
    "## False discovery rate \n",
    "The above section indicates that it is difficult to control the overall type I error. In this section, we introduce a new criterion, false discovery rate, to perform the tests.\n",
    "\n",
    "````{prf:definition} false discovery rate\n",
    ":nonumber:\n",
    ":label: fdr\n",
    ":nonumber:\n",
    "\n",
    "Let $W$ be the number of wrong rejections among a total of $Y$ rejections. False discovery rate is equal to the expectation of $\\frac{W}{Y}$, i.e.,\n",
    "\n",
    "$$FDR = E\\left(\\frac{W}{Y}\\right)$$\n",
    "````\n",
    "In practise, it is difficult to calculate FDR. The Benjamin--Hochberg procedure (BH step-up procedure) is a numerical approach to control the false discovery rate. \n",
    "\n",
    "The BH procedure works as follows: calculate the pvalue for each test and\n",
    "re-order them from the minimum to the maximum $P_1,\\dots, P_n$.\n",
    "\n",
    "1. For a given $\\alpha$, find the largest $k$ such that $P(k) \\leq \\frac{k}{n}\\alpha$\n",
    "2. Reject the null hypothesis (i.e. declare positive discoveries) for the hypotheses $H_i$ for $i = 1, \\dots, k$.\n",
    "\n",
    "````\\{prf:example\\} 7.1\n",
    ":nonumber:\n",
    ":label: 7.1\n",
    ":nonumber:\n",
    "\n",
    "We would like to know if any of the three genes are associated with cancer. We collected the gene expression level data from the normal group (50 people) and the cancer group (50 people). We performed the two-sample t-test for three genes and their pvalues are pvalue1 = 0.03, pvalue2 = 0.01, pvalue3 = 0.06.\n",
    "\n",
    "Thus, $P_1 = 0.01, P_2 = 0.03, P_3 = 0.06$. We want to control FDR at the level of 0.05, i.e., $\\alpha = 0.05$. \n",
    "\n",
    "1. Find the largest $k$ such that $P_k \\le \\frac{k}{n}\\alpha$. We first try $k = 3$, but $P_3 > 0.05$. Then, we try $k = 2$ and $P_2 < 2*0.05/3$. Thus, $k=2$.\n",
    "2. We reject the null hypothesis for the first two tests, and conclude that gene1 and gene2 are significantly associated with cancer. \n",
    "````"
   ]
  },
  {
   "cell_type": "code",
   "execution_count": 2,
   "id": "dff0de47",
   "metadata": {},
   "outputs": [
    {
     "name": "stdout",
     "output_type": "stream",
     "text": [
      " [1] \"adjusted pvalues: 0.02\"              \"adjusted pvalues: 0.025\"            \n",
      " [3] \"adjusted pvalues: 0.05\"              \"adjusted pvalues: 0.2825\"           \n",
      " [5] \"adjusted pvalues: 0.378333333333333\" \"adjusted pvalues: 0.378333333333333\"\n",
      " [7] \"adjusted pvalues: 0.648571428571429\" \"adjusted pvalues: 0.69\"             \n",
      " [9] \"adjusted pvalues: 0.736666666666667\" \"adjusted pvalues: 0.751\"            \n"
     ]
    }
   ],
   "source": [
    "pvalues <- c(.002, .005, .015, .113, .222, .227, .454, .552, .663, .751)\n",
    "result = p.adjust(pvalues,method=\"BH\")\n",
    "print(paste(\"adjusted pvalues:\",result))"
   ]
  }
 ],
 "metadata": {
  "jupytext": {
   "cell_metadata_filter": "-all",
   "formats": "md:myst",
   "text_representation": {
    "extension": ".md",
    "format_name": "myst",
    "format_version": 0.13,
    "jupytext_version": "1.11.5"
   }
  },
  "kernelspec": {
   "display_name": "R",
   "language": "R",
   "name": "ir"
  },
  "language_info": {
   "codemirror_mode": "r",
   "file_extension": ".r",
   "mimetype": "text/x-r-source",
   "name": "R",
   "pygments_lexer": "r",
   "version": "4.2.2"
  },
  "source_map": [
   14,
   56,
   60,
   97
  ]
 },
 "nbformat": 4,
 "nbformat_minor": 5
}