{
 "cells": [
  {
   "cell_type": "markdown",
   "id": "f0dde455",
   "metadata": {},
   "source": [
    "# Lab 11: Bootstrap\n",
    "\n",
    "Suppose $x_1, \\ldots, x_{10} \\sim \\operatorname{Normal}\\left(\\mu, \\sigma^2\\right)$. Let $\\hat{\\mu}$ be an estimator of $\\mu$. It could be the sample mean, sample median, maximum likelihood estimator, or any point estimator. We will calculate $\\operatorname{var}(\\hat{\\mu})$ using bootstrap samples."
   ]
  },
  {
   "cell_type": "code",
   "execution_count": 1,
   "id": "8f6a97ed",
   "metadata": {},
   "outputs": [
    {
     "data": {
      "text/html": [
       "3.65161208429059"
      ],
      "text/latex": [
       "3.65161208429059"
      ],
      "text/markdown": [
       "3.65161208429059"
      ],
      "text/plain": [
       "[1] 3.651612"
      ]
     },
     "metadata": {},
     "output_type": "display_data"
    }
   ],
   "source": [
    "data = rnorm(10, mean=4, sd=2)\n",
    "sample_median = median(data)\n",
    "sample_median"
   ]
  },
  {
   "cell_type": "markdown",
   "id": "802b6c54",
   "metadata": {},
   "source": [
    "## Parametric bootstrap:\n",
    "We estimate the unknown parameters, $\\hat{\\mu}_{MLE}=\\bar{x}$ and $\\widehat{\\sigma^2}_{MLE}=$ sample variance"
   ]
  },
  {
   "cell_type": "code",
   "execution_count": 2,
   "id": "4b7d68f6",
   "metadata": {},
   "outputs": [],
   "source": [
    "mu_hat = mean(data)\n",
    "var_hat = var(data)"
   ]
  },
  {
   "cell_type": "markdown",
   "id": "6f99509d",
   "metadata": {},
   "source": [
    "Generate $k$ bootstrap samples from the $Normal(\\hat{\\mu}_{MLE}, \\widehat{\\sigma^2}_{MLE})$"
   ]
  },
  {
   "cell_type": "code",
   "execution_count": 3,
   "id": "ab13f80a",
   "metadata": {},
   "outputs": [],
   "source": [
    "k=100\n",
    "bootstrap_sample = matrix(0, nrow=10, ncol=k)\n",
    "for(i in 1:k){\n",
    "  bootstrap_sample[,i] = rnorm(10, mean=mu_hat, sd=sqrt(var_hat))\n",
    "}"
   ]
  },
  {
   "cell_type": "markdown",
   "id": "f547bd9b",
   "metadata": {},
   "source": [
    "Calculate $\\hat{\\mu}$, i.e., the sample median for each bootstrap sample, $\\left\\{\\widehat{\\mu_1}, \\ldots, \\widehat{\\mu_k}\\right\\}$"
   ]
  },
  {
   "cell_type": "code",
   "execution_count": 4,
   "id": "2dd943b4",
   "metadata": {},
   "outputs": [
    {
     "data": {
      "text/html": [
       "<style>\n",
       ".list-inline {list-style: none; margin:0; padding: 0}\n",
       ".list-inline>li {display: inline-block}\n",
       ".list-inline>li:not(:last-child)::after {content: \"\\00b7\"; padding: 0 .5ex}\n",
       "</style>\n",
       "<ol class=list-inline><li>3.69324925519565</li><li>3.10247192269439</li><li>3.56470669217216</li><li>3.55028302387301</li><li>3.15077250559006</li><li>3.41473361570384</li><li>3.3217652263456</li><li>3.74833222761481</li><li>3.84229031179552</li><li>3.62816481781543</li><li>4.3864790368473</li><li>3.93000462324351</li><li>4.09849679421538</li><li>3.17300448928725</li><li>3.66272599106111</li><li>3.95095524078002</li><li>4.18649838262457</li><li>3.7339063577593</li><li>3.43321943187228</li><li>3.7410062991817</li><li>3.95433920916255</li><li>4.00971122479453</li><li>4.71926464056633</li><li>3.58472483514124</li><li>3.6041945524205</li><li>3.90335557115978</li><li>3.94837075106057</li><li>3.5824987621675</li><li>3.45143085247339</li><li>3.2740442768875</li><li>3.54711970227704</li><li>3.71953674497286</li><li>3.23511256547434</li><li>3.20136073526843</li><li>3.76047082608208</li><li>3.43913161626672</li><li>3.5254697354106</li><li>3.75294601237121</li><li>3.92337698106514</li><li>3.8038220772786</li><li>3.54315512230743</li><li>3.09260160277526</li><li>3.48214821141845</li><li>3.18446023476485</li><li>3.59906228877192</li><li>3.96585122576442</li><li>3.71822436990665</li><li>2.61753797868918</li><li>4.00481532134275</li><li>3.70101631060837</li><li>2.58331880824549</li><li>3.60266987789082</li><li>3.57163473837967</li><li>3.61264464488533</li><li>3.41900865750896</li><li>2.76933376221607</li><li>3.31992604617277</li><li>3.45900149031198</li><li>3.94373317604181</li><li>3.8495924247849</li><li>3.55486041220135</li><li>3.06967034373741</li><li>3.67223117818826</li><li>4.1858481936293</li><li>2.75910609062551</li><li>3.06665291776773</li><li>2.67710820530266</li><li>3.64201478327474</li><li>3.32278203944441</li><li>4.25594088181212</li><li>3.84312335172901</li><li>3.36651884606326</li><li>3.7159428951913</li><li>3.39946087498727</li><li>3.54139228954205</li><li>3.06875186722763</li><li>3.27986093063164</li><li>3.69430848488874</li><li>3.8463303568167</li><li>3.78455993420377</li><li>3.35486773947686</li><li>3.41663495757409</li><li>3.88572064912062</li><li>4.19375801290458</li><li>3.09589328169283</li><li>3.98230473953158</li><li>3.46382035599162</li><li>3.08647795715789</li><li>3.41589468619057</li><li>3.68277626062556</li><li>3.84924787261724</li><li>4.04912080041957</li><li>3.84186232855609</li><li>4.02184175959952</li><li>3.52596917664893</li><li>3.50874927733294</li><li>4.46982397727716</li><li>3.21997003343171</li><li>3.54082000149216</li><li>3.16094551608994</li></ol>\n"
      ],
      "text/latex": [
       "\\begin{enumerate*}\n",
       "\\item 3.69324925519565\n",
       "\\item 3.10247192269439\n",
       "\\item 3.56470669217216\n",
       "\\item 3.55028302387301\n",
       "\\item 3.15077250559006\n",
       "\\item 3.41473361570384\n",
       "\\item 3.3217652263456\n",
       "\\item 3.74833222761481\n",
       "\\item 3.84229031179552\n",
       "\\item 3.62816481781543\n",
       "\\item 4.3864790368473\n",
       "\\item 3.93000462324351\n",
       "\\item 4.09849679421538\n",
       "\\item 3.17300448928725\n",
       "\\item 3.66272599106111\n",
       "\\item 3.95095524078002\n",
       "\\item 4.18649838262457\n",
       "\\item 3.7339063577593\n",
       "\\item 3.43321943187228\n",
       "\\item 3.7410062991817\n",
       "\\item 3.95433920916255\n",
       "\\item 4.00971122479453\n",
       "\\item 4.71926464056633\n",
       "\\item 3.58472483514124\n",
       "\\item 3.6041945524205\n",
       "\\item 3.90335557115978\n",
       "\\item 3.94837075106057\n",
       "\\item 3.5824987621675\n",
       "\\item 3.45143085247339\n",
       "\\item 3.2740442768875\n",
       "\\item 3.54711970227704\n",
       "\\item 3.71953674497286\n",
       "\\item 3.23511256547434\n",
       "\\item 3.20136073526843\n",
       "\\item 3.76047082608208\n",
       "\\item 3.43913161626672\n",
       "\\item 3.5254697354106\n",
       "\\item 3.75294601237121\n",
       "\\item 3.92337698106514\n",
       "\\item 3.8038220772786\n",
       "\\item 3.54315512230743\n",
       "\\item 3.09260160277526\n",
       "\\item 3.48214821141845\n",
       "\\item 3.18446023476485\n",
       "\\item 3.59906228877192\n",
       "\\item 3.96585122576442\n",
       "\\item 3.71822436990665\n",
       "\\item 2.61753797868918\n",
       "\\item 4.00481532134275\n",
       "\\item 3.70101631060837\n",
       "\\item 2.58331880824549\n",
       "\\item 3.60266987789082\n",
       "\\item 3.57163473837967\n",
       "\\item 3.61264464488533\n",
       "\\item 3.41900865750896\n",
       "\\item 2.76933376221607\n",
       "\\item 3.31992604617277\n",
       "\\item 3.45900149031198\n",
       "\\item 3.94373317604181\n",
       "\\item 3.8495924247849\n",
       "\\item 3.55486041220135\n",
       "\\item 3.06967034373741\n",
       "\\item 3.67223117818826\n",
       "\\item 4.1858481936293\n",
       "\\item 2.75910609062551\n",
       "\\item 3.06665291776773\n",
       "\\item 2.67710820530266\n",
       "\\item 3.64201478327474\n",
       "\\item 3.32278203944441\n",
       "\\item 4.25594088181212\n",
       "\\item 3.84312335172901\n",
       "\\item 3.36651884606326\n",
       "\\item 3.7159428951913\n",
       "\\item 3.39946087498727\n",
       "\\item 3.54139228954205\n",
       "\\item 3.06875186722763\n",
       "\\item 3.27986093063164\n",
       "\\item 3.69430848488874\n",
       "\\item 3.8463303568167\n",
       "\\item 3.78455993420377\n",
       "\\item 3.35486773947686\n",
       "\\item 3.41663495757409\n",
       "\\item 3.88572064912062\n",
       "\\item 4.19375801290458\n",
       "\\item 3.09589328169283\n",
       "\\item 3.98230473953158\n",
       "\\item 3.46382035599162\n",
       "\\item 3.08647795715789\n",
       "\\item 3.41589468619057\n",
       "\\item 3.68277626062556\n",
       "\\item 3.84924787261724\n",
       "\\item 4.04912080041957\n",
       "\\item 3.84186232855609\n",
       "\\item 4.02184175959952\n",
       "\\item 3.52596917664893\n",
       "\\item 3.50874927733294\n",
       "\\item 4.46982397727716\n",
       "\\item 3.21997003343171\n",
       "\\item 3.54082000149216\n",
       "\\item 3.16094551608994\n",
       "\\end{enumerate*}\n"
      ],
      "text/markdown": [
       "1. 3.69324925519565\n",
       "2. 3.10247192269439\n",
       "3. 3.56470669217216\n",
       "4. 3.55028302387301\n",
       "5. 3.15077250559006\n",
       "6. 3.41473361570384\n",
       "7. 3.3217652263456\n",
       "8. 3.74833222761481\n",
       "9. 3.84229031179552\n",
       "10. 3.62816481781543\n",
       "11. 4.3864790368473\n",
       "12. 3.93000462324351\n",
       "13. 4.09849679421538\n",
       "14. 3.17300448928725\n",
       "15. 3.66272599106111\n",
       "16. 3.95095524078002\n",
       "17. 4.18649838262457\n",
       "18. 3.7339063577593\n",
       "19. 3.43321943187228\n",
       "20. 3.7410062991817\n",
       "21. 3.95433920916255\n",
       "22. 4.00971122479453\n",
       "23. 4.71926464056633\n",
       "24. 3.58472483514124\n",
       "25. 3.6041945524205\n",
       "26. 3.90335557115978\n",
       "27. 3.94837075106057\n",
       "28. 3.5824987621675\n",
       "29. 3.45143085247339\n",
       "30. 3.2740442768875\n",
       "31. 3.54711970227704\n",
       "32. 3.71953674497286\n",
       "33. 3.23511256547434\n",
       "34. 3.20136073526843\n",
       "35. 3.76047082608208\n",
       "36. 3.43913161626672\n",
       "37. 3.5254697354106\n",
       "38. 3.75294601237121\n",
       "39. 3.92337698106514\n",
       "40. 3.8038220772786\n",
       "41. 3.54315512230743\n",
       "42. 3.09260160277526\n",
       "43. 3.48214821141845\n",
       "44. 3.18446023476485\n",
       "45. 3.59906228877192\n",
       "46. 3.96585122576442\n",
       "47. 3.71822436990665\n",
       "48. 2.61753797868918\n",
       "49. 4.00481532134275\n",
       "50. 3.70101631060837\n",
       "51. 2.58331880824549\n",
       "52. 3.60266987789082\n",
       "53. 3.57163473837967\n",
       "54. 3.61264464488533\n",
       "55. 3.41900865750896\n",
       "56. 2.76933376221607\n",
       "57. 3.31992604617277\n",
       "58. 3.45900149031198\n",
       "59. 3.94373317604181\n",
       "60. 3.8495924247849\n",
       "61. 3.55486041220135\n",
       "62. 3.06967034373741\n",
       "63. 3.67223117818826\n",
       "64. 4.1858481936293\n",
       "65. 2.75910609062551\n",
       "66. 3.06665291776773\n",
       "67. 2.67710820530266\n",
       "68. 3.64201478327474\n",
       "69. 3.32278203944441\n",
       "70. 4.25594088181212\n",
       "71. 3.84312335172901\n",
       "72. 3.36651884606326\n",
       "73. 3.7159428951913\n",
       "74. 3.39946087498727\n",
       "75. 3.54139228954205\n",
       "76. 3.06875186722763\n",
       "77. 3.27986093063164\n",
       "78. 3.69430848488874\n",
       "79. 3.8463303568167\n",
       "80. 3.78455993420377\n",
       "81. 3.35486773947686\n",
       "82. 3.41663495757409\n",
       "83. 3.88572064912062\n",
       "84. 4.19375801290458\n",
       "85. 3.09589328169283\n",
       "86. 3.98230473953158\n",
       "87. 3.46382035599162\n",
       "88. 3.08647795715789\n",
       "89. 3.41589468619057\n",
       "90. 3.68277626062556\n",
       "91. 3.84924787261724\n",
       "92. 4.04912080041957\n",
       "93. 3.84186232855609\n",
       "94. 4.02184175959952\n",
       "95. 3.52596917664893\n",
       "96. 3.50874927733294\n",
       "97. 4.46982397727716\n",
       "98. 3.21997003343171\n",
       "99. 3.54082000149216\n",
       "100. 3.16094551608994\n",
       "\n",
       "\n"
      ],
      "text/plain": [
       "  [1] 3.693249 3.102472 3.564707 3.550283 3.150773 3.414734 3.321765 3.748332\n",
       "  [9] 3.842290 3.628165 4.386479 3.930005 4.098497 3.173004 3.662726 3.950955\n",
       " [17] 4.186498 3.733906 3.433219 3.741006 3.954339 4.009711 4.719265 3.584725\n",
       " [25] 3.604195 3.903356 3.948371 3.582499 3.451431 3.274044 3.547120 3.719537\n",
       " [33] 3.235113 3.201361 3.760471 3.439132 3.525470 3.752946 3.923377 3.803822\n",
       " [41] 3.543155 3.092602 3.482148 3.184460 3.599062 3.965851 3.718224 2.617538\n",
       " [49] 4.004815 3.701016 2.583319 3.602670 3.571635 3.612645 3.419009 2.769334\n",
       " [57] 3.319926 3.459001 3.943733 3.849592 3.554860 3.069670 3.672231 4.185848\n",
       " [65] 2.759106 3.066653 2.677108 3.642015 3.322782 4.255941 3.843123 3.366519\n",
       " [73] 3.715943 3.399461 3.541392 3.068752 3.279861 3.694308 3.846330 3.784560\n",
       " [81] 3.354868 3.416635 3.885721 4.193758 3.095893 3.982305 3.463820 3.086478\n",
       " [89] 3.415895 3.682776 3.849248 4.049121 3.841862 4.021842 3.525969 3.508749\n",
       " [97] 4.469824 3.219970 3.540820 3.160946"
      ]
     },
     "metadata": {},
     "output_type": "display_data"
    }
   ],
   "source": [
    "sample_median = 1:k\n",
    "for(i in 1:k){\n",
    "  sample_median[i] = median(bootstrap_sample[,i])\n",
    "}\n",
    "sample_median"
   ]
  },
  {
   "cell_type": "markdown",
   "id": "aa6532c7",
   "metadata": {},
   "source": [
    "Calculate the sample variance $S^2$ of $\\left\\{\\widehat{\\mu_1}, \\ldots, \\widehat{\\mu_k}\\right\\}$, i.e., $\\frac{1}{k-1} \\sum_{i=1}^k\\left(\\widehat{\\mu_i}-\\widehat{\\mu}\\right)^2$ and $\\operatorname{var}(\\hat{\\mu}) \\approx S^2$"
   ]
  },
  {
   "cell_type": "code",
   "execution_count": 5,
   "id": "d0be8a2a",
   "metadata": {},
   "outputs": [
    {
     "data": {
      "text/html": [
       "0.151879097876227"
      ],
      "text/latex": [
       "0.151879097876227"
      ],
      "text/markdown": [
       "0.151879097876227"
      ],
      "text/plain": [
       "[1] 0.1518791"
      ]
     },
     "metadata": {},
     "output_type": "display_data"
    }
   ],
   "source": [
    "var(sample_median)"
   ]
  },
  {
   "cell_type": "markdown",
   "id": "bab6b167",
   "metadata": {},
   "source": [
    "## Nonparametric bootstrap\n",
    "We generate bootstrap samples by resampling the original data with replacement."
   ]
  },
  {
   "cell_type": "code",
   "execution_count": 6,
   "id": "ceb78a68",
   "metadata": {},
   "outputs": [],
   "source": [
    "bootstrap_sample = matrix(0, nrow=10, ncol=k)\n",
    "for(i in 1:k){\n",
    "  bootstrap_sample[,i] = sample(data,10,replace=T)\n",
    "}"
   ]
  },
  {
   "cell_type": "markdown",
   "id": "c15bc58a",
   "metadata": {},
   "source": [
    "We calculate the sample median for each bootstrap sample"
   ]
  },
  {
   "cell_type": "code",
   "execution_count": 7,
   "id": "bddd4676",
   "metadata": {},
   "outputs": [
    {
     "data": {
      "text/html": [
       "<style>\n",
       ".list-inline {list-style: none; margin:0; padding: 0}\n",
       ".list-inline>li {display: inline-block}\n",
       ".list-inline>li:not(:last-child)::after {content: \"\\00b7\"; padding: 0 .5ex}\n",
       "</style>\n",
       "<ol class=list-inline><li>2.96042245877337</li><li>3.88527855369792</li><li>4.00266545446668</li><li>3.88527855369792</li><li>3.34191667213843</li><li>3.34191667213843</li><li>3.9439720040823</li><li>3.23210339955312</li><li>2.89388081420433</li><li>4.3084107703126</li><li>3.37993114351084</li><li>3.34191667213843</li><li>4.00266545446668</li><li>4.3084107703126</li><li>3.71030553467497</li><li>3.61359761291817</li><li>3.34191667213843</li><li>3.65161208429059</li><li>2.96042245877337</li><li>3.9439720040823</li><li>3.71030553467497</li><li>3.9439720040823</li><li>3.65161208429059</li><li>4.3084107703126</li><li>3.65161208429059</li><li>3.41794561488326</li><li>3.61359761291817</li><li>3.65161208429059</li><li>3.88527855369792</li><li>4.35428891147719</li><li>3.37993114351084</li><li>4.00266545446668</li><li>3.65161208429059</li><li>3.88527855369792</li><li>2.96042245877337</li><li>3.41794561488326</li><li>4.00266545446668</li><li>3.41794561488326</li><li>3.41794561488326</li><li>4.24971731992822</li><li>3.71030553467497</li><li>3.88527855369792</li><li>3.65161208429059</li><li>3.41794561488326</li><li>4.24971731992822</li><li>3.37993114351084</li><li>3.65161208429059</li><li>4.3084107703126</li><li>4.01605085052089</li><li>3.67229106330255</li><li>3.37993114351084</li><li>3.61359761291817</li><li>3.71030553467497</li><li>3.88527855369792</li><li>4.3084107703126</li><li>3.65161208429059</li><li>4.61415608615852</li><li>4.3084107703126</li><li>3.34191667213843</li><li>3.61359761291817</li><li>3.88527855369792</li><li>3.65161208429059</li><li>3.88527855369792</li><li>4.06192899168548</li><li>3.61359761291817</li><li>3.65161208429059</li><li>3.37993114351084</li><li>3.37993114351084</li><li>4.61415608615852</li><li>2.96042245877337</li><li>3.65161208429059</li><li>3.65161208429059</li><li>3.88527855369792</li><li>4.00266545446668</li><li>4.3084107703126</li><li>4.24971731992822</li><li>3.65161208429059</li><li>3.9439720040823</li><li>3.88527855369792</li><li>3.41794561488326</li><li>3.34191667213843</li><li>3.65161208429059</li><li>3.34191667213843</li><li>4.00266545446668</li><li>3.37993114351084</li><li>3.23210339955312</li><li>4.01605085052089</li><li>3.41794561488326</li><li>2.57892824540832</li><li>3.41794561488326</li><li>3.65161208429059</li><li>3.61359761291817</li><li>3.37993114351084</li><li>3.65161208429059</li><li>3.65161208429059</li><li>3.88527855369792</li><li>3.71030553467497</li><li>4.00266545446668</li><li>3.67229106330255</li><li>4.00266545446668</li></ol>\n"
      ],
      "text/latex": [
       "\\begin{enumerate*}\n",
       "\\item 2.96042245877337\n",
       "\\item 3.88527855369792\n",
       "\\item 4.00266545446668\n",
       "\\item 3.88527855369792\n",
       "\\item 3.34191667213843\n",
       "\\item 3.34191667213843\n",
       "\\item 3.9439720040823\n",
       "\\item 3.23210339955312\n",
       "\\item 2.89388081420433\n",
       "\\item 4.3084107703126\n",
       "\\item 3.37993114351084\n",
       "\\item 3.34191667213843\n",
       "\\item 4.00266545446668\n",
       "\\item 4.3084107703126\n",
       "\\item 3.71030553467497\n",
       "\\item 3.61359761291817\n",
       "\\item 3.34191667213843\n",
       "\\item 3.65161208429059\n",
       "\\item 2.96042245877337\n",
       "\\item 3.9439720040823\n",
       "\\item 3.71030553467497\n",
       "\\item 3.9439720040823\n",
       "\\item 3.65161208429059\n",
       "\\item 4.3084107703126\n",
       "\\item 3.65161208429059\n",
       "\\item 3.41794561488326\n",
       "\\item 3.61359761291817\n",
       "\\item 3.65161208429059\n",
       "\\item 3.88527855369792\n",
       "\\item 4.35428891147719\n",
       "\\item 3.37993114351084\n",
       "\\item 4.00266545446668\n",
       "\\item 3.65161208429059\n",
       "\\item 3.88527855369792\n",
       "\\item 2.96042245877337\n",
       "\\item 3.41794561488326\n",
       "\\item 4.00266545446668\n",
       "\\item 3.41794561488326\n",
       "\\item 3.41794561488326\n",
       "\\item 4.24971731992822\n",
       "\\item 3.71030553467497\n",
       "\\item 3.88527855369792\n",
       "\\item 3.65161208429059\n",
       "\\item 3.41794561488326\n",
       "\\item 4.24971731992822\n",
       "\\item 3.37993114351084\n",
       "\\item 3.65161208429059\n",
       "\\item 4.3084107703126\n",
       "\\item 4.01605085052089\n",
       "\\item 3.67229106330255\n",
       "\\item 3.37993114351084\n",
       "\\item 3.61359761291817\n",
       "\\item 3.71030553467497\n",
       "\\item 3.88527855369792\n",
       "\\item 4.3084107703126\n",
       "\\item 3.65161208429059\n",
       "\\item 4.61415608615852\n",
       "\\item 4.3084107703126\n",
       "\\item 3.34191667213843\n",
       "\\item 3.61359761291817\n",
       "\\item 3.88527855369792\n",
       "\\item 3.65161208429059\n",
       "\\item 3.88527855369792\n",
       "\\item 4.06192899168548\n",
       "\\item 3.61359761291817\n",
       "\\item 3.65161208429059\n",
       "\\item 3.37993114351084\n",
       "\\item 3.37993114351084\n",
       "\\item 4.61415608615852\n",
       "\\item 2.96042245877337\n",
       "\\item 3.65161208429059\n",
       "\\item 3.65161208429059\n",
       "\\item 3.88527855369792\n",
       "\\item 4.00266545446668\n",
       "\\item 4.3084107703126\n",
       "\\item 4.24971731992822\n",
       "\\item 3.65161208429059\n",
       "\\item 3.9439720040823\n",
       "\\item 3.88527855369792\n",
       "\\item 3.41794561488326\n",
       "\\item 3.34191667213843\n",
       "\\item 3.65161208429059\n",
       "\\item 3.34191667213843\n",
       "\\item 4.00266545446668\n",
       "\\item 3.37993114351084\n",
       "\\item 3.23210339955312\n",
       "\\item 4.01605085052089\n",
       "\\item 3.41794561488326\n",
       "\\item 2.57892824540832\n",
       "\\item 3.41794561488326\n",
       "\\item 3.65161208429059\n",
       "\\item 3.61359761291817\n",
       "\\item 3.37993114351084\n",
       "\\item 3.65161208429059\n",
       "\\item 3.65161208429059\n",
       "\\item 3.88527855369792\n",
       "\\item 3.71030553467497\n",
       "\\item 4.00266545446668\n",
       "\\item 3.67229106330255\n",
       "\\item 4.00266545446668\n",
       "\\end{enumerate*}\n"
      ],
      "text/markdown": [
       "1. 2.96042245877337\n",
       "2. 3.88527855369792\n",
       "3. 4.00266545446668\n",
       "4. 3.88527855369792\n",
       "5. 3.34191667213843\n",
       "6. 3.34191667213843\n",
       "7. 3.9439720040823\n",
       "8. 3.23210339955312\n",
       "9. 2.89388081420433\n",
       "10. 4.3084107703126\n",
       "11. 3.37993114351084\n",
       "12. 3.34191667213843\n",
       "13. 4.00266545446668\n",
       "14. 4.3084107703126\n",
       "15. 3.71030553467497\n",
       "16. 3.61359761291817\n",
       "17. 3.34191667213843\n",
       "18. 3.65161208429059\n",
       "19. 2.96042245877337\n",
       "20. 3.9439720040823\n",
       "21. 3.71030553467497\n",
       "22. 3.9439720040823\n",
       "23. 3.65161208429059\n",
       "24. 4.3084107703126\n",
       "25. 3.65161208429059\n",
       "26. 3.41794561488326\n",
       "27. 3.61359761291817\n",
       "28. 3.65161208429059\n",
       "29. 3.88527855369792\n",
       "30. 4.35428891147719\n",
       "31. 3.37993114351084\n",
       "32. 4.00266545446668\n",
       "33. 3.65161208429059\n",
       "34. 3.88527855369792\n",
       "35. 2.96042245877337\n",
       "36. 3.41794561488326\n",
       "37. 4.00266545446668\n",
       "38. 3.41794561488326\n",
       "39. 3.41794561488326\n",
       "40. 4.24971731992822\n",
       "41. 3.71030553467497\n",
       "42. 3.88527855369792\n",
       "43. 3.65161208429059\n",
       "44. 3.41794561488326\n",
       "45. 4.24971731992822\n",
       "46. 3.37993114351084\n",
       "47. 3.65161208429059\n",
       "48. 4.3084107703126\n",
       "49. 4.01605085052089\n",
       "50. 3.67229106330255\n",
       "51. 3.37993114351084\n",
       "52. 3.61359761291817\n",
       "53. 3.71030553467497\n",
       "54. 3.88527855369792\n",
       "55. 4.3084107703126\n",
       "56. 3.65161208429059\n",
       "57. 4.61415608615852\n",
       "58. 4.3084107703126\n",
       "59. 3.34191667213843\n",
       "60. 3.61359761291817\n",
       "61. 3.88527855369792\n",
       "62. 3.65161208429059\n",
       "63. 3.88527855369792\n",
       "64. 4.06192899168548\n",
       "65. 3.61359761291817\n",
       "66. 3.65161208429059\n",
       "67. 3.37993114351084\n",
       "68. 3.37993114351084\n",
       "69. 4.61415608615852\n",
       "70. 2.96042245877337\n",
       "71. 3.65161208429059\n",
       "72. 3.65161208429059\n",
       "73. 3.88527855369792\n",
       "74. 4.00266545446668\n",
       "75. 4.3084107703126\n",
       "76. 4.24971731992822\n",
       "77. 3.65161208429059\n",
       "78. 3.9439720040823\n",
       "79. 3.88527855369792\n",
       "80. 3.41794561488326\n",
       "81. 3.34191667213843\n",
       "82. 3.65161208429059\n",
       "83. 3.34191667213843\n",
       "84. 4.00266545446668\n",
       "85. 3.37993114351084\n",
       "86. 3.23210339955312\n",
       "87. 4.01605085052089\n",
       "88. 3.41794561488326\n",
       "89. 2.57892824540832\n",
       "90. 3.41794561488326\n",
       "91. 3.65161208429059\n",
       "92. 3.61359761291817\n",
       "93. 3.37993114351084\n",
       "94. 3.65161208429059\n",
       "95. 3.65161208429059\n",
       "96. 3.88527855369792\n",
       "97. 3.71030553467497\n",
       "98. 4.00266545446668\n",
       "99. 3.67229106330255\n",
       "100. 4.00266545446668\n",
       "\n",
       "\n"
      ],
      "text/plain": [
       "  [1] 2.960422 3.885279 4.002665 3.885279 3.341917 3.341917 3.943972 3.232103\n",
       "  [9] 2.893881 4.308411 3.379931 3.341917 4.002665 4.308411 3.710306 3.613598\n",
       " [17] 3.341917 3.651612 2.960422 3.943972 3.710306 3.943972 3.651612 4.308411\n",
       " [25] 3.651612 3.417946 3.613598 3.651612 3.885279 4.354289 3.379931 4.002665\n",
       " [33] 3.651612 3.885279 2.960422 3.417946 4.002665 3.417946 3.417946 4.249717\n",
       " [41] 3.710306 3.885279 3.651612 3.417946 4.249717 3.379931 3.651612 4.308411\n",
       " [49] 4.016051 3.672291 3.379931 3.613598 3.710306 3.885279 4.308411 3.651612\n",
       " [57] 4.614156 4.308411 3.341917 3.613598 3.885279 3.651612 3.885279 4.061929\n",
       " [65] 3.613598 3.651612 3.379931 3.379931 4.614156 2.960422 3.651612 3.651612\n",
       " [73] 3.885279 4.002665 4.308411 4.249717 3.651612 3.943972 3.885279 3.417946\n",
       " [81] 3.341917 3.651612 3.341917 4.002665 3.379931 3.232103 4.016051 3.417946\n",
       " [89] 2.578928 3.417946 3.651612 3.613598 3.379931 3.651612 3.651612 3.885279\n",
       " [97] 3.710306 4.002665 3.672291 4.002665"
      ]
     },
     "metadata": {},
     "output_type": "display_data"
    }
   ],
   "source": [
    "sample_median = 1:k\n",
    "for(i in 1:k){\n",
    "  sample_median[i] = median(bootstrap_sample[,i])\n",
    "}\n",
    "sample_median"
   ]
  },
  {
   "cell_type": "markdown",
   "id": "1936c87d",
   "metadata": {},
   "source": [
    "We calculate the sample variance $S^2$ of $\\left\\{\\widehat{\\theta_1}, \\ldots, \\widehat{\\theta_k}\\right\\}$, i.e., $\\frac{1}{k-1} \\sum_{i=1}^k\\left(\\widehat{\\theta_t}-\\widehat{\\theta}\\right)^2$ and $\\operatorname{var}(\\hat{\\theta}) \\approx S^2$"
   ]
  },
  {
   "cell_type": "code",
   "execution_count": 8,
   "id": "2568ba48",
   "metadata": {},
   "outputs": [
    {
     "data": {
      "text/html": [
       "0.143919199901613"
      ],
      "text/latex": [
       "0.143919199901613"
      ],
      "text/markdown": [
       "0.143919199901613"
      ],
      "text/plain": [
       "[1] 0.1439192"
      ]
     },
     "metadata": {},
     "output_type": "display_data"
    }
   ],
   "source": [
    "var(sample_median)"
   ]
  },
  {
   "cell_type": "markdown",
   "id": "a3495b54",
   "metadata": {},
   "source": [
    "## Building bootstrap phylogenetic trees\n",
    "We build a distance phylogenetic tree using the DNA alignment in test.phy."
   ]
  },
  {
   "cell_type": "code",
   "execution_count": 9,
   "id": "1a644e1b",
   "metadata": {},
   "outputs": [
    {
     "name": "stderr",
     "output_type": "stream",
     "text": [
      "Loading required package: ape\n",
      "\n"
     ]
    },
    {
     "name": "stderr",
     "output_type": "stream",
     "text": [
      "Loading required package: Matrix\n",
      "\n"
     ]
    },
    {
     "name": "stderr",
     "output_type": "stream",
     "text": [
      "\n",
      "Attaching package: 'phybase'\n",
      "\n",
      "\n"
     ]
    },
    {
     "name": "stderr",
     "output_type": "stream",
     "text": [
      "The following objects are masked from 'package:ape':\n",
      "\n",
      "    dist.dna, node.height\n",
      "\n",
      "\n"
     ]
    },
    {
     "data": {
      "image/png": "[encoded data removed]",
      "text/plain": [
       "plot without title"
      ]
     },
     "metadata": {
      "filenames": {
       "image/png": "D:\\books\\jupyter_book\\binf8441\\_build\\jupyter_execute\\lab11_17_4.png"
      },
      "image/png": {
       "height": 420,
       "width": 420
      }
     },
     "output_type": "display_data"
    }
   ],
   "source": [
    "library(phybase)\n",
    "data = read.dna.seq(\"./data/lab15_primates.phy\",format=\"phylip\")\n",
    "seq = data$seq\n",
    "d = dist.dna(seq)\n",
    "rownames(d) = data$name\n",
    "plot(nj(d))"
   ]
  },
  {
   "cell_type": "markdown",
   "id": "0dc77222",
   "metadata": {},
   "source": [
    "We generate 100 nonparametric boostrap samples, i.e., resampling columns of the DNA alignment with replacement. Then, we build a tree for each bootstrap sample."
   ]
  },
  {
   "cell_type": "code",
   "execution_count": 10,
   "id": "3c0e8fca",
   "metadata": {},
   "outputs": [
    {
     "data": {
      "text/plain": [
       "100 phylogenetic trees"
      ]
     },
     "metadata": {},
     "output_type": "display_data"
    },
    {
     "data": {
      "image/png": "[encoded data removed]",
      "text/plain": [
       "plot without title"
      ]
     },
     "metadata": {
      "filenames": {
       "image/png": "D:\\books\\jupyter_book\\binf8441\\_build\\jupyter_execute\\lab11_19_1.png"
      },
      "image/png": {
       "height": 420,
       "width": 420
      }
     },
     "output_type": "display_data"
    },
    {
     "data": {
      "image/png": "[encoded data removed]",
      "text/plain": [
       "plot without title"
      ]
     },
     "metadata": {
      "filenames": {
       "image/png": "D:\\books\\jupyter_book\\binf8441\\_build\\jupyter_execute\\lab11_19_2.png"
      },
      "image/png": {
       "height": 420,
       "width": 420
      }
     },
     "output_type": "display_data"
    },
    {
     "data": {
      "image/png": "[encoded data removed]",
      "text/plain": [
       "plot without title"
      ]
     },
     "metadata": {
      "filenames": {
       "image/png": "D:\\books\\jupyter_book\\binf8441\\_build\\jupyter_execute\\lab11_19_3.png"
      },
      "image/png": {
       "height": 420,
       "width": 420
      }
     },
     "output_type": "display_data"
    },
    {
     "data": {
      "image/png": "[encoded data removed]",
      "text/plain": [
       "plot without title"
      ]
     },
     "metadata": {
      "filenames": {
       "image/png": "D:\\books\\jupyter_book\\binf8441\\_build\\jupyter_execute\\lab11_19_4.png"
      },
      "image/png": {
       "height": 420,
       "width": 420
      }
     },
     "output_type": "display_data"
    }
   ],
   "source": [
    "ncol = dim(seq)[2]\n",
    "nbootstrap = 100\n",
    "bootstrap_tree = rep(\"\",nbootstrap)\n",
    "\n",
    "for(i in 1:nbootstrap){\n",
    "  columns = sample(1:ncol,ncol,replace=T)\n",
    "  bootstrap_sample = seq[,columns]\n",
    "  d = dist.dna(bootstrap_sample)\n",
    "  rownames(d) = data$name\n",
    "  bootstrap_tree[i] = write.tree(nj(d))\n",
    "}\n",
    "\n",
    "trees = read.tree(text=bootstrap_tree)\n",
    "trees\n",
    "\n",
    "plot(trees[1])\n",
    "plot(trees[2])\n",
    "plot(trees[3])\n",
    "plot(trees[4])"
   ]
  }
 ],
 "metadata": {
  "jupytext": {
   "cell_metadata_filter": "-all",
   "formats": "md:myst",
   "text_representation": {
    "extension": ".md",
    "format_name": "myst",
    "format_version": 0.13,
    "jupytext_version": "1.11.5"
   }
  },
  "kernelspec": {
   "display_name": "R",
   "language": "R",
   "name": "ir"
  },
  "language_info": {
   "codemirror_mode": "r",
   "file_extension": ".r",
   "mimetype": "text/x-r-source",
   "name": "R",
   "pygments_lexer": "r",
   "version": "4.2.2"
  },
  "source_map": [
   14,
   21,
   25,
   29,
   32,
   35,
   41,
   44,
   50,
   54,
   56,
   61,
   66,
   69,
   75,
   79,
   81,
   87,
   94,
   97
  ]
 },
 "nbformat": 4,
 "nbformat_minor": 5
}