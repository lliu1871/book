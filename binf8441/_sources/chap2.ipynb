{
 "cells": [
  {
   "cell_type": "markdown",
   "id": "646cca6c",
   "metadata": {},
   "source": [
    "# Chapter 2: Discrete random variables\n",
    "\n",
    "```{epigraph}\n",
    "*\"Do the difficult things while they are easy and do the great things while they are small. A journey of a thousand miles must begin with a single step.\"*\n",
    "\n",
    "-- Lao Tzu\n",
    "```\n",
    "\n",
    "```{seealso}\n",
    "- [Discrete probability distribution](https://www.cuemath.com/data/discrete-probability-distribution/)\n",
    "```\n",
    "\n",
    "## Random variables\n",
    "````{prf:definition} random variable\n",
    ":nonumber:\n",
    ":label: random_variable\n",
    "\n",
    "A random variable $X: \\Omega\\rightarrow E$ is a measurable function from a set $\\Omega$ of outcomes to some set $E$ of numbers.\n",
    "````\n",
    "\n",
    "1. A random variable is a mapping from outcomes to numbers\n",
    "\n",
    "2. A random variable can take on different values, each with a probability.\n",
    "\n",
    "The probability distribution of a random variable $X$ is a list of all possible values of $X$ and corresponding probabilities.\n",
    "\n",
    "````\\{prf:example\\} 2.1\n",
    ":nonumber:\n",
    ":label: 2.1\n",
    "\n",
    "In an experiment of flipping a fair coin, there are two possible outcomes - head or tail. Define a random variable $X=0$ for head and $X=1$ for tail. Then, $P(X=0)=P(head)=0.5$ and $P(X=1)=P(tail)=0.5$. The probability distribution of $X$ is represented by the following table.\n",
    "\n",
    "| $x$ | 0 | 1 |\n",
    "| --- | --- | --- |\n",
    "| $p$ | 0.5| 0.5|\n",
    "|  |  |  |\n",
    "\n",
    "````\n",
    "\n",
    "## Discrete random variables\n",
    "The possible values of a discrete random variable $X$ are countable (often integers). Each value of $X$ has a probability measure $0 \\leq p \\leq 1$, and the total probability must be 1 .\n",
    "\n",
    "````{prf:definition} probability mass function\n",
    ":nonumber:\n",
    ":label: mass_function\n",
    "\n",
    "\n",
    "The probability mass function (PMF) of a discrete random variable $X$ is defined as $P(X=a)$.\n",
    "````\n",
    "\n",
    "````{prf:definition} cumulative distribution function\n",
    ":nonumber:\n",
    ":label: cumulative\n",
    "\n",
    "\n",
    "The cumulative distribution function (CDF) of a discrete random variable $X$ is defined as $P(X \\leq a)$.\n",
    "````\n",
    "\n",
    "````\\{prf:example\\} 2.2\n",
    ":nonumber:\n",
    ":label: 2.2\n",
    "\n",
    "\n",
    "The probability mass function of a discrete random variable $X$ is given in the following table.\n",
    "\n",
    "|  $x$ | 1    | 2    | 3    |\n",
    "| --- | --- | --- | --- |\n",
    "| $p(x)$ | 0.2  | 0.6  | 0.2  |\n",
    "|  |  |  |  |\n",
    "\n",
    "The cumulative probability function is given by\n",
    "\n",
    "$$\n",
    "F(a)=\\begin{equation}\n",
    "\\begin{cases}\n",
    "0 & \\text { if } a<1 \\\\\n",
    "0.2 & \\text { if } 1 \\leq a<2 \\\\\n",
    "0.8 & \\text { if } 2 \\leq a<3 \\\\\n",
    "1 & \\text { if } a \\geq 3\n",
    "\\end{cases}\n",
    "\\end{equation}\n",
    "$$\n",
    "````"
   ]
  },
  {
   "cell_type": "code",
   "execution_count": 1,
   "id": "54bf7119",
   "metadata": {},
   "outputs": [
    {
     "data": {
      "image/png": "[encoded data removed]",
      "text/plain": [
       "Plot with title \"cumulative distribution function\""
      ]
     },
     "metadata": {
      "filenames": {
       "image/png": "D:\\OneDrive\\Github\\Jupyter\\jupyter_book\\binf8441\\_build\\jupyter_execute\\chap2_1_0.png"
      },
      "image/png": {
       "height": 420,
       "width": 420
      }
     },
     "output_type": "display_data"
    }
   ],
   "source": [
    "par(mfrow=c(2,1))\n",
    "barplot(c(\"1\"=0.2,\"2\"=0.6,\"3\"=0.2),col=\"brown\",main=\"probability mass function\")\n",
    "plot(ecdf(c(rep(1,2),rep(2,6),rep(3,2))),col=\"brown\",main=\"cumulative distribution function\")"
   ]
  },
  {
   "cell_type": "markdown",
   "id": "9c0c5d47",
   "metadata": {},
   "source": [
    "## Expectations\n",
    "````{prf:definition} expectation\n",
    ":nonumber:\n",
    ":label: expectation\n",
    "\n",
    "For a discrete random variable $X$, the expectation of a function $g(X)$ of $X$ is defined as \n",
    "\n",
    "$$E(g(X))=\\sum_{x} g(x) P(x)$$\n",
    "````\n",
    "\n",
    "````\\{prf:example\\} 2.3\n",
    ":nonumber:\n",
    ":label: 2.3\n",
    "\n",
    "The probability mass function of a discrete random variable $X$ is given in the following table.\n",
    "\n",
    "|  $x$ | 1    | 2    | 3    |\n",
    "| --- | --- | --- | --- |\n",
    "| $p(x)$ | 0.2  | 0.6  | 0.2  |\n",
    "|  |  |  |  |\n",
    "\n",
    "$E(\\log (X))=\\sum_{x} \\log (x) P(x)=\\log (1) * 0.2+\\log (2) * 0.6+\\log (3) * 0.2=0.6356$\n",
    "````"
   ]
  },
  {
   "cell_type": "code",
   "execution_count": 2,
   "id": "fd7006c4",
   "metadata": {},
   "outputs": [
    {
     "name": "stdout",
     "output_type": "stream",
     "text": [
      "[1] \"the expectation is 0.635610766069589\"\n"
     ]
    }
   ],
   "source": [
    "x = 1:3\n",
    "p = c(0.2,0.6,0.2)\n",
    "result=sum(log(x)*p)\n",
    "print(paste(\"the expectation is\",result))"
   ]
  },
  {
   "cell_type": "markdown",
   "id": "566d770f",
   "metadata": {},
   "source": [
    "````{prf:definition} mean\n",
    ":nonumber:\n",
    ":label: mean\n",
    "\n",
    "For a discrete random variable $X$, the mean of $X$ is defined as \n",
    "\n",
    "$$E(X)=\\sum_{x} x P(x)$$\n",
    "````\n",
    "\n",
    "````\\{prf:example\\} 2.4\n",
    ":nonumber:\n",
    ":label: 2.4\n",
    "\n",
    "The probability mass function of a discrete random variable $X$ is given in the following table.\n",
    "\n",
    "|  $x$ | 1    | 2    | 3    |\n",
    "| --- | --- | --- | --- |\n",
    "| $p(x)$ | 0.2  | 0.6  | 0.2  |\n",
    "|  |  |  |  |\n",
    "\n",
    "$E(X)=\\sum_{x} x P(x)=1 * 0.2+2 * 0.6+3 * 0.2=2$\n",
    "````"
   ]
  },
  {
   "cell_type": "code",
   "execution_count": 3,
   "id": "4611cf13",
   "metadata": {},
   "outputs": [
    {
     "name": "stdout",
     "output_type": "stream",
     "text": [
      "[1] \"the mean is 2\"\n"
     ]
    }
   ],
   "source": [
    "x = 1:3\n",
    "p = c(0.2,0.6,0.2)\n",
    "result = sum(x*p)\n",
    "print(paste(\"the mean is\",result))"
   ]
  },
  {
   "cell_type": "markdown",
   "id": "3e307ed5",
   "metadata": {},
   "source": [
    "The mean $E(X)$ of a random variable $X$ represents the **center** of the population. The variance of the random variable $X$ is defined as the average squared distance between each point and the center of the population. The variance represents the **spread** of the population.\n",
    "\n",
    "````{prf:definition} variance\n",
    ":nonumber:\n",
    ":label: variance\n",
    "\n",
    "For a discrete random variable $X$, the variance of $X$ is defined as \n",
    "\n",
    "$$\\operatorname{var}(X)=\\left.E\\left\\{(X-E(X))^{2}\\right\\}\\right)=\\sum_{x}(x-E(X))^{2} P(x)$$\n",
    "````\n",
    "- $sd(X) = \\sqrt{var(X)}$\n",
    "\n",
    "````\\{prf:example\\} 2.5\n",
    ":nonumber:\n",
    ":label: 2.5\n",
    "\n",
    "The probability mass function of a discrete random variable $X$ is given in the following table.\n",
    "\n",
    "|  $x$ | 1    | 2    | 3    |\n",
    "| --- | --- | --- | --- |\n",
    "| $p(x)$ | 0.2  | 0.6  | 0.2  |\n",
    "|  |  |  |  |\n",
    "\n",
    "$\\operatorname{var}(X)=(1-2)^{2} * 0.2+(2-2)^{2} * 0.6+(3-2)^{2} * 0.2=0.4$\n",
    "````"
   ]
  },
  {
   "cell_type": "code",
   "execution_count": 4,
   "id": "9a12193d",
   "metadata": {},
   "outputs": [
    {
     "name": "stdout",
     "output_type": "stream",
     "text": [
      "[1] \"variance is 0.4\"\n"
     ]
    }
   ],
   "source": [
    "x = 1:3\n",
    "p = c(0.2,0.6,0.2)\n",
    "average = sum(x*p)\n",
    "variance = sum((x-average)^2*p)\n",
    "print(paste(\"variance is\",variance))"
   ]
  },
  {
   "cell_type": "markdown",
   "id": "f754caf7",
   "metadata": {},
   "source": [
    "````{prf:theorem}\n",
    ":nonumber:\n",
    "1. $E(a X+b)=a E(X)+b$\n",
    "2. $\\operatorname{var}(a X+b)=a^{2} var(X)$\n",
    "3. $\\operatorname{var}(X)=E\\left(X^{2}\\right)-(E(X))^{2}$\n",
    "\n",
    "Proof:\n",
    "\n",
    "$$\n",
    "\\begin{equation}\n",
    "\\begin{split}\n",
    "E(aX+b) &= \\sum_x(ax+b)P(x) \\\\\n",
    "&= \\sum_xaxP(x)+\\sum_xbP(x) \\\\\n",
    "&= a\\sum_xxP(x)+b\\sum_xP(x) \\\\\n",
    "&= aE(X)+b\n",
    "\\end{split}\n",
    "\\end{equation}\n",
    "$$\n",
    "\n",
    "$$\n",
    "\\begin{equation}\n",
    "\\begin{split}\n",
    "var(aX+b) &= E[(ax+b-(aE(x)+b))^2]\\\\\n",
    "& = E[a^2(x-E(x))^2]\\\\\n",
    "& = a^2E[(x-E(x))^2]\\\\\n",
    "& = a^2var(X)\n",
    "\\end{split}\n",
    "\\end{equation}\n",
    "$$\n",
    "\n",
    "$$\n",
    "\\begin{equation}\n",
    "\\begin{split}\n",
    "var(X) &= E[(x-E(x))^2] \\\\\n",
    "&= E(x^2-2xE(x)+(E(x))^2)\\\\\n",
    "&=E(x^2)-2E(x)E(x)+(E(x))^2\\\\\n",
    "&=E\\left(X^{2}\\right)-(E(X))^{2}\n",
    "\\end{split}\n",
    "\\end{equation}\n",
    "$$\n",
    "\n",
    "````\n",
    "\n",
    "````{prf:example} 2.6\n",
    ":nonumber:\n",
    ":label: 2.6\n",
    "\n",
    "|  $x$ | 1    | 2    | 3    |\n",
    "| --- | --- | --- | --- |\n",
    "| $p(x)$ | 0.2  | 0.6  | 0.2  |\n",
    "|  |  |  |  |\n",
    "\n",
    "Let $Y = 3X+6$. Find $E(Y)$, $var(Y)$, and $E(Y^2)$\n",
    "\n",
    "We know that $E(X) = 2$ and $var(X) = 0.4$. Thus, \n",
    "\n",
    "$$E(Y)=E(3X+6)=3E(X)+6 = 12$$\n",
    "and \n",
    "\n",
    "$$var(Y)=var(3X+6)=9var(X) = 3.6$$\n",
    "\n",
    "and \n",
    "\n",
    "$$E(Y^2)=var(Y)+\\left(E(X)\\right)^2=3.6+144=147.6$$\n",
    "````\n",
    "\n",
    "````{prf:definition} moment generating function\n",
    ":nonumber:\n",
    ":label: moment_generating_function\n",
    "\n",
    "\n",
    "Definition: For a discrete random variable $X$, the moment generating function of $X$ is defined as \n",
    "\n",
    "$$E\\left(e^{t X}\\right)=\\sum_{x} e^{t x} P(x)$$\n",
    "````\n",
    "\n",
    "````{prf:example} 2.7\n",
    ":nonumber:\n",
    ":label: 2.7\n",
    "\n",
    "|  $x$ | 1    | 2    | 3    |\n",
    "| --- | --- | --- | --- |\n",
    "| $p(x)$ | 0.2  | 0.6  | 0.2  |\n",
    "|  |  |  |  |\n",
    "\n",
    "The moment generating function is $M(t) = E\\left(e^{t X}\\right)=0.2 e^{t}+0.6 e^{2 t}+0.2 e^{3 t}$\n",
    "````\n",
    "\n",
    "````{prf:theorem} $E(X) = \\frac{\\partial M(t)}{\\partial t}|_{t=0}$\n",
    "$$\n",
    "\\begin{equation}\n",
    "\\begin{split}\n",
    "\\frac{\\partial M(t)}{\\partial t} &= \\frac{\\partial \\sum_{x} e^{t x} P(x)}{\\partial t} \\\\\n",
    "                                 &= \\sum_{x} \\frac{\\partial  e^{t x} }{\\partial t}P(x) \\\\\n",
    "                                 &= \\sum_{x} xe^{t x}P(x) \n",
    "\\end{split}\n",
    "\\end{equation}\n",
    "$$\n",
    "\n",
    "When $t=0$, $\\sum_{x} xe^{t x}P(x) = \\sum_{x} xP(x) = E(X)$. Thus, $E(X) = \\frac{\\partial M(t)}{\\partial t}|_{t=0}$.\n",
    "````\n",
    "\n",
    "The $r^{th}$ moment of a discrete probability distribution is defined as $E\\left(X^{r}\\right)=\\sum_{x} x^{r} P(x)$. Note that the first moment is $E(X)$. It can be shown that $E(X^r)=\\frac{\\partial^r M(t)}{\\partial t^r}|_{t=0}$\n",
    "\n",
    "\n",
    "````{prf:example} 2.8\n",
    ":nonumber:\n",
    ":label: 2.8\n",
    "\n",
    "|  $x$ | 1    | 2    | 3    |\n",
    "| --- | --- | --- | --- |\n",
    "| $p(x)$ | 0.2  | 0.6  | 0.2  |\n",
    "|  |  |  |  |\n",
    "\n",
    "$$\n",
    "\\begin{equation}\n",
    "\\begin{split}\n",
    "E(X) &= \\frac{\\partial M(t)}{\\partial t}|_{t=0}\\\\\n",
    "& = (0.2 e^{t}+0.6 e^{2 t}+0.2 e^{3 t})'|_{t=0} \\\\\n",
    "& = (0.2 e^{t}+0.6*2e^{2 t}+0.2*3e^{3 t})|_{t=0} \\\\\n",
    "& = 0.2+1.2+0.6 = 2 \n",
    "\\end{split}\n",
    "\\end{equation}\n",
    "$$\n",
    "\n",
    "````\n",
    "\n",
    "````{prf:definition} probability generating function\n",
    ":nonumber:\n",
    ":label: prob_gen_function\n",
    "\n",
    "\n",
    "For a discrete random variable, the probability generating function is defined as \n",
    "\n",
    "$$E\\left(t^{X}\\right)=\\sum_{x} t^{x} P(x)$$\n",
    "````\n",
    "\n",
    "````{prf:example} 2.9\n",
    ":nonumber:\n",
    ":label: 2.9\n",
    "\n",
    "|  $x$ | 1    | 2    | 3    |\n",
    "| --- | --- | --- | --- |\n",
    "| $p(x)$ | 0.2  | 0.6  | 0.2  |\n",
    "|  |  |  |  |\n",
    "\n",
    "The probability generating function is $E\\left(t^{X}\\right)=0.2t+0.6t^2+0.2t^3$\n",
    "````\n",
    "\n",
    "## Discrete probability distributions\n",
    "### Bernoulli random variable \n",
    "The random variable $X$ denotes a random event with only two possible outcomes. For example, flipping a coin one time, we may have a head or a tail. The outcome of an exam could be a success or a failure. \n",
    "- The probablity mass function is given by $P(X=x)=p^{x}(1-p)^{1-x}$, for $x=0,1$. \n",
    "- The expectation of $X$ is $E(X)=p$\n",
    "- The variance is $\\operatorname{var}(X)=p(1-p)$"
   ]
  },
  {
   "cell_type": "code",
   "execution_count": 5,
   "id": "e3dff38b",
   "metadata": {},
   "outputs": [
    {
     "data": {
      "image/png": "[encoded data removed]",
      "text/plain": [
       "Plot with title \"Bernoulli cumulative distribution function\""
      ]
     },
     "metadata": {
      "filenames": {
       "image/png": "D:\\OneDrive\\Github\\Jupyter\\jupyter_book\\binf8441\\_build\\jupyter_execute\\chap2_9_0.png"
      },
      "image/png": {
       "height": 420,
       "width": 420
      }
     },
     "output_type": "display_data"
    }
   ],
   "source": [
    "par(mfrow=c(2,1))\n",
    "barplot(c(\"0\"=0.5,\"1\"=0.5),col=\"brown\",main=\"Bernoulli probability mass function\")\n",
    "plot(ecdf(c(0,1)),col=\"brown\",main=\"Bernoulli cumulative distribution function\")"
   ]
  },
  {
   "cell_type": "markdown",
   "id": "dc09873f",
   "metadata": {},
   "source": [
    "````{prf:example} 2.10\n",
    ":nonumber:\n",
    ":label: 2.01\n",
    "\n",
    "The proportions of A, C, G, T in a genome are 25%, 25%, 25%, 25%, respectively. We randomly select two nucleotides. Let $X$ be the count of A. Find the probability distribution of $X$.\n",
    "\n",
    "Let $X_1$ denote the outcome of the first selection and $X_2$ be the outcome of the second selection. Both $X_1$ and $X_2$ are Bernoulli random variables with $p=0.25$. Let \"A=1\" and \"not A = 0\". Then, $X = X_1 + X_2$.\n",
    "\n",
    "To find the probability distribution of $X$, we first figure out the possible values that $X$ may take and then find the corresponding probabilities. It is trivial that $X = 0, 1, 2$. Next, we find the corresponding probabilies,\n",
    "\n",
    "$P(X=0) = P(X_1=0 \\text{ and } X_2=0) = P(X_1=0)P(X_2=0) = 0.75^2=0.5625$\n",
    "\n",
    "$$\n",
    "\\begin{equation}\n",
    "\\begin{split}\n",
    "P(X=1) &= P(X_1=0\\text{ and } X_2=1) + P(X_1=1\\text{ and } X_2=0) \\\\\n",
    "& = P(X_1=0)P(X_2=1) + P(X_1=1)P(X_2=0) \\\\\n",
    "& = 0.25*0.75+0.75*0.25=0.375\n",
    "\\end{split}\n",
    "\\end{equation}\n",
    "$$\n",
    "\n",
    "$P(X=2) = P(X_1=1\\text{ and } X_2=1) = 0.25^2=0.0625$\n",
    "\n",
    "Thus, the probability distribution of $X$ is given in the table\n",
    "\n",
    "|  $x$ | 0    | 1    | 2    |\n",
    "| --- | --- | --- | --- |\n",
    "| $p(x)$ | 0.5625  | 0.375  | 0.0625  |\n",
    "|  |  |  |  |\n",
    "\n",
    "````\n",
    "\n",
    "### Binomial random variable\n",
    "The Binomial random variable $X$ denotes the number of successes in $n$ trials where each trial may have two possible outcomes - success or failure. For example, the number of heads when flipping a coin $n$ times.\n",
    "- The probability mass function is $P(X=x)=\\left(\\begin{array}{l}\n",
    "n \\\\x \\end{array}\\right) p^{x}(1-p)^{n-x}$ for $x=0,1, \\ldots, n$.\n",
    "- The expectation is $E(X)=np$ \n",
    "- The variance is $\\operatorname{var}(X)=np(1-p)$."
   ]
  },
  {
   "cell_type": "code",
   "execution_count": 6,
   "id": "303b51e9",
   "metadata": {},
   "outputs": [
    {
     "data": {
      "image/png": "[encoded data removed]",
      "text/plain": [
       "Plot with title \"Binomial cumulative distribution function\""
      ]
     },
     "metadata": {
      "filenames": {
       "image/png": "D:\\OneDrive\\Github\\Jupyter\\jupyter_book\\binf8441\\_build\\jupyter_execute\\chap2_11_0.png"
      },
      "image/png": {
       "height": 420,
       "width": 420
      }
     },
     "output_type": "display_data"
    }
   ],
   "source": [
    "par(mfrow=c(2,1))\n",
    "p = dbinom(0:5,5,0.5)\n",
    "names(p) = 0:5\n",
    "barplot(p,col=\"brown\",main=\"Binomial probability mass function\")\n",
    "plot(ecdf(sample(0:5,size=10000,replace=TRUE, prob=p)),col=\"brown\",main=\"Binomial cumulative distribution function\")"
   ]
  },
  {
   "cell_type": "markdown",
   "id": "6f6e5abb",
   "metadata": {},
   "source": [
    "````{prf:example} 2.11\n",
    ":nonumber:\n",
    ":label: 2.11\n",
    "\n",
    "The length of a genome is 1 million base pairs with 26% A, 24% C, 25% G, and 25% T. What is the probability that there is a segment in the genome that exactly matches the short read of 5 nucleotides ACCTT? What is the expected number of such segments in the genome?\n",
    "\n",
    "The probability is $P(ACCTT)=P(A)P(C)P(C)P(T)P(T)=0.26*0.24*0.24*0.25*0.25=0.000936$. Thus, the expected number of ACCTT is $10^6*0.000936=936$.\n",
    "````\n",
    "### Geometric random variable\n",
    "The random variable $X$ denotes the number of failures before observing the first success\n",
    "- The probability mass function is $P(X=x)=p(1-p)^{x}$, for $x=0,1,2, \\ldots$. \n",
    "- The expectation is $E(X)=\\frac{1-p}{p}$\n",
    "- The variance is $\\operatorname{var}(X)=\\frac{1-p}{p^{2}}$"
   ]
  },
  {
   "cell_type": "code",
   "execution_count": 7,
   "id": "d2f6b21a",
   "metadata": {},
   "outputs": [
    {
     "data": {
      "image/png": "[encoded data removed]",
      "text/plain": [
       "Plot with title \"Geometric cumulative distribution function\""
      ]
     },
     "metadata": {
      "filenames": {
       "image/png": "D:\\OneDrive\\Github\\Jupyter\\jupyter_book\\binf8441\\_build\\jupyter_execute\\chap2_13_0.png"
      },
      "image/png": {
       "height": 420,
       "width": 420
      }
     },
     "output_type": "display_data"
    }
   ],
   "source": [
    "par(mfrow=c(2,1))\n",
    "p = dgeom(0:10,0.2)\n",
    "names(p) = 0:10\n",
    "barplot(p,col=\"brown\",main=\"Geometric probability mass function\")\n",
    "plot(ecdf(sample(0:10,size=10000,replace=TRUE, prob=p)),col=\"brown\",main=\"Geometric cumulative distribution function\")"
   ]
  },
  {
   "cell_type": "markdown",
   "id": "5bd671b7",
   "metadata": {},
   "source": [
    "````{prf:example} 2.12\n",
    ":nonumber:\n",
    ":label: 2.12\n",
    "\n",
    "The length of a genome is 1 million base pairs with 26% A, 24% C, 25% G, and 25% T. We are scanning nucleotides from the left end to the right end of the genome. Let $X$ be the number of nucleotides until observing the first $A$. What is the probability $P(X=2)$? Find $E(X)$.\n",
    "\n",
    "$X$ is a geometric random variable with the PMF $p(1-p)^{x}$ where $p=0.26$. Thus, $P(X=2)=0.26*(1-0.26)^2=0.142376$. The expectation $E(X) = \\frac{1-p}{p}=\\frac{1-0.26}{0.26} = 2.846154$\n",
    "````\n",
    "### Negative binomial random variable\n",
    "The random variable $X$ denotes the number of failures before observing the $r^{th}$ success. Let $p$ be the probability of a success and $r$ is the predefined number of successes. \n",
    "- The probability mass function is $P(X=x)=\\left(\\begin{array}{c}x+r-1 \\\\ x\\end{array}\\right)p^{r}(1-p)^{x}$, \n",
    "- $E(X)=\\frac{r(1-p)}{p}$\n",
    "- $\\operatorname{var}(X)=\\frac{r(1-p)}{p^{2}}$"
   ]
  },
  {
   "cell_type": "code",
   "execution_count": 8,
   "id": "d58531e0",
   "metadata": {},
   "outputs": [
    {
     "data": {
      "image/png": "[encoded data removed]",
      "text/plain": [
       "Plot with title \"Negative binomial cumulative distribution function\""
      ]
     },
     "metadata": {
      "filenames": {
       "image/png": "D:\\OneDrive\\Github\\Jupyter\\jupyter_book\\binf8441\\_build\\jupyter_execute\\chap2_15_0.png"
      },
      "image/png": {
       "height": 420,
       "width": 420
      }
     },
     "output_type": "display_data"
    }
   ],
   "source": [
    "par(mfrow=c(2,1))\n",
    "p = dnbinom(0:25,5,0.5)\n",
    "names(p) = 0:25\n",
    "barplot(p,col=\"brown\",main=\"Negative binomial probability mass function\")\n",
    "plot(ecdf(sample(0:25,size=10000,replace=TRUE, prob=p)),col=\"brown\",main=\"Negative binomial cumulative distribution function\")"
   ]
  },
  {
   "cell_type": "markdown",
   "id": "366f5bdf",
   "metadata": {},
   "source": [
    "````{prf:example} 2.13\n",
    ":nonumber:\n",
    ":label: 2.13\n",
    "\n",
    "Suppose $X$ is a negative bionomial random variable with $p=0.4$ and $r=2$. Find $E(X^2)$\n",
    "\n",
    "We first find $E(X) = \\frac{r(1-p)}{p} = \\frac{2*0.6}{0.4}=3$ and $var(x)=\\frac{r(1-p)}{p^2}=\\frac{2*0.6}{0.4^2}=7.5$. Thus, $E(X^2) = var(X) + (E(X))^2 = 7.5+3^2=16.5$.\n",
    "\n",
    "````\n",
    "\n",
    "### Discrete uniform random variable\n",
    "\n",
    "- $P(X=x)=\\frac{1}{n}$, for $x=a 1, a 2, \\ldots$, an\n",
    "- $E(X)=\\sum a_{i} * \\frac{1}{n}=\\frac{1}{n} \\sum a_{i}$ \n",
    "- $\\operatorname{var}(X)=\\sum\\left(a_{i}-\\bar{a}\\right)^{2} * \\frac{1}{n}$"
   ]
  },
  {
   "cell_type": "code",
   "execution_count": 9,
   "id": "e773fab6",
   "metadata": {},
   "outputs": [
    {
     "data": {
      "image/png": "[encoded data removed]",
      "text/plain": [
       "Plot with title \"Discrete uniform cumulative distribution function\""
      ]
     },
     "metadata": {
      "filenames": {
       "image/png": "D:\\OneDrive\\Github\\Jupyter\\jupyter_book\\binf8441\\_build\\jupyter_execute\\chap2_17_0.png"
      },
      "image/png": {
       "height": 420,
       "width": 420
      }
     },
     "output_type": "display_data"
    }
   ],
   "source": [
    "par(mfrow=c(2,1))\n",
    "p = rep(1/4,4)\n",
    "names(p) = 1:4\n",
    "barplot(p,col=\"brown\",main=\"Discrete uniform probability mass function\")\n",
    "plot(ecdf(1:4),col=\"brown\",main=\"Discrete uniform cumulative distribution function\")"
   ]
  },
  {
   "cell_type": "markdown",
   "id": "096f54ea",
   "metadata": {},
   "source": [
    "### Poisson random variable\n",
    "The random variable $X$ denotes the number of random events during a fixed period of time.\n",
    "- $P(X=x)=e^{-\\lambda} \\lambda^{x} / x !$, for $x=0,1, \\ldots$\n",
    "- $E(X)=\\lambda$\n",
    "- $\\operatorname{var}(X)=\\lambda$"
   ]
  },
  {
   "cell_type": "code",
   "execution_count": 10,
   "id": "606efffc",
   "metadata": {},
   "outputs": [
    {
     "data": {
      "image/png": "[encoded data removed]",
      "text/plain": [
       "Plot with title \"Poisson cumulative distribution function\""
      ]
     },
     "metadata": {
      "filenames": {
       "image/png": "D:\\OneDrive\\Github\\Jupyter\\jupyter_book\\binf8441\\_build\\jupyter_execute\\chap2_19_0.png"
      },
      "image/png": {
       "height": 420,
       "width": 420
      }
     },
     "output_type": "display_data"
    }
   ],
   "source": [
    "par(mfrow=c(2,1))\n",
    "p = dpois(0:10, 0.5)\n",
    "names(p) = 0:10\n",
    "barplot(p,col=\"brown\",main=\"Poisson probability mass function\")\n",
    "plot(ecdf(sample(0:10,size=10000,replace=TRUE, prob=p)),col=\"brown\",main=\"Poisson cumulative distribution function\")"
   ]
  },
  {
   "cell_type": "markdown",
   "id": "0443f590",
   "metadata": {},
   "source": [
    "````{prf:example} 2.14\n",
    ":nonumber:\n",
    ":label: 2.14\n",
    "\n",
    "The length of a genome is 1 million base pairs with 26% A, 24% C, 25% G, and 25% T. Let $X$ be the number of segments in the genome that exactly matches the short read of 5 nucleotides ACCTT. Find the probability distribution of $X$.\n",
    "\n",
    "We have found the probability of a segment ACCTT, $P(ACCTT)=0.000936$, and $E(X) = 10^6*0.000936 = 936$. Here, $X$ is the number of random events (the segment ACCTT) in a genome. Thus, $X$ is a Poisson random variable with $\\lambda = E(X) = 936$.\n",
    "\n",
    "````\n",
    "\n",
    "## Transformation\n",
    "\n",
    "````\\{prf:example\\} 2.15\n",
    ":nonumber:\n",
    ":label: 2.15\n",
    "\n",
    "The probability mass function of a discrete random variable $X$ is given in the following table.\n",
    "\n",
    "|  $x$ | 1    | 2    | 3    |\n",
    "| --- | --- | --- | --- |\n",
    "| $p(x)$ | 0.2  | 0.6  | 0.2  |\n",
    "|  |  |  |  |\n",
    "\n",
    "What is the probability distribution of $X^{2}$ ?\n",
    "\n",
    "|  $x$ | 1    | 4    | 9    |\n",
    "| --- | --- | --- | --- |\n",
    "| $p(x)$ | 0.2  | 0.6  | 0.2  |\n",
    "|  |  |  |  |\n",
    "````\n",
    "\n",
    "````\\{prf:example\\} 2.16\n",
    ":nonumber:\n",
    ":label: 2.16\n",
    "\n",
    "\n",
    "The probability mass function of a discrete random variable $X$ is given in the following table\n",
    "\n",
    "|  $x$ | -1    | 0    | 1    |\n",
    "| --- | --- | --- | --- |\n",
    "| $p(x)$ | 0.4  | 0.2  | 0.4  |\n",
    "|  |  |  |  |\n",
    "\n",
    "What is the probability distribution of $X^{2}$ ?\n",
    "|  $x$ | 0    | 1    |\n",
    "| --- | --- | --- |\n",
    "| $p(x)$ | 0.2  | 0.8  |\n",
    "|  |  |  |\n",
    "````"
   ]
  }
 ],
 "metadata": {
  "jupytext": {
   "cell_metadata_filter": "-all",
   "formats": "md:myst",
   "text_representation": {
    "extension": ".md",
    "format_name": "myst",
    "format_version": 0.13,
    "jupytext_version": "1.11.5"
   }
  },
  "kernelspec": {
   "display_name": "R",
   "language": "R",
   "name": "ir"
  },
  "language_info": {
   "codemirror_mode": "r",
   "file_extension": ".r",
   "mimetype": "text/x-r-source",
   "name": "R",
   "pygments_lexer": "r",
   "version": "4.2.2"
  },
  "source_map": [
   14,
   100,
   104,
   130,
   135,
   160,
   165,
   191,
   197,
   355,
   359,
   401,
   407,
   424,
   430,
   445,
   451,
   469,
   475,
   483,
   489
  ]
 },
 "nbformat": 4,
 "nbformat_minor": 5
}