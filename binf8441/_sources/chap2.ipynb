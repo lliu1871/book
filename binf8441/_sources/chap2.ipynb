{
 "cells": [
  {
   "cell_type": "markdown",
   "id": "dc0a3367",
   "metadata": {},
   "source": [
    "# Chapter 2: Discrete random variables\n",
    "\n",
    "```{epigraph}\n",
    "*\"Do the difficult things while they are easy and do the great things while they are small. A journey of a thousand miles must begin with a single step.\"*\n",
    "\n",
    "-- Lao Tzu\n",
    "```\n",
    "\n",
    "```{seealso}\n",
    "- [Discrete probability distribution](https://www.cuemath.com/data/discrete-probability-distribution/)\n",
    "```\n",
    "\n",
    "## Random variables\n",
    "````{prf:definition} random variable\n",
    ":nonumber:\n",
    ":label: random_variable\n",
    "\n",
    "\n",
    "A random variable $X: \\Omega\\rightarrow E$ is a measurable function from the set of possible outcomes $\\Omega$ to some set $E$.\n",
    "````\n",
    "\n",
    "1. A random variable is a mapping from outcomes to real numbers\n",
    "\n",
    "2. A random variable can take on different values, each with an associated probability.\n",
    "\n",
    "The probability distribution of the random variable $x$ is a list of all possible values of $x$ and corresponding probabilities.\n",
    "\n",
    "````\\{prf:example\\} 2.1\n",
    ":nonumber:\n",
    ":label: 2.1\n",
    "\n",
    "\n",
    "In an experiment of flipping a fair coin, there are two possible outcomes - head or tail. Define a random variable $X=0$ for head and $X=1$ for tail. Then, $P(X=0)=P(head)=0.5$ and $P(X=1)=P(tail)=0.5$. The probability distribution of $X$ is represented by the following table.\n",
    "\n",
    "| $x$ | 0 | 1 |\n",
    "| --- | --- | --- |\n",
    "| $p$ | 0.5| 0.5|\n",
    "|  |  |  |\n",
    "\n",
    "````\n",
    "\n",
    "## Discrete random variables\n",
    "The possible values of a discrete random variable $X$ are countable (often integers). Each value of $X$ has a probability measure $0 \\leq p \\leq 1$, and the total probability must be 1 .\n",
    "\n",
    "````{prf:definition} probability mass function\n",
    ":nonumber:\n",
    ":label: mass_function\n",
    "\n",
    "\n",
    "The probability mass function (PMF) of a discrete random variable $X$ is defined as $P(X=a)$.\n",
    "````\n",
    "\n",
    "````{prf:definition} cumulative distribution function\n",
    ":nonumber:\n",
    ":label: cumulative\n",
    "\n",
    "\n",
    "The cumulative distribution function (CDF) of a discrete random variable $X$ is defined as $P(X \\leq a)$.\n",
    "````\n",
    "\n",
    "````\\{prf:example\\} 2.2\n",
    ":nonumber:\n",
    ":label: 2.2\n",
    "\n",
    "\n",
    "The probability mass function of a discrete random variable $X$ is given in the following table.\n",
    "\n",
    "|  $x$ | 1    | 2    | 3    |\n",
    "| --- | --- | --- | --- |\n",
    "| $p(x)$ | 0.2  | 0.6  | 0.2  |\n",
    "|  |  |  |  |\n",
    "\n",
    "The cumulative probability function is given by\n",
    "\n",
    "$$\n",
    "F(a)=\\begin{equation}\n",
    "\\begin{cases}\n",
    "0 & \\text { if } a<1 \\\\\n",
    "0.2 & \\text { if } 1 \\leq a<2 \\\\\n",
    "0.8 & \\text { if } 2 \\leq a<3 \\\\\n",
    "1 & \\text { if } a \\geq 3\n",
    "\\end{cases}\n",
    "\\end{equation}\n",
    "$$\n",
    "````"
   ]
  },
  {
   "cell_type": "code",
   "execution_count": 1,
   "id": "76120629",
   "metadata": {},
   "outputs": [
    {
     "data": {
      "image/png": "[encoded data removed]",
      "text/plain": [
       "Plot with title \"cumulative distribution function\""
      ]
     },
     "metadata": {
      "filenames": {
       "image/png": "D:\\OneDrive\\Github\\Jupyter\\jupyter_book\\binf8441\\_build\\jupyter_execute\\chap2_1_0.png"
      },
      "image/png": {
       "height": 420,
       "width": 420
      }
     },
     "output_type": "display_data"
    }
   ],
   "source": [
    "par(mfrow=c(2,1))\n",
    "barplot(c(\"1\"=0.2,\"2\"=0.6,\"3\"=0.2),col=\"brown\",main=\"probability mass function\")\n",
    "plot(ecdf(c(rep(1,2),rep(2,6),rep(3,2))),col=\"brown\",main=\"cumulative distribution function\")"
   ]
  },
  {
   "cell_type": "markdown",
   "id": "fab7d0b3",
   "metadata": {},
   "source": [
    "## Expectations\n",
    "````{prf:definition} expectation\n",
    ":nonumber:\n",
    ":label: expectation\n",
    "\n",
    "For a discrete random variable $X$, the expectation of a function $g(X)$ of $X$ is defined as \n",
    "\n",
    "$$E(g(X))=\\sum_{x} g(x) P(x)$$\n",
    "````\n",
    "\n",
    "````\\{prf:example\\} 2.3\n",
    ":nonumber:\n",
    ":label: 2.3\n",
    "\n",
    "The probability mass function of a discrete random variable $X$ is given in the following table.\n",
    "\n",
    "|  $x$ | 1    | 2    | 3    |\n",
    "| --- | --- | --- | --- |\n",
    "| $p(x)$ | 0.2  | 0.6  | 0.2  |\n",
    "|  |  |  |  |\n",
    "\n",
    "$E(\\log (X))=\\sum_{x} \\log (x) P(x)=\\log (1) * 0.2+\\log (2) * 0.6+\\log (3) * 0.2=0.6356$\n",
    "````"
   ]
  },
  {
   "cell_type": "code",
   "execution_count": 2,
   "id": "8c530269",
   "metadata": {},
   "outputs": [
    {
     "name": "stdout",
     "output_type": "stream",
     "text": [
      "[1] \"the expectation is 0.635610766069589\"\n"
     ]
    }
   ],
   "source": [
    "x = 1:3\n",
    "p = c(0.2,0.6,0.2)\n",
    "result=sum(log(x)*p)\n",
    "print(paste(\"the expectation is\",result))"
   ]
  },
  {
   "cell_type": "markdown",
   "id": "019d2e16",
   "metadata": {},
   "source": [
    "````{prf:definition} mean\n",
    ":nonumber:\n",
    ":label: mean\n",
    "\n",
    "For a discrete random variable $X$, the mean of $X$ is defined as \n",
    "\n",
    "$$E(X)=\\sum_{x} x P(x)$$\n",
    "````\n",
    "\n",
    "````\\{prf:example\\} 2.4\n",
    ":nonumber:\n",
    ":label: 2.4\n",
    "\n",
    "The probability mass function of a discrete random variable $X$ is given in the following table.\n",
    "\n",
    "|  $x$ | 1    | 2    | 3    |\n",
    "| --- | --- | --- | --- |\n",
    "| $p(x)$ | 0.2  | 0.6  | 0.2  |\n",
    "|  |  |  |  |\n",
    "\n",
    "$E(X)=\\sum_{x} x P(x)=1 * 0.2+2 * 0.6+3 * 0.2=2$\n",
    "````"
   ]
  },
  {
   "cell_type": "code",
   "execution_count": 3,
   "id": "a9221cfb",
   "metadata": {},
   "outputs": [
    {
     "name": "stdout",
     "output_type": "stream",
     "text": [
      "[1] \"the mean is 2\"\n"
     ]
    }
   ],
   "source": [
    "x = 1:3\n",
    "p = c(0.2,0.6,0.2)\n",
    "result = sum(x*p)\n",
    "print(paste(\"the mean is\",result))"
   ]
  },
  {
   "cell_type": "markdown",
   "id": "2cea40fd",
   "metadata": {},
   "source": [
    "````{prf:definition} variance\n",
    ":nonumber:\n",
    ":label: variance\n",
    "\n",
    "For a discrete random variable $X$, the variance of $X$ is defined as \n",
    "\n",
    "$$\\operatorname{var}(X)=\\left.E\\left\\{(X-E(X))^{2}\\right\\}\\right)=\\sum_{x}(x-E(X))^{2} P(x)$$\n",
    "````\n",
    "\n",
    "````\\{prf:example\\} 2.5\n",
    ":nonumber:\n",
    ":label: 2.5\n",
    "\n",
    "The probability mass function of a discrete random variable $X$ is given in the following table.\n",
    "\n",
    "|  $x$ | 1    | 2    | 3    |\n",
    "| --- | --- | --- | --- |\n",
    "| $p(x)$ | 0.2  | 0.6  | 0.2  |\n",
    "|  |  |  |  |\n",
    "\n",
    "$\\operatorname{var}(x)=(1-2)^{2} * 0.2+(2-2)^{2} * 0.6+(3-2)^{2} * 0.2=0.4$\n",
    "````"
   ]
  },
  {
   "cell_type": "code",
   "execution_count": 4,
   "id": "faedcf22",
   "metadata": {},
   "outputs": [
    {
     "name": "stdout",
     "output_type": "stream",
     "text": [
      "[1] \"variance is 0.4\"\n"
     ]
    }
   ],
   "source": [
    "x = 1:3\n",
    "p = c(0.2,0.6,0.2)\n",
    "average = sum(x*p)\n",
    "variance = sum((x-average)^2*p)\n",
    "print(paste(\"variance is\",variance))"
   ]
  },
  {
   "cell_type": "markdown",
   "id": "770465c6",
   "metadata": {},
   "source": [
    "1. $E(a X+b)=a E(X)+b$\n",
    "2. $\\operatorname{var}(a X+b)=a^{2} E(X)$\n",
    "3. $\\operatorname{var}(X)=E\\left(X^{2}\\right)-(E(X))^{2}$\n",
    "\n",
    "````{prf:definition} moment generating function\n",
    ":nonumber:\n",
    ":label: moment_generating_function\n",
    "\n",
    "\n",
    "Definition: For a discrete random variable $X$, the moment generating function of $X$ is defined as \n",
    "\n",
    "$$E\\left(e^{t X}\\right)=\\sum_{x} e^{t x} P(x)$$\n",
    "````\n",
    "\n",
    "````\\{prf:example\\} 2.6\n",
    ":nonumber:\n",
    ":label: 2.6\n",
    "\n",
    "The moment generating function is $M(t) = E\\left(e^{t X}\\right)=0.2 e^{t}+0.6 e^{2 t}+0.2 e^{3 t}$\n",
    "````\n",
    "\n",
    "````{prf:theorem} $E(X) = \\frac{\\partial M(t)}{\\partial t}|_{t=0}$\n",
    "$$\n",
    "\\begin{equation}\n",
    "\\begin{split}\n",
    "\\frac{\\partial M(t)}{\\partial t} &= \\frac{\\partial \\sum_{x} e^{t x} P(x)}{\\partial t} \\\\\n",
    "                                 &= \\sum_{x} \\frac{\\partial  e^{t x} }{\\partial t}P(x) \\\\\n",
    "                                 &= \\sum_{x} xe^{t x}P(x) \n",
    "\\end{split}\n",
    "\\end{equation}\n",
    "$$\n",
    "\n",
    "When $t=0$, $\\sum_{x} xe^{t x}P(x) = \\sum_{x} xP(x) = E(X)$. Thus, $E(X) = \\frac{\\partial M(t)}{\\partial t}|_{t=0}$.\n",
    "````\n",
    "\n",
    "The $r^{th}$ moment of a discrete probability distribution is defined as $E\\left(X^{r}\\right)=$ $\\sum_{x} x^{r} P(x)$. Note that the first moment is $E(X)$.\n",
    "\n",
    "````{prf:definition} probability generating function\n",
    ":nonumber:\n",
    ":label: prob_gen_function\n",
    "\n",
    "\n",
    "For a discrete random variable, the probability generating function is defined as \n",
    "\n",
    "$$E\\left(t^{X}\\right)=\\sum_{x} t^{x} P(x)$$\n",
    "````\n",
    "\n",
    "## Discrete probability distributions\n",
    "### Bernoulli random variable \n",
    "The random variable $X$ denotes the outcome of flipping a coin one time\n",
    "- The probablity mass function is given by $P(X=x)=p^{x}(1-p)^{1-x}$, for $x=0,1$. \n",
    "- The expectation of $X$ is $E(X)=p$\n",
    "- The variance is $\\operatorname{var}(X)=p(1-p)$"
   ]
  },
  {
   "cell_type": "code",
   "execution_count": 5,
   "id": "120b11b6",
   "metadata": {},
   "outputs": [
    {
     "data": {
      "image/png": "[encoded data removed]",
      "text/plain": [
       "Plot with title \"cumulative distribution function\""
      ]
     },
     "metadata": {
      "filenames": {
       "image/png": "D:\\OneDrive\\Github\\Jupyter\\jupyter_book\\binf8441\\_build\\jupyter_execute\\chap2_9_0.png"
      },
      "image/png": {
       "height": 420,
       "width": 420
      }
     },
     "output_type": "display_data"
    }
   ],
   "source": [
    "par(mfrow=c(2,1))\n",
    "barplot(c(\"0\"=0.5,\"1\"=0.5),col=\"brown\",main=\"probability mass function\")\n",
    "plot(ecdf(c(0,1)),col=\"brown\",main=\"cumulative distribution function\")"
   ]
  },
  {
   "cell_type": "markdown",
   "id": "a3359e4e",
   "metadata": {},
   "source": [
    "### Binomial random variable\n",
    "The random variable $X$ denotes the number of heads when flipping a coin $n$ times.\n",
    "- The probability mass function is $P(X=x)=\\left(\\begin{array}{l}\n",
    "n \\\\x \\end{array}\\right) p^{x}(1-p)^{n-x}$ for $x=0,1, \\ldots, n$.\n",
    "- The expectation is $E(X)=np$ \n",
    "- The variance is $\\operatorname{var}(X)=np(1-p)$."
   ]
  },
  {
   "cell_type": "code",
   "execution_count": 6,
   "id": "e6517900",
   "metadata": {},
   "outputs": [
    {
     "data": {
      "image/png": "[encoded data removed]",
      "text/plain": [
       "Plot with title \"cumulative distribution function\""
      ]
     },
     "metadata": {
      "filenames": {
       "image/png": "D:\\OneDrive\\Github\\Jupyter\\jupyter_book\\binf8441\\_build\\jupyter_execute\\chap2_11_0.png"
      },
      "image/png": {
       "height": 420,
       "width": 420
      }
     },
     "output_type": "display_data"
    }
   ],
   "source": [
    "par(mfrow=c(2,1))\n",
    "p = dbinom(0:5,5,0.5)\n",
    "names(p) = 0:5\n",
    "barplot(p,col=\"brown\",main=\"probability mass function\")\n",
    "plot(ecdf(sample(0:5,size=10000,replace=TRUE, prob=p)),col=\"brown\",main=\"cumulative distribution function\")"
   ]
  },
  {
   "cell_type": "markdown",
   "id": "395905d1",
   "metadata": {},
   "source": [
    "### Geometric random variable\n",
    "The random variable $X$ denotes the number of failures before observing the first success\n",
    "- The probability mass function is $P(X=x)=p(1-p)^{x}$, for $x=0,1,2, \\ldots$. \n",
    "- The expectation is $E(X)=\\frac{1-p}{p}$\n",
    "- The variance is $\\operatorname{var}(X)=\\frac{1-p}{p^{2}}$"
   ]
  },
  {
   "cell_type": "code",
   "execution_count": 7,
   "id": "79d74d00",
   "metadata": {},
   "outputs": [
    {
     "data": {
      "image/png": "[encoded data removed]",
      "text/plain": [
       "Plot with title \"cumulative distribution function\""
      ]
     },
     "metadata": {
      "filenames": {
       "image/png": "D:\\OneDrive\\Github\\Jupyter\\jupyter_book\\binf8441\\_build\\jupyter_execute\\chap2_13_0.png"
      },
      "image/png": {
       "height": 420,
       "width": 420
      }
     },
     "output_type": "display_data"
    }
   ],
   "source": [
    "par(mfrow=c(2,1))\n",
    "p = dgeom(0:10,0.2)\n",
    "names(p) = 0:10\n",
    "barplot(p,col=\"brown\",main=\"probability mass function\")\n",
    "plot(ecdf(sample(0:10,size=10000,replace=TRUE, prob=p)),col=\"brown\",main=\"cumulative distribution function\")"
   ]
  },
  {
   "cell_type": "markdown",
   "id": "05caae9a",
   "metadata": {},
   "source": [
    "### Negative binomial random variable\n",
    "The random variable $X$ denotes the number of failures before observing the $r^{th}$ success. Let $p$ be the probability of a success and $r$ is the predefined number of successes. \n",
    "- The probability mass function is $P(X=x)=\\left(\\begin{array}{c}x+r-1 \\\\ x\\end{array}\\right)p^{r}(1-p)^{x}$, \n",
    "- $E(X)=\\frac{r(1-p)}{p}$\n",
    "- $\\operatorname{var}(X)=\\frac{r(1-p)}{p^{2}}$"
   ]
  },
  {
   "cell_type": "code",
   "execution_count": 8,
   "id": "b0b3f2f5",
   "metadata": {},
   "outputs": [
    {
     "data": {
      "image/png": "[encoded data removed]",
      "text/plain": [
       "Plot with title \"cumulative distribution function\""
      ]
     },
     "metadata": {
      "filenames": {
       "image/png": "D:\\OneDrive\\Github\\Jupyter\\jupyter_book\\binf8441\\_build\\jupyter_execute\\chap2_15_0.png"
      },
      "image/png": {
       "height": 420,
       "width": 420
      }
     },
     "output_type": "display_data"
    }
   ],
   "source": [
    "par(mfrow=c(2,1))\n",
    "p = dnbinom(0:25,5,0.5)\n",
    "names(p) = 0:25\n",
    "barplot(p,col=\"brown\",main=\"probability mass function\")\n",
    "plot(ecdf(sample(0:25,size=10000,replace=TRUE, prob=p)),col=\"brown\",main=\"cumulative distribution function\")"
   ]
  },
  {
   "cell_type": "markdown",
   "id": "bfdfdbe7",
   "metadata": {},
   "source": [
    "### Discrete uniform random variable\n",
    "\n",
    "- $P(X=x)=\\frac{1}{n}$, for $x=a 1, a 2, \\ldots$, an\n",
    "- $E(X)=\\sum a_{i} * \\frac{1}{n}=\\frac{1}{n} \\sum a_{i}$ \n",
    "- $\\operatorname{var}(x)=\\sum\\left(a_{i}-\\bar{a}\\right)^{2} * \\frac{1}{n}$"
   ]
  },
  {
   "cell_type": "code",
   "execution_count": 9,
   "id": "aee9242a",
   "metadata": {},
   "outputs": [
    {
     "data": {
      "image/png": "[encoded data removed]",
      "text/plain": [
       "Plot with title \"cumulative distribution function\""
      ]
     },
     "metadata": {
      "filenames": {
       "image/png": "D:\\OneDrive\\Github\\Jupyter\\jupyter_book\\binf8441\\_build\\jupyter_execute\\chap2_17_0.png"
      },
      "image/png": {
       "height": 420,
       "width": 420
      }
     },
     "output_type": "display_data"
    }
   ],
   "source": [
    "par(mfrow=c(2,1))\n",
    "p = rep(1/4,4)\n",
    "names(p) = 1:4\n",
    "barplot(p,col=\"brown\",main=\"probability mass function\")\n",
    "plot(ecdf(1:4),col=\"brown\",main=\"cumulative distribution function\")"
   ]
  },
  {
   "cell_type": "markdown",
   "id": "8905a178",
   "metadata": {},
   "source": [
    "### Poisson random variable\n",
    "The random variable $X$ denotes the number of events during a fixed period of time.\n",
    "- $P(X=x)=e^{-\\lambda} \\lambda^{x} / x !$, for $x=0,1, \\ldots$\n",
    "- $E(X)=\\lambda$\n",
    "- $\\operatorname{var}(X)=\\lambda$"
   ]
  },
  {
   "cell_type": "code",
   "execution_count": 10,
   "id": "aa107975",
   "metadata": {},
   "outputs": [
    {
     "data": {
      "image/png": "[encoded data removed]",
      "text/plain": [
       "Plot with title \"cumulative distribution function\""
      ]
     },
     "metadata": {
      "filenames": {
       "image/png": "D:\\OneDrive\\Github\\Jupyter\\jupyter_book\\binf8441\\_build\\jupyter_execute\\chap2_19_0.png"
      },
      "image/png": {
       "height": 420,
       "width": 420
      }
     },
     "output_type": "display_data"
    }
   ],
   "source": [
    "par(mfrow=c(2,1))\n",
    "p = dpois(0:10, 0.5)\n",
    "names(p) = 0:10\n",
    "barplot(p,col=\"brown\",main=\"probability mass function\")\n",
    "plot(ecdf(sample(0:10,size=10000,replace=TRUE, prob=p)),col=\"brown\",main=\"cumulative distribution function\")"
   ]
  },
  {
   "cell_type": "markdown",
   "id": "391438b6",
   "metadata": {},
   "source": [
    "## Transformation\n",
    "\n",
    "````\\{prf:example\\} 2.7\n",
    ":nonumber:\n",
    ":label: 2.7\n",
    "\n",
    "The probability mass function of a discrete random variable $X$ is given in the following table.\n",
    "\n",
    "|  $x$ | 1    | 2    | 3    |\n",
    "| --- | --- | --- | --- |\n",
    "| $p(x)$ | 0.2  | 0.6  | 0.2  |\n",
    "|  |  |  |  |\n",
    "\n",
    "What is the probability distribution of $X^{2}$ ?\n",
    "\n",
    "|  $x$ | 1    | 4    | 9    |\n",
    "| --- | --- | --- | --- |\n",
    "| $p(x)$ | 0.2  | 0.6  | 0.2  |\n",
    "|  |  |  |  |\n",
    "````\n",
    "\n",
    "````\\{prf:example\\} 2.8\n",
    ":nonumber:\n",
    ":label: 2.8\n",
    "\n",
    "\n",
    "The probability mass function of a discrete random variable $X$ is given in the following table\n",
    "\n",
    "|  $x$ | -1    | 0    | 1    |\n",
    "| --- | --- | --- | --- |\n",
    "| $p(x)$ | 0.4  | 0.2  | 0.4  |\n",
    "|  |  |  |  |\n",
    "\n",
    "What is the probability distribution of $X^{2}$ ?\n",
    "|  $x$ | 0    | 1    |\n",
    "| --- | --- | --- |\n",
    "| $p(x)$ | 0.2  | 0.8  |\n",
    "|  |  |  |\n",
    "````"
   ]
  }
 ],
 "metadata": {
  "jupytext": {
   "cell_metadata_filter": "-all",
   "formats": "md:myst",
   "text_representation": {
    "extension": ".md",
    "format_name": "myst",
    "format_version": 0.13,
    "jupytext_version": "1.11.5"
   }
  },
  "kernelspec": {
   "display_name": "R",
   "language": "R",
   "name": "ir"
  },
  "language_info": {
   "codemirror_mode": "r",
   "file_extension": ".r",
   "mimetype": "text/x-r-source",
   "name": "R",
   "pygments_lexer": "r",
   "version": "4.2.2"
  },
  "source_map": [
   14,
   102,
   106,
   132,
   137,
   162,
   167,
   191,
   197,
   252,
   256,
   265,
   271,
   279,
   285,
   293,
   299,
   307,
   313,
   321,
   327
  ]
 },
 "nbformat": 4,
 "nbformat_minor": 5
}