{
 "cells": [
  {
   "cell_type": "markdown",
   "id": "e5b86194",
   "metadata": {},
   "source": [
    "# Lab 10: Monte Carlo simulation\n",
    "\n",
    "In statistical inference, it is essential to calculate probabilities and expectations. Given a probability density function $f(x)$, the probability $P(a<X<b)$ is given by an integral\n",
    "\n",
    "$$P(a<X<b)=\\int_a^bf(x)dx $$\n",
    "\n",
    "Similarly, the expectation of a function $g(x)$ is given by\n",
    "\n",
    "$$E(g(X))=\\int_{-\\infty}{\\infty}g(x)f(x)dx$$\n",
    "\n",
    "Both calculations involve integrals with respect to the probability density function $f(x)$. However, there is often no analytic solution to these integrals. We will use numerical approaches to approximate the integrals.  \n",
    "\n",
    "## Monte carlo simulation for integrals\n",
    "The integral can be approximated by Monte Carlo simulation, where the integral is treated as an expectation $E(g(X))$ of a function $g(X)$. By the law of large numbers, the expectation $E(g(X))$ can be approximated by the sample average $\\overline{g(X)}$. Monte Carlo simulation involves the following steps \n",
    "\n",
    "```{prf:algorithm}\n",
    "**Input:** the target function $g(x)$ and the density function $f(x)$\n",
    "\n",
    "**Output:** approximation to the integral\n",
    "\n",
    "1. Convert the integral to an expectation with respect to a probability density function $f(x)$, i.e. $\\int_a^b k(x) d x=\\int_a^b g(x) f(x) d x=E(g(x))$\n",
    "2. Generate a random sample $x_1, \\ldots, x_n$ from the probability distribution $f(x)$\n",
    "3. Calculate the sample average of $\\overline{g(x)}=\\frac{g\\left(x_1\\right)+\\cdots+g\\left(x_n\\right)}{n}$\n",
    "\n",
    "```\n",
    "\n",
    "```{prf:example}\n",
    ":nonumber:\n",
    "Calculate $\\int_0^2 \\log (x) e^{2x} dx$\n",
    "\n",
    "$$\n",
    "\\begin{equation}\n",
    "\\begin{split}\n",
    "\\int_0^2 \\log (x) e^{2x} * \\frac{1}{2}*2 dx &=\\int_0^2 2 \\log (x) e^{2x} * \\frac{1}{2} dx \\\\\n",
    "&=\\int_0^2 2\\log (x) e^{2x}*f(x) dx \\\\\n",
    "&=E(g(x))\n",
    "\\end{split}\n",
    "\\end{equation}\n",
    "$$ \n",
    "\n",
    "where $g(x)=2 \\log (x) e^{2 x}$ and $f(x)=\\frac{1}{2}$ is the density function of Uniform(0, 2). Therefore, Monte Carlo simulation involves the following steps\n",
    "\n",
    "1. generate a random sample $x_1, \\ldots, x_n$ from Uniform $(0,2)$\n",
    "2. calculate $g\\left(x_1\\right), \\ldots, g\\left(x_n\\right)$\n",
    "3. $\\int_0^{2} \\log (x) e^{2 x} d x \\approx \\frac{g\\left(x_1\\right)+\\cdots+g\\left(x_n\\right)}{n}$\n",
    "\n",
    "A large sample size $n$ indicates more accurate approximation\n",
    "```"
   ]
  },
  {
   "cell_type": "code",
   "execution_count": 1,
   "id": "4d92db7a",
   "metadata": {},
   "outputs": [
    {
     "data": {
      "text/html": [
       "10.855218749675"
      ],
      "text/latex": [
       "10.855218749675"
      ],
      "text/markdown": [
       "10.855218749675"
      ],
      "text/plain": [
       "[1] 10.85522"
      ]
     },
     "metadata": {},
     "output_type": "display_data"
    }
   ],
   "source": [
    "sample_size = 100\n",
    "x = runif(sample_size, 0, 2)\n",
    "gfunction = 2*log(x)*exp(2*x)\n",
    "g_average = mean(gfunction)\n",
    "g_average"
   ]
  },
  {
   "cell_type": "markdown",
   "id": "5b7307af",
   "metadata": {},
   "source": [
    "## Monte carlo simulation for variance\n",
    "We can use Monte Carlo simulation to calculate the variance of an arbitrary estimator $\\hat{\\theta}=$ $g\\left(x_1, \\ldots, x_n\\right)$, where $x_1, \\ldots, x_n$ is a random sample generated from a probability distribution $f(x)$. Suppose the probability distribution $f(x)$ is given and the sample size $\\mathrm{n}$ is given. Monte Carlo simulation for calculating $\\operatorname{var}(\\hat{\\theta})$ involves the following steps\n",
    "\n",
    "```{prf:algorithm}\n",
    "1. generate multiple random samples from the probability distribution $f(x)$; each sample contains $\\mathrm{n}$ observations\n",
    "\n",
    "    sample 1: $x_1^{(1)}, \\ldots, x_n^{(1)}$ \\\n",
    "    sample 2: $x_1^{(2)}, \\ldots, x_n^{(2)}$ \\\n",
    "    Sample k: $x_1^{(k)}, \\ldots, x_n^{(k)}$\n",
    "2. for each sample, we calculate $\\hat{\\theta}$\n",
    "\n",
    "    sample 1: $x_1^{(1)}, \\ldots, x_n^{(1)}=>\\widehat{\\theta_1}$ \\\n",
    "    sample 2: $x_1^{(2)}, \\ldots, x_n^{(2)}=>\\widehat{\\theta_2}$ \\\n",
    "    Sample k: $x_1^{(k)}, \\ldots, x_n^{(k)}=>\\widehat{\\theta_k}$\n",
    "3. finally, $\\operatorname{var}(\\hat{\\theta}) \\approx$ the sample variance of $\\widehat{\\theta_1}, \\ldots, \\widehat{\\theta_k}=\\frac{1}{k-1} \\sum_{i=1}^k\\left(\\widehat{\\theta_t}-\\overline{\\hat{\\theta}}\\right)^2$ where $\\overline{\\hat{\\theta}}=$ $\\frac{\\widehat{\\theta_1}+\\cdots+\\widehat{\\theta_k}}{k}$\n",
    "```\n",
    "\n",
    "As an example, we use simulation to calculate the variance of the sample average for the data generated from the exponential distribution."
   ]
  },
  {
   "cell_type": "code",
   "execution_count": 2,
   "id": "f594de42",
   "metadata": {},
   "outputs": [
    {
     "data": {
      "text/html": [
       "2.36144298715898"
      ],
      "text/latex": [
       "2.36144298715898"
      ],
      "text/markdown": [
       "2.36144298715898"
      ],
      "text/plain": [
       "[1] 2.361443"
      ]
     },
     "metadata": {},
     "output_type": "display_data"
    }
   ],
   "source": [
    "sample_size = 10\n",
    "k = 1000\n",
    "statistic = 1:k\n",
    "for(i in 1:k){\n",
    "\tsample = rexp(sample_size, rate=1/5)\n",
    "\tstatistic[i] = mean(sample)\n",
    "}\n",
    "var(statistic)"
   ]
  },
  {
   "cell_type": "markdown",
   "id": "e4899248",
   "metadata": {},
   "source": [
    "## Monte carlo simulation for the null distribution of a test statistic\n",
    "We can use Monte Carlo simulation to approximate the null distribution of an arbitrary test statistic $t$. Let $f(x)$ be the density function of the null model. If the density function $f(x)$ involves unknown parameters, those unknown parameters are replaced by their estimates, i.e., maximum likelihood estimates, such that we can generate random samples from the null model $f(x)$. Monte Carlo Simulation for approximating the null distribution of an arbitrary test statistic $t$ involves following steps.\n",
    "\n",
    "```{prf:algorithm}\n",
    "**Input**: the test statistic and the null hypothesis\n",
    "\n",
    "**Output**: the null distribution of the test statistic\n",
    "\n",
    "1. generate multiple random samples from the probability distribution $f(x)$; each sample contains $n$ observations\n",
    "\n",
    "    sample $1: x_1^{(1)}, \\ldots, x_n^{(1)}$ \\\n",
    "    sample $2: x_1^{(2)}, \\ldots, x_n^{(2)}$ \\\n",
    "    .... \\\n",
    "    sample k: $x_1^{(k)}, \\ldots, x_n^{(k)}$\n",
    "\n",
    "2. for each sample, we calculate $t$\n",
    "\n",
    "    sample $1: x_1^{(1)}, \\ldots, x_n^{(1)}=>t_1$ \\\n",
    "    sample $2: x_1^{(2)}, \\ldots, x_n^{(2)}=>t_2$ \\\n",
    "    Sample k: $x_1^{(k)}, \\ldots, x_n^{(k)}=>t_k$\n",
    "\n",
    "3. The null distribution of $t$ is approximated by $t_1, \\ldots, t_k$. For example, the $95 \\%$ quantile of the null distribution of $t$ is approximately equal to the $95 \\%$ quantile of $t_1, \\ldots, t_k$\n",
    "```\n",
    "\n",
    "Data are generated from the exponential distribution with $\\lambda = 5$."
   ]
  },
  {
   "cell_type": "code",
   "execution_count": 3,
   "id": "31799957",
   "metadata": {},
   "outputs": [],
   "source": [
    "data = rexp(20, rate = 0.2)\n",
    "t = mean(data)"
   ]
  },
  {
   "cell_type": "markdown",
   "id": "1349b18b",
   "metadata": {},
   "source": [
    "We want to test if the population mean $\\lambda$ is equal to 3. \n",
    "\n",
    "$H_0: \\lambda = 3$ and $H_1: \\lambda > 3$\n",
    "\n",
    "The test statistic is the sample average $\\bar{x}$. We use MC simulation to find the null distribution of the test statistic. The pvalue is equal to the"
   ]
  },
  {
   "cell_type": "code",
   "execution_count": 4,
   "id": "0d93def7",
   "metadata": {},
   "outputs": [
    {
     "name": "stdout",
     "output_type": "stream",
     "text": [
      "[1] \"pvalue = 0\"\n"
     ]
    },
    {
     "data": {
      "image/png": "[encoded data removed]",
      "text/plain": [
       "Plot with title \"Histogram of teststat\""
      ]
     },
     "metadata": {
      "filenames": {
       "image/png": "D:\\books\\jupyter_book\\binf8441\\_build\\jupyter_execute\\lab10_7_1.png"
      },
      "image/png": {
       "height": 420,
       "width": 420
      }
     },
     "output_type": "display_data"
    }
   ],
   "source": [
    "sample_size = 20\n",
    "lambda = 3\n",
    "k = 1000\n",
    "teststat = 1:k\n",
    "for(i in 1:k){\n",
    "\tsample = rexp(sample_size, rate=1/lambda)\n",
    "\tteststat[i] = mean(sample)\n",
    "}\n",
    "\n",
    "hist(teststat)\n",
    "\n",
    "pvalue = sum(teststat>t)/length(teststat)\n",
    "print(paste(\"pvalue =\", pvalue))"
   ]
  }
 ],
 "metadata": {
  "jupytext": {
   "cell_metadata_filter": "-all",
   "formats": "md:myst",
   "text_representation": {
    "extension": ".md",
    "format_name": "myst",
    "format_version": 0.13,
    "jupytext_version": "1.11.5"
   }
  },
  "kernelspec": {
   "display_name": "R",
   "language": "R",
   "name": "ir"
  },
  "language_info": {
   "codemirror_mode": "r",
   "file_extension": ".r",
   "mimetype": "text/x-r-source",
   "name": "R",
   "pygments_lexer": "r",
   "version": "4.2.2"
  },
  "source_map": [
   14,
   66,
   72,
   93,
   102,
   130,
   133,
   140
  ]
 },
 "nbformat": 4,
 "nbformat_minor": 5
}