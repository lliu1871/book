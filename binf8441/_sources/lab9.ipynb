{
 "cells": [
  {
   "cell_type": "markdown",
   "id": "c65be513",
   "metadata": {},
   "source": [
    "# Lab 9: Linear regression\n",
    "\n",
    "\n",
    "## Simple linear regression\n",
    "\n",
    "### Simulating linear regression data"
   ]
  },
  {
   "cell_type": "code",
   "execution_count": 1,
   "id": "feffa62f",
   "metadata": {},
   "outputs": [],
   "source": [
    "x = rnorm(100, mean=3, sd=1)\n",
    "error = rnorm(100, mean=0, sd=2)\n",
    "y = 2.1+1.25*x+error\n",
    "\n",
    "data=data.frame(cbind(x,y))"
   ]
  },
  {
   "cell_type": "markdown",
   "id": "c4805eaf",
   "metadata": {},
   "source": [
    "### Fitting the linear regression model"
   ]
  },
  {
   "cell_type": "code",
   "execution_count": 2,
   "id": "6161c494",
   "metadata": {},
   "outputs": [
    {
     "data": {
      "text/plain": [
       "\n",
       "Call:\n",
       "lm(formula = data$y ~ data$x)\n",
       "\n",
       "Residuals:\n",
       "    Min      1Q  Median      3Q     Max \n",
       "-6.9398 -1.2352  0.1792  1.3012  4.7372 \n",
       "\n",
       "Coefficients:\n",
       "            Estimate Std. Error t value Pr(>|t|)    \n",
       "(Intercept)   2.4892     0.6751   3.687 0.000372 ***\n",
       "data$x        1.1985     0.2112   5.675 1.41e-07 ***\n",
       "---\n",
       "Signif. codes:  0 '***' 0.001 '**' 0.01 '*' 0.05 '.' 0.1 ' ' 1\n",
       "\n",
       "Residual standard error: 2.143 on 98 degrees of freedom\n",
       "Multiple R-squared:  0.2473,\tAdjusted R-squared:  0.2397 \n",
       "F-statistic:  32.2 on 1 and 98 DF,  p-value: 1.411e-07\n"
      ]
     },
     "metadata": {},
     "output_type": "display_data"
    }
   ],
   "source": [
    "result = lm(data$y~data$x)\n",
    "summary(result)"
   ]
  },
  {
   "cell_type": "markdown",
   "id": "0ca06fd4",
   "metadata": {},
   "source": [
    "### Residual plot"
   ]
  },
  {
   "cell_type": "code",
   "execution_count": 3,
   "id": "15796424",
   "metadata": {},
   "outputs": [
    {
     "data": {
      "image/png": "[encoded data removed]",
      "text/plain": [
       "Plot with title \"Normal Q-Q Plot\""
      ]
     },
     "metadata": {
      "filenames": {
       "image/png": "D:\\books\\jupyter_book\\binf8441\\_build\\jupyter_execute\\lab9_5_0.png"
      },
      "image/png": {
       "height": 420,
       "width": 420
      }
     },
     "output_type": "display_data"
    }
   ],
   "source": [
    "par(mfrow=c(2,2))\n",
    "plot(x,y,pch=16)\n",
    "abline(result,col=\"brown\")\n",
    "plot(result$residuals)\n",
    "abline(a=0,b=0, col=\"brown\")\n",
    "hist(result$residuals)\n",
    "qqnorm(result$residuals, pch=16)\n",
    "qqline(result$residuals, col = \"brown\")"
   ]
  },
  {
   "cell_type": "markdown",
   "id": "47109fcf",
   "metadata": {},
   "source": [
    "### Checking normality"
   ]
  },
  {
   "cell_type": "code",
   "execution_count": 4,
   "id": "988f77d9",
   "metadata": {},
   "outputs": [
    {
     "data": {
      "text/plain": [
       "\n",
       "\tShapiro-Wilk normality test\n",
       "\n",
       "data:  result$residuals\n",
       "W = 0.98784, p-value = 0.4962\n"
      ]
     },
     "metadata": {},
     "output_type": "display_data"
    }
   ],
   "source": [
    "shapiro.test(result$residuals)"
   ]
  },
  {
   "cell_type": "markdown",
   "id": "12485bff",
   "metadata": {},
   "source": [
    "### Prediction for new observations"
   ]
  },
  {
   "cell_type": "code",
   "execution_count": 5,
   "id": "7b8b7ee5",
   "metadata": {},
   "outputs": [
    {
     "data": {
      "text/html": [
       "<strong>(Intercept):</strong> 3.32812678696507"
      ],
      "text/latex": [
       "\\textbf{(Intercept):} 3.32812678696507"
      ],
      "text/markdown": [
       "**(Intercept):** 3.32812678696507"
      ],
      "text/plain": [
       "(Intercept) \n",
       "   3.328127 "
      ]
     },
     "metadata": {},
     "output_type": "display_data"
    }
   ],
   "source": [
    "x_new = 0.7\n",
    "y_new = result$coefficients[1]+result$coefficients[2]*x_new\n",
    "y_new"
   ]
  },
  {
   "cell_type": "markdown",
   "id": "9a077b9b",
   "metadata": {},
   "source": [
    "### Fitting quadratic relationships"
   ]
  },
  {
   "cell_type": "code",
   "execution_count": 6,
   "id": "e6a6b0c4",
   "metadata": {},
   "outputs": [
    {
     "data": {
      "text/plain": [
       "\n",
       "Call:\n",
       "lm(formula = data$y ~ data$x)\n",
       "\n",
       "Residuals:\n",
       "    Min      1Q  Median      3Q     Max \n",
       "-8.1514 -1.7992 -0.3077  1.3229  9.2510 \n",
       "\n",
       "Coefficients:\n",
       "            Estimate Std. Error t value Pr(>|t|)    \n",
       "(Intercept)   3.6770     0.3038   12.10  < 2e-16 ***\n",
       "data$x       -0.9102     0.2827   -3.22  0.00174 ** \n",
       "---\n",
       "Signif. codes:  0 '***' 0.001 '**' 0.01 '*' 0.05 '.' 0.1 ' ' 1\n",
       "\n",
       "Residual standard error: 3.022 on 98 degrees of freedom\n",
       "Multiple R-squared:  0.09569,\tAdjusted R-squared:  0.08646 \n",
       "F-statistic: 10.37 on 1 and 98 DF,  p-value: 0.001738\n"
      ]
     },
     "metadata": {},
     "output_type": "display_data"
    }
   ],
   "source": [
    "x = rnorm(100, mean=0, sd=1)\n",
    "y = 2.1+1.25*x^2+error\n",
    "data=data.frame(cbind(x,y))\n",
    "result = lm(data$y~data$x)\n",
    "summary(result)"
   ]
  },
  {
   "cell_type": "markdown",
   "id": "c62c46ae",
   "metadata": {},
   "source": [
    "## Multiple linear regression\n",
    "### Generating data"
   ]
  },
  {
   "cell_type": "code",
   "execution_count": 7,
   "id": "55db85b4",
   "metadata": {},
   "outputs": [
    {
     "data": {
      "image/png": "[encoded data removed]",
      "text/plain": [
       "plot without title"
      ]
     },
     "metadata": {
      "filenames": {
       "image/png": "D:\\books\\jupyter_book\\binf8441\\_build\\jupyter_execute\\lab9_13_0.png"
      },
      "image/png": {
       "height": 420,
       "width": 420
      }
     },
     "output_type": "display_data"
    }
   ],
   "source": [
    "x1 = rnorm(100, mean=3, sd=1)\n",
    "x2 = rnorm(100, mean=2.5, sd=2.1)\n",
    "\n",
    "error = rnorm(100, mean=0, sd=2)\n",
    "y = 2.1 + 1.25*x1 - 3*x2 + error\n",
    "\n",
    "data=data.frame(cbind(y,x1,x2))\n",
    "plot(data)"
   ]
  },
  {
   "cell_type": "markdown",
   "id": "cd7f383c",
   "metadata": {},
   "source": [
    "### Fitting the model"
   ]
  },
  {
   "cell_type": "code",
   "execution_count": 8,
   "id": "e65de339",
   "metadata": {},
   "outputs": [
    {
     "data": {
      "text/plain": [
       "\n",
       "Call:\n",
       "lm(formula = y ~ x1 + x2, data = data)\n",
       "\n",
       "Residuals:\n",
       "    Min      1Q  Median      3Q     Max \n",
       "-5.1494 -1.4407 -0.2341  1.2179  6.0370 \n",
       "\n",
       "Coefficients:\n",
       "            Estimate Std. Error t value Pr(>|t|)    \n",
       "(Intercept)   1.7919     0.7456   2.403   0.0181 *  \n",
       "x1            1.2750     0.2340   5.448 3.86e-07 ***\n",
       "x2           -2.9844     0.1131 -26.396  < 2e-16 ***\n",
       "---\n",
       "Signif. codes:  0 '***' 0.001 '**' 0.01 '*' 0.05 '.' 0.1 ' ' 1\n",
       "\n",
       "Residual standard error: 2.386 on 97 degrees of freedom\n",
       "Multiple R-squared:  0.8802,\tAdjusted R-squared:  0.8777 \n",
       "F-statistic: 356.3 on 2 and 97 DF,  p-value: < 2.2e-16\n"
      ]
     },
     "metadata": {},
     "output_type": "display_data"
    }
   ],
   "source": [
    "result = lm(y~x1+x2,data=data)\n",
    "summary(result)"
   ]
  },
  {
   "cell_type": "markdown",
   "id": "2b12b58e",
   "metadata": {},
   "source": [
    "### Residual plot"
   ]
  },
  {
   "cell_type": "code",
   "execution_count": 9,
   "id": "c79f2dd3",
   "metadata": {},
   "outputs": [
    {
     "data": {
      "image/png": "[encoded data removed]",
      "text/plain": [
       "Plot with title \"Normal Q-Q Plot\""
      ]
     },
     "metadata": {
      "filenames": {
       "image/png": "D:\\books\\jupyter_book\\binf8441\\_build\\jupyter_execute\\lab9_17_0.png"
      },
      "image/png": {
       "height": 420,
       "width": 420
      }
     },
     "output_type": "display_data"
    }
   ],
   "source": [
    "par(mfrow=c(2,2))\n",
    "plot(result$residuals)\n",
    "abline(a=0,b=0, col=\"red\")\n",
    "hist(result$residuals)\n",
    "qqnorm(result$residuals, pch=16)\n",
    "qqline(result$residuals, col = \"brown\")"
   ]
  },
  {
   "cell_type": "markdown",
   "id": "1e2f46cd",
   "metadata": {},
   "source": [
    "### Checking the normality assumption"
   ]
  },
  {
   "cell_type": "code",
   "execution_count": 10,
   "id": "9797c5a5",
   "metadata": {},
   "outputs": [
    {
     "data": {
      "text/plain": [
       "\n",
       "\tShapiro-Wilk normality test\n",
       "\n",
       "data:  result$residuals\n",
       "W = 0.98335, p-value = 0.2402\n"
      ]
     },
     "metadata": {},
     "output_type": "display_data"
    }
   ],
   "source": [
    "shapiro.test(result$residuals)"
   ]
  },
  {
   "cell_type": "markdown",
   "id": "be39701a",
   "metadata": {},
   "source": [
    "## Logistic regression\n",
    "### Generating data"
   ]
  },
  {
   "cell_type": "code",
   "execution_count": 11,
   "id": "1e5cd3a4",
   "metadata": {},
   "outputs": [],
   "source": [
    "age <- round(runif(100, 18, 80))\n",
    "log_odds = -2.2 + 0.02*age\n",
    "p = 1/(1 + exp(-log_odds))\n",
    "y <- rbinom(n = 100, size = 1, prob = p)"
   ]
  },
  {
   "cell_type": "markdown",
   "id": "bbfcd1ee",
   "metadata": {},
   "source": [
    "### Fitting the logistic model"
   ]
  },
  {
   "cell_type": "code",
   "execution_count": 12,
   "id": "26767533",
   "metadata": {},
   "outputs": [
    {
     "data": {
      "text/plain": [
       "\n",
       "Call:\n",
       "glm(formula = y ~ age, family = \"binomial\")\n",
       "\n",
       "Deviance Residuals: \n",
       "    Min       1Q   Median       3Q      Max  \n",
       "-1.1141  -0.8027  -0.5246  -0.4119   2.1439  \n",
       "\n",
       "Coefficients:\n",
       "            Estimate Std. Error z value Pr(>|z|)    \n",
       "(Intercept) -3.12023    0.80674  -3.868  0.00011 ***\n",
       "age          0.03712    0.01400   2.651  0.00802 ** \n",
       "---\n",
       "Signif. codes:  0 '***' 0.001 '**' 0.01 '*' 0.05 '.' 0.1 ' ' 1\n",
       "\n",
       "(Dispersion parameter for binomial family taken to be 1)\n",
       "\n",
       "    Null deviance: 107.86  on 99  degrees of freedom\n",
       "Residual deviance: 100.03  on 98  degrees of freedom\n",
       "AIC: 104.03\n",
       "\n",
       "Number of Fisher Scoring iterations: 4\n"
      ]
     },
     "metadata": {},
     "output_type": "display_data"
    }
   ],
   "source": [
    "mod <- glm(y ~ age, family = \"binomial\")\n",
    "summary(mod)"
   ]
  }
 ],
 "metadata": {
  "jupytext": {
   "cell_metadata_filter": "-all",
   "formats": "md:myst",
   "text_representation": {
    "extension": ".md",
    "format_name": "myst",
    "format_version": 0.13,
    "jupytext_version": "1.11.5"
   }
  },
  "kernelspec": {
   "display_name": "R",
   "language": "R",
   "name": "ir"
  },
  "language_info": {
   "codemirror_mode": "r",
   "file_extension": ".r",
   "mimetype": "text/x-r-source",
   "name": "R",
   "pygments_lexer": "r",
   "version": "4.2.2"
  },
  "source_map": [
   14,
   23,
   29,
   31,
   34,
   37,
   46,
   49,
   51,
   54,
   58,
   61,
   67,
   71,
   80,
   82,
   85,
   88,
   95,
   98,
   100,
   104,
   109,
   112
  ]
 },
 "nbformat": 4,
 "nbformat_minor": 5
}