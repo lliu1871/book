{
 "cells": [
  {
   "cell_type": "markdown",
   "id": "8f147523",
   "metadata": {},
   "source": [
    "# Lab 1: Introduction to R \n",
    "\n",
    "Please read the document [R-intro.pdf](https://cran.r-project.org/manuals.html). A good tutorial on R is available at [www3](https://www.w3schools.com/r/). In this lab, we will go through the following topics in R. \n",
    "\n",
    "- Getting help: google, manual, or ? \n",
    "- Numbers, vectors, and matrix, list \n",
    "- Math functions \n",
    "- String \n",
    "- Reading data from files \n",
    "- Generating random numbers \n",
    "- Loops  \n",
    "- Writing your own functions \n",
    "\n",
    "## Installing R\n",
    "Downloading R at https://cran.microsoft.com/ and following the instruction to install R on your computer. It is highly recommended to install RStudio available at https://posit.co/downloads/ and run R in RStudio. Alternatively, you may run R remotely at https://www.w3schools.com/r/r_intro.asp. \n",
    "\n",
    "## Getting help\n",
    "\n",
    "- Google search \"how to calculate average in R\"\n",
    "- Read the R manual\n",
    "- Using ? in R\n",
    "\n",
    "## Assignments \n",
    "We may use \"=\" or \"<-\" to assign values to variables. For example, we here generate a variable $x$ whose value is 3."
   ]
  },
  {
   "cell_type": "code",
   "execution_count": 1,
   "id": "d9251a66",
   "metadata": {},
   "outputs": [
    {
     "data": {
      "text/html": [
       "3"
      ],
      "text/latex": [
       "3"
      ],
      "text/markdown": [
       "3"
      ],
      "text/plain": [
       "[1] 3"
      ]
     },
     "metadata": {},
     "output_type": "display_data"
    }
   ],
   "source": [
    "x <- 3 \n",
    "x"
   ]
  },
  {
   "cell_type": "markdown",
   "id": "91e66599",
   "metadata": {},
   "source": [
    "We may generate a vector variable and use \"[i]\" to locate elements in the vector."
   ]
  },
  {
   "cell_type": "code",
   "execution_count": 2,
   "id": "8ab52154",
   "metadata": {},
   "outputs": [
    {
     "data": {
      "text/html": [
       "<style>\n",
       ".list-inline {list-style: none; margin:0; padding: 0}\n",
       ".list-inline>li {display: inline-block}\n",
       ".list-inline>li:not(:last-child)::after {content: \"\\00b7\"; padding: 0 .5ex}\n",
       "</style>\n",
       "<ol class=list-inline><li>2</li><li>3</li><li>4</li><li>5</li></ol>\n"
      ],
      "text/latex": [
       "\\begin{enumerate*}\n",
       "\\item 2\n",
       "\\item 3\n",
       "\\item 4\n",
       "\\item 5\n",
       "\\end{enumerate*}\n"
      ],
      "text/markdown": [
       "1. 2\n",
       "2. 3\n",
       "3. 4\n",
       "4. 5\n",
       "\n",
       "\n"
      ],
      "text/plain": [
       "[1] 2 3 4 5"
      ]
     },
     "metadata": {},
     "output_type": "display_data"
    },
    {
     "data": {
      "text/html": [
       "3"
      ],
      "text/latex": [
       "3"
      ],
      "text/markdown": [
       "3"
      ],
      "text/plain": [
       "[1] 3"
      ]
     },
     "metadata": {},
     "output_type": "display_data"
    }
   ],
   "source": [
    "x <- 2:5 \n",
    "x\n",
    "x[2]"
   ]
  },
  {
   "cell_type": "markdown",
   "id": "6d7acd43",
   "metadata": {},
   "source": [
    "We may generate a string variable which is a vector of characters"
   ]
  },
  {
   "cell_type": "code",
   "execution_count": 3,
   "id": "b0ef8e3d",
   "metadata": {},
   "outputs": [
    {
     "data": {
      "text/html": [
       "'I am a student'"
      ],
      "text/latex": [
       "'I am a student'"
      ],
      "text/markdown": [
       "'I am a student'"
      ],
      "text/plain": [
       "[1] \"I am a student\""
      ]
     },
     "metadata": {},
     "output_type": "display_data"
    },
    {
     "data": {
      "text/html": [
       "NA"
      ],
      "text/latex": [
       "NA"
      ],
      "text/markdown": [
       "NA"
      ],
      "text/plain": [
       "[1] NA"
      ]
     },
     "metadata": {},
     "output_type": "display_data"
    }
   ],
   "source": [
    "x <- \"I am a student\" \n",
    "x\n",
    "x[3]"
   ]
  },
  {
   "cell_type": "markdown",
   "id": "84d3c14b",
   "metadata": {},
   "source": [
    "We may generate a matrix variable and use \"[i,j]\" to locate elements in the vector."
   ]
  },
  {
   "cell_type": "code",
   "execution_count": 4,
   "id": "ce745776",
   "metadata": {},
   "outputs": [
    {
     "data": {
      "text/html": [
       "<table class=\"dataframe\">\n",
       "<caption>A matrix: 3 × 4 of type int</caption>\n",
       "<tbody>\n",
       "\t<tr><td>1</td><td>4</td><td>7</td><td>10</td></tr>\n",
       "\t<tr><td>2</td><td>5</td><td>8</td><td>11</td></tr>\n",
       "\t<tr><td>3</td><td>6</td><td>9</td><td>12</td></tr>\n",
       "</tbody>\n",
       "</table>\n"
      ],
      "text/latex": [
       "A matrix: 3 × 4 of type int\n",
       "\\begin{tabular}{llll}\n",
       "\t 1 & 4 & 7 & 10\\\\\n",
       "\t 2 & 5 & 8 & 11\\\\\n",
       "\t 3 & 6 & 9 & 12\\\\\n",
       "\\end{tabular}\n"
      ],
      "text/markdown": [
       "\n",
       "A matrix: 3 × 4 of type int\n",
       "\n",
       "| 1 | 4 | 7 | 10 |\n",
       "| 2 | 5 | 8 | 11 |\n",
       "| 3 | 6 | 9 | 12 |\n",
       "\n"
      ],
      "text/plain": [
       "     [,1] [,2] [,3] [,4]\n",
       "[1,] 1    4    7    10  \n",
       "[2,] 2    5    8    11  \n",
       "[3,] 3    6    9    12  "
      ]
     },
     "metadata": {},
     "output_type": "display_data"
    },
    {
     "data": {
      "text/html": [
       "4"
      ],
      "text/latex": [
       "4"
      ],
      "text/markdown": [
       "4"
      ],
      "text/plain": [
       "[1] 4"
      ]
     },
     "metadata": {},
     "output_type": "display_data"
    },
    {
     "data": {
      "text/html": [
       "<style>\n",
       ".list-inline {list-style: none; margin:0; padding: 0}\n",
       ".list-inline>li {display: inline-block}\n",
       ".list-inline>li:not(:last-child)::after {content: \"\\00b7\"; padding: 0 .5ex}\n",
       "</style>\n",
       "<ol class=list-inline><li>1</li><li>4</li><li>7</li><li>10</li></ol>\n"
      ],
      "text/latex": [
       "\\begin{enumerate*}\n",
       "\\item 1\n",
       "\\item 4\n",
       "\\item 7\n",
       "\\item 10\n",
       "\\end{enumerate*}\n"
      ],
      "text/markdown": [
       "1. 1\n",
       "2. 4\n",
       "3. 7\n",
       "4. 10\n",
       "\n",
       "\n"
      ],
      "text/plain": [
       "[1]  1  4  7 10"
      ]
     },
     "metadata": {},
     "output_type": "display_data"
    },
    {
     "data": {
      "text/html": [
       "<style>\n",
       ".list-inline {list-style: none; margin:0; padding: 0}\n",
       ".list-inline>li {display: inline-block}\n",
       ".list-inline>li:not(:last-child)::after {content: \"\\00b7\"; padding: 0 .5ex}\n",
       "</style>\n",
       "<ol class=list-inline><li>4</li><li>5</li><li>6</li></ol>\n"
      ],
      "text/latex": [
       "\\begin{enumerate*}\n",
       "\\item 4\n",
       "\\item 5\n",
       "\\item 6\n",
       "\\end{enumerate*}\n"
      ],
      "text/markdown": [
       "1. 4\n",
       "2. 5\n",
       "3. 6\n",
       "\n",
       "\n"
      ],
      "text/plain": [
       "[1] 4 5 6"
      ]
     },
     "metadata": {},
     "output_type": "display_data"
    }
   ],
   "source": [
    "x <- matrix(1:12, nrow=3, ncol=4)\n",
    "x\n",
    "x[1,2]\n",
    "x[1,]\n",
    "x[,2]"
   ]
  },
  {
   "cell_type": "markdown",
   "id": "6fb90ac6",
   "metadata": {},
   "source": [
    "A list variable may contain different types of data"
   ]
  },
  {
   "cell_type": "code",
   "execution_count": 5,
   "id": "07379bd2",
   "metadata": {},
   "outputs": [
    {
     "data": {
      "text/html": [
       "<ol>\n",
       "\t<li>'I am a student'</li>\n",
       "\t<li>123</li>\n",
       "</ol>\n"
      ],
      "text/latex": [
       "\\begin{enumerate}\n",
       "\\item 'I am a student'\n",
       "\\item 123\n",
       "\\end{enumerate}\n"
      ],
      "text/markdown": [
       "1. 'I am a student'\n",
       "2. 123\n",
       "\n",
       "\n"
      ],
      "text/plain": [
       "[[1]]\n",
       "[1] \"I am a student\"\n",
       "\n",
       "[[2]]\n",
       "[1] 123\n"
      ]
     },
     "metadata": {},
     "output_type": "display_data"
    }
   ],
   "source": [
    "x <- list() \n",
    "x[[1]] = \"I am a student\"\n",
    "x[[2]] = 123\n",
    "x"
   ]
  },
  {
   "cell_type": "markdown",
   "id": "dc654cc0",
   "metadata": {},
   "source": [
    " \n",
    "\n",
    "## Math functions"
   ]
  },
  {
   "cell_type": "code",
   "execution_count": 6,
   "id": "6c06c531",
   "metadata": {},
   "outputs": [
    {
     "data": {
      "text/html": [
       "<style>\n",
       ".list-inline {list-style: none; margin:0; padding: 0}\n",
       ".list-inline>li {display: inline-block}\n",
       ".list-inline>li:not(:last-child)::after {content: \"\\00b7\"; padding: 0 .5ex}\n",
       "</style>\n",
       "<ol class=list-inline><li>4</li><li>8</li><li>12</li></ol>\n"
      ],
      "text/latex": [
       "\\begin{enumerate*}\n",
       "\\item 4\n",
       "\\item 8\n",
       "\\item 12\n",
       "\\end{enumerate*}\n"
      ],
      "text/markdown": [
       "1. 4\n",
       "2. 8\n",
       "3. 12\n",
       "\n",
       "\n"
      ],
      "text/plain": [
       "[1]  4  8 12"
      ]
     },
     "metadata": {},
     "output_type": "display_data"
    },
    {
     "data": {
      "text/html": [
       "<style>\n",
       ".list-inline {list-style: none; margin:0; padding: 0}\n",
       ".list-inline>li {display: inline-block}\n",
       ".list-inline>li:not(:last-child)::after {content: \"\\00b7\"; padding: 0 .5ex}\n",
       "</style>\n",
       "<ol class=list-inline><li>2.71828182845905</li><li>7.38905609893065</li><li>20.0855369231877</li></ol>\n"
      ],
      "text/latex": [
       "\\begin{enumerate*}\n",
       "\\item 2.71828182845905\n",
       "\\item 7.38905609893065\n",
       "\\item 20.0855369231877\n",
       "\\end{enumerate*}\n"
      ],
      "text/markdown": [
       "1. 2.71828182845905\n",
       "2. 7.38905609893065\n",
       "3. 20.0855369231877\n",
       "\n",
       "\n"
      ],
      "text/plain": [
       "[1]  2.718282  7.389056 20.085537"
      ]
     },
     "metadata": {},
     "output_type": "display_data"
    },
    {
     "data": {
      "text/html": [
       "<style>\n",
       ".list-inline {list-style: none; margin:0; padding: 0}\n",
       ".list-inline>li {display: inline-block}\n",
       ".list-inline>li:not(:last-child)::after {content: \"\\00b7\"; padding: 0 .5ex}\n",
       "</style>\n",
       "<ol class=list-inline><li>0</li><li>0.693147180559945</li><li>1.09861228866811</li></ol>\n"
      ],
      "text/latex": [
       "\\begin{enumerate*}\n",
       "\\item 0\n",
       "\\item 0.693147180559945\n",
       "\\item 1.09861228866811\n",
       "\\end{enumerate*}\n"
      ],
      "text/markdown": [
       "1. 0\n",
       "2. 0.693147180559945\n",
       "3. 1.09861228866811\n",
       "\n",
       "\n"
      ],
      "text/plain": [
       "[1] 0.0000000 0.6931472 1.0986123"
      ]
     },
     "metadata": {},
     "output_type": "display_data"
    },
    {
     "data": {
      "text/html": [
       "<table class=\"dataframe\">\n",
       "<caption>A matrix: 3 × 3 of type dbl</caption>\n",
       "<tbody>\n",
       "\t<tr><td>6</td><td>6</td><td>6</td></tr>\n",
       "\t<tr><td>6</td><td>6</td><td>6</td></tr>\n",
       "\t<tr><td>6</td><td>6</td><td>6</td></tr>\n",
       "</tbody>\n",
       "</table>\n"
      ],
      "text/latex": [
       "A matrix: 3 × 3 of type dbl\n",
       "\\begin{tabular}{lll}\n",
       "\t 6 & 6 & 6\\\\\n",
       "\t 6 & 6 & 6\\\\\n",
       "\t 6 & 6 & 6\\\\\n",
       "\\end{tabular}\n"
      ],
      "text/markdown": [
       "\n",
       "A matrix: 3 × 3 of type dbl\n",
       "\n",
       "| 6 | 6 | 6 |\n",
       "| 6 | 6 | 6 |\n",
       "| 6 | 6 | 6 |\n",
       "\n"
      ],
      "text/plain": [
       "     [,1] [,2] [,3]\n",
       "[1,] 6    6    6   \n",
       "[2,] 6    6    6   \n",
       "[3,] 6    6    6   "
      ]
     },
     "metadata": {},
     "output_type": "display_data"
    },
    {
     "data": {
      "text/html": [
       "<table class=\"dataframe\">\n",
       "<caption>A matrix: 3 × 3 of type dbl</caption>\n",
       "<tbody>\n",
       "\t<tr><td>2</td><td>2</td><td>2</td></tr>\n",
       "\t<tr><td>2</td><td>2</td><td>2</td></tr>\n",
       "\t<tr><td>2</td><td>2</td><td>2</td></tr>\n",
       "</tbody>\n",
       "</table>\n"
      ],
      "text/latex": [
       "A matrix: 3 × 3 of type dbl\n",
       "\\begin{tabular}{lll}\n",
       "\t 2 & 2 & 2\\\\\n",
       "\t 2 & 2 & 2\\\\\n",
       "\t 2 & 2 & 2\\\\\n",
       "\\end{tabular}\n"
      ],
      "text/markdown": [
       "\n",
       "A matrix: 3 × 3 of type dbl\n",
       "\n",
       "| 2 | 2 | 2 |\n",
       "| 2 | 2 | 2 |\n",
       "| 2 | 2 | 2 |\n",
       "\n"
      ],
      "text/plain": [
       "     [,1] [,2] [,3]\n",
       "[1,] 2    2    2   \n",
       "[2,] 2    2    2   \n",
       "[3,] 2    2    2   "
      ]
     },
     "metadata": {},
     "output_type": "display_data"
    }
   ],
   "source": [
    "x=1:3\n",
    "x*4 \n",
    "exp(x) \n",
    "log(x) \n",
    "x=matrix(1,3,3) \n",
    "y=matrix(2,3,3) \n",
    "x%*%y \n",
    "x*y "
   ]
  },
  {
   "cell_type": "markdown",
   "id": "fec54a92",
   "metadata": {},
   "source": [
    "## Functions for strings"
   ]
  },
  {
   "cell_type": "code",
   "execution_count": 7,
   "id": "5551d863",
   "metadata": {},
   "outputs": [
    {
     "data": {
      "text/html": [
       "23"
      ],
      "text/latex": [
       "23"
      ],
      "text/markdown": [
       "23"
      ],
      "text/plain": [
       "[1] 23"
      ]
     },
     "metadata": {},
     "output_type": "display_data"
    },
    {
     "data": {
      "text/html": [
       "'I a'"
      ],
      "text/latex": [
       "'I a'"
      ],
      "text/markdown": [
       "'I a'"
      ],
      "text/plain": [
       "[1] \"I a\""
      ]
     },
     "metadata": {},
     "output_type": "display_data"
    },
    {
     "data": {
      "text/html": [
       "<ol>\n",
       "\t<li><style>\n",
       ".list-inline {list-style: none; margin:0; padding: 0}\n",
       ".list-inline>li {display: inline-block}\n",
       ".list-inline>li:not(:last-child)::after {content: \"\\00b7\"; padding: 0 .5ex}\n",
       "</style>\n",
       "<ol class=list-inline><li>'who'</li><li>'am'</li><li>'I?'</li></ol>\n",
       "</li>\n",
       "</ol>\n"
      ],
      "text/latex": [
       "\\begin{enumerate}\n",
       "\\item \\begin{enumerate*}\n",
       "\\item 'who'\n",
       "\\item 'am'\n",
       "\\item 'I?'\n",
       "\\end{enumerate*}\n",
       "\n",
       "\\end{enumerate}\n"
      ],
      "text/markdown": [
       "1. 1. 'who'\n",
       "2. 'am'\n",
       "3. 'I?'\n",
       "\n",
       "\n",
       "\n",
       "\n",
       "\n"
      ],
      "text/plain": [
       "[[1]]\n",
       "[1] \"who\" \"am\"  \"I?\" \n"
      ]
     },
     "metadata": {},
     "output_type": "display_data"
    },
    {
     "data": {
      "text/html": [
       "'ahello'"
      ],
      "text/latex": [
       "'ahello'"
      ],
      "text/markdown": [
       "'ahello'"
      ],
      "text/plain": [
       "[1] \"ahello\""
      ]
     },
     "metadata": {},
     "output_type": "display_data"
    },
    {
     "data": {
      "text/html": [
       "<style>\n",
       ".list-inline {list-style: none; margin:0; padding: 0}\n",
       ".list-inline>li {display: inline-block}\n",
       ".list-inline>li:not(:last-child)::after {content: \"\\00b7\"; padding: 0 .5ex}\n",
       "</style>\n",
       "<ol class=list-inline><li>2</li><li>3</li></ol>\n"
      ],
      "text/latex": [
       "\\begin{enumerate*}\n",
       "\\item 2\n",
       "\\item 3\n",
       "\\end{enumerate*}\n"
      ],
      "text/markdown": [
       "1. 2\n",
       "2. 3\n",
       "\n",
       "\n"
      ],
      "text/plain": [
       "[1] 2 3"
      ]
     },
     "metadata": {},
     "output_type": "display_data"
    },
    {
     "data": {
      "text/html": [
       "<style>\n",
       ".list-inline {list-style: none; margin:0; padding: 0}\n",
       ".list-inline>li {display: inline-block}\n",
       ".list-inline>li:not(:last-child)::after {content: \"\\00b7\"; padding: 0 .5ex}\n",
       "</style>\n",
       "<ol class=list-inline><li>'I am a undergraduate student'</li><li>'who am I?'</li><li>'who are you?'</li></ol>\n"
      ],
      "text/latex": [
       "\\begin{enumerate*}\n",
       "\\item 'I am a undergraduate student'\n",
       "\\item 'who am I?'\n",
       "\\item 'who are you?'\n",
       "\\end{enumerate*}\n"
      ],
      "text/markdown": [
       "1. 'I am a undergraduate student'\n",
       "2. 'who am I?'\n",
       "3. 'who are you?'\n",
       "\n",
       "\n"
      ],
      "text/plain": [
       "[1] \"I am a undergraduate student\" \"who am I?\"                   \n",
       "[3] \"who are you?\"                "
      ]
     },
     "metadata": {},
     "output_type": "display_data"
    },
    {
     "data": {
      "text/html": [
       "<style>\n",
       ".list-inline {list-style: none; margin:0; padding: 0}\n",
       ".list-inline>li {display: inline-block}\n",
       ".list-inline>li:not(:last-child)::after {content: \"\\00b7\"; padding: 0 .5ex}\n",
       "</style>\n",
       "<ol class=list-inline><li>'I AM A GRADUATE STUDENT'</li><li>'WHO AM I?'</li><li>'WHO ARE YOU?'</li></ol>\n"
      ],
      "text/latex": [
       "\\begin{enumerate*}\n",
       "\\item 'I AM A GRADUATE STUDENT'\n",
       "\\item 'WHO AM I?'\n",
       "\\item 'WHO ARE YOU?'\n",
       "\\end{enumerate*}\n"
      ],
      "text/markdown": [
       "1. 'I AM A GRADUATE STUDENT'\n",
       "2. 'WHO AM I?'\n",
       "3. 'WHO ARE YOU?'\n",
       "\n",
       "\n"
      ],
      "text/plain": [
       "[1] \"I AM A GRADUATE STUDENT\" \"WHO AM I?\"              \n",
       "[3] \"WHO ARE YOU?\"           "
      ]
     },
     "metadata": {},
     "output_type": "display_data"
    },
    {
     "data": {
      "text/html": [
       "<style>\n",
       ".list-inline {list-style: none; margin:0; padding: 0}\n",
       ".list-inline>li {display: inline-block}\n",
       ".list-inline>li:not(:last-child)::after {content: \"\\00b7\"; padding: 0 .5ex}\n",
       "</style>\n",
       "<ol class=list-inline><li>'i am a graduate student'</li><li>'who am i?'</li><li>'who are you?'</li></ol>\n"
      ],
      "text/latex": [
       "\\begin{enumerate*}\n",
       "\\item 'i am a graduate student'\n",
       "\\item 'who am i?'\n",
       "\\item 'who are you?'\n",
       "\\end{enumerate*}\n"
      ],
      "text/markdown": [
       "1. 'i am a graduate student'\n",
       "2. 'who am i?'\n",
       "3. 'who are you?'\n",
       "\n",
       "\n"
      ],
      "text/plain": [
       "[1] \"i am a graduate student\" \"who am i?\"              \n",
       "[3] \"who are you?\"           "
      ]
     },
     "metadata": {},
     "output_type": "display_data"
    }
   ],
   "source": [
    "x= rep(\"\",3) \n",
    "x[1]  = \"I am a graduate student\"\n",
    "x[2] = \"who am I?\" \n",
    "x[3] = \"who are you?\" \n",
    "\n",
    "nchar(x[1]) \n",
    "substring(x[1],1,3) \n",
    "strsplit(x[2], split=\" \") \n",
    "paste(\"a\",\"hello\",sep=\"\") \n",
    "grep(\"who\",x) \n",
    "gsub(\"graduate\",\"undergraduate\",x) \n",
    "toupper(x) \n",
    "tolower(x)"
   ]
  },
  {
   "cell_type": "markdown",
   "id": "2eaefcde",
   "metadata": {},
   "source": [
    " \n",
    "\n",
    "## Reading data from files"
   ]
  },
  {
   "cell_type": "code",
   "execution_count": 8,
   "id": "c000fdcb",
   "metadata": {},
   "outputs": [
    {
     "data": {
      "text/html": [
       "<table class=\"dataframe\">\n",
       "<caption>A data.frame: 25 × 4</caption>\n",
       "<thead>\n",
       "\t<tr><th scope=col>V1</th><th scope=col>V2</th><th scope=col>V3</th><th scope=col>V4</th></tr>\n",
       "\t<tr><th scope=col>&lt;dbl&gt;</th><th scope=col>&lt;dbl&gt;</th><th scope=col>&lt;dbl&gt;</th><th scope=col>&lt;dbl&gt;</th></tr>\n",
       "</thead>\n",
       "<tbody>\n",
       "\t<tr><td>0.85332781</td><td>0.74786829</td><td>0.46077603</td><td>0.15329363</td></tr>\n",
       "\t<tr><td>0.64914341</td><td>0.72662991</td><td>0.54947333</td><td>0.24407450</td></tr>\n",
       "\t<tr><td>0.18542226</td><td>0.26383824</td><td>0.57954435</td><td>0.97183043</td></tr>\n",
       "\t<tr><td>0.49988644</td><td>0.93933958</td><td>0.21200122</td><td>0.99106874</td></tr>\n",
       "\t<tr><td>0.26374177</td><td>0.98626354</td><td>0.54450177</td><td>0.26758020</td></tr>\n",
       "\t<tr><td>0.61112732</td><td>0.33217895</td><td>0.05834972</td><td>0.54131304</td></tr>\n",
       "\t<tr><td>0.36914234</td><td>0.08085834</td><td>0.05588211</td><td>0.85876284</td></tr>\n",
       "\t<tr><td>0.25350728</td><td>0.83706713</td><td>0.63014817</td><td>0.18264769</td></tr>\n",
       "\t<tr><td>0.20357072</td><td>0.25849346</td><td>0.30214484</td><td>0.05598072</td></tr>\n",
       "\t<tr><td>0.47116464</td><td>0.67394962</td><td>0.28081747</td><td>0.50700250</td></tr>\n",
       "\t<tr><td>0.65012395</td><td>0.01026046</td><td>0.54948944</td><td>0.29967572</td></tr>\n",
       "\t<tr><td>0.75223667</td><td>0.07775317</td><td>0.71929115</td><td>0.69480813</td></tr>\n",
       "\t<tr><td>0.49442723</td><td>0.49138378</td><td>0.78043093</td><td>0.17591590</td></tr>\n",
       "\t<tr><td>0.15364556</td><td>0.16670729</td><td>0.73303867</td><td>0.01809015</td></tr>\n",
       "\t<tr><td>0.68046732</td><td>0.44405894</td><td>0.07383923</td><td>0.34538734</td></tr>\n",
       "\t<tr><td>0.70716893</td><td>0.02882177</td><td>0.84202571</td><td>0.77440232</td></tr>\n",
       "\t<tr><td>0.83129505</td><td>0.08661298</td><td>0.74557430</td><td>0.93672425</td></tr>\n",
       "\t<tr><td>0.08638216</td><td>0.78741956</td><td>0.63246397</td><td>0.19764044</td></tr>\n",
       "\t<tr><td>0.75538823</td><td>0.09585979</td><td>0.90368484</td><td>0.06294819</td></tr>\n",
       "\t<tr><td>0.23711352</td><td>0.35896511</td><td>0.87965262</td><td>0.59115317</td></tr>\n",
       "\t<tr><td>0.31184167</td><td>0.75218984</td><td>0.27041038</td><td>0.07943309</td></tr>\n",
       "\t<tr><td>0.64790627</td><td>0.05523584</td><td>0.34259154</td><td>0.11879538</td></tr>\n",
       "\t<tr><td>0.73803657</td><td>0.61349332</td><td>0.27953861</td><td>0.26276163</td></tr>\n",
       "\t<tr><td>0.06645320</td><td>0.70710992</td><td>0.15588645</td><td>0.29456163</td></tr>\n",
       "\t<tr><td>0.92541098</td><td>0.22925642</td><td>0.71822735</td><td>0.66264051</td></tr>\n",
       "</tbody>\n",
       "</table>\n"
      ],
      "text/latex": [
       "A data.frame: 25 × 4\n",
       "\\begin{tabular}{llll}\n",
       " V1 & V2 & V3 & V4\\\\\n",
       " <dbl> & <dbl> & <dbl> & <dbl>\\\\\n",
       "\\hline\n",
       "\t 0.85332781 & 0.74786829 & 0.46077603 & 0.15329363\\\\\n",
       "\t 0.64914341 & 0.72662991 & 0.54947333 & 0.24407450\\\\\n",
       "\t 0.18542226 & 0.26383824 & 0.57954435 & 0.97183043\\\\\n",
       "\t 0.49988644 & 0.93933958 & 0.21200122 & 0.99106874\\\\\n",
       "\t 0.26374177 & 0.98626354 & 0.54450177 & 0.26758020\\\\\n",
       "\t 0.61112732 & 0.33217895 & 0.05834972 & 0.54131304\\\\\n",
       "\t 0.36914234 & 0.08085834 & 0.05588211 & 0.85876284\\\\\n",
       "\t 0.25350728 & 0.83706713 & 0.63014817 & 0.18264769\\\\\n",
       "\t 0.20357072 & 0.25849346 & 0.30214484 & 0.05598072\\\\\n",
       "\t 0.47116464 & 0.67394962 & 0.28081747 & 0.50700250\\\\\n",
       "\t 0.65012395 & 0.01026046 & 0.54948944 & 0.29967572\\\\\n",
       "\t 0.75223667 & 0.07775317 & 0.71929115 & 0.69480813\\\\\n",
       "\t 0.49442723 & 0.49138378 & 0.78043093 & 0.17591590\\\\\n",
       "\t 0.15364556 & 0.16670729 & 0.73303867 & 0.01809015\\\\\n",
       "\t 0.68046732 & 0.44405894 & 0.07383923 & 0.34538734\\\\\n",
       "\t 0.70716893 & 0.02882177 & 0.84202571 & 0.77440232\\\\\n",
       "\t 0.83129505 & 0.08661298 & 0.74557430 & 0.93672425\\\\\n",
       "\t 0.08638216 & 0.78741956 & 0.63246397 & 0.19764044\\\\\n",
       "\t 0.75538823 & 0.09585979 & 0.90368484 & 0.06294819\\\\\n",
       "\t 0.23711352 & 0.35896511 & 0.87965262 & 0.59115317\\\\\n",
       "\t 0.31184167 & 0.75218984 & 0.27041038 & 0.07943309\\\\\n",
       "\t 0.64790627 & 0.05523584 & 0.34259154 & 0.11879538\\\\\n",
       "\t 0.73803657 & 0.61349332 & 0.27953861 & 0.26276163\\\\\n",
       "\t 0.06645320 & 0.70710992 & 0.15588645 & 0.29456163\\\\\n",
       "\t 0.92541098 & 0.22925642 & 0.71822735 & 0.66264051\\\\\n",
       "\\end{tabular}\n"
      ],
      "text/markdown": [
       "\n",
       "A data.frame: 25 × 4\n",
       "\n",
       "| V1 &lt;dbl&gt; | V2 &lt;dbl&gt; | V3 &lt;dbl&gt; | V4 &lt;dbl&gt; |\n",
       "|---|---|---|---|\n",
       "| 0.85332781 | 0.74786829 | 0.46077603 | 0.15329363 |\n",
       "| 0.64914341 | 0.72662991 | 0.54947333 | 0.24407450 |\n",
       "| 0.18542226 | 0.26383824 | 0.57954435 | 0.97183043 |\n",
       "| 0.49988644 | 0.93933958 | 0.21200122 | 0.99106874 |\n",
       "| 0.26374177 | 0.98626354 | 0.54450177 | 0.26758020 |\n",
       "| 0.61112732 | 0.33217895 | 0.05834972 | 0.54131304 |\n",
       "| 0.36914234 | 0.08085834 | 0.05588211 | 0.85876284 |\n",
       "| 0.25350728 | 0.83706713 | 0.63014817 | 0.18264769 |\n",
       "| 0.20357072 | 0.25849346 | 0.30214484 | 0.05598072 |\n",
       "| 0.47116464 | 0.67394962 | 0.28081747 | 0.50700250 |\n",
       "| 0.65012395 | 0.01026046 | 0.54948944 | 0.29967572 |\n",
       "| 0.75223667 | 0.07775317 | 0.71929115 | 0.69480813 |\n",
       "| 0.49442723 | 0.49138378 | 0.78043093 | 0.17591590 |\n",
       "| 0.15364556 | 0.16670729 | 0.73303867 | 0.01809015 |\n",
       "| 0.68046732 | 0.44405894 | 0.07383923 | 0.34538734 |\n",
       "| 0.70716893 | 0.02882177 | 0.84202571 | 0.77440232 |\n",
       "| 0.83129505 | 0.08661298 | 0.74557430 | 0.93672425 |\n",
       "| 0.08638216 | 0.78741956 | 0.63246397 | 0.19764044 |\n",
       "| 0.75538823 | 0.09585979 | 0.90368484 | 0.06294819 |\n",
       "| 0.23711352 | 0.35896511 | 0.87965262 | 0.59115317 |\n",
       "| 0.31184167 | 0.75218984 | 0.27041038 | 0.07943309 |\n",
       "| 0.64790627 | 0.05523584 | 0.34259154 | 0.11879538 |\n",
       "| 0.73803657 | 0.61349332 | 0.27953861 | 0.26276163 |\n",
       "| 0.06645320 | 0.70710992 | 0.15588645 | 0.29456163 |\n",
       "| 0.92541098 | 0.22925642 | 0.71822735 | 0.66264051 |\n",
       "\n"
      ],
      "text/plain": [
       "   V1         V2         V3         V4        \n",
       "1  0.85332781 0.74786829 0.46077603 0.15329363\n",
       "2  0.64914341 0.72662991 0.54947333 0.24407450\n",
       "3  0.18542226 0.26383824 0.57954435 0.97183043\n",
       "4  0.49988644 0.93933958 0.21200122 0.99106874\n",
       "5  0.26374177 0.98626354 0.54450177 0.26758020\n",
       "6  0.61112732 0.33217895 0.05834972 0.54131304\n",
       "7  0.36914234 0.08085834 0.05588211 0.85876284\n",
       "8  0.25350728 0.83706713 0.63014817 0.18264769\n",
       "9  0.20357072 0.25849346 0.30214484 0.05598072\n",
       "10 0.47116464 0.67394962 0.28081747 0.50700250\n",
       "11 0.65012395 0.01026046 0.54948944 0.29967572\n",
       "12 0.75223667 0.07775317 0.71929115 0.69480813\n",
       "13 0.49442723 0.49138378 0.78043093 0.17591590\n",
       "14 0.15364556 0.16670729 0.73303867 0.01809015\n",
       "15 0.68046732 0.44405894 0.07383923 0.34538734\n",
       "16 0.70716893 0.02882177 0.84202571 0.77440232\n",
       "17 0.83129505 0.08661298 0.74557430 0.93672425\n",
       "18 0.08638216 0.78741956 0.63246397 0.19764044\n",
       "19 0.75538823 0.09585979 0.90368484 0.06294819\n",
       "20 0.23711352 0.35896511 0.87965262 0.59115317\n",
       "21 0.31184167 0.75218984 0.27041038 0.07943309\n",
       "22 0.64790627 0.05523584 0.34259154 0.11879538\n",
       "23 0.73803657 0.61349332 0.27953861 0.26276163\n",
       "24 0.06645320 0.70710992 0.15588645 0.29456163\n",
       "25 0.92541098 0.22925642 0.71822735 0.66264051"
      ]
     },
     "metadata": {},
     "output_type": "display_data"
    }
   ],
   "source": [
    "data=read.csv(\"Lab 1 - data.csv\") \n",
    "data\n",
    "data[,1] = data[,1] * 10 \n",
    "write.csv(data,\"newdata.csv\", row.names=F) "
   ]
  },
  {
   "cell_type": "markdown",
   "id": "b6604f92",
   "metadata": {},
   "source": [
    " \n",
    "## Flow control"
   ]
  },
  {
   "cell_type": "code",
   "execution_count": 9,
   "id": "2c6729bc",
   "metadata": {},
   "outputs": [
    {
     "data": {
      "text/html": [
       "FALSE"
      ],
      "text/latex": [
       "FALSE"
      ],
      "text/markdown": [
       "FALSE"
      ],
      "text/plain": [
       "[1] FALSE"
      ]
     },
     "metadata": {},
     "output_type": "display_data"
    },
    {
     "data": {
      "text/html": [
       "TRUE"
      ],
      "text/latex": [
       "TRUE"
      ],
      "text/markdown": [
       "TRUE"
      ],
      "text/plain": [
       "[1] TRUE"
      ]
     },
     "metadata": {},
     "output_type": "display_data"
    },
    {
     "data": {
      "text/html": [
       "TRUE"
      ],
      "text/latex": [
       "TRUE"
      ],
      "text/markdown": [
       "TRUE"
      ],
      "text/plain": [
       "[1] TRUE"
      ]
     },
     "metadata": {},
     "output_type": "display_data"
    },
    {
     "data": {
      "text/html": [
       "FALSE"
      ],
      "text/latex": [
       "FALSE"
      ],
      "text/markdown": [
       "FALSE"
      ],
      "text/plain": [
       "[1] FALSE"
      ]
     },
     "metadata": {},
     "output_type": "display_data"
    }
   ],
   "source": [
    "x=1 \n",
    "\n",
    "y=2 \n",
    "\n",
    "x==y \n",
    "\n",
    "x != y \n",
    "\n",
    "(x==1) || (y==2) \n",
    "\n",
    "(x==0) && (y==2) "
   ]
  },
  {
   "cell_type": "markdown",
   "id": "88da2f11",
   "metadata": {},
   "source": [
    " \n",
    "\n",
    "## Loops"
   ]
  },
  {
   "cell_type": "code",
   "execution_count": 10,
   "id": "366f36ac",
   "metadata": {},
   "outputs": [
    {
     "data": {
      "text/html": [
       "<style>\n",
       ".list-inline {list-style: none; margin:0; padding: 0}\n",
       ".list-inline>li {display: inline-block}\n",
       ".list-inline>li:not(:last-child)::after {content: \"\\00b7\"; padding: 0 .5ex}\n",
       "</style>\n",
       "<ol class=list-inline><li>0.603933725506067</li><li>0.707989612128586</li><li>0.911851469194517</li><li>0.464594220742583</li><li>0.714766429038718</li><li>0.605738523881882</li><li>0.770683117443696</li><li>0.351201799465343</li><li>0.670357176335528</li><li>0.536818868480623</li></ol>\n"
      ],
      "text/latex": [
       "\\begin{enumerate*}\n",
       "\\item 0.603933725506067\n",
       "\\item 0.707989612128586\n",
       "\\item 0.911851469194517\n",
       "\\item 0.464594220742583\n",
       "\\item 0.714766429038718\n",
       "\\item 0.605738523881882\n",
       "\\item 0.770683117443696\n",
       "\\item 0.351201799465343\n",
       "\\item 0.670357176335528\n",
       "\\item 0.536818868480623\n",
       "\\end{enumerate*}\n"
      ],
      "text/markdown": [
       "1. 0.603933725506067\n",
       "2. 0.707989612128586\n",
       "3. 0.911851469194517\n",
       "4. 0.464594220742583\n",
       "5. 0.714766429038718\n",
       "6. 0.605738523881882\n",
       "7. 0.770683117443696\n",
       "8. 0.351201799465343\n",
       "9. 0.670357176335528\n",
       "10. 0.536818868480623\n",
       "\n",
       "\n"
      ],
      "text/plain": [
       " [1] 0.6039337 0.7079896 0.9118515 0.4645942 0.7147664 0.6057385 0.7706831\n",
       " [8] 0.3512018 0.6703572 0.5368189"
      ]
     },
     "metadata": {},
     "output_type": "display_data"
    },
    {
     "data": {
      "text/html": [
       "6.33793494221754"
      ],
      "text/latex": [
       "6.33793494221754"
      ],
      "text/markdown": [
       "6.33793494221754"
      ],
      "text/plain": [
       "[1] 6.337935"
      ]
     },
     "metadata": {},
     "output_type": "display_data"
    }
   ],
   "source": [
    "x = runif(10, min=0, max=1) \n",
    "x\n",
    "sum=0 \n",
    "for(i in 1:10){\n",
    "    sum=sum+x[i]\n",
    "} \n",
    "sum "
   ]
  },
  {
   "cell_type": "code",
   "execution_count": 11,
   "id": "a99a9dc3",
   "metadata": {},
   "outputs": [
    {
     "data": {
      "text/html": [
       "3628800"
      ],
      "text/latex": [
       "3628800"
      ],
      "text/markdown": [
       "3628800"
      ],
      "text/plain": [
       "[1] 3628800"
      ]
     },
     "metadata": {},
     "output_type": "display_data"
    }
   ],
   "source": [
    "x = 1:10\n",
    "product = 1 \n",
    "for(i in 1:10){\n",
    "    product=product*x[i] \n",
    "}\n",
    "product "
   ]
  },
  {
   "cell_type": "code",
   "execution_count": 12,
   "id": "c7c7d96f",
   "metadata": {},
   "outputs": [
    {
     "data": {
      "text/html": [
       "<style>\n",
       ".list-inline {list-style: none; margin:0; padding: 0}\n",
       ".list-inline>li {display: inline-block}\n",
       ".list-inline>li:not(:last-child)::after {content: \"\\00b7\"; padding: 0 .5ex}\n",
       "</style>\n",
       "<ol class=list-inline><li>2</li><li>3</li><li>5</li><li>7</li></ol>\n"
      ],
      "text/latex": [
       "\\begin{enumerate*}\n",
       "\\item 2\n",
       "\\item 3\n",
       "\\item 5\n",
       "\\item 7\n",
       "\\end{enumerate*}\n"
      ],
      "text/markdown": [
       "1. 2\n",
       "2. 3\n",
       "3. 5\n",
       "4. 7\n",
       "\n",
       "\n"
      ],
      "text/plain": [
       "[1] 2 3 5 7"
      ]
     },
     "metadata": {},
     "output_type": "display_data"
    }
   ],
   "source": [
    "x = c(5,3,7,2)\n",
    "n = length(x) \n",
    "\n",
    "for(i in 1:(n-1)){ \n",
    "    for(j in i:n){ \n",
    "        if(x[i]>x[j]){ \n",
    "            y=x[i] \n",
    "            x[i]=x[j] \n",
    "            x[j]=y \n",
    "        } \n",
    "    } \n",
    "} \n",
    "x"
   ]
  },
  {
   "cell_type": "markdown",
   "id": "8f7a4c56",
   "metadata": {},
   "source": [
    "## Constructing your own functions \n",
    "\n",
    "my_function_name = function(x, y, ...){ \n",
    "\n",
    "…. \n",
    "\n",
    "return(result) \n",
    "\n",
    "}"
   ]
  },
  {
   "cell_type": "code",
   "execution_count": 13,
   "id": "7ef39dcc",
   "metadata": {},
   "outputs": [
    {
     "data": {
      "text/html": [
       "1275"
      ],
      "text/latex": [
       "1275"
      ],
      "text/markdown": [
       "1275"
      ],
      "text/plain": [
       "[1] 1275"
      ]
     },
     "metadata": {},
     "output_type": "display_data"
    }
   ],
   "source": [
    "my_sum = function(x){ \n",
    "    n = length(x)\n",
    "    sum=0 \n",
    "    for(i in 1:n){\n",
    "        sum = sum + x[i] \n",
    "    } \n",
    "    sum \n",
    "}\n",
    "\n",
    "x = 1:50\n",
    "my_sum(x)"
   ]
  }
 ],
 "metadata": {
  "jupytext": {
   "cell_metadata_filter": "-all",
   "formats": "md:myst",
   "text_representation": {
    "extension": ".md",
    "format_name": "myst",
    "format_version": 0.13,
    "jupytext_version": "1.11.5"
   }
  },
  "kernelspec": {
   "display_name": "R",
   "language": "R",
   "name": "ir"
  },
  "language_info": {
   "codemirror_mode": "r",
   "file_extension": ".r",
   "mimetype": "text/x-r-source",
   "name": "R",
   "pygments_lexer": "r",
   "version": "4.2.2"
  },
  "source_map": [
   14,
   41,
   44,
   46,
   50,
   53,
   57,
   60,
   66,
   69,
   74,
   79,
   88,
   92,
   106,
   112,
   117,
   121,
   133,
   137,
   147,
   156,
   170,
   182
  ]
 },
 "nbformat": 4,
 "nbformat_minor": 5
}