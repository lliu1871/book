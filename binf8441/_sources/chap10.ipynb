{
 "cells": [
  {
   "cell_type": "markdown",
   "id": "a9a5a716",
   "metadata": {},
   "source": [
    "# Chapter 10: Monte Carlo simulation\n",
    "\n",
    "```{epigraph}\n",
    "*\"Do the difficult things while they are easy and do the great things while they are small. A journey of a thousand miles must begin with a single step.\"*\n",
    "\n",
    "-- Lao Tzu\n",
    "```\n",
    "\n",
    "```{seealso}\n",
    "- [Monte carlo simulation](https://en.wikipedia.org/wiki/Monte_Carlo_method)\n",
    "```\n",
    "\n",
    "````{prf:definition} Monte Carlo simulation\n",
    ":label: 10.1\n",
    ":nonumber:\n",
    "Monte Carlo simulation is a computational technique that rely on repeated random samplings to obtain numerical results. \n",
    "````\n",
    "\n",
    "## Approximate integrals\n",
    "Monte Carlo simulation can be used to calculate intractable integrals. Let $\\int k(x)dx$ be the intractable integral and $f(x)$ is a probability density with the same domain as $k(x)$. \n",
    "\n",
    "$$\\int k(x)dx = \\int \\frac{k(x)}{f(x)}f(x)dx$$\n",
    "\n",
    "Let $g(x) = \\frac{k(x)}{f(x)}$. The target integral is equal to the expectation of $g(x)$ with respect to the probability density $f(x)$,\n",
    "\n",
    "$$\\int k(x)dx = E(g(x))$$\n",
    "\n",
    "By the law of large numbers, the expectation $E\\left(g(x)\\right)$ can be approximated by the sample average of $g(x)$, i.e.,\n",
    "\n",
    "$$\n",
    "E(g(x)) \\approx \\frac{1}{n} \\sum_{i=1}^{n} g\\left(x_{i}\\right)\n",
    "$$\n",
    "\n",
    "It indicates that we can generate a ransom sample $\\left(x_{1}, \\ldots, x_{n}\\right)$ from $f(x)$ and then calculate the average $\\frac{1}{n} \\sum_{i=1}^{n} g\\left(x_{i}\\right)$ to approximate the intractable integral $\\int k(x)dx$\n",
    "\n",
    "```{prf:algorithm} Monte Carlo simulation\n",
    ":label: alg1\n",
    "\n",
    "**Inputs**: a probability distribution $f(x)$\n",
    "\n",
    "**Output**: compute the integral $\\int k(x)dx$\n",
    "\n",
    "1. Generate $n$ random numbers $\\left(x_{1}, \\ldots, x_{n}\\right)$ from the distribution $f(x)$\n",
    "2. Calculate the average $\\frac{1}{n} \\sum_{i=1}^{n} k(x_i)/f(x_i)$\n",
    "\n",
    "```\n",
    "\n",
    "````\\{prf:example\\} 10.1\n",
    ":nonumber:\n",
    ":label: 10.1\n",
    ":nonumber:\n",
    "Calculate $\\int_{0}^{\\infty}log(x) e^{-x} d x$\n",
    "\n",
    "Note that $e^{-x}$ is the exponential density function with mean $=1$. Thus, the integral is the expectation $E(\\log (x))$. Monte Carlo approximation to the integral includes the following steps\n",
    "\n",
    "1) Generate $n$ random numbers $\\left(x_{1}, \\ldots, x_{n}\\right)$ from the exponential distribution with $\\lambda=1$.\n",
    "\n",
    "2) Approximate the integral by $\\frac{1}{n} \\sum_{i=1}^{n} \\log \\left(x_{i}\\right)$\n",
    "````"
   ]
  },
  {
   "cell_type": "code",
   "execution_count": 1,
   "id": "36fa6047",
   "metadata": {},
   "outputs": [
    {
     "data": {
      "text/html": [
       "-0.604079783627019"
      ],
      "text/latex": [
       "-0.604079783627019"
      ],
      "text/markdown": [
       "-0.604079783627019"
      ],
      "text/plain": [
       "[1] -0.6040798"
      ]
     },
     "metadata": {},
     "output_type": "display_data"
    }
   ],
   "source": [
    "x = rexp(10000)\n",
    "mean(log(x))"
   ]
  },
  {
   "cell_type": "markdown",
   "id": "a2f891d1",
   "metadata": {},
   "source": [
    "````\\{prf:example\\} 10.2\n",
    ":nonumber:\n",
    ":label: 10.2\n",
    ":nonumber:\n",
    "Calculate $\\int_{1}^{5} \\frac{2 \\log (x)}{x^{2}} d x$. Note that $\\int_{1}^{5} \\frac{2 \\log (x)}{x^{2}} d x=\\int_{1}^{5} \\frac{8 \\log (x)}{x^{2}} \\frac{1}{4} d x$ and $\\frac{1}{4}$ is the density of uniform (1,5). The integral $\\int_{1}^{5} \\frac{2 \\log (x)}{x^{2}} d x=E(g(X))$, in which $g(x)=\\frac{8 \\log (x)}{x^{2}}$ and the density $f(x)=\\frac{1}{4}$.\n",
    "````"
   ]
  },
  {
   "cell_type": "code",
   "execution_count": 2,
   "id": "255b5c3d",
   "metadata": {},
   "outputs": [
    {
     "data": {
      "text/html": [
       "1.07535449265372"
      ],
      "text/latex": [
       "1.07535449265372"
      ],
      "text/markdown": [
       "1.07535449265372"
      ],
      "text/plain": [
       "[1] 1.075354"
      ]
     },
     "metadata": {},
     "output_type": "display_data"
    }
   ],
   "source": [
    "x = runif(10000,1,4)\n",
    "mean(8*log(x)/x^2)"
   ]
  },
  {
   "cell_type": "markdown",
   "id": "81ed5a45",
   "metadata": {},
   "source": [
    "## Simulation-based inference\n",
    "If the population (or the probability distribution) is given, we can generate random samples from the probability distribution. The random samples generated from computers are called simulated data which can be used to perform a wide range of statistical inference\n",
    "\n",
    "### 1. Calculating the variance of an estimator \n",
    "Suppose $\\left(x_{1}, \\ldots, x_{n}\\right)$ is a random sample generated from a given probability distribution with a given parameter $\\theta$. Let $\\hat{\\theta}$ be the estimator of $\\theta$. The variance of $\\hat{\\theta}$ can be approximated by the sample variance of $\\hat{\\theta}$. \n",
    "\n",
    "````\\{prf:example\\} 10.3\n",
    ":nonumber:\n",
    ":label: 10.3\n",
    ":nonumber:\n",
    "A random sample of size 10 are generated from the normal distribution with mean 1 and variance 1 . Find the variance of $\\hat{\\theta}=\\frac{x_{\\min }+x_{\\max }}{2}$.\n",
    "\n",
    "We use Monte Carlo simulation to approximate $var\\left(\\hat{\\theta}\\right)$\n",
    "\n",
    "1. Generate 100 samples of size 10 from the normal distribution with mean 1 and variance 1.\n",
    "\n",
    "2. For each sample, calculate $\\hat{\\theta}=\\frac{x_{\\min }+x_{\\max }}{2}$. Then we have $\\left(\\widehat{\\theta_{1}}, \\ldots, \\widehat{\\theta_{100}}\\right)$\n",
    "\n",
    "3. $\\operatorname{var}(\\hat{\\theta}) \\approx$ sample variance of $\\left(\\widehat{\\theta_{1}}, \\ldots, \\widehat{\\theta_{100}}\\right)$\n",
    "````"
   ]
  },
  {
   "cell_type": "code",
   "execution_count": 3,
   "id": "4a55009c",
   "metadata": {},
   "outputs": [
    {
     "data": {
      "text/html": [
       "0.160887519451602"
      ],
      "text/latex": [
       "0.160887519451602"
      ],
      "text/markdown": [
       "0.160887519451602"
      ],
      "text/plain": [
       "[1] 0.1608875"
      ]
     },
     "metadata": {},
     "output_type": "display_data"
    }
   ],
   "source": [
    "nsim = 100\n",
    "theta_hat = 1:nsim\n",
    "\n",
    "for(i in 1:nsim){\n",
    "  x = rnorm(10,mean=1,sd=1)\n",
    "  theta_hat[i] = (max(x)+min(x))/2\n",
    "}\n",
    "\n",
    "var(theta_hat)"
   ]
  },
  {
   "cell_type": "markdown",
   "id": "443b31df",
   "metadata": {},
   "source": [
    "### 2. Comparing the performance of estimators\n",
    "\n",
    "The mean squared error $E\\left[(\\hat{\\theta}-\\theta)^{2}\\right]$ of the estimator $\\hat{\\theta}$ of the parameter $\\theta$ can be approximated by simulation. When the true $\\theta$ is given, the expectation $E\\left[(\\hat{\\theta}-\\theta)^{2}\\right]$ can be approximated by the sample average of $\\left(\\widehat{\\theta}_{i}-\\theta\\right)^{2}$, in which $\\widehat{\\theta}_{i}$ is calculated from the sample $i$ generated from the probability distribution.\n",
    "\n",
    "````\\{prf:example\\} 10.4\n",
    ":nonumber:\n",
    ":label: 10.4\n",
    ":nonumber:\n",
    "A random sample of size 10 is generated from the normal distribution with the unknown mean $\\mu$ and variance 1. We want to compare the mean squared errors of two estimators, the sample median $\\tilde{x}$ and the sample average $\\bar{x}$, of the population mean $\\mu$.\n",
    "\n",
    "We use Monte Carlo simulation to approximate the mean squared error.\n",
    "1. Generate 100 samples of size 10 from the normal distribution $(\\mu,\\sigma^2=1)$.\n",
    "\n",
    "2. For each sample, calculate the mean squared error $m=(\\tilde{x}-\\mu)^{2}$ of the sample median $\\tilde{x}$. Now, we have 100 MSEs.\n",
    "\n",
    "3. $E\\left[(\\tilde{x}-\\mu)^{2}\\right] \\approx$ the average of $\\left(m_{1}, \\ldots, m_{100}\\right)$.\n",
    "\n",
    "Similarly, we calculate the mean squared error of $\\tilde{x}$ for other values of $\\mu$. We can make a plot of the mean squared error of the sample median $\\tilde{x}$ for a range of values of $\\mu$. \n",
    "\n",
    "Using the same procedure, we calculate the mean squared error of the sample average $\\bar{x}$ for the same range of values of $\\mu$. Then, we compare the mean squared errors of $\\tilde{x}$ and $\\bar{x}$ for each $\\mu$.\n",
    "````"
   ]
  },
  {
   "cell_type": "code",
   "execution_count": 4,
   "id": "35cf8397",
   "metadata": {},
   "outputs": [
    {
     "data": {
      "image/png": "[encoded data removed]",
      "text/plain": [
       "plot without title"
      ]
     },
     "metadata": {
      "filenames": {
       "image/png": "D:\\OneDrive\\Github\\Jupyter\\jupyter_book\\binf8441\\_build\\jupyter_execute\\chap10_7_0.png"
      },
      "image/png": {
       "height": 420,
       "width": 420
      }
     },
     "output_type": "display_data"
    }
   ],
   "source": [
    "nsim = 100\n",
    "mu = seq(1,10,by=0.1)\n",
    "n = length(mu)\n",
    "sample_median = sample_average = 1:nsim\n",
    "mse_median = mse_average = 1:n\n",
    "\n",
    "for(j in 1:n){\n",
    "  for(i in 1:nsim){\n",
    "    x = rnorm(10,mean=mu[j],sd=1)\n",
    "    sample_median[i] = mean(x)\n",
    "    sample_average[i] = median(x)\n",
    "  }\n",
    "  mse_median[j] = mean((sample_median-mu[j])^2)\n",
    "  mse_average[j] = mean((sample_average-mu[j])^2)\n",
    "}\n",
    "\n",
    "plot(mu, mse_median, type=\"l\", col=\"red\",pch=16, ylim=c(0.05,0.3),ylab=\"Mean Squared Error\")\n",
    "points(mu, mse_average, type=\"l\", col=\"blue\", pch=16)\n",
    "legend(\"topleft\", legend=c(\"mse_median\", \"mse_average\"), fill = c(\"red\",\"blue\"))\n"
   ]
  },
  {
   "cell_type": "markdown",
   "id": "f2108b6c",
   "metadata": {},
   "source": [
    "### 3. Approximate the power of hypothesis tests\n",
    "\n",
    "The power is $P\\left(\\right.$ reject $\\left.H_{0} \\mid H_{1}\\right)$, which can be approximated by simulation, when the alternative probability distribution under $\\mathrm{H}_{1}$ is given. We generate samples under $\\mathrm{H}_{1}$. The power of a test, i.e., the probability of rejecting $\\mathrm{H}_{0}$, is approximated by the proportion of samples for which $\\mathrm{H}_{0}$ is rejected by the test. If the alternative hypothesis is an interval of parameter $\\theta$, we need to calculate the power for each value of $\\theta$.\n",
    "\n",
    "````\\{prf:example\\} 10.5\n",
    ":nonumber:\n",
    ":label: 10.5\n",
    ":nonumber:\n",
    "We want to calculate the power of the two sample t-test. Suppose the samples are generated from the normal distribution with mean $\\mu$ and variance 1 . $\\mathrm{H}_{0}: \\mu_{1}=\\mu_{2}$ vs $\\mathrm{H}_{1}: \\mu_{1} \\neq \\mu_{2}$. Let $\\mu_{1}=2$. To approximate the power of two sample t-test, we\n",
    "\n",
    "1) Generate 100 data sets. Each data set contains two samples. The first sample is generated from the normal distribution $\\left(\\mu_{1}=2, \\sigma^2=1\\right)$. The second sample is generated from another normal distribution $\\left(\\mu_{2}=3, \\sigma^2=1\\right)$. \n",
    "\n",
    "2) For each data set, we perform two sample t-test.\n",
    "\n",
    "3) The power for $\\mu_{2}=3$ is equal to the proportion of data sets for which $\\mathrm{H}_{0}$ is rejected\n",
    "\n",
    "Similarly, we can calculate the power of two sample t-test for other values of $\\left(\\mu_{1}, \\mu_{2}\\right)$, which produces the power curve of the two sample t-test.\n",
    "````"
   ]
  },
  {
   "cell_type": "code",
   "execution_count": 5,
   "id": "3996bf0d",
   "metadata": {},
   "outputs": [
    {
     "data": {
      "image/png": "[encoded data removed]",
      "text/plain": [
       "plot without title"
      ]
     },
     "metadata": {
      "filenames": {
       "image/png": "D:\\OneDrive\\Github\\Jupyter\\jupyter_book\\binf8441\\_build\\jupyter_execute\\chap10_9_0.png"
      },
      "image/png": {
       "height": 420,
       "width": 420
      }
     },
     "output_type": "display_data"
    }
   ],
   "source": [
    "n1=20\n",
    "n2=25\n",
    "mu_2 = seq(0,4,by=0.5)\n",
    "n = length(mu_2)\n",
    "nsim = 100\n",
    "pvalue = 1:nsim\n",
    "power = 1:n\n",
    "\n",
    "for(j in 1:n){\n",
    "  for(i in 1:nsim){\n",
    "    x = rnorm(n1,mean=2,sd=1)\n",
    "    y = rnorm(n2,mean=mu_2[j],sd=1)\n",
    "    pvalue[i] = t.test(x, y, alternative = \"two.sided\")$p.value\n",
    "  }\n",
    "  power[j] = sum(pvalue<0.05)\n",
    "}\n",
    "plot(mu_2,power,col=\"blue\",type=\"l\",pch=16)\n"
   ]
  }
 ],
 "metadata": {
  "jupytext": {
   "cell_metadata_filter": "-all",
   "formats": "md:myst",
   "text_representation": {
    "extension": ".md",
    "format_name": "myst",
    "format_version": 0.13,
    "jupytext_version": "1.11.5"
   }
  },
  "kernelspec": {
   "display_name": "R",
   "language": "R",
   "name": "ir"
  },
  "language_info": {
   "codemirror_mode": "r",
   "file_extension": ".r",
   "mimetype": "text/x-r-source",
   "name": "R",
   "pygments_lexer": "r",
   "version": "4.2.2"
  },
  "source_map": [
   14,
   75,
   78,
   87,
   90,
   113,
   123,
   147,
   168,
   189
  ]
 },
 "nbformat": 4,
 "nbformat_minor": 5
}