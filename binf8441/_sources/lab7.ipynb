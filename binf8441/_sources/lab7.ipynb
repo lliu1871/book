{
 "cells": [
  {
   "cell_type": "markdown",
   "id": "2e808f42",
   "metadata": {},
   "source": [
    "# Lab 7: Multiple tests\n",
    "We generate gene expression data for 4 genes"
   ]
  },
  {
   "cell_type": "code",
   "execution_count": 1,
   "id": "9e12c53c",
   "metadata": {},
   "outputs": [
    {
     "data": {
      "text/html": [
       "<table class=\"dataframe\">\n",
       "<caption>A data.frame: 20 × 5</caption>\n",
       "<thead>\n",
       "\t<tr><th scope=col>group</th><th scope=col>gene1</th><th scope=col>gene2</th><th scope=col>gene3</th><th scope=col>gene4</th></tr>\n",
       "\t<tr><th scope=col>&lt;dbl&gt;</th><th scope=col>&lt;dbl&gt;</th><th scope=col>&lt;dbl&gt;</th><th scope=col>&lt;dbl&gt;</th><th scope=col>&lt;dbl&gt;</th></tr>\n",
       "</thead>\n",
       "<tbody>\n",
       "\t<tr><td>0</td><td> 0.5897151</td><td> 0.99987821</td><td>-0.19222842</td><td>-0.4033234</td></tr>\n",
       "\t<tr><td>0</td><td> 0.3879895</td><td> 0.39597085</td><td> 0.30894302</td><td> 3.3157428</td></tr>\n",
       "\t<tr><td>0</td><td> 1.0706384</td><td>-0.07572495</td><td> 0.46094664</td><td> 1.1563011</td></tr>\n",
       "\t<tr><td>0</td><td> 0.6050366</td><td>-0.30761677</td><td>-0.12734170</td><td>-1.0653760</td></tr>\n",
       "\t<tr><td>0</td><td>-1.2725085</td><td> 0.05514196</td><td>-0.38070297</td><td> 0.4696083</td></tr>\n",
       "\t<tr><td>0</td><td>-0.3114632</td><td>-0.74945140</td><td> 1.67113364</td><td>-0.2614761</td></tr>\n",
       "\t<tr><td>0</td><td> 1.5862377</td><td> 0.02334721</td><td>-0.78842792</td><td>-1.2046106</td></tr>\n",
       "\t<tr><td>0</td><td> 0.0878046</td><td> 1.27897779</td><td> 1.18659737</td><td> 0.9487144</td></tr>\n",
       "\t<tr><td>0</td><td> 0.8659912</td><td> 0.48403517</td><td> 0.60616226</td><td> 0.2109329</td></tr>\n",
       "\t<tr><td>0</td><td>-0.5423345</td><td> 1.58484892</td><td> 1.65525154</td><td> 0.4364095</td></tr>\n",
       "\t<tr><td>1</td><td> 2.6616021</td><td>-0.70562040</td><td>-0.06065632</td><td> 1.4666255</td></tr>\n",
       "\t<tr><td>1</td><td> 2.7255071</td><td>-1.28713527</td><td> 0.87301655</td><td> 1.4478532</td></tr>\n",
       "\t<tr><td>1</td><td> 1.7061391</td><td> 0.97280068</td><td> 0.28335581</td><td> 1.7637998</td></tr>\n",
       "\t<tr><td>1</td><td> 2.9809407</td><td> 2.08611966</td><td>-0.23367076</td><td> 1.1131654</td></tr>\n",
       "\t<tr><td>1</td><td> 1.5219331</td><td> 0.75768532</td><td> 1.64768785</td><td> 2.5294648</td></tr>\n",
       "\t<tr><td>1</td><td> 2.7982165</td><td> 0.40350854</td><td> 1.05260046</td><td> 2.6309230</td></tr>\n",
       "\t<tr><td>1</td><td> 0.5986971</td><td>-0.68138684</td><td>-0.71202316</td><td> 2.2377732</td></tr>\n",
       "\t<tr><td>1</td><td> 4.2043306</td><td> 0.70164520</td><td>-0.32152845</td><td> 2.8017770</td></tr>\n",
       "\t<tr><td>1</td><td> 1.4080328</td><td> 0.02903001</td><td> 1.55539082</td><td> 1.4621019</td></tr>\n",
       "\t<tr><td>1</td><td> 3.5389220</td><td> 0.80123041</td><td> 0.13259325</td><td> 2.6598090</td></tr>\n",
       "</tbody>\n",
       "</table>\n"
      ],
      "text/latex": [
       "A data.frame: 20 × 5\n",
       "\\begin{tabular}{lllll}\n",
       " group & gene1 & gene2 & gene3 & gene4\\\\\n",
       " <dbl> & <dbl> & <dbl> & <dbl> & <dbl>\\\\\n",
       "\\hline\n",
       "\t 0 &  0.5897151 &  0.99987821 & -0.19222842 & -0.4033234\\\\\n",
       "\t 0 &  0.3879895 &  0.39597085 &  0.30894302 &  3.3157428\\\\\n",
       "\t 0 &  1.0706384 & -0.07572495 &  0.46094664 &  1.1563011\\\\\n",
       "\t 0 &  0.6050366 & -0.30761677 & -0.12734170 & -1.0653760\\\\\n",
       "\t 0 & -1.2725085 &  0.05514196 & -0.38070297 &  0.4696083\\\\\n",
       "\t 0 & -0.3114632 & -0.74945140 &  1.67113364 & -0.2614761\\\\\n",
       "\t 0 &  1.5862377 &  0.02334721 & -0.78842792 & -1.2046106\\\\\n",
       "\t 0 &  0.0878046 &  1.27897779 &  1.18659737 &  0.9487144\\\\\n",
       "\t 0 &  0.8659912 &  0.48403517 &  0.60616226 &  0.2109329\\\\\n",
       "\t 0 & -0.5423345 &  1.58484892 &  1.65525154 &  0.4364095\\\\\n",
       "\t 1 &  2.6616021 & -0.70562040 & -0.06065632 &  1.4666255\\\\\n",
       "\t 1 &  2.7255071 & -1.28713527 &  0.87301655 &  1.4478532\\\\\n",
       "\t 1 &  1.7061391 &  0.97280068 &  0.28335581 &  1.7637998\\\\\n",
       "\t 1 &  2.9809407 &  2.08611966 & -0.23367076 &  1.1131654\\\\\n",
       "\t 1 &  1.5219331 &  0.75768532 &  1.64768785 &  2.5294648\\\\\n",
       "\t 1 &  2.7982165 &  0.40350854 &  1.05260046 &  2.6309230\\\\\n",
       "\t 1 &  0.5986971 & -0.68138684 & -0.71202316 &  2.2377732\\\\\n",
       "\t 1 &  4.2043306 &  0.70164520 & -0.32152845 &  2.8017770\\\\\n",
       "\t 1 &  1.4080328 &  0.02903001 &  1.55539082 &  1.4621019\\\\\n",
       "\t 1 &  3.5389220 &  0.80123041 &  0.13259325 &  2.6598090\\\\\n",
       "\\end{tabular}\n"
      ],
      "text/markdown": [
       "\n",
       "A data.frame: 20 × 5\n",
       "\n",
       "| group &lt;dbl&gt; | gene1 &lt;dbl&gt; | gene2 &lt;dbl&gt; | gene3 &lt;dbl&gt; | gene4 &lt;dbl&gt; |\n",
       "|---|---|---|---|---|\n",
       "| 0 |  0.5897151 |  0.99987821 | -0.19222842 | -0.4033234 |\n",
       "| 0 |  0.3879895 |  0.39597085 |  0.30894302 |  3.3157428 |\n",
       "| 0 |  1.0706384 | -0.07572495 |  0.46094664 |  1.1563011 |\n",
       "| 0 |  0.6050366 | -0.30761677 | -0.12734170 | -1.0653760 |\n",
       "| 0 | -1.2725085 |  0.05514196 | -0.38070297 |  0.4696083 |\n",
       "| 0 | -0.3114632 | -0.74945140 |  1.67113364 | -0.2614761 |\n",
       "| 0 |  1.5862377 |  0.02334721 | -0.78842792 | -1.2046106 |\n",
       "| 0 |  0.0878046 |  1.27897779 |  1.18659737 |  0.9487144 |\n",
       "| 0 |  0.8659912 |  0.48403517 |  0.60616226 |  0.2109329 |\n",
       "| 0 | -0.5423345 |  1.58484892 |  1.65525154 |  0.4364095 |\n",
       "| 1 |  2.6616021 | -0.70562040 | -0.06065632 |  1.4666255 |\n",
       "| 1 |  2.7255071 | -1.28713527 |  0.87301655 |  1.4478532 |\n",
       "| 1 |  1.7061391 |  0.97280068 |  0.28335581 |  1.7637998 |\n",
       "| 1 |  2.9809407 |  2.08611966 | -0.23367076 |  1.1131654 |\n",
       "| 1 |  1.5219331 |  0.75768532 |  1.64768785 |  2.5294648 |\n",
       "| 1 |  2.7982165 |  0.40350854 |  1.05260046 |  2.6309230 |\n",
       "| 1 |  0.5986971 | -0.68138684 | -0.71202316 |  2.2377732 |\n",
       "| 1 |  4.2043306 |  0.70164520 | -0.32152845 |  2.8017770 |\n",
       "| 1 |  1.4080328 |  0.02903001 |  1.55539082 |  1.4621019 |\n",
       "| 1 |  3.5389220 |  0.80123041 |  0.13259325 |  2.6598090 |\n",
       "\n"
      ],
      "text/plain": [
       "   group gene1      gene2       gene3       gene4     \n",
       "1  0      0.5897151  0.99987821 -0.19222842 -0.4033234\n",
       "2  0      0.3879895  0.39597085  0.30894302  3.3157428\n",
       "3  0      1.0706384 -0.07572495  0.46094664  1.1563011\n",
       "4  0      0.6050366 -0.30761677 -0.12734170 -1.0653760\n",
       "5  0     -1.2725085  0.05514196 -0.38070297  0.4696083\n",
       "6  0     -0.3114632 -0.74945140  1.67113364 -0.2614761\n",
       "7  0      1.5862377  0.02334721 -0.78842792 -1.2046106\n",
       "8  0      0.0878046  1.27897779  1.18659737  0.9487144\n",
       "9  0      0.8659912  0.48403517  0.60616226  0.2109329\n",
       "10 0     -0.5423345  1.58484892  1.65525154  0.4364095\n",
       "11 1      2.6616021 -0.70562040 -0.06065632  1.4666255\n",
       "12 1      2.7255071 -1.28713527  0.87301655  1.4478532\n",
       "13 1      1.7061391  0.97280068  0.28335581  1.7637998\n",
       "14 1      2.9809407  2.08611966 -0.23367076  1.1131654\n",
       "15 1      1.5219331  0.75768532  1.64768785  2.5294648\n",
       "16 1      2.7982165  0.40350854  1.05260046  2.6309230\n",
       "17 1      0.5986971 -0.68138684 -0.71202316  2.2377732\n",
       "18 1      4.2043306  0.70164520 -0.32152845  2.8017770\n",
       "19 1      1.4080328  0.02903001  1.55539082  1.4621019\n",
       "20 1      3.5389220  0.80123041  0.13259325  2.6598090"
      ]
     },
     "metadata": {},
     "output_type": "display_data"
    }
   ],
   "source": [
    "data = data.frame(group=c(rep(0,10),rep(1,10)), \n",
    "                  gene1 = c(rnorm(10, mean=0.2, sd=1), rnorm(10, mean=2.2, sd=1)), \n",
    "                  gene2 = c(rnorm(10, mean=0.2, sd=1), rnorm(10, mean=0.2, sd=1)), \n",
    "                  gene3 = c(rnorm(10, mean=0.2, sd=1), rnorm(10, mean=0.2, sd=1)), \n",
    "                  gene4 = c(rnorm(10, mean=0.2, sd=1), rnorm(10, mean=2.2, sd=1)))\n",
    "data"
   ]
  },
  {
   "cell_type": "markdown",
   "id": "1153ea03",
   "metadata": {},
   "source": [
    "## Bonferroni correction"
   ]
  },
  {
   "cell_type": "code",
   "execution_count": 2,
   "id": "9580dbbe",
   "metadata": {},
   "outputs": [
    {
     "name": "stdout",
     "output_type": "stream",
     "text": [
      "[1] \"the Bonferroni adjusted pvalues\"\n"
     ]
    },
    {
     "data": {
      "text/html": [
       "<style>\n",
       ".list-inline {list-style: none; margin:0; padding: 0}\n",
       ".list-inline>li {display: inline-block}\n",
       ".list-inline>li:not(:last-child)::after {content: \"\\00b7\"; padding: 0 .5ex}\n",
       "</style>\n",
       "<ol class=list-inline><li>0.000621039006972135</li><li>3.50909731518778</li><li>3.8449837657797</li><li>0.0125285359719316</li></ol>\n"
      ],
      "text/latex": [
       "\\begin{enumerate*}\n",
       "\\item 0.000621039006972135\n",
       "\\item 3.50909731518778\n",
       "\\item 3.8449837657797\n",
       "\\item 0.0125285359719316\n",
       "\\end{enumerate*}\n"
      ],
      "text/markdown": [
       "1. 0.000621039006972135\n",
       "2. 3.50909731518778\n",
       "3. 3.8449837657797\n",
       "4. 0.0125285359719316\n",
       "\n",
       "\n"
      ],
      "text/plain": [
       "[1] 0.000621039 3.509097315 3.844983766 0.012528536"
      ]
     },
     "metadata": {},
     "output_type": "display_data"
    }
   ],
   "source": [
    "numtest = 4\n",
    "pvalue = 1:numtest\n",
    "for(i in 1:numtest){\n",
    "    pvalue[i] = t.test(data[,i+1] ~ data[,1])$p.value\n",
    "}\n",
    "\n",
    "print(\"the Bonferroni adjusted pvalues\")\n",
    "pvalue*numtest"
   ]
  },
  {
   "cell_type": "markdown",
   "id": "63347167",
   "metadata": {},
   "source": [
    "## False Discovery Rate (FDR)\n",
    "To perform the FDR analysis in R, we need to install the package **fuzzySim** by typing **install.packages(\"fuzzySim\")** in R."
   ]
  },
  {
   "cell_type": "code",
   "execution_count": 3,
   "id": "f1e3cae0",
   "metadata": {},
   "outputs": [
    {
     "ename": "ERROR",
     "evalue": "Error in library(fuzzySim): there is no package called ‘fuzzySim’\n",
     "output_type": "error",
     "traceback": [
      "Error in library(fuzzySim): there is no package called ‘fuzzySim’\nTraceback:\n",
      "1. library(fuzzySim)"
     ]
    }
   ],
   "source": [
    "library(fuzzySim)\n",
    "data = data.frame(group=c(rep(0,10),rep(1,10)), \n",
    "                  gene1 = c(rnorm(10, mean=0.2, sd=1), rnorm(10, mean=2.2, sd=1)), \n",
    "                  gene2 = c(rnorm(10, mean=0.2, sd=1), rnorm(10, mean=0.2, sd=1)), \n",
    "                  gene3 = c(rnorm(10, mean=0.2, sd=1), rnorm(10, mean=0.2, sd=1)), \n",
    "                  gene4 = c(rnorm(10, mean=0.2, sd=1), rnorm(10, mean=2.2, sd=1)))\n",
    "data\n",
    "\n",
    "FDR(data = data, sp.cols = 1, var.cols = 2:5, family = \"gaussian\")"
   ]
  },
  {
   "cell_type": "markdown",
   "id": "62524dd9",
   "metadata": {},
   "source": [
    "## Microarray gene expression analysis\n",
    "\n",
    "To analyze gene expression data, we need to install Bioconductor packages. To install Bioconductor packages, type the following in an R command window:\n",
    "\n",
    "```{code}\n",
    "if (!require(\"BiocManager\", quietly = TRUE))\n",
    "    install.packages(\"BiocManager\")\n",
    "BiocManager::install(c(\"affy\",\"limma\",\"arrays\"))\n",
    "\n",
    "```\n",
    "\n",
    "1. We first import data from the package **arrays**."
   ]
  },
  {
   "cell_type": "code",
   "execution_count": null,
   "id": "1df27d15",
   "metadata": {},
   "outputs": [],
   "source": [
    "library(affy)   # Affymetrix pre-processing\n",
    "library(limma)  # two-color pre-processing; differential\n",
    "                  # expression\n",
    "                \n",
    "## import \"phenotype\" data, describing the experimental design\n",
    "phenoData <- read.AnnotatedDataFrame(system.file(\"extdata\", \"pData.txt\", package=\"arrays\"))\n",
    "celfiles <- system.file(\"extdata\", package=\"arrays\")"
   ]
  },
  {
   "cell_type": "markdown",
   "id": "7947191d",
   "metadata": {},
   "source": [
    "2. RMA normalization for microarray expression data"
   ]
  },
  {
   "cell_type": "code",
   "execution_count": null,
   "id": "9c323293",
   "metadata": {},
   "outputs": [],
   "source": [
    "eset <- justRMA(phenoData=phenoData, celfile.path=celfiles)"
   ]
  },
  {
   "cell_type": "markdown",
   "id": "7d74d5ac",
   "metadata": {},
   "source": [
    "3. Identify differentially expressed genes"
   ]
  },
  {
   "cell_type": "code",
   "execution_count": null,
   "id": "d0a69e08",
   "metadata": {},
   "outputs": [],
   "source": [
    "combn <- factor(paste(pData(phenoData)[,1], pData(phenoData)[,2], sep = \"_\"))\n",
    "design <- model.matrix(~combn) # describe model to be fit\n",
    "\n",
    "fit <- lmFit(eset, design)  # fit each probeset to model\n",
    "efit <- eBayes(fit)        # empirical Bayes adjustment\n",
    "topTable(efit, coef=2)      # table of differentially expressed probesets"
   ]
  }
 ],
 "metadata": {
  "jupytext": {
   "cell_metadata_filter": "-all",
   "formats": "md:myst",
   "text_representation": {
    "extension": ".md",
    "format_name": "myst",
    "format_version": 0.13,
    "jupytext_version": "1.11.5"
   }
  },
  "kernelspec": {
   "display_name": "R",
   "language": "R",
   "name": "ir"
  },
  "language_info": {
   "codemirror_mode": "r",
   "file_extension": ".r",
   "mimetype": "text/x-r-source",
   "name": "R",
   "pygments_lexer": "r",
   "version": "4.2.1"
  },
  "source_map": [
   14,
   20,
   27,
   30,
   39,
   45,
   55,
   71,
   79,
   83,
   85,
   88
  ]
 },
 "nbformat": 4,
 "nbformat_minor": 5
}