{
 "cells": [
  {
   "cell_type": "markdown",
   "id": "f8e3450b",
   "metadata": {},
   "source": [
    "# Chapter 3: Continuous random variables\n",
    "\n",
    "```{epigraph}\n",
    "*\"Do the difficult things while they are easy and do the great things while they are small. A journey of a thousand miles must begin with a single step.\"*\n",
    "\n",
    "-- Lao Tzu\n",
    "```\n",
    "\n",
    "```{seealso}\n",
    "- [Continuous probability distribution](https://en.wikipedia.org/wiki/Probability_distribution#Absolutely_continuous_probability_distribution)\n",
    "```\n",
    "\n",
    "\n",
    "````{prf:definition} cumulative distribution function\n",
    ":nonumber:\n",
    ":label: cdf\n",
    "The cumulative distribution function (CDF) of a real-valued random variable $X$, evaluated at $x$, is the probability that $X$ will take a value less than or equal to $x$\n",
    "\n",
    "$$F(x)=P(X \\leq x)$$\n",
    "````\n",
    "- $0\\le F(x)\\le 1$\n",
    "- If $x\\le y$, then $F(x)\\le F(y)$. The CDF is a monotone increasing function  \n",
    "- $\\lim_{x\\rightarrow -\\infty} F(x) = P(X<-\\infty) = 0$\n",
    "- $\\lim_{x\\rightarrow \\infty} F(x) = P(X<\\infty) = 1$"
   ]
  },
  {
   "cell_type": "code",
   "execution_count": 1,
   "id": "7e534532",
   "metadata": {
    "tags": [
     "hide-input"
    ]
   },
   "outputs": [
    {
     "data": {
      "image/png": "[encoded data removed]",
      "text/plain": [
       "Plot with title \"normal density curve\""
      ]
     },
     "metadata": {
      "filenames": {
       "image/png": "D:\\OneDrive\\Github\\Jupyter\\jupyter_book\\binf8441\\_build\\jupyter_execute\\chap3_1_0.png"
      },
      "image/png": {
       "height": 420,
       "width": 420
      }
     },
     "output_type": "display_data"
    }
   ],
   "source": [
    "par(mfrow=c(2,1))\n",
    "# plot normal CDF\n",
    "curve(pnorm, from = -10, to = 10,col=\"blue\", main=\"normal CDF\")\n",
    "# plot normal density\n",
    "curve(dnorm, from=-4, to=4, col=\"blue\", main=\"normal density curve\")\n",
    "abline(v=c(-2,2),col=\"red\")\n",
    "\n",
    "# shade the area under the curve\n",
    "x = seq(-4,4,by=0.01)\n",
    "y = dnorm(x)\n",
    "den <- data.frame(x,y)\n",
    "\n",
    "value1=-2\n",
    "value2=2\n",
    "polygon(c(value1,den$x[den$x >= value1 & den$x <= value2],value2),\n",
    "        c(0, den$y[den$x >= value1 & den$x <= value2 ],0),\n",
    "        col = \"slateblue1\", border = 1)\n",
    "legend(-1.2,0.2,\"p(-2<x<2)\", text.col=\"white\", border=\"slateblue1\",fill=\"slateblue1\", bg=\"slateblue1\", box.col=\"slateblue1\")"
   ]
  },
  {
   "cell_type": "markdown",
   "id": "0aa4d143",
   "metadata": {},
   "source": [
    "````{prf:definition} probability density function\n",
    ":nonumber:\n",
    ":label: pdf\n",
    "The probability density function $f(x)$ is the derivate of the CDF at $x$, i.e.,\n",
    "\n",
    "$$f(x)=\\frac{d F(x)}{d x}$$\n",
    "````\n",
    "\n",
    "- $f(x)\\ge 0$\n",
    "- $F(x)=\\int_{-\\infty}^{x} f(y) d y$\n",
    "- $\\int_{-\\infty}^\\infty f(x)dx = 1$\n",
    "- The probability $P(a<X<b)$ is the area under the density curve $f(x)$ between $a$ and $b$, \n",
    "\n",
    "$$P(a<X<b) = \\int_a^b f(x)dx$$\n",
    "\n",
    "\n",
    "````{prf:definition} expectation\n",
    ":nonumber:\n",
    ":label: expectation2\n",
    "Let $f(x)$ be the density function of a random variable $X$. The expectation of $X$ is defined as\n",
    "\n",
    "$$E(X)=\\int_{-\\infty}^{\\infty} x f(x) d x$$\n",
    "\n",
    "The expectation $E(X)$ is also called the population mean. \n",
    "````\n",
    "\n",
    "Moreover, the expectation of the function $g(X)$ is defined as\n",
    "\n",
    "$$E(g(X))=\\int_{-\\infty}^{\\infty} g(x) f(x) d x$$\n",
    "\n",
    "The variance of $X$ is defined as \n",
    "\n",
    "$$var(X) = E(X-E(X))^2$$\n",
    "\n",
    "- $sd(X) = \\sqrt{var(X)}$\n",
    "\n",
    "````{prf:theorem}\n",
    "1. $E(aX+b) = aE(X)+b$\n",
    "2. $var(aX+b) = a^2var(x)$\n",
    "3. $var(X) = E(X^2) - \\left(E(X)\\right)^2$\n",
    "\n",
    "$$\n",
    "\\begin{equation}\n",
    "\\begin{split}\n",
    "  E(aX+b) &= \\int_{-\\infty}^{\\infty}(ax+b)f(x)dx \\\\\n",
    "  &= \\int_{-\\infty}^{\\infty}axf(x)dx + \\int_{-\\infty}^{\\infty}bf(x)dx\\\\\n",
    "  &= a\\int_{-\\infty}^{\\infty}xf(x)dx + b\\int_{-\\infty}^{\\infty}f(x)dx\\\\\n",
    "  &= aE(X)+b\n",
    "\\end{split}\n",
    "\\end{equation}\n",
    "$$\n",
    "\n",
    "$$\n",
    "\\begin{equation}\n",
    "\\begin{split}\n",
    "  var(aX+b) &= \\int_{-\\infty}^{\\infty}\\left(ax+b-(aE(x)+b)\\right)^2f(x)dx \\\\\n",
    "  &= \\int_{-\\infty}^{\\infty}a^2(x-E(x))^2f(x)dx\\\\\n",
    "  &= a^2var(X)\n",
    "\\end{split}\n",
    "\\end{equation}\n",
    "$$\n",
    "\n",
    "$$\n",
    "\\begin{equation}\n",
    "\\begin{split}\n",
    "  var(X) &= \\int_{-\\infty}^{\\infty}\\left(x-E(x)\\right)^2f(x)dx \\\\\n",
    "  &= \\int_{-\\infty}^{\\infty}(x^2-2xE(x)+E(x)^2)f(x)dx\\\\\n",
    "  &= \\int_{-\\infty}^{\\infty}x^2f(x)dx-2E(x)\\int_{-\\infty}^{\\infty}xf(x)dx+E(x)^2\\int_{-\\infty}^{\\infty}f(x)dx\\\\\n",
    "  &= E(X^2) - \\left(E(X)\\right)^2\n",
    "\\end{split}\n",
    "\\end{equation}\n",
    "$$\n",
    "\n",
    "````\n",
    "\n",
    "## Continuous probability distributions\n",
    "\n",
    "### Uniform distribution\n",
    "The uniform random variable represents the random numbers in an interval $[a,b]$.\n",
    "\n",
    "- $f(x|a,b)=\\frac{1}{b-a}$, for $x \\in[a, b]$\n",
    "- $F(x)=P(X \\leq x)=\\int_{a}^{x} \\frac{1}{(b-a)} dy = \\frac{x-a}{b-a}$\n",
    "- $E(X)=\\int_{a}^{b} x f(x) d x=\\frac{a+b}{2}$\n",
    "- $var(X)=\\frac{(b-a)^2}{12}$"
   ]
  },
  {
   "cell_type": "code",
   "execution_count": 2,
   "id": "93955542",
   "metadata": {},
   "outputs": [
    {
     "data": {
      "image/png": "[encoded data removed]",
      "text/plain": [
       "Plot with title \"Uniform CDF\""
      ]
     },
     "metadata": {
      "filenames": {
       "image/png": "D:\\OneDrive\\Github\\Jupyter\\jupyter_book\\binf8441\\_build\\jupyter_execute\\chap3_3_0.png"
      },
      "image/png": {
       "height": 420,
       "width": 420
      }
     },
     "output_type": "display_data"
    }
   ],
   "source": [
    "par(mfrow=c(2,1))\n",
    "curve(dunif(x,1,3), from=1, to=3, main=\"Uniform PDF\", col=\"blue\", ylim=c(0,1))\n",
    "curve(punif(x,1,3), from=1, to=3, main=\"Uniform CDF\", col=\"blue\", ylim=c(0,1))"
   ]
  },
  {
   "cell_type": "markdown",
   "id": "f14061e9",
   "metadata": {},
   "source": [
    "````{prf:example}\n",
    ":nonumber:\n",
    "\n",
    "The random variable $X$ follows the uniform [2,4] distribution. Find $E(X)$, $var(X)$, and $P(X<2.7)$\n",
    "\n",
    "$E(X)=(b+a)/2=3$ and $var(X) = (b-a)^2/12 = 1/3$ and $P(X<2.7) = (x-a)/(b-a) = 0.7/2=0.35$\n",
    "````\n",
    "### Normal distribution\n",
    "The normal random variable represents the mean effect of many equally likely random variables. For example, the human body weight (or height) is a normal random variable because weight (or height) is the mean effect of many factors.\n",
    "\n",
    "- $f(x|\\mu,\\sigma^2)=\\frac{1}{\\sqrt{2 \\pi \\sigma^{2}}} e^{-\\frac{(x-u)^{2}}{2 \\sigma^{2}}}$, for $x \\in[-\\infty, \\infty]$\n",
    "- $E(X)=u$ and $var(X)=\\sigma^{2}$"
   ]
  },
  {
   "cell_type": "code",
   "execution_count": 3,
   "id": "35947de0",
   "metadata": {},
   "outputs": [
    {
     "data": {
      "image/png": "[encoded data removed]",
      "text/plain": [
       "Plot with title \"Standard Normal CDF\""
      ]
     },
     "metadata": {
      "filenames": {
       "image/png": "D:\\OneDrive\\Github\\Jupyter\\jupyter_book\\binf8441\\_build\\jupyter_execute\\chap3_5_0.png"
      },
      "image/png": {
       "height": 420,
       "width": 420
      }
     },
     "output_type": "display_data"
    }
   ],
   "source": [
    "par(mfrow=c(2,1))\n",
    "curve(dnorm(x), from=-4, to=4, main=\"Standard Normal PDF\", col=\"blue\")\n",
    "curve(pnorm(x), from=-4, to=4, main=\"Standard Normal CDF\", col=\"blue\")"
   ]
  },
  {
   "cell_type": "markdown",
   "id": "7542c2ff",
   "metadata": {},
   "source": [
    "If a random variable $X \\sim Normal(\\mu,\\sigma^{2})$, then $Y=aX+b$ follows $Normal(a\\mu+b,a^{2} \\sigma^{2})$. \n",
    "\n",
    "To calculate the normal probabilities, we first standardize the normal random variable $\\frac{X-E(X)}{sd(X)}$ and then use the standard normal distribution to calculate probabilities,\n",
    "\n",
    "$$P(X<d)=P\\left(\\frac{X-u}{\\sigma}<\\frac{d-u}{\\sigma}\\right) = P\\left(Z<\\frac{d-u}{\\sigma}\\right)$$\n",
    "\n",
    "```{admonition} 68-95-99 rule\n",
    "1. 68% of the population is within 1 standard deviation of the mean.\n",
    "2. 95% of the population is within 2 standard deviation of the mean.\n",
    "3. 99% of the population is within 3 standard deviation of the mean.\n",
    "```\n",
    "\n",
    "````{prf:example}\n",
    ":nonumber:\n",
    "If $X \\sim Normal(\\mu=1,\\sigma^2=1)$, find $E(X^2)$ and $P(X>2)$\n",
    "\n",
    "$E(X^2) = var(X)+(E(X))^2 = 1+1 = 2$ and $P(X>2) = P\\left(\\frac{X-\\mu}{\\sigma}>\\frac{2-1}{1}\\right)= P(Z>1)$ where $Z \\sim Normal(0,1)$. We know from the 68-95-99 rule that $P(-1<Z<1) \\approx 0.68$. Thus, $P(Z>1) = (1 - 0.68)/2 = 0.16$.\n",
    "````\n",
    "\n",
    "### Exponential distribution\n",
    "The exponential random variable often represents the waiting time until the next event. For example, the waiting time until the next phone call follows the exponential distribution.\n",
    "\n",
    "- $f(x)=\\frac{1}{\\lambda} e^{-\\frac{x}{\\lambda}}$, for $x>0$ and $\\lambda>0$\n",
    "- $F(x)=1-e^{-\\frac{x}{\\lambda}}$\n",
    "- $E(X)=\\lambda$ \n",
    "- $var(X)=\\lambda^{2}$"
   ]
  },
  {
   "cell_type": "code",
   "execution_count": 4,
   "id": "582d666a",
   "metadata": {},
   "outputs": [
    {
     "data": {
      "image/png": "[encoded data removed]",
      "text/plain": [
       "Plot with title \"Exponential CDF\""
      ]
     },
     "metadata": {
      "filenames": {
       "image/png": "D:\\OneDrive\\Github\\Jupyter\\jupyter_book\\binf8441\\_build\\jupyter_execute\\chap3_7_0.png"
      },
      "image/png": {
       "height": 420,
       "width": 420
      }
     },
     "output_type": "display_data"
    }
   ],
   "source": [
    "par(mfrow=c(2,1))\n",
    "curve(dexp(x,rate=4), 0, 10, main=\"Exponential PDF\",col=\"blue\")\n",
    "curve(pexp(x,rate=4), 0, 10, main=\"Exponential CDF\",col=\"blue\")"
   ]
  },
  {
   "cell_type": "markdown",
   "id": "389e94e4",
   "metadata": {},
   "source": [
    "### Beta distribution\n",
    "We often use the Beta distribution to model probabilities.\n",
    "\n",
    "- $f(x)=\\frac{\\Gamma(\\alpha+\\beta)}{\\Gamma(\\alpha) \\Gamma(\\beta)} x^{\\alpha-1}(1-x)^{\\beta-1}, 0 \\leq x \\leq 1, \\alpha>0, \\beta>0$\n",
    "- $E(X)=\\frac{\\alpha}{\\alpha+\\beta}$\n",
    "- $var(X)=\\frac{\\alpha \\beta}{(\\alpha+\\beta)^{2}(\\alpha+\\beta+1)}$"
   ]
  },
  {
   "cell_type": "code",
   "execution_count": 5,
   "id": "ed09b33c",
   "metadata": {},
   "outputs": [
    {
     "data": {
      "image/png": "[encoded data removed]",
      "text/plain": [
       "Plot with title \"Beta CDF\""
      ]
     },
     "metadata": {
      "filenames": {
       "image/png": "D:\\OneDrive\\Github\\Jupyter\\jupyter_book\\binf8441\\_build\\jupyter_execute\\chap3_9_0.png"
      },
      "image/png": {
       "height": 420,
       "width": 420
      }
     },
     "output_type": "display_data"
    }
   ],
   "source": [
    "par(mfrow=c(2,1))\n",
    "curve(dbeta(x,2,2),0,1, main=\"Beta PDF\",col=\"blue\")\n",
    "curve(pbeta(x,2,2),0,1, main=\"Beta CDF\",col=\"blue\")"
   ]
  },
  {
   "cell_type": "markdown",
   "id": "110ae39c",
   "metadata": {},
   "source": [
    "### Gamma distribution\n",
    "We often use the Gamma distribution to model ratios, for example, mutation rates.\n",
    "\n",
    "- $f(x)=\\frac{1}{\\Gamma(\\alpha) \\beta^{\\alpha}} x^{\\alpha-1} e^{-\\frac{x}{\\beta}}, x>0, \\alpha>0, \\beta>0$\n",
    "- $E(X)=\\alpha \\beta$\n",
    "- $var(X)=\\alpha \\beta^{2}$"
   ]
  },
  {
   "cell_type": "code",
   "execution_count": 6,
   "id": "bb097523",
   "metadata": {},
   "outputs": [
    {
     "data": {
      "image/png": "[encoded data removed]",
      "text/plain": [
       "Plot with title \"Gamma CDF\""
      ]
     },
     "metadata": {
      "filenames": {
       "image/png": "D:\\OneDrive\\Github\\Jupyter\\jupyter_book\\binf8441\\_build\\jupyter_execute\\chap3_11_0.png"
      },
      "image/png": {
       "height": 420,
       "width": 420
      }
     },
     "output_type": "display_data"
    }
   ],
   "source": [
    "par(mfrow=c(2,1))\n",
    "curve(dgamma(x,shape=2), 0, 10, main=\"Gamma PDF\",col=\"blue\")\n",
    "curve(pgamma(x,shape=2), 0, 10, main=\"Gamma CDF\",col=\"blue\")"
   ]
  },
  {
   "cell_type": "markdown",
   "id": "54167ce2",
   "metadata": {},
   "source": [
    "## Transformation\n",
    "\n",
    "Three commonly used techniques can be used to find the probability distribution of a transformed continuous random variable.\n",
    "\n",
    "### CDF \n",
    "\n",
    "Suppose $Y=g(X)$ and we want to find the probability distribution of $Y$.\n",
    "\n",
    "$$\n",
    "P(Y \\leq a)=P(g(X) \\leq a)=\\int_{g(x) \\leq a} f(x) d x\n",
    "$$\n",
    "\n",
    "````{prf:example} \n",
    ":nonumber:\n",
    "\n",
    "Suppose $X$ is an exponential random variable with a density $e^{-x}$. Find the probability distribution of $Y=2X$\n",
    "\n",
    "$$P(Y\\le a) = P(2X \\le a) = P(X\\le a/2) = 1-e^{-a/2}$$\n",
    "\n",
    "The density function is the derivative of the CDF $1-e^{-a/2}$ with respect to $a$,\n",
    "\n",
    "$$(1-e^{-a/2})'=\\frac{1}{2}e^{-\\frac{a}{2}}$$\n",
    "\n",
    "This is an exponential density with $\\lambda = 2$.\n",
    "````\n",
    "\n",
    "### PDF\n",
    "Suppose that the inverse function $g^{-1}(X)$ exists and is an increasing function.\n",
    "\n",
    "$$\n",
    "P(Y \\leq a)=P(g(X) \\leq a)=P\\left(X \\leq g^{-1}(a)\\right)=F_{X}\\left(g^{-1}(a)\\right)\n",
    "$$\n",
    "\n",
    "Thus, the density function of $Y$ is given by\n",
    "\n",
    "$$\n",
    "f_{Y}(a)=F^{\\prime}{ }_{X}\\left(g^{-1}(a)\\right)=f_{x}\\left(g^{-1}(a)\\right) * \\frac{d g^{-1}(a)}{d a}\n",
    "$$\n",
    "\n",
    "If $g^{-1}(X)$ is a decreasing function, then\n",
    "\n",
    "$$\n",
    "P(Y \\leq a)=P(g(X) \\leq a)=P\\left(X > g^{-1}(a)\\right)=1-F_{X}\\left(g^{-1}(a)\\right)\n",
    "$$\n",
    "\n",
    "and \n",
    "\n",
    "$$\n",
    "f_{Y}(a)=-F^{\\prime}{ }_{X}\\left(g^{-1}(a)\\right)=-f_{X}\\left(g^{-1}(a)\\right) * \\frac{d g^{-1}(a)}{d a}\n",
    "$$\n",
    "\n",
    "Combining two (increasing or decreasing), we have\n",
    "\n",
    "$$\n",
    "f_{Y}(y)=f_{X}\\left(g^{-1}(y)\\right) *\\left|\\frac{d g^{-1}(y)}{d y}\\right|\n",
    "$$\n",
    "\n",
    "````{prf:example} 3.1\n",
    ":nonumber:\n",
    ":label: 3.1\n",
    ":nonumber:\n",
    "The random variable $X$ is an exponential random variable with density function $f(x)=\\lambda e^{-\\lambda x}$. Find the distribution of $Y=X+2$. The inverse function is $X=Y-2$. Thus, for $y>2$\n",
    "\n",
    "$$\n",
    "f_{y}(y)=\\lambda e^{-\\lambda(y-2)}\\left|\\frac{d(y-2)}{d y}\\right|=\\lambda e^{-\\lambda(y-2)}\n",
    "$$\n",
    "````\n",
    "\n",
    "### MGF (moment generating function)\n",
    "\n",
    "If two random variables $X$ and $Y$ are independent, we can show that\n",
    "\n",
    "$$\n",
    "M_{X+Y}(t)=M_{X}(t) M_{Y}(t)\n",
    "$$\n",
    "\n",
    "````{prf:example} 3.2\n",
    ":nonumber:\n",
    ":label: 3.2\n",
    ":nonumber:\n",
    "The MGF of a normal random variable is $e^{u t+\\sigma^{2} t^{2} / 2}$. Suppose $X_{1}, X_{2}, \\ldots, X_{n}$ $\\sim Normal\\left(u, \\sigma^{2}\\right)$. Find the probability distribution of the sample average $\\frac{\\sum_{i=1}^{n} X_{i}}{n}$. \n",
    "\n",
    "We first find the MGF of the sum $\\sum_{i=1}^{n} X_{i}$, which is equal to\n",
    "\n",
    "$$\n",
    "\\prod_{i=1}^{n} M(t)=e^{n u t+n \\sigma^{2} t^{2} / 2}\n",
    "$$\n",
    "\n",
    "The sum $\\sum_{i=1}^{n} X_{i}$ has a normal distribution with mean $n \\mu$ and variance $n \\sigma^{2}$. \n",
    "\n",
    "Let $Y=\\sum_{i=1}^{n} X_{i}$ and $Z=\\frac{Y}{n}$. Then, \n",
    "\n",
    "$$E\\left(e^{t Z}\\right)=E\\left(e^{\\frac{t Y}{n}}\\right)=e^{u t+\\frac{\\sigma^{2} t^{2}}{2 n}}$$\n",
    " \n",
    "Thus, the sample average $\\frac{1}{n}\\sum_{i=1}^{n} X_{i}$ has a normal distribution with mean $\\mu$ and variance $\\frac{\\sigma^{2}}{n}$.\n",
    "````"
   ]
  }
 ],
 "metadata": {
  "jupytext": {
   "cell_metadata_filter": "-all",
   "formats": "md:myst",
   "text_representation": {
    "extension": ".md",
    "format_name": "myst",
    "format_version": 0.13,
    "jupytext_version": "1.11.5"
   }
  },
  "kernelspec": {
   "display_name": "R",
   "language": "R",
   "name": "ir"
  },
  "language_info": {
   "codemirror_mode": "r",
   "file_extension": ".r",
   "mimetype": "text/x-r-source",
   "name": "R",
   "pygments_lexer": "r",
   "version": "4.2.2"
  },
  "source_map": [
   14,
   41,
   62,
   150,
   154,
   169,
   173,
   202,
   206,
   214,
   218,
   227,
   231
  ]
 },
 "nbformat": 4,
 "nbformat_minor": 5
}