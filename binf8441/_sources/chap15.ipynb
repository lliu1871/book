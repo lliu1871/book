{
 "cells": [
  {
   "cell_type": "markdown",
   "id": "0c2a71bf",
   "metadata": {},
   "source": [
    "# Chapter 15: Phylogenetic models \n",
    "\n",
    "```{epigraph}\n",
    "*\"Do the difficult things while they are easy and do the great things while they are small. A journey of a thousand miles must begin with a single step.\"*\n",
    "\n",
    "-- Lao Tzu\n",
    "```\n",
    "\n",
    "```{seealso}\n",
    "- [Phylogenetic inference](https://en.wikipedia.org/wiki/Computational_phylogenetics)\n",
    "```\n",
    "\n",
    "\n",
    "The probability distribution of the sequence alignment $D$ given the phylogenetic\n",
    "tree $T$ (topology and branch lengths) and the parameters $\\theta$ in the\n",
    "substitution model can be derived from the transition probabilities $P(t)=e^{Qt}$\n",
    "of the substitution model.\n",
    "\n",
    "We assume that the sequences have been aligned using alignment software (Clustal, MUSCLE, MAFFT), and the sites in the sequence alignment evolve independently. The\n",
    "joint probability of the alignment $D$ is the product of the probabilities of individual sites $d_i$\n",
    "\n",
    "$$P\\left( D|T,\\theta \\right) = \\prod_{i = 1}^{n}{P(d_{i}|T,\\theta)}$$\n",
    "\n",
    "in which $P(d_{i}|T)$ is the probability of the site $d_i$. In the phylogenetic model, parameters being estimated include the phylogenetic tree $T$ (topology and branch lengths) and parameters $\\theta$ in the substitution model.\n",
    "\n",
    "## The probability of a single site\n",
    "\n",
    "Considering the site $d_i = (A, C, A)$ in figure (a). If the nucleotides\n",
    "at the internal nodes are given, then the probability of figure (b) is the product of probabilities for individual branches, i.e.,\n",
    "\n",
    "$$P\\left(ACAGG \\right) = P(G)P_{GA}(t_{1})P_{GG}(t_{2})P_{GC}(t_{3})P_{GA}(t_{4})$$\n",
    "\n",
    "![](./images/tree.png)\n",
    "\n",
    "Thus, the probability of the site $d_i = (A, C, A)$ is equal to the sum\n",
    "over all possible nucleotides at the two internal nodes, i.e.,\n",
    "\n",
    "$$P\\left( d_{i} \\middle| T,\\theta \\right) = \\sum_{i = A,C,G,T}^{}{\\sum_{j = A,C,G,T}^{}{P(ACAij)}}$$\n",
    "\n",
    "in which $P(ACAij)$ denotes the probability when the nucleotides at the two\n",
    "internal nodes are $i$ and $j$.\n",
    "\n",
    "## Maximum likelihood tree\n",
    "\n",
    "The phylogenetic tree is estimated by maximizing the likelihood function\n",
    "$L\\left( T,\\theta|D \\right) = P\\left( D|T,\\theta \\right) $ with respect to $T$ and $\\theta$. \n",
    "[RAxML](https://github.com/stamatak/standard-RAxML) and [PHYML](https://github.com/stephaneguindon/phyml) are two popular phylogenetic programs for building ML phylogenetic trees.\n",
    "\n",
    "## Distance methods\n",
    "\n",
    "Phylogenetic trees are reconstructed by iteratively grouping species\n",
    "with small distances. The distance methods involve two steps. In the\n",
    "first step, pairwise distances of sequences are calculated. In the\n",
    "second step, the phylogenetic tree is built from the pairwise distances.\n",
    "The most popular distance method is neighbor-joining (NJ) implemented in \n",
    "the phylogenetic program [PAUP](https://paup.phylosolutions.com/).\n",
    "\n",
    "## Parsimony methods\n",
    "\n",
    "The parsimony score of a phylogenetic tree is equal to the number of\n",
    "mutations required to explain the nucleotide variation observed among\n",
    "sequences. Parsimony methods reconstruct phylogenetic trees by\n",
    "minimizing the parsimony score, i.e., finding the tree with the minimum\n",
    "parsimony score. [PAUP](https://paup.phylosolutions.com/) is a popular program for building MP trees\n",
    "\n",
    "## Bayesian models\n",
    "\n",
    "The tree topology has a uniform prior, assuming that topologies are\n",
    "equally likely. The priors of branch lengths are independent exponential\n",
    "distributions. The posterior distribution of the phylogenetic tree is\n",
    "approximated by the outputs from a MCMC algorithm. The Bayesian phylogenetic programs include [MrBayes](https://nbisweden.github.io/MrBayes/index.html) and [BEAST](https://beast.community/)."
   ]
  }
 ],
 "metadata": {
  "jupytext": {
   "cell_metadata_filter": "-all",
   "formats": "md:myst",
   "text_representation": {
    "extension": ".md",
    "format_name": "myst",
    "format_version": 0.13,
    "jupytext_version": "1.11.5"
   }
  },
  "kernelspec": {
   "display_name": "Python 3",
   "language": "python",
   "name": "python3"
  },
  "language_info": {
   "codemirror_mode": {
    "name": "ipython",
    "version": 3
   },
   "file_extension": ".py",
   "mimetype": "text/x-python",
   "name": "python",
   "nbconvert_exporter": "python",
   "pygments_lexer": "ipython3",
   "version": "3.7.4"
  },
  "source_map": [
   14
  ]
 },
 "nbformat": 4,
 "nbformat_minor": 5
}