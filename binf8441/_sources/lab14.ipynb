{
 "cells": [
  {
   "cell_type": "markdown",
   "id": "6a1a0f63",
   "metadata": {},
   "source": [
    "# Lab 14: Substitution models\n",
    "\n",
    "The evolution of a single nucleotide is modeled by a continuous Markov chain which is defined by the initial probability distribution $\\pi_0=\\left(p_A, p_C, p_G, p_T\\right)$ and the rate matrix $Q$. Note that in the rate matrix, the off-diagonal values are substitution rates and the diagonal values are negative numbers because the row sum must be 0 .\n",
    "\n",
    "## The transition probability matrix $P(t)$\n",
    "Given the rate matrix $Q$, the transition probability matrix is given by $P(t)=e^{Qt}$. The probability distribution of the nucleotide at time $t$ is $\\pi_t=\\pi_0 P(t)$. The limiting probability distribution is given by solving the following equations \n",
    "\n",
    "$$\\left\\{\\begin{array}{l}\\pi_{\\infty} Q=0 \\\\ \\sum \\pi_{\\infty}=1\\end{array}\\right.$$ \n",
    "\n",
    "For the Jukes-Cantor model, the equations are\n",
    "\n",
    "$$\n",
    "\\left\\{\\begin{array}{c}\n",
    "-3 p_A+p_C+p_G+p_T=0 \\\\\n",
    "p_A-3 p_C+p_G+p_T=0 \\\\\n",
    "p_A+p_C-3 p_G+p_T=0 \\\\\n",
    "p_A+p_C+p_G-3 p_T=0 \\\\\n",
    "p_A+p_C+p_G+p_T=1\n",
    "\\end{array}\\right.\n",
    "$$\n",
    "\n",
    "The solution is $\\pi_{\\infty}=(0.25,0.25,0.25,0.25)$.\n",
    "\n",
    "### Calculate the transition probability matrix"
   ]
  },
  {
   "cell_type": "code",
   "execution_count": 1,
   "id": "e9b68792",
   "metadata": {},
   "outputs": [
    {
     "name": "stdout",
     "output_type": "stream",
     "text": [
      "[1] \"The rate matrix\"\n"
     ]
    },
    {
     "data": {
      "text/html": [
       "<table class=\"dataframe\">\n",
       "<caption>A matrix: 4 × 4 of type dbl</caption>\n",
       "<tbody>\n",
       "\t<tr><td>-3</td><td> 1</td><td> 1</td><td> 1</td></tr>\n",
       "\t<tr><td> 1</td><td>-3</td><td> 1</td><td> 1</td></tr>\n",
       "\t<tr><td> 1</td><td> 1</td><td>-3</td><td> 1</td></tr>\n",
       "\t<tr><td> 1</td><td> 1</td><td> 1</td><td>-3</td></tr>\n",
       "</tbody>\n",
       "</table>\n"
      ],
      "text/latex": [
       "A matrix: 4 × 4 of type dbl\n",
       "\\begin{tabular}{llll}\n",
       "\t -3 &  1 &  1 &  1\\\\\n",
       "\t  1 & -3 &  1 &  1\\\\\n",
       "\t  1 &  1 & -3 &  1\\\\\n",
       "\t  1 &  1 &  1 & -3\\\\\n",
       "\\end{tabular}\n"
      ],
      "text/markdown": [
       "\n",
       "A matrix: 4 × 4 of type dbl\n",
       "\n",
       "| -3 |  1 |  1 |  1 |\n",
       "|  1 | -3 |  1 |  1 |\n",
       "|  1 |  1 | -3 |  1 |\n",
       "|  1 |  1 |  1 | -3 |\n",
       "\n"
      ],
      "text/plain": [
       "     [,1] [,2] [,3] [,4]\n",
       "[1,] -3    1    1    1  \n",
       "[2,]  1   -3    1    1  \n",
       "[3,]  1    1   -3    1  \n",
       "[4,]  1    1    1   -3  "
      ]
     },
     "metadata": {},
     "output_type": "display_data"
    },
    {
     "name": "stdout",
     "output_type": "stream",
     "text": [
      "[1] \"The transition probability matrix\"\n"
     ]
    },
    {
     "data": {
      "text/plain": [
       "4 x 4 Matrix of class \"dgeMatrix\"\n",
       "           [,1]       [,2]       [,3]       [,4]\n",
       "[1,] 0.75274003 0.08241999 0.08241999 0.08241999\n",
       "[2,] 0.08241999 0.75274003 0.08241999 0.08241999\n",
       "[3,] 0.08241999 0.08241999 0.75274003 0.08241999\n",
       "[4,] 0.08241999 0.08241999 0.08241999 0.75274003"
      ]
     },
     "metadata": {},
     "output_type": "display_data"
    }
   ],
   "source": [
    "library(Matrix)\n",
    "pi_0 = c(0.1,0.2,0.3,0.4)\n",
    "Q_matrix = matrix(1,4,4)\n",
    "diag(Q_matrix) = -3\n",
    "\n",
    "print(\"The rate matrix\")\n",
    "Q_matrix\n",
    "\n",
    "t = 0.1\n",
    "P_t = expm(Q_matrix*t)\n",
    "print(\"The transition probability matrix\")\n",
    "P_t"
   ]
  },
  {
   "cell_type": "markdown",
   "id": "aa581510",
   "metadata": {},
   "source": [
    "### Find the probability distribution $\\pi_t$ at time $t$"
   ]
  },
  {
   "cell_type": "code",
   "execution_count": 2,
   "id": "d62c20dd",
   "metadata": {},
   "outputs": [
    {
     "data": {
      "text/plain": [
       "1 x 4 Matrix of class \"dgeMatrix\"\n",
       "         [,1]     [,2]     [,3]     [,4]\n",
       "[1,] 0.149452 0.216484 0.283516 0.350548"
      ]
     },
     "metadata": {},
     "output_type": "display_data"
    }
   ],
   "source": [
    "pi_t = pi_0 %*% P_t\n",
    "pi_t"
   ]
  },
  {
   "cell_type": "markdown",
   "id": "89f7bb39",
   "metadata": {},
   "source": [
    "### Find the limiting probability distribution $\\pi_{\\infty}$"
   ]
  },
  {
   "cell_type": "code",
   "execution_count": 3,
   "id": "d48fb1d2",
   "metadata": {},
   "outputs": [
    {
     "data": {
      "text/plain": [
       "eigen() decomposition\n",
       "$values\n",
       "[1] -1.110223e-16 -4.000000e+00 -4.000000e+00 -4.000000e+00\n",
       "\n",
       "$vectors\n",
       "     [,1]       [,2]       [,3]       [,4]\n",
       "[1,] -0.5  0.0000000  0.8660254  0.0000000\n",
       "[2,] -0.5  0.7713586 -0.2886751 -0.2677175\n",
       "[3,] -0.5 -0.6175294 -0.2886751 -0.5341574\n",
       "[4,] -0.5 -0.1538291 -0.2886751  0.8018748\n"
      ]
     },
     "metadata": {},
     "output_type": "display_data"
    },
    {
     "name": "stdout",
     "output_type": "stream",
     "text": [
      "[1] \"The limiting probabilities\"\n"
     ]
    },
    {
     "data": {
      "text/html": [
       "<style>\n",
       ".list-inline {list-style: none; margin:0; padding: 0}\n",
       ".list-inline>li {display: inline-block}\n",
       ".list-inline>li:not(:last-child)::after {content: \"\\00b7\"; padding: 0 .5ex}\n",
       "</style>\n",
       "<ol class=list-inline><li>0.25</li><li>0.25</li><li>0.25</li><li>0.25</li></ol>\n"
      ],
      "text/latex": [
       "\\begin{enumerate*}\n",
       "\\item 0.25\n",
       "\\item 0.25\n",
       "\\item 0.25\n",
       "\\item 0.25\n",
       "\\end{enumerate*}\n"
      ],
      "text/markdown": [
       "1. 0.25\n",
       "2. 0.25\n",
       "3. 0.25\n",
       "4. 0.25\n",
       "\n",
       "\n"
      ],
      "text/plain": [
       "[1] 0.25 0.25 0.25 0.25"
      ]
     },
     "metadata": {},
     "output_type": "display_data"
    }
   ],
   "source": [
    "x = eigen(Q_matrix)\n",
    "x\n",
    "pi = x$vectors[,1]\n",
    "print(\"The limiting probabilities\")\n",
    "pi/sum(pi)"
   ]
  },
  {
   "cell_type": "markdown",
   "id": "444e8005",
   "metadata": {},
   "source": [
    "Now changing the rate matrix $Q=\\left(\\begin{array}{cccc} -6 &    1 &  2  & 3 \\\\ 1 & -10 & 4 & 5 \\\\ 2 & 4 & -12 & 6 \\\\ 3&  5&  6& -14\\end{array}\\right)$ and recalculating the limiting probability distribution."
   ]
  },
  {
   "cell_type": "code",
   "execution_count": 4,
   "id": "241c608a",
   "metadata": {},
   "outputs": [
    {
     "data": {
      "text/plain": [
       "eigen() decomposition\n",
       "$values\n",
       "[1] -2.486900e-14 -7.694618e+00 -1.487637e+01 -1.942901e+01\n",
       "\n",
       "$vectors\n",
       "     [,1]       [,2]       [,3]        [,4]\n",
       "[1,] -0.5  0.8503837  0.1374446  0.08919974\n",
       "[2,] -0.5 -0.4319122  0.7234454  0.20019631\n",
       "[3,] -0.5 -0.2462510 -0.6392151  0.52987214\n",
       "[4,] -0.5 -0.1722205 -0.2216749 -0.81926819\n"
      ]
     },
     "metadata": {},
     "output_type": "display_data"
    },
    {
     "name": "stdout",
     "output_type": "stream",
     "text": [
      "[1] \"The limiting probabilities\"\n"
     ]
    },
    {
     "data": {
      "text/html": [
       "<style>\n",
       ".list-inline {list-style: none; margin:0; padding: 0}\n",
       ".list-inline>li {display: inline-block}\n",
       ".list-inline>li:not(:last-child)::after {content: \"\\00b7\"; padding: 0 .5ex}\n",
       "</style>\n",
       "<ol class=list-inline><li>0.250000000000001</li><li>0.25</li><li>0.25</li><li>0.25</li></ol>\n"
      ],
      "text/latex": [
       "\\begin{enumerate*}\n",
       "\\item 0.250000000000001\n",
       "\\item 0.25\n",
       "\\item 0.25\n",
       "\\item 0.25\n",
       "\\end{enumerate*}\n"
      ],
      "text/markdown": [
       "1. 0.250000000000001\n",
       "2. 0.25\n",
       "3. 0.25\n",
       "4. 0.25\n",
       "\n",
       "\n"
      ],
      "text/plain": [
       "[1] 0.25 0.25 0.25 0.25"
      ]
     },
     "metadata": {},
     "output_type": "display_data"
    }
   ],
   "source": [
    "qmatrix = matrix(c(-6,1,2,3,1,-10,4,5,2,4,-12,6,3,5,6,-14),nrow=4,ncol=4,byrow=T)\n",
    "x = eigen(t(qmatrix))\n",
    "x\n",
    "pi = x$vectors[,1]\n",
    "print(\"The limiting probabilities\")\n",
    "pi/sum(pi)"
   ]
  },
  {
   "cell_type": "markdown",
   "id": "d1500be4",
   "metadata": {},
   "source": [
    "## An arbitrary limiting distribution $\\pi_{\\infty}$\n",
    "We can show that the rate matrix $Q=\\left(\\begin{array}{cccc}- & \\pi_C a & \\pi_G b & \\pi_T c \\\\ \\pi_A a & - & \\pi_G d & \\pi_T e \\\\ \\pi_A b & \\pi_C d & - & \\pi_T f \\\\ \\pi_A c & \\pi_C e & \\pi_G f & -\\end{array}\\right)$ will produce the limiting distribution $\\pi_{\\infty}=\\left(\\pi_A, \\pi_C, \\pi_G, \\pi_T\\right)$"
   ]
  },
  {
   "cell_type": "code",
   "execution_count": 5,
   "id": "78eacfed",
   "metadata": {},
   "outputs": [
    {
     "data": {
      "text/html": [
       "<table class=\"dataframe\">\n",
       "<caption>A matrix: 4 × 4 of type dbl</caption>\n",
       "<tbody>\n",
       "\t<tr><td>-0.9</td><td> 0.2</td><td> 0.3</td><td> 0.4</td></tr>\n",
       "\t<tr><td> 0.1</td><td>-0.8</td><td> 0.3</td><td> 0.4</td></tr>\n",
       "\t<tr><td> 0.1</td><td> 0.2</td><td>-0.7</td><td> 0.4</td></tr>\n",
       "\t<tr><td> 0.1</td><td> 0.2</td><td> 0.3</td><td>-0.6</td></tr>\n",
       "</tbody>\n",
       "</table>\n"
      ],
      "text/latex": [
       "A matrix: 4 × 4 of type dbl\n",
       "\\begin{tabular}{llll}\n",
       "\t -0.9 &  0.2 &  0.3 &  0.4\\\\\n",
       "\t  0.1 & -0.8 &  0.3 &  0.4\\\\\n",
       "\t  0.1 &  0.2 & -0.7 &  0.4\\\\\n",
       "\t  0.1 &  0.2 &  0.3 & -0.6\\\\\n",
       "\\end{tabular}\n"
      ],
      "text/markdown": [
       "\n",
       "A matrix: 4 × 4 of type dbl\n",
       "\n",
       "| -0.9 |  0.2 |  0.3 |  0.4 |\n",
       "|  0.1 | -0.8 |  0.3 |  0.4 |\n",
       "|  0.1 |  0.2 | -0.7 |  0.4 |\n",
       "|  0.1 |  0.2 |  0.3 | -0.6 |\n",
       "\n"
      ],
      "text/plain": [
       "     [,1] [,2] [,3] [,4]\n",
       "[1,] -0.9  0.2  0.3  0.4\n",
       "[2,]  0.1 -0.8  0.3  0.4\n",
       "[3,]  0.1  0.2 -0.7  0.4\n",
       "[4,]  0.1  0.2  0.3 -0.6"
      ]
     },
     "metadata": {},
     "output_type": "display_data"
    },
    {
     "data": {
      "text/plain": [
       "eigen() decomposition\n",
       "$values\n",
       "[1] -1.000000e+00 -1.000000e+00 -1.000000e+00  1.249001e-16\n",
       "\n",
       "$vectors\n",
       "            [,1]       [,2]        [,3]      [,4]\n",
       "[1,]  0.05983331 -0.8581163 -0.06419778 0.1825742\n",
       "[2,]  0.78228180  0.1906925  0.69985777 0.3651484\n",
       "[3,] -0.54327913  0.2860388  0.07207123 0.5477226\n",
       "[4,] -0.29883598  0.3813850 -0.70773122 0.7302967\n"
      ]
     },
     "metadata": {},
     "output_type": "display_data"
    },
    {
     "name": "stdout",
     "output_type": "stream",
     "text": [
      "[1] \"The limiting probabilities\"\n"
     ]
    },
    {
     "data": {
      "text/html": [
       "<style>\n",
       ".list-inline {list-style: none; margin:0; padding: 0}\n",
       ".list-inline>li {display: inline-block}\n",
       ".list-inline>li:not(:last-child)::after {content: \"\\00b7\"; padding: 0 .5ex}\n",
       "</style>\n",
       "<ol class=list-inline><li>0.1</li><li>0.2</li><li>0.3</li><li>0.4</li></ol>\n"
      ],
      "text/latex": [
       "\\begin{enumerate*}\n",
       "\\item 0.1\n",
       "\\item 0.2\n",
       "\\item 0.3\n",
       "\\item 0.4\n",
       "\\end{enumerate*}\n"
      ],
      "text/markdown": [
       "1. 0.1\n",
       "2. 0.2\n",
       "3. 0.3\n",
       "4. 0.4\n",
       "\n",
       "\n"
      ],
      "text/plain": [
       "[1] 0.1 0.2 0.3 0.4"
      ]
     },
     "metadata": {},
     "output_type": "display_data"
    }
   ],
   "source": [
    "Q_matrix = matrix(1,4,4)\n",
    "diag(Q_matrix) = -3\n",
    "Q_matrix[,1] = Q_matrix[,1]*0.1\n",
    "Q_matrix[,2] = Q_matrix[,2]*0.2\n",
    "Q_matrix[,3] = Q_matrix[,3]*0.3\n",
    "Q_matrix[,4] = Q_matrix[,4]*0.4\n",
    "diag(Q_matrix) = c(-0.9,-0.8,-0.7,-0.6)\n",
    "Q_matrix\n",
    "\n",
    "#find the limiting probabilities\n",
    "x = eigen(t(Q_matrix))\n",
    "x\n",
    "pi = x$vectors[,4]\n",
    "print(\"The limiting probabilities\")\n",
    "pi/sum(pi)\n"
   ]
  },
  {
   "cell_type": "markdown",
   "id": "b9831222",
   "metadata": {},
   "source": [
    "## Simulating DNA sequences\n",
    "Download and install the simulation program [seq-gen](https://github.com/rambaut/Seq-Gen/releases/tag/1.3.4) on the local computer. Type seq-gen -help in Terminal (Mac) or the CMD window (Windows)\n",
    "```{code}\n",
    "seq-gen -help\n",
    "```\n",
    "\n",
    "Download the tree file [lab14_tree.tre](https://book.phylolab.net/binf8441/data/lab14_tree.tre) and run the following command line to generate the sequence alignment of 1000 base pairs. \n",
    "```{code}\n",
    "seq-gen -l1000 -mGTR -f 0.1 0.2 0.3 0.4 -r 1.6 1.3 2.5 0.7 3.8 1 lab14_tree.tre > seq.txt\n",
    "```"
   ]
  }
 ],
 "metadata": {
  "jupytext": {
   "cell_metadata_filter": "-all",
   "formats": "md:myst",
   "text_representation": {
    "extension": ".md",
    "format_name": "myst",
    "format_version": 0.13,
    "jupytext_version": "1.11.5"
   }
  },
  "kernelspec": {
   "display_name": "R",
   "language": "R",
   "name": "ir"
  },
  "language_info": {
   "codemirror_mode": "r",
   "file_extension": ".r",
   "mimetype": "text/x-r-source",
   "name": "R",
   "pygments_lexer": "r",
   "version": "4.2.2"
  },
  "source_map": [
   14,
   41,
   54,
   57,
   60,
   62,
   68,
   70,
   77,
   82,
   99
  ]
 },
 "nbformat": 4,
 "nbformat_minor": 5
}