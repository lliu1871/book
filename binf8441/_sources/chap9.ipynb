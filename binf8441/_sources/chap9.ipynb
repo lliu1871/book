{
 "cells": [
  {
   "cell_type": "markdown",
   "id": "df56c3ef",
   "metadata": {},
   "source": [
    "# Chapter 9: Linear regression \n",
    "\n",
    "```{epigraph}\n",
    "*\"Do the difficult things while they are easy and do the great things while they are small. A journey of a thousand miles must begin with a single step.\"*\n",
    "\n",
    "-- Lao Tzu\n",
    "```\n",
    "\n",
    "```{seealso}\n",
    "- [Linear regression](https://en.wikipedia.org/wiki/Linear_regression)\n",
    "```\n",
    "\n",
    "## Simple linear regression\n",
    "\n",
    "Simple linear regression is a linear model with a single explanatory variable $x$. The model assumes a linear relationship between the response variable $y$ and the explanatory variable $x$, i.e., \n",
    "\n",
    "$y_{i}=\\beta_0+\\beta_1 x_{i}+\\epsilon_{i}$\n",
    "\n",
    "$x$ : the explanatary variable. $X$ is fixed.\n",
    "\n",
    "$y$: the response variable.\n",
    "\n",
    "$\\epsilon$ : the error term. The model assumes that $\\epsilon_{i}{ }^{\\prime} s$ are iid random variables with the normal $\\left(0, \\sigma^{2}\\right)$ density."
   ]
  },
  {
   "cell_type": "code",
   "execution_count": 1,
   "id": "7febe393",
   "metadata": {},
   "outputs": [
    {
     "data": {
      "text/html": [
       "<table class=\"dataframe\">\n",
       "<caption>A data.frame: 6 × 3</caption>\n",
       "<thead>\n",
       "\t<tr><th></th><th scope=col>Girth</th><th scope=col>Height</th><th scope=col>Volume</th></tr>\n",
       "\t<tr><th></th><th scope=col>&lt;dbl&gt;</th><th scope=col>&lt;dbl&gt;</th><th scope=col>&lt;dbl&gt;</th></tr>\n",
       "</thead>\n",
       "<tbody>\n",
       "\t<tr><th scope=row>1</th><td> 8.3</td><td>70</td><td>10.3</td></tr>\n",
       "\t<tr><th scope=row>2</th><td> 8.6</td><td>65</td><td>10.3</td></tr>\n",
       "\t<tr><th scope=row>3</th><td> 8.8</td><td>63</td><td>10.2</td></tr>\n",
       "\t<tr><th scope=row>4</th><td>10.5</td><td>72</td><td>16.4</td></tr>\n",
       "\t<tr><th scope=row>5</th><td>10.7</td><td>81</td><td>18.8</td></tr>\n",
       "\t<tr><th scope=row>6</th><td>10.8</td><td>83</td><td>19.7</td></tr>\n",
       "</tbody>\n",
       "</table>\n"
      ],
      "text/latex": [
       "A data.frame: 6 × 3\n",
       "\\begin{tabular}{r|lll}\n",
       "  & Girth & Height & Volume\\\\\n",
       "  & <dbl> & <dbl> & <dbl>\\\\\n",
       "\\hline\n",
       "\t1 &  8.3 & 70 & 10.3\\\\\n",
       "\t2 &  8.6 & 65 & 10.3\\\\\n",
       "\t3 &  8.8 & 63 & 10.2\\\\\n",
       "\t4 & 10.5 & 72 & 16.4\\\\\n",
       "\t5 & 10.7 & 81 & 18.8\\\\\n",
       "\t6 & 10.8 & 83 & 19.7\\\\\n",
       "\\end{tabular}\n"
      ],
      "text/markdown": [
       "\n",
       "A data.frame: 6 × 3\n",
       "\n",
       "| <!--/--> | Girth &lt;dbl&gt; | Height &lt;dbl&gt; | Volume &lt;dbl&gt; |\n",
       "|---|---|---|---|\n",
       "| 1 |  8.3 | 70 | 10.3 |\n",
       "| 2 |  8.6 | 65 | 10.3 |\n",
       "| 3 |  8.8 | 63 | 10.2 |\n",
       "| 4 | 10.5 | 72 | 16.4 |\n",
       "| 5 | 10.7 | 81 | 18.8 |\n",
       "| 6 | 10.8 | 83 | 19.7 |\n",
       "\n"
      ],
      "text/plain": [
       "  Girth Height Volume\n",
       "1  8.3  70     10.3  \n",
       "2  8.6  65     10.3  \n",
       "3  8.8  63     10.2  \n",
       "4 10.5  72     16.4  \n",
       "5 10.7  81     18.8  \n",
       "6 10.8  83     19.7  "
      ]
     },
     "metadata": {},
     "output_type": "display_data"
    }
   ],
   "source": [
    "data(trees)\n",
    "head(trees)"
   ]
  },
  {
   "cell_type": "markdown",
   "id": "f1c634d8",
   "metadata": {},
   "source": [
    "The probability distribution of $y_{i}$ is $\\operatorname{Normal}\\left(\\beta_0+\\beta_1 X_{i}, \\sigma^{2}\\right)$. The expectation of $y$ is a linear function of $x$, i.e., $E(y)$ and $x$ has a linear relationship,\n",
    "\n",
    "$$E(y) = \\beta_0+\\beta_1x$$(1)"
   ]
  },
  {
   "cell_type": "code",
   "execution_count": 2,
   "id": "4ed59a56",
   "metadata": {},
   "outputs": [
    {
     "data": {
      "image/png": "[encoded data removed]",
      "text/plain": [
       "plot without title"
      ]
     },
     "metadata": {
      "filenames": {
       "image/png": "D:\\OneDrive\\Github\\Jupyter\\jupyter_book\\binf8441\\_build\\jupyter_execute\\chap9_3_0.png"
      },
      "image/png": {
       "height": 420,
       "width": 420
      }
     },
     "output_type": "display_data"
    }
   ],
   "source": [
    "plot(Volume ~ Height, data = trees, pch=16)\n",
    "abline(lm(Volume ~ Height , data=trees), col='red')"
   ]
  },
  {
   "cell_type": "markdown",
   "id": "43322957",
   "metadata": {},
   "source": [
    "The intercept $\\beta_0$ and slope $\\beta_1$ are two parameters to estimate from data. Given $\\beta_0$ and $\\beta_1$, the equation (1) can be used to predict the value of $y$ for a new value of $x$, i.e., \n",
    "\n",
    "$$y_{new} = \\beta_0+\\beta_1x_{new}$$(2)\n",
    "\n",
    "\n",
    "### 1. Least square estimates\n",
    "\n",
    "We estimate $\\beta_0$ and $\\beta_1$ by minimizing the sum of squared errors with respect to $\\beta_0$ and $\\beta_1$,\n",
    "\n",
    "$$\n",
    "\\sum_{i=1}^{n}\\left(y_{i}-\\left(\\beta_0+\\beta_1 x_{i}\\right)\\right)^{2}\n",
    "$$\n",
    "\n",
    "Taking the derivative of the sum of squared errors with respect to $\\beta_0$ and $\\beta_1$, we have\n",
    "\n",
    "$$\n",
    "\\frac{\\partial \\sum_{i=1}^{n}\\left(y_{i}-\\left(\\beta_0+\\beta_1 x_{i}\\right)\\right)^{2}}{\\partial \\beta_0}=0\n",
    "$$\n",
    "\n",
    "and\n",
    "\n",
    "$$\n",
    "\\frac{\\partial \\sum_{i=1}^{n}\\left(y_{i}-\\left(\\beta_0+\\beta_1 x_{i}\\right)\\right)^{2}}{\\partial \\beta_1}=0\n",
    "$$\n",
    "\n",
    "Thus,\n",
    "\n",
    "$$\n",
    "\\begin{equation}\n",
    "\\begin{cases}\n",
    "\\hat{\\beta_0}=\\bar{y}-\\beta_1 \\bar{x}\\\\\n",
    "\\hat{\\beta_1}=\\frac{\\sum\\left(x_{i}-\\bar{x}\\right)\\left(y_{i}-\\bar{y}\\right)}{\\sum\\left(x_{i}-\\bar{x}\\right)^{2}}\\\\\n",
    "\\widehat{\\sigma^{2}}=\\frac{\\sum\\left(y_{i}-\\hat{y}\\right)^{2}}{n-2}\n",
    "\\end{cases}\n",
    "\\end{equation}\n",
    "$$"
   ]
  },
  {
   "cell_type": "code",
   "execution_count": 3,
   "id": "403e238c",
   "metadata": {},
   "outputs": [
    {
     "data": {
      "text/plain": [
       "\n",
       "Call:\n",
       "lm(formula = Volume ~ Height, data = trees)\n",
       "\n",
       "Coefficients:\n",
       "(Intercept)       Height  \n",
       "    -87.124        1.543  \n"
      ]
     },
     "metadata": {},
     "output_type": "display_data"
    },
    {
     "data": {
      "text/html": [
       "-87.1236135388527"
      ],
      "text/latex": [
       "-87.1236135388527"
      ],
      "text/markdown": [
       "-87.1236135388527"
      ],
      "text/plain": [
       "[1] -87.12361"
      ]
     },
     "metadata": {},
     "output_type": "display_data"
    },
    {
     "data": {
      "text/html": [
       "1.54334975369458"
      ],
      "text/latex": [
       "1.54334975369458"
      ],
      "text/markdown": [
       "1.54334975369458"
      ],
      "text/plain": [
       "[1] 1.54335"
      ]
     },
     "metadata": {},
     "output_type": "display_data"
    }
   ],
   "source": [
    "lm(Volume ~ Height , data=trees)\n",
    "\n",
    "x = trees$Height\n",
    "y = trees$Volume\n",
    "\n",
    "beta1 = sum((x-mean(x))*(y-mean(y)))/sum((x-mean(x))^2)\n",
    "beta0 = mean(y) - beta1*mean(x)\n",
    "\n",
    "beta0\n",
    "beta1"
   ]
  },
  {
   "cell_type": "markdown",
   "id": "cf37d52f",
   "metadata": {},
   "source": [
    "### 2. Maximum likelihood estimates \n",
    "\n",
    "We first find the likelihood function\n",
    "\n",
    "$$\n",
    "f\\left(y_{1}, y_{2}, \\ldots, y_{n}\\right)=\\prod_{i=1}^{n} \\frac{1}{\\sqrt{2 \\pi \\sigma^{2}}} e^{-\\frac{\\sum\\left(y_{i}-\\left(\\beta_0+\\beta_1 x_{i}\\right)\\right)^{2}}{2 \\sigma^{2}}}\n",
    "$$\n",
    "\n",
    "Next, we find the log-likelihood\n",
    "\n",
    "$$\n",
    "n \\log \\left(\\frac{1}{\\sqrt{2 \\pi \\sigma^{2}}}\\right)-\\frac{\\sum\\left(y_{i}-\\left(\\beta_0+\\beta_1 x_{i}\\right)\\right)^{2}}{2 \\sigma^{2}}\n",
    "$$\n",
    "\n",
    "The log-likelihood is maximized if $\\sum_{i=1}^{n}\\left(y_{i}-\\left(\\beta_0+\\beta_1 x_{i}\\right)\\right)^{2}$ is minimized. Thus, the maximum likelihood estimates are identical with the least square estimates of $\\beta_0$ and $\\beta_1$.\n",
    "\n",
    "### 3. Testing the linear relationship\n",
    "```{important}\n",
    "If $\\beta_1=0$, we say that $Y$ and $X$ do not have the linear relationship\n",
    "\n",
    "If $\\beta_1>0$, we say that $\\mathrm{Y}$ and $\\mathrm{X}$ are positively correlated\n",
    "\n",
    "If $\\beta_1<0$, we say that $\\mathrm{Y}$ and $\\mathrm{X}$ are negatively correlated \n",
    "```\n",
    "\n",
    "The likelihood ratio test (LRT) can be used to test if $Y$ and $X$ have a linear relationship.\n",
    "\n",
    "$\\mathrm{H}_{0}: \\beta_1=0$ and $\\mathrm{H}_{1}: \\beta_1 \\neq 0$\n",
    "\n",
    "The test statistic is $t=2 \\log \\left(l_{1}\\right)-2 \\log \\left(l_{0}\\right)$, where $\\log \\left(l_{0}\\right)$ is the loglikelihood score of the null model\n",
    "\n",
    "$$\\log \\left(l_{0}\\right)=n \\log \\left(\\frac{1}{\\sqrt{2 \\pi \\sigma^{2}}}\\right)-\\frac{\\sum\\left(y_{i}-\\beta_0\\right)^{2}}{2 \\sigma^{2}}=n \\log \\left(\\frac{1}{\\sqrt{2 \\pi \\hat{\\sigma}^{2}}}\\right)-\\frac{\\sum\\left(y_{i}-\\hat{\\beta_0}\\right)^{2}}{2 \\hat{\\sigma}^{2}}$$\n",
    "\n",
    "$\\log \\left(l_{1}\\right)$ is the loglikelihood score of the alternative model, i.e.,\n",
    "\n",
    "$$\n",
    "\\begin{equation}\n",
    "\\begin{split}\n",
    "\\log \\left(l_{1}\\right) &=n \\log \\left(\\frac{1}{\\sqrt{2 \\pi \\sigma^{2}}}\\right)-\\frac{\\sum\\left(y_{i}-\\left(\\beta_0+\\beta_1 x_{i}\\right)\\right)^{2}}{2 \\sigma^{2}} \\\\\n",
    "&=n \\log \\left(\\frac{1}{\\sqrt{2 \\pi \\hat{\\sigma}^{2}}}\\right)-\\frac{\\sum\\left(y_{i}-\\left(\\hat{\\beta_0}+\\hat{\\beta_1} x_{i}\\right)\\right)^{2}}{2 \\hat{\\sigma}^{2}}\n",
    "\\end{split}\n",
    "\\end{equation}\n",
    "$$\n",
    "\n",
    "\n",
    "$\\mathrm{H}_{0}$ has one free parameter $\\beta_0$, while $\\mathrm{H}_{1}$ has two free parameters $\\beta_0$ and $\\beta_1$. Thus, the null distribution of the test statistic $t$ is the chi-square distribution with 1 degree of freedom.\n",
    "\n",
    "Rejection region: we reject the null if $t>a$ where $a$ is the 95% quantile of the chi-square distribution with 1 degree of freedom."
   ]
  },
  {
   "cell_type": "code",
   "execution_count": 4,
   "id": "de9148f7",
   "metadata": {},
   "outputs": [
    {
     "data": {
      "text/plain": [
       "\n",
       "Call:\n",
       "lm(formula = Volume ~ Height, data = trees)\n",
       "\n",
       "Residuals:\n",
       "    Min      1Q  Median      3Q     Max \n",
       "-21.274  -9.894  -2.894  12.068  29.852 \n",
       "\n",
       "Coefficients:\n",
       "            Estimate Std. Error t value Pr(>|t|)    \n",
       "(Intercept) -87.1236    29.2731  -2.976 0.005835 ** \n",
       "Height        1.5433     0.3839   4.021 0.000378 ***\n",
       "---\n",
       "Signif. codes:  0 '***' 0.001 '**' 0.01 '*' 0.05 '.' 0.1 ' ' 1\n",
       "\n",
       "Residual standard error: 13.4 on 29 degrees of freedom\n",
       "Multiple R-squared:  0.3579,\tAdjusted R-squared:  0.3358 \n",
       "F-statistic: 16.16 on 1 and 29 DF,  p-value: 0.0003784\n"
      ]
     },
     "metadata": {},
     "output_type": "display_data"
    }
   ],
   "source": [
    "result = lm(Volume ~ Height, data=trees)\n",
    "summary(result)"
   ]
  },
  {
   "cell_type": "markdown",
   "id": "affd7014",
   "metadata": {},
   "source": [
    "## Multiple linear regression\n",
    "\n",
    "$y_{i}=\\beta_{0}+\\beta_{1} x_{1 i}+\\beta_{2} x_{2 i}+\\cdots+\\beta_{p} x_{p i}+\\varepsilon_{i}$\n",
    "\n",
    "$x_{i}$ : explanatary variables. We assume $X_{i}$ is fixed.\n",
    "\n",
    "$y$ : the response variable. random variable\n",
    "\n",
    "$\\epsilon$ : the error term. The model assumes that $\\epsilon_{i}^{\\prime} s$ are independent and have the same probability distribution normal $\\left(0, \\sigma^{2}\\right)$.\n",
    "\n",
    "The probability distribution of $y_i$ is normal with mean $\\left(\\beta_{0}+\\beta_{1} X_{1 i}+\\beta_{2} X_{2 i}+\\cdots+\\right.$ $\\left.\\beta_{p} X_{p i}\\right)$ and the variance of $\\mathrm{Y}_{\\mathrm{i}}$ is $\\sigma^{2}$, in which $\\left(\\beta_{0}, \\beta_{1}, \\ldots, \\beta_{p}\\right)$ and $\\sigma^{2}$ are parameters to estimate.\n",
    "\n",
    "The matrix representation of multiple linear regression with $p$ predictors $\\left(X_{1}, \\ldots, X_{p}\\right)$ is\n",
    "\n",
    "$$\n",
    "Y=X \\beta+\\epsilon\n",
    "$$\n",
    "\n",
    "where $\\mathrm{Y}$ is a vector of size $n$, $\\mathrm{X}$ is a $n \\times(p+1)$ matrix, and $\\beta=\\left(\\beta_{0}, \\beta_{1}, \\ldots, \\beta_{p}\\right)$ is a vector of size $(p+1)$.\n",
    "\n",
    "### 1. Least square estimates of $\\beta$ \n",
    "We estimate $\\beta=\\left(\\beta_{0}, \\beta_{1}, \\ldots, \\beta_{p}\\right)$ by minimizing the sum of squared errors\n",
    "\n",
    "$$\n",
    "\\sum_{i=1}^{n}\\left(y_{i}-\\left(\\beta_{0}+\\beta_{1} x_{1 i}+\\beta_{2} x_{2 i}+\\cdots+\\beta_{p} x_{p i}\\right)\\right)^{2}\n",
    "$$\n",
    "\n",
    "### 2. Maximum likelihood estimates\n",
    "The likelihood function is given by \n",
    "\n",
    "$$\n",
    "f\\left(y_{1}, y_{2}, \\ldots, y_{n}\\right)=\\prod_{i=1}^{n} \\frac{1}{\\sqrt{2 \\pi \\sigma^{2}}} e^{-\\frac{\\left(y_{i}-\\left(\\beta_{0}+\\beta_{1} x_{1 i}+\\beta_{2} x_{2 i}+\\cdots+\\beta_{p} x_{p i}\\right)\\right)^{2}}{2 \\sigma^{2}}}\n",
    "$$\n",
    "\n",
    "Since maximizing the likelihood function is equivalent to minimizing $\\left(y_{i}-\\left(\\beta_{0}+\\right.\\right.$ $\\left.\\left.\\beta_{1} X_{1 i}+\\beta_{2} X_{2 i}+\\cdots+\\beta_{p} X_{p i}\\right)\\right)^{2}$, the MLEs of $\\beta$ are identical with the least square estimates."
   ]
  },
  {
   "cell_type": "code",
   "execution_count": 5,
   "id": "70e7a7e1",
   "metadata": {},
   "outputs": [
    {
     "data": {
      "text/plain": [
       "\n",
       "Call:\n",
       "lm(formula = Volume ~ Girth + Height, data = trees)\n",
       "\n",
       "Residuals:\n",
       "    Min      1Q  Median      3Q     Max \n",
       "-6.4065 -2.6493 -0.2876  2.2003  8.4847 \n",
       "\n",
       "Coefficients:\n",
       "            Estimate Std. Error t value Pr(>|t|)    \n",
       "(Intercept) -57.9877     8.6382  -6.713 2.75e-07 ***\n",
       "Girth         4.7082     0.2643  17.816  < 2e-16 ***\n",
       "Height        0.3393     0.1302   2.607   0.0145 *  \n",
       "---\n",
       "Signif. codes:  0 '***' 0.001 '**' 0.01 '*' 0.05 '.' 0.1 ' ' 1\n",
       "\n",
       "Residual standard error: 3.882 on 28 degrees of freedom\n",
       "Multiple R-squared:  0.948,\tAdjusted R-squared:  0.9442 \n",
       "F-statistic:   255 on 2 and 28 DF,  p-value: < 2.2e-16\n"
      ]
     },
     "metadata": {},
     "output_type": "display_data"
    }
   ],
   "source": [
    "result = lm(Volume ~ Girth + Height, data = trees)\n",
    "summary(result)"
   ]
  },
  {
   "cell_type": "markdown",
   "id": "3cab8060",
   "metadata": {},
   "source": [
    "## Transformation\n",
    "\n",
    "The response variable $\\mathrm{Y}$ may not have a linear relationship with $\\mathrm{X}$. For example, if the true relation is $E(Y)=\\beta_0+\\beta_1 X^{2}$, we can transform $Z=X^{2}$ and fit a linear model for $\\mathrm{Y}$ and $\\mathrm{Z}$ (or $\\mathrm{X}^{2}$ )\n",
    "\n",
    "In general, if $E(Y)=g(X)$, we can fit a linear model for $Y$ and a function $g(X)$ of $X$, where the function $g(X)$ can be found by\n",
    "\n",
    "1) The residual plots to discover the relationship between $\\mathrm{Y}$ and $\\mathrm{X}$ and find $g(X)$\n",
    "\n",
    "2) Log-transformation for $\\mathrm{X}$ and $\\mathrm{Y}$\n",
    "\n",
    "3) Box-Cox transformation: $Y=\\left\\{\\begin{array}{l}\\frac{Y^{\\lambda}-1}{\\lambda} \\text {, if } \\lambda \\neq 0 \\\\ \\log (Y) \\text {, if } \\lambda=0\\end{array}\\right.$ and find the optimal $\\lambda$ using $\\mathrm{R}$"
   ]
  },
  {
   "cell_type": "code",
   "execution_count": 6,
   "id": "523a015b",
   "metadata": {},
   "outputs": [
    {
     "data": {
      "image/png": "[encoded data removed]",
      "text/plain": [
       "plot without title"
      ]
     },
     "metadata": {
      "filenames": {
       "image/png": "D:\\OneDrive\\Github\\Jupyter\\jupyter_book\\binf8441\\_build\\jupyter_execute\\chap9_11_0.png"
      },
      "image/png": {
       "height": 420,
       "width": 420
      }
     },
     "output_type": "display_data"
    }
   ],
   "source": [
    "library(MASS)\n",
    "\n",
    "boxcox (Volume ~ log(Height)+log(Girth), data = trees, lambda =seq(-0.25,0.25, length=10))"
   ]
  },
  {
   "cell_type": "markdown",
   "id": "373365f5",
   "metadata": {},
   "source": [
    "## Variable selection\n",
    "\n",
    "Variable selection is intended to select the \"best\" subset of predictors. We want to explain the data in the simplest way. The principle is that among several plausible explanations for a phenomenon, the simplest is best. Applied to regression analysis, this implies that the smallest model that fits the data is best.\n",
    "\n",
    "Considering the linear regression model with $p$ predictors $\\left\\{X_{1}, \\ldots, X_{p}\\right\\}$\n",
    "\n",
    "$$\n",
    "Y=\\beta_{0}+\\beta_{1} X_{1}+\\cdots+\\beta_{p} X_{p}+\\epsilon\n",
    "$$\n",
    "\n",
    "We want to select the smallest subset of predictors $\\left\\{X_{1}, \\ldots, X_{p}\\right\\}$ that can fit the data, i.e., we are interested in testing\n",
    "\n",
    "$$\n",
    "H_{0}: \\beta_{j}=0 \\text { vs } H_{1}: \\beta_{j} \\neq 0\n",
    "$$\n",
    "\n",
    "With the normality assumption, we may use t-test to test whether $\\beta_{j}=0$. In general, to select a subset of predictors, we need to test if a subset $\\beta_{s}$ of $\\beta$ are 0 , i.e.,\n",
    "\n",
    "$$\n",
    "H_{0}: \\beta_{s}=0 \\text { vs } H_{1}: \\beta_{s} \\neq 0\n",
    "$$\n",
    "\n",
    "The model under $H_{0}$ is called reduced model with $p_{s}+1$ coefficients $\\beta$ and the model under $H_{1}$ is called full model with $(p+1)$ coefficients $\\beta$. Note that $p_{s}<p$, and the null model is nested in the alternative model.\n",
    "\n",
    "### 1. F-test \n",
    "\n",
    "The residual sum-of-squares $\\operatorname{RSS}(\\beta)$ is defined as:\n",
    "\n",
    "$$\n",
    "R S S(\\beta)=\\sum_{i=1}^{n}\\left(y_{i}-\\widehat{y}_{l}\\right)^{2}=\\sum_{i=1}^{n}\\left(y_{i}-x_{i} \\beta\\right)^{2}\n",
    "$$\n",
    "\n",
    "Let $\\mathrm{RSS}_{1}$ correspond to the full model with $p+1$ parameters, and $\\mathrm{RSS}_{0}$ correspond to the nested model with $p_{0}+1$ parameters. The $\\mathrm{F}$ statistic measures the reduction of RSS per additional parameter in the full model,\n",
    "\n",
    "$$\n",
    "F=\\frac{\\left(R S S_{0}-R S S_{1}\\right) /\\left(p_{1}-p_{0}\\right)}{R S S_{1} /\\left(n-p_{1}-1\\right)}\n",
    "$$\n",
    "\n",
    "Under the normal assumption, the null distribution of $\\mathrm{F}$ test statistic is the $\\mathrm{F}$ distribution with degrees of freedom $\\left(p_{1}-p_{0}\\right)$ and $\\left(n-p_{1}-1\\right)$. Thus, we reject $\\mathrm{H}_{0}$ if $F>$ a, where $\\mathrm{a}$ is the $(1-\\alpha)$ quantile of the $\\mathrm{F}$ distribution with degrees of freedom $\\left(p_{1}-p_{0}\\right)$ and $\\left(n-p_{1}-1\\right)$.\n",
    "\n",
    "### 2. Likelihood ratio test (LRT)\n",
    "\n",
    "Let $\\mathrm{L}_{1}$ be the maximum value of the likelihood of the full model. Let $\\mathrm{L}_{0}$ be the maximum value of the likelihood of the nested model. The likelihood ratio test statistic is\n",
    "\n",
    "$$\n",
    "t=2 \\log \\left(L_{1}\\right)-2 \\log \\left(L_{0}\\right)\n",
    "$$\n",
    "\n",
    "The null distribution of test statistic $t$ is asymptotically $\\chi^{2}$ distribution with $\\left(p_{1}-p_{0}\\right)$ degrees of freedom where $p_1$ is the number of parameters in the alternative model and $p_0$ is the number of parameters in the null model. Thus, we reject $\\mathrm{H}_{0}$ if $t>\\mathrm{a}$, where $a$ is the $(1-\\alpha)$ quantile of the $\\chi^{2}$ distribution with $\\left(p_{1}-p_{0}\\right)$ degrees of freedom.\n",
    "\n",
    "### 3. Akaike Information Criterion (AIC)\n",
    "\n",
    "The LRT can only be applied to the nested models. In addition, the LRT tends to favor the complex model, because LRT is solely based on the likelihood score and the complex model always has a higher likelihood score. AIC is a more general measure of \"model fit\" by penalizing the complexity of the model to avoid overfitting the data,\n",
    "\n",
    "$$\n",
    "\\text { AIC }=-2 \\text { loglikelihood }+2 p\n",
    "$$\n",
    "\n",
    "where $p$ is the number of parameters, measuring the complexity of the model, and loglikelihood measures the goodness of fit of the model to the data. Given a collection of putative models, the best model is the one with the lowest $A I C$.\n",
    "\n",
    "### 4. Bayes Information Criterion (BIC)\n",
    "\n",
    "AIC tends to overfit models when the sample size is small. Another information criterion which penalizes complex models more severely is \n",
    "\n",
    "$$\n",
    "\\text { BIC }=-2 \\text { loglikelihood }+p * \\log (n)\n",
    "$$\n",
    "\n",
    "Given a collection of putative models, the best model is the one with the lowest BIC.\n",
    "\n",
    "### 5. Algorithms for variable selection\n",
    "\n",
    "An exhaustive search for the subset may not be feasible if $p$ is very large. There are two main alternatives:\n",
    "\n",
    "#### Forward stepwise selection\n",
    "The algorithm begins with a naive model $y = \\beta_0$ that does not include any explanatary variables $x$. Then, we add one explanatary variable at a time. We always choose from the rest of the variables the one that yields the best accuracy in prediction when added to the pool of already selected variables. This accuracy can be measured by the F statistic, LRT, AIC, BIC, etc. The algorithm stops when no predictors can be added.\n",
    "\n",
    "#### Backward stepwise selection\n",
    "The algorithm begins with the full model including all predictors and then removes one predictor at a time.\n",
    "\n",
    "#### Forward and backward stepwise selection\n",
    "mixing forward and backward selection to find the optimal subset of predictors.\n",
    "\n",
    "#### Least absolute shrinkage and selection operator (LASSO)\n",
    "The algorithm minimizes the residual sum-of-square $\\operatorname{RSS}(\\beta)=\\sum_{i=1}^{n}\\left(y_{i}-\\widehat{y}_{l}\\right)^{2}$, subject to $\\sum_{i=1}^{p}\\left|\\beta_{i}\\right| \\leq c$, in which $\\mathrm{c}$ is a pre-specified parameter. This procedure can automatically shrink some $\\beta$ to 0 .\n",
    "\n",
    "## Generalized linear regression\n",
    "\n",
    "In linear regression model, the dependent variable $\\mathrm{Y}$ is assumed to have a normal distribution with mean $X \\beta$. In generalized linear regression, the normality assumption is relaxed to allow $Y$ to have other probability distributions (binomial, Poisson, etc).\n",
    "\n",
    "### 1. Logistic model\n",
    "\n",
    "$Y_{i}=(0,1)$ is a Bernoulli random variable with probability $p_{i}$ satisfying $\\log \\left(\\frac{p_{i}}{1-p_{i}}\\right)=X_{i} \\beta$, which is called the link function. It indicates that $p_{i}=\\frac{e^{X_{i} \\beta}}{1+e^{X_{i} \\beta}}$."
   ]
  },
  {
   "cell_type": "code",
   "execution_count": 7,
   "id": "0d7ff109",
   "metadata": {},
   "outputs": [
    {
     "data": {
      "text/html": [
       "<table class=\"dataframe\">\n",
       "<caption>A data.frame: 6 × 4</caption>\n",
       "<thead>\n",
       "\t<tr><th></th><th scope=col>admit</th><th scope=col>gre</th><th scope=col>gpa</th><th scope=col>rank</th></tr>\n",
       "\t<tr><th></th><th scope=col>&lt;int&gt;</th><th scope=col>&lt;int&gt;</th><th scope=col>&lt;dbl&gt;</th><th scope=col>&lt;int&gt;</th></tr>\n",
       "</thead>\n",
       "<tbody>\n",
       "\t<tr><th scope=row>1</th><td>0</td><td>380</td><td>3.61</td><td>3</td></tr>\n",
       "\t<tr><th scope=row>2</th><td>1</td><td>660</td><td>3.67</td><td>3</td></tr>\n",
       "\t<tr><th scope=row>3</th><td>1</td><td>800</td><td>4.00</td><td>1</td></tr>\n",
       "\t<tr><th scope=row>4</th><td>1</td><td>640</td><td>3.19</td><td>4</td></tr>\n",
       "\t<tr><th scope=row>5</th><td>0</td><td>520</td><td>2.93</td><td>4</td></tr>\n",
       "\t<tr><th scope=row>6</th><td>1</td><td>760</td><td>3.00</td><td>2</td></tr>\n",
       "</tbody>\n",
       "</table>\n"
      ],
      "text/latex": [
       "A data.frame: 6 × 4\n",
       "\\begin{tabular}{r|llll}\n",
       "  & admit & gre & gpa & rank\\\\\n",
       "  & <int> & <int> & <dbl> & <int>\\\\\n",
       "\\hline\n",
       "\t1 & 0 & 380 & 3.61 & 3\\\\\n",
       "\t2 & 1 & 660 & 3.67 & 3\\\\\n",
       "\t3 & 1 & 800 & 4.00 & 1\\\\\n",
       "\t4 & 1 & 640 & 3.19 & 4\\\\\n",
       "\t5 & 0 & 520 & 2.93 & 4\\\\\n",
       "\t6 & 1 & 760 & 3.00 & 2\\\\\n",
       "\\end{tabular}\n"
      ],
      "text/markdown": [
       "\n",
       "A data.frame: 6 × 4\n",
       "\n",
       "| <!--/--> | admit &lt;int&gt; | gre &lt;int&gt; | gpa &lt;dbl&gt; | rank &lt;int&gt; |\n",
       "|---|---|---|---|---|\n",
       "| 1 | 0 | 380 | 3.61 | 3 |\n",
       "| 2 | 1 | 660 | 3.67 | 3 |\n",
       "| 3 | 1 | 800 | 4.00 | 1 |\n",
       "| 4 | 1 | 640 | 3.19 | 4 |\n",
       "| 5 | 0 | 520 | 2.93 | 4 |\n",
       "| 6 | 1 | 760 | 3.00 | 2 |\n",
       "\n"
      ],
      "text/plain": [
       "  admit gre gpa  rank\n",
       "1 0     380 3.61 3   \n",
       "2 1     660 3.67 3   \n",
       "3 1     800 4.00 1   \n",
       "4 1     640 3.19 4   \n",
       "5 0     520 2.93 4   \n",
       "6 1     760 3.00 2   "
      ]
     },
     "metadata": {},
     "output_type": "display_data"
    }
   ],
   "source": [
    "data <- read.csv(\"https://stats.idre.ucla.edu/stat/data/binary.csv\")\n",
    "head(data)"
   ]
  },
  {
   "cell_type": "markdown",
   "id": "c997ccd2",
   "metadata": {},
   "source": [
    "Since $Y_{i}$ 's are independent, the likelihood function is given by\n",
    "\n",
    "$$\n",
    "\\prod_{i=1}^{n} p_{i}^{Y_{i}}\\left(1-p_{i}\\right)^{1-Y_{i}}=\\prod_{i=1}^{n}\\left(\\frac{e^{X_{i} \\beta}}{1+e^{X_{i} \\beta}}\\right)^{Y_{i}}\\left(\\frac{1}{1+e^{X_{i} \\beta}}\\right)^{1-Y_{i}}\n",
    "$$\n",
    "\n",
    "The MLE of $\\beta$ is given by maximizing this likelihood function with respect to $\\beta$."
   ]
  },
  {
   "cell_type": "code",
   "execution_count": 8,
   "id": "c2940b22",
   "metadata": {},
   "outputs": [
    {
     "data": {
      "text/plain": [
       "\n",
       "Call:\n",
       "glm(formula = admit ~ gre + gpa + rank, family = \"binomial\", \n",
       "    data = data)\n",
       "\n",
       "Deviance Residuals: \n",
       "    Min       1Q   Median       3Q      Max  \n",
       "-1.5802  -0.8848  -0.6382   1.1575   2.1732  \n",
       "\n",
       "Coefficients:\n",
       "             Estimate Std. Error z value Pr(>|z|)    \n",
       "(Intercept) -3.449548   1.132846  -3.045  0.00233 ** \n",
       "gre          0.002294   0.001092   2.101  0.03564 *  \n",
       "gpa          0.777014   0.327484   2.373  0.01766 *  \n",
       "rank        -0.560031   0.127137  -4.405 1.06e-05 ***\n",
       "---\n",
       "Signif. codes:  0 '***' 0.001 '**' 0.01 '*' 0.05 '.' 0.1 ' ' 1\n",
       "\n",
       "(Dispersion parameter for binomial family taken to be 1)\n",
       "\n",
       "    Null deviance: 499.98  on 399  degrees of freedom\n",
       "Residual deviance: 459.44  on 396  degrees of freedom\n",
       "AIC: 467.44\n",
       "\n",
       "Number of Fisher Scoring iterations: 4\n"
      ]
     },
     "metadata": {},
     "output_type": "display_data"
    }
   ],
   "source": [
    "result <- glm(admit ~ gre + gpa + rank, data = data, family = \"binomial\")\n",
    "summary(result)"
   ]
  },
  {
   "cell_type": "markdown",
   "id": "2a1d9dc5",
   "metadata": {},
   "source": [
    "We can predict the admission probability for a new observation $X$ using the equation $p=\\frac{e^{X \\beta}}{1+e^{X \\beta}}$"
   ]
  },
  {
   "cell_type": "code",
   "execution_count": 9,
   "id": "66d7e9f5",
   "metadata": {},
   "outputs": [
    {
     "data": {
      "text/html": [
       "<strong>1:</strong> 0.592475691285015"
      ],
      "text/latex": [
       "\\textbf{1:} 0.592475691285015"
      ],
      "text/markdown": [
       "**1:** 0.592475691285015"
      ],
      "text/plain": [
       "        1 \n",
       "0.5924757 "
      ]
     },
     "metadata": {},
     "output_type": "display_data"
    }
   ],
   "source": [
    "newdata1 <- data.frame(gre = 590, gpa = 3.9, rank = 1)\n",
    "predict(result, newdata = newdata1, type = \"response\")"
   ]
  },
  {
   "cell_type": "markdown",
   "id": "cf5e7876",
   "metadata": {},
   "source": [
    "### 2. Loglinear model (counts)\n",
    "\n",
    "$Y_{i}$ is a Poisson random variable with $\\log \\left(E\\left(Y_{i}\\right)\\right)=X_{i} \\beta$. It indicates that $Y_{\\mathrm{i}}$ is a Poisson random variable with mean $\\lambda_{i}=e^{X_{i} \\beta}$. Thus, the likelihood function is given by\n",
    "\n",
    "$$\n",
    "\\prod_{i=1}^{n} \\frac{e^{-\\lambda_{i}} \\lambda_{i}^{Y_{i}}}{Y_{i} !}=\\prod_{i=1}^{n} \\frac{e^{-e^{X_{i} \\beta}}\\left(e^{X_{i} \\beta}\\right)^{Y_{i}}}{Y_{i} !}\n",
    "$$\n",
    "\n",
    "The MLE of $\\beta$ are obtained by maximizing the likelihood function.\n",
    "\n",
    "We may use LRT to test $\\mathrm{H}_{0}: \\beta_{1}=0$ vs $\\mathrm{H}_{1}: \\beta_{1} \\neq 0$ for the logistic and loglinear models. The procedures of variable selection can also apply to the logistic and loglinear models."
   ]
  }
 ],
 "metadata": {
  "jupytext": {
   "cell_metadata_filter": "-all",
   "formats": "md:myst",
   "text_representation": {
    "extension": ".md",
    "format_name": "myst",
    "format_version": 0.13,
    "jupytext_version": "1.11.5"
   }
  },
  "kernelspec": {
   "display_name": "R",
   "language": "R",
   "name": "ir"
  },
  "language_info": {
   "codemirror_mode": "r",
   "file_extension": ".r",
   "mimetype": "text/x-r-source",
   "name": "R",
   "pygments_lexer": "r",
   "version": "4.2.2"
  },
  "source_map": [
   14,
   40,
   43,
   49,
   52,
   91,
   102,
   153,
   156,
   194,
   197,
   211,
   215,
   311,
   314,
   324,
   327,
   331,
   334
  ]
 },
 "nbformat": 4,
 "nbformat_minor": 5
}