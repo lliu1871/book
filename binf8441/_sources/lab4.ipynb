{
 "cells": [
  {
   "cell_type": "markdown",
   "id": "076ed485",
   "metadata": {},
   "source": [
    "# Lab 4: BLAST\n",
    "\n",
    "## Preparation\n",
    "- Download BLAST (ncbi-blast-2.13.0+.dmg for Mac and ncbi-blast-2.13.0+-win64.exe for Windows) at https://ftp.ncbi.nlm.nih.gov/blast/executables/blast+/LATEST/ and install it on your laptop\n",
    "- The manual is available at https://www.ncbi.nlm.nih.gov/books/NBK279690/\n",
    "- Install an R package “ape” by typing install.packages(\"ape\") in R\n",
    "- Install an R package “seqinr” by typing install.packages(\"seqinr\") in R\n",
    "\n",
    "## FASTA format\n",
    "\n",
    "FASTA format is used to represent molecular sequences. The first line begins with **>** and describes the sequence, while the following lines are the sequence.\n",
    "\n",
    "```{admonition} Example DNA sequence in FASTA format\n",
    "\n",
    "\\>gi|23423|ref|NM_23542.0| Homo sapiens protein \\\n",
    "ATGAATCGATACGATAGCTAGCTATCGATGCA \\\n",
    "GATCAGAGAGGGGCTTTAGCTAGCTAAGCTAG \n",
    "```\n",
    "\n",
    "```{admonition} Example protein sequence in FASTA format\n",
    "\\>MCHU - Calmodulin - Human, rabbit, bovine, rat, and chicken \\\n",
    "ADQLTEEQIAEFKEAFSLFDKDGDGTITTKELGTVMRSLGQNPTEAELQDMINEVDADGNGTID \\\n",
    "FPEFLTMMARKMKDTDSEEEIREAFRVFDKDGNGYISAAELRHVMTNLGEKLTDEEVDEMIREA \\\n",
    "DIDGDGQVNYEEFVQMMTAK* \n",
    "```\n",
    "\n",
    "## Blast GenBank online\n",
    "\n",
    "The query sequence in FASTA format is given below\n",
    "\n",
    "\n",
    "```{admonition} \\>Sequence3a \n",
    "TAACCTACGGGTGGCCGCAGTGGGGAATATTGCACAATGGACACAAGTCTGATGCAGCGACGC\\\n",
    "CGCGTGGGGGATGAAGGCTTTCGGGTTGTAAACTCCTTTCAGTACAGAAGAAGCATTTTTGTG\\\n",
    "ACGGTATGTGCAGAAGAAGCGCCGGCTAACTACGTGCCAGCAGCCGCGGTAATACGTAGGGCG\\\n",
    "CGAGCGTTGTCCGGAATTATTGGGCGTAAAGAGCTCGTAGGCGGTTTGTTGCGCCTGCTGTG\n",
    "```\n",
    "\n",
    "Navigate to the main BLAST page (https://blast.ncbi.nlm.nih.gov/Blast.cgi). Select the appropriate type of BLAST for your sequence. Paste the query sequence into the box. Click the “BLAST” button and wait for the results.\n",
    "\n",
    "Once the results are displayed, notice there are three main headings: Graphic Summary, Descriptions, and Alignments.\n",
    "\n",
    "## Blast remotely against GenBank\n",
    "\n",
    "Save the sequence3a in a file called lab4_test.fa or download the file [lab4_test.fa](https://book.phylolab.net/binf8441/data/lab4_test.fa). We may run the following command line to blast remotely against GenBank. Please make sure to specify the full path of blastn. \n",
    "\n",
    "```{code}\n",
    "blastn -query lab4_test.fa -out lab4_result.txt -remote -db nt\n",
    "```\n",
    "\n",
    "We may get the IDs of the first 100 significant sequences in R."
   ]
  },
  {
   "cell_type": "code",
   "execution_count": 1,
   "id": "e863448c",
   "metadata": {},
   "outputs": [
    {
     "name": "stderr",
     "output_type": "stream",
     "text": [
      "Warning message in file(file, \"r\"):\n",
      "“cannot open URL 'https://book.phylolab.net/binf8441/data/lab4_result.txt': HTTP status was '404 Not Found'”\n"
     ]
    },
    {
     "ename": "ERROR",
     "evalue": "Error in file(file, \"r\"): cannot open the connection to 'https://book.phylolab.net/binf8441/data/lab4_result.txt'\n",
     "output_type": "error",
     "traceback": [
      "Error in file(file, \"r\"): cannot open the connection to 'https://book.phylolab.net/binf8441/data/lab4_result.txt'\nTraceback:\n",
      "1. scan(\"https://book.phylolab.net/binf8441/data/lab4_result.txt\", \n .     what = \"character\", sep = \"\\n\")",
      "2. file(file, \"r\")"
     ]
    }
   ],
   "source": [
    "data=scan(\"https://book.phylolab.net/binf8441/data/lab4_result.txt\",what=\"character\",sep=\"\\n\")\n",
    "index = grep(\"Sequences producing\",data)\n",
    "ngeneid = 100\n",
    "geneid = rep(\"\",ngeneid)\n",
    "for(i in 1:ngeneid){\n",
    "    x=data[index+i]\n",
    "    geneid[i] = unlist(strsplit(x,split=\" \"))[1]\n",
    "}\n",
    "print(\"The geneid of the first 100 significant sequences include\")\n",
    "geneid"
   ]
  },
  {
   "cell_type": "markdown",
   "id": "5f70d47d",
   "metadata": {},
   "source": [
    "We can retrieve the DNA sequences using the gene IDs we received above."
   ]
  },
  {
   "cell_type": "code",
   "execution_count": null,
   "id": "2814b252",
   "metadata": {},
   "outputs": [],
   "source": [
    "library(ape)\n",
    "ngeneid = 2 #to save time we only retrieve the first 2 sequences\n",
    "seq=rep(\"\",ngeneid)\n",
    "names(seq)=geneid[1:ngeneid]\n",
    "for(i in 1:ngeneid){\n",
    "    seq[i] = read.GenBank(geneid[i])\n",
    "    Sys.sleep(5) #if too many request, the server will identify it as a spam. here we wait 5 seconds after each request\n",
    "}\n",
    "print(paste(\"The first sequence is\", seq[1]))"
   ]
  },
  {
   "cell_type": "markdown",
   "id": "97552e7c",
   "metadata": {},
   "source": [
    "Save the sequences in a file"
   ]
  },
  {
   "cell_type": "code",
   "execution_count": null,
   "id": "91b78950",
   "metadata": {},
   "outputs": [],
   "source": [
    "write.dna(seq,\"seq.fas\",format=\"fasta\")"
   ]
  },
  {
   "cell_type": "markdown",
   "id": "28f1eb31",
   "metadata": {},
   "source": [
    "## Generate a local blast database\n",
    "\n",
    "The Blast package includes a program **makeblastdb**. We first download and unzip the zebra finch chromosome 1 [Taeniopygia_guttata.bTaeGut1_v1.p.dna.primary_assembly.1.fa.gz](https://book.phylolab.net/binf8441/data/Taeniopygia_guttata.bTaeGut1_v1.p.dna.primary_assembly.1.fa.gz). A local blast database is constructed by typing the following command line in Terminal (Mac) or the command window (type CMD in Windows). Please make sure to specify the full path of **makeblastdb**.\n",
    "\n",
    "```{code}\n",
    "~/Bin/ncbi-blast-2.10.0+/bin/makeblastdb -in Taeniopygia_guttata.bTaeGut1_v1.p.dna.primary_assembly.1.fa -dbtype nucl -out Taeniopygia_guttata\n",
    "```\n",
    "\n",
    "Note that we may run the third party programs such as blast in R using the R function **system()**."
   ]
  },
  {
   "cell_type": "code",
   "execution_count": null,
   "id": "dc787e8e",
   "metadata": {},
   "outputs": [],
   "source": [
    " try(system(paste(\"c://Users/liuliang_2/bin/blast-2.10.0+/bin/makeblastdb.exe -in Taeniopygia_guttata.bTaeGut1_v1.p.dna.primary_assembly.1.fa -dbtype nucl -out Taeniopygia_guttata\")))"
   ]
  },
  {
   "cell_type": "markdown",
   "id": "b9f45937",
   "metadata": {},
   "source": [
    "## Blast against the local database\n",
    "Download the input file [lab4_query_local.txt](https://book.phylolab.net/binf8441/data/lab4_query_local.txt) and run the following command line in Terminal (Mac) or the command window (type CMD in Windows).\n",
    "\n",
    "```{code}\n",
    "blastn -query lab4_query_local.txt -db Taeniopygia_guttata -out resultfile -max_target_seqs 5\n",
    "```\n",
    "\n",
    "## Exercise\n",
    "For each query sequence in the file lab4_query_local, write R code to blast remotely against GenBank and save the sequences of the first 50 significant alignments to a file. Since there are 10 query sequences in the file lab4_query_local, your R code should generate 10 output files. Explain the sequences in each output file."
   ]
  }
 ],
 "metadata": {
  "jupytext": {
   "cell_metadata_filter": "-all",
   "formats": "md:myst",
   "text_representation": {
    "extension": ".md",
    "format_name": "myst",
    "format_version": 0.13,
    "jupytext_version": "1.11.5"
   }
  },
  "kernelspec": {
   "display_name": "R",
   "language": "R",
   "name": "ir"
  },
  "language_info": {
   "codemirror_mode": "r",
   "file_extension": ".r",
   "mimetype": "text/x-r-source",
   "name": "R",
   "pygments_lexer": "r",
   "version": "4.2.1"
  },
  "source_map": [
   14,
   68,
   79,
   83,
   93,
   95,
   97,
   109,
   111
  ]
 },
 "nbformat": 4,
 "nbformat_minor": 5
}