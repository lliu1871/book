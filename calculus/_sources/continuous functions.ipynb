{
 "cells": [
  {
   "cell_type": "markdown",
   "id": "643ebfd1",
   "metadata": {},
   "source": [
    "# Continuous functions\n",
    "\n",
    "```{epigraph}\n",
    "*\"Do the difficult things while they are easy and do the great things while they are small. A journey of a thousand miles must begin with a single step.\"*\n",
    "\n",
    "-- Lao Tzu\n",
    "```\n",
    "\n",
    "```{seealso}\n",
    "- [Continuous function Wikipedia](https://en.wikipedia.org/wiki/Continuous_function)\n",
    "- [Continuous function on Youtube](https://www.youtube.com/watch?v=joewRl1CTL8)\n",
    "```\n",
    "````{prf:definition} continuous function\n",
    ":label: continuous_function\n",
    "A function $f:D\\rightarrow \\mathbb{R}$ is continuous at $x_{0}\\in D$ if for every $epsilon >0$, there exists a $\\delta >0$ such that for all $x\\in D$, \n",
    "\n",
    "$$|x-x_{0}|<\\delta ~~{\\text{ implies }}~~|f(x)-f(x_{0})|<\\epsilon$$\n",
    "\n",
    "If $f$ is continuous at all points in $D$, we say that $f$ is continuous on $D$.\n",
    "````\n",
    "\n",
    "## Construction of continuous functions\n",
    "A list of continuous functions and the values of $x$ for which they are continuous.\n",
    "\n",
    "1. Polynomials for all $x$.\n",
    "\n",
    "7. $\\cos (x)$ and $\\sin (x)$ for all $x$.\n",
    "\n",
    "2. Rational function, except for $x$ 's that give division by zero.\n",
    "\n",
    "8. $\\tan (x)$ and $\\sec (x)$ provided $x \\neq \\cdots,-\\frac{3 \\pi}{2},-\\frac{\\pi}{2}, \\frac{\\pi}{2}, \\frac{3 \\pi}{2}, \\cdots$\n",
    "\n",
    "3. $\\sqrt[n]{x}$ ( $n$ odd) for all $x$.\n",
    "\n",
    "4. $\\sqrt[n]{x}$ ( $n$ even) for all $x \\geq 0$.\n",
    "\n",
    "5. $\\mathbf{e}^{x}$ for all $x$.\n",
    "\n",
    "6. $\\ln x$ for $x>0$.\n",
    "\n",
    "9. $\\cot (x)$ and $\\csc (x)$ provided $x \\neq \\cdots,-2 \\pi,-\\pi, 0, \\pi, 2 \\pi, \\cdots$\n",
    "\n",
    "````{prf:theorem}\n",
    "If two functions $f$ and $g$ are continous at $a\\in \\mathbb{R}$, then $f+g$, $f-g$, $fg$, and $f/g$ where $g(a)\\ne 0$ are continuous at $a$. \n",
    "````\n",
    "\n",
    "````{prf:theorem}\n",
    "If $g$ is continuous at $a\\in\\mathbb{R}$ and $f$ is continuous at $g(a)$, then the composition $f\\circ g$ is continuous at $a$.\n",
    "````\n",
    "\n",
    "## Properties\n",
    "\n",
    "\n",
    "````{prf:theorem} Intermediate Value Theorem\n",
    "Suppose that $f(x)$ is continuous on $[a, b]$ and let $M$ be any number between $f(a)$ and $f(b)$. Then there exists a number $c$ such that $a<c<b$ and $f(c)=M$. \n",
    "````\n",
    "\n",
    "\n",
    "````{prf:theorem} Extreme value theorem\n",
    "If a function $f: D\\rightarrow \\mathbb{R}$ is defined on a closed and bounded set $D\\subset\\mathbb{R}$ and is continuous on $D$, then the function attains its maximum and minimum. \n",
    "````"
   ]
  }
 ],
 "metadata": {
  "jupytext": {
   "cell_metadata_filter": "-all",
   "formats": "md:myst",
   "text_representation": {
    "extension": ".md",
    "format_name": "myst",
    "format_version": 0.13,
    "jupytext_version": "1.11.5"
   }
  },
  "kernelspec": {
   "display_name": "Python 3",
   "language": "python",
   "name": "python3"
  },
  "language_info": {
   "codemirror_mode": {
    "name": "ipython",
    "version": 3
   },
   "file_extension": ".py",
   "mimetype": "text/x-python",
   "name": "python",
   "nbconvert_exporter": "python",
   "pygments_lexer": "ipython3",
   "version": "3.7.4"
  },
  "source_map": [
   14
  ]
 },
 "nbformat": 4,
 "nbformat_minor": 5
}