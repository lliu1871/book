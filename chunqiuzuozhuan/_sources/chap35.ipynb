{
 "cells": [
  {
   "cell_type": "markdown",
   "id": "421c879e",
   "metadata": {},
   "source": [
    "# 卷一隐公（元年～十一年，公元前722-前712年）隐公二年(公元前721年)\n",
    "\n",
    "![](image/cover.jpg)\n",
    "\n",
    "【经】\n",
    "\n",
    "二年春，公会戎于潜。夏五月，莒人入向。无骇帅师入极。秋八月庚辰，公及戎盟于唐。九月，纪裂繻(xū或rú)来逆女。冬十月，伯姬归于纪。纪子帛、莒子盟于密。十有二月乙卯，夫人子氏薨。郑人伐卫。\n",
    "\n",
    "【传】\n",
    "\n",
    "二年春，公会戎于潜，修惠公之好也。戎请盟，公辞。\n",
    "\n",
    "二年春季，鲁隐公在潜地与戎人会见，再一次加强惠公时期的友好关系，戎人请求结盟，隐公婉言拒绝了。\n",
    "\n",
    "莒子娶于向，向姜不安莒而归。夏，莒人入向以姜氏还。\n",
    "\n",
    "莒子在向国娶了妻子，向姜在莒国不安心而回到向国。夏季，莒子领兵进入向国，带着向姜回国。\n",
    "\n",
    "司空无骇入极，费庈(qín)父胜之。\n",
    "\n",
    "司空无骇带兵进入极国，派费庈父灭亡了极国。\n",
    "\n",
    "戎请盟。秋，盟于唐，复修戎好也。\n",
    "\n",
    "戎人请求结盟。秋季，在唐地结盟，这是为了再次加强和戎人的友好关系。\n",
    "\n",
    "九月，纪裂繻来逆女，卿为君逆也。\n",
    "\n",
    "九月，纪国的裂繻来迎接隐公的女儿，这是卿为了国君而来迎娶的。\n",
    "\n",
    "冬，纪子帛、莒子盟于密，鲁故也。\n",
    "\n",
    "冬季，纪子帛和莒子在密地结盟，这是为了调解鲁国和莒国间的不和睦。\n",
    "\n",
    "郑人伐卫，讨公孙滑之乱也。\n",
    "\n",
    "郑国人进攻卫国，讨伐公孙滑的叛乱。"
   ]
  }
 ],
 "metadata": {
  "jupytext": {
   "cell_metadata_filter": "-all",
   "formats": "md:myst",
   "text_representation": {
    "extension": ".md",
    "format_name": "myst",
    "format_version": 0.13,
    "jupytext_version": "1.11.5"
   }
  },
  "kernelspec": {
   "display_name": "Python 3",
   "language": "python",
   "name": "python3"
  },
  "language_info": {
   "codemirror_mode": {
    "name": "ipython",
    "version": 3
   },
   "file_extension": ".py",
   "mimetype": "text/x-python",
   "name": "python",
   "nbconvert_exporter": "python",
   "pygments_lexer": "ipython3",
   "version": "3.7.4"
  },
  "source_map": [
   14
  ]
 },
 "nbformat": 4,
 "nbformat_minor": 5
}