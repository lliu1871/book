{
 "cells": [
  {
   "cell_type": "markdown",
   "id": "77ea8521",
   "metadata": {},
   "source": [
    "# 卷二桓公（元年～十八年）(公元前711-前694年)桓公元年(公元前711年)\n",
    "\n",
    "![](image/cover.jpg)\n",
    "\n",
    "【经】\n",
    "\n",
    "元年春王正月，公即位。三月，公会郑伯于垂，郑伯以璧假许田。夏四月丁未，公及郑伯盟于越。秋，大水。冬十月。\n",
    "\n",
    "【传】\n",
    "\n",
    "元年春，公即位，修好于郑。郑人请复祀周公，卒易祊田。公许之。三月，郑伯以璧假许田，为周公、祊故也。\n",
    "\n",
    "元年春季，鲁桓公即位，对郑国恢复友好。郑人请求重新祭祀周公、完成祊田的交换。桓公答应了。三月，郑庄公用璧玉来作许田的交易，这是为了请求祭祀周公和以祊交换许田的缘故。\n",
    "\n",
    "夏四月丁未，公及郑伯盟于越，结祊成也。盟曰：“渝盟无享国。”\n",
    "\n",
    "夏季，四月初二日，鲁桓公和郑庄公在越地结盟，这是为了祊田的交换表示友好。誓辞说：“如果违背盟约，就不能享有国家。”\n",
    "\n",
    "秋，大水。凡平原出水为大水。\n",
    "\n",
    "秋季，发大水，凡是平原上被水淹了叫做大水。\n",
    "\n",
    "冬，郑伯拜盟。\n",
    "\n",
    "冬季，郑庄公前来拜谢结盟。\n",
    "\n",
    "宋华父督见孔父之妻于路，目逆而送之，曰：“美而艳。”\n",
    "\n",
    "宋国的华父督在路上见到孔父的妻子，他目迎她从对面走过来，又回头从后面盯着她走过去，说：“既美丽，又光彩动人。”"
   ]
  }
 ],
 "metadata": {
  "jupytext": {
   "cell_metadata_filter": "-all",
   "formats": "md:myst",
   "text_representation": {
    "extension": ".md",
    "format_name": "myst",
    "format_version": 0.13,
    "jupytext_version": "1.11.5"
   }
  },
  "kernelspec": {
   "display_name": "Python 3",
   "language": "python",
   "name": "python3"
  },
  "language_info": {
   "codemirror_mode": {
    "name": "ipython",
    "version": 3
   },
   "file_extension": ".py",
   "mimetype": "text/x-python",
   "name": "python",
   "nbconvert_exporter": "python",
   "pygments_lexer": "ipython3",
   "version": "3.7.4"
  },
  "source_map": [
   14
  ]
 },
 "nbformat": 4,
 "nbformat_minor": 5
}