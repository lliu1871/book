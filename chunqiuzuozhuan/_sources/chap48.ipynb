{
 "cells": [
  {
   "cell_type": "markdown",
   "id": "6fb5a9cc",
   "metadata": {},
   "source": [
    "# 卷二桓公（元年～十八年）(公元前711-前694年)桓公四年(公元前708年)\n",
    "\n",
    "![](image/cover.jpg)\n",
    "\n",
    "【经】\n",
    "\n",
    "四年春正月，公狩于郎。夏，天王使宰渠伯纠来聘。\n",
    "\n",
    "【传】\n",
    "\n",
    "四年春正月，公狩于郎。书，时，礼也。\n",
    "\n",
    "四年春季，正月，鲁桓公在郎地打猎。《春秋》记载这件事，是由于这正是（夏历十一月）狩猎之时，合于礼。\n",
    "\n",
    "夏，周宰渠伯纠来聘。父在，故名。\n",
    "\n",
    "夏季，周朝的宰官渠伯纠来鲁国聘问。由于他的父亲还活着，所以《春秋》写出他的名字。\n",
    "\n",
    "秋，秦师侵芮，败焉，小之也。\n",
    "\n",
    "秋季，秦国的军队袭击芮国，秦军战败，由于小看了敌人的缘故。\n",
    "\n",
    "冬，王师、秦师围魏，执芮伯以归。\n",
    "\n",
    "冬季，周桓王的军队和秦国军队联合包围芮国，俘虏了芮伯回来。"
   ]
  }
 ],
 "metadata": {
  "jupytext": {
   "cell_metadata_filter": "-all",
   "formats": "md:myst",
   "text_representation": {
    "extension": ".md",
    "format_name": "myst",
    "format_version": 0.13,
    "jupytext_version": "1.11.5"
   }
  },
  "kernelspec": {
   "display_name": "Python 3",
   "language": "python",
   "name": "python3"
  },
  "language_info": {
   "codemirror_mode": {
    "name": "ipython",
    "version": 3
   },
   "file_extension": ".py",
   "mimetype": "text/x-python",
   "name": "python",
   "nbconvert_exporter": "python",
   "pygments_lexer": "ipython3",
   "version": "3.7.4"
  },
  "source_map": [
   14
  ]
 },
 "nbformat": 4,
 "nbformat_minor": 5
}