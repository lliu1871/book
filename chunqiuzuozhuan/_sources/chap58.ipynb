{
 "cells": [
  {
   "cell_type": "markdown",
   "id": "3a3c9780",
   "metadata": {},
   "source": [
    "# 卷二桓公（元年～十八年）(公元前711-前694年)桓公十四年(公元前698)\n",
    "\n",
    "![](image/cover.jpg)\n",
    "\n",
    "【经】\n",
    "\n",
    "十有四年春正月，公会郑伯于曹。无冰。夏五，郑伯使其弟语来盟。秋八月壬申，御廪灾。乙亥，尝。冬十有二月丁巳，齐侯禄父卒。宋人以齐人、蔡人、卫人、陈人伐郑。\n",
    "\n",
    "【传】\n",
    "\n",
    "十四年春，会于曹。曹人致饩，礼也。\n",
    "\n",
    "十四年春季，鲁桓公和郑厉公在曹国会见。曹国人送来食物，这是合于礼的。\n",
    "\n",
    "夏，郑子人来寻盟，且修曹之会。\n",
    "\n",
    "夏季，郑国的子人前来重温过去盟会的友好，并且也是重温在曹国的会见。\n",
    "\n",
    "秋八月壬申，御廪灾。乙亥，尝。书，不害也。\n",
    "\n",
    "秋季，八月十五日，储藏祭祀谷物的仓库发生火灾。十八日，举行尝祭。《春秋》所以记载这件事，是表示火灾尚不足为害。\n",
    "\n",
    "冬，宋人以诸侯伐郑，报宋之战也。焚渠门，入，及大逵。伐东郊，取牛首。以大宫之椽归，为卢门之椽。\n",
    "\n",
    "冬季，宋国人联合诸侯进攻郑国，这是为了报复在宋国的那次战争。诸侯联军焚烧了郑国都城的渠门，进了城到了大街上，攻打东郊，占取牛首，把郑国太庙的椽子拿回去做宋国卢门的椽子。"
   ]
  }
 ],
 "metadata": {
  "jupytext": {
   "cell_metadata_filter": "-all",
   "formats": "md:myst",
   "text_representation": {
    "extension": ".md",
    "format_name": "myst",
    "format_version": 0.13,
    "jupytext_version": "1.11.5"
   }
  },
  "kernelspec": {
   "display_name": "Python 3",
   "language": "python",
   "name": "python3"
  },
  "language_info": {
   "codemirror_mode": {
    "name": "ipython",
    "version": 3
   },
   "file_extension": ".py",
   "mimetype": "text/x-python",
   "name": "python",
   "nbconvert_exporter": "python",
   "pygments_lexer": "ipython3",
   "version": "3.7.4"
  },
  "source_map": [
   14
  ]
 },
 "nbformat": 4,
 "nbformat_minor": 5
}