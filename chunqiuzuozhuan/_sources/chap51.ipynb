{
 "cells": [
  {
   "cell_type": "markdown",
   "id": "14672909",
   "metadata": {},
   "source": [
    "# 卷二桓公（元年～十八年）(公元前711-前694年)桓公七年(公元前705年)\n",
    "\n",
    "![](image/cover.jpg)\n",
    "\n",
    "【经】\n",
    "\n",
    "七年春二月己亥，焚咸丘。夏，谷伯绥来朝。邓侯吾离来朝。\n",
    "\n",
    "【传】\n",
    "\n",
    "七年春，谷伯、邓侯来朝。名，贱之也。\n",
    "\n",
    "七年春季，穀伯绥、邓侯吾离来鲁国朝见。《春秋》记载他们的名字，是由于轻视他们。\n",
    "\n",
    "夏，盟、向求成于郑，既而背之。\n",
    "\n",
    "夏季，盟邑、向邑向郑国求和，不久又背叛郑国。\n",
    "\n",
    "秋，郑人、齐人、卫人伐盟、向。王迁盟、向之民于郏(jiá)。\n",
    "\n",
    "秋季，郑军、齐军、卫军攻打盟邑、向邑。周桓王把盟邑、向邑的百姓迁到郏地。\n",
    "\n",
    "冬，曲沃伯诱晋小子侯，杀之。\n",
    "\n",
    "冬季，曲沃伯诱骗晋国小子侯，把他杀死了。"
   ]
  }
 ],
 "metadata": {
  "jupytext": {
   "cell_metadata_filter": "-all",
   "formats": "md:myst",
   "text_representation": {
    "extension": ".md",
    "format_name": "myst",
    "format_version": 0.13,
    "jupytext_version": "1.11.5"
   }
  },
  "kernelspec": {
   "display_name": "Python 3",
   "language": "python",
   "name": "python3"
  },
  "language_info": {
   "codemirror_mode": {
    "name": "ipython",
    "version": 3
   },
   "file_extension": ".py",
   "mimetype": "text/x-python",
   "name": "python",
   "nbconvert_exporter": "python",
   "pygments_lexer": "ipython3",
   "version": "3.7.4"
  },
  "source_map": [
   14
  ]
 },
 "nbformat": 4,
 "nbformat_minor": 5
}