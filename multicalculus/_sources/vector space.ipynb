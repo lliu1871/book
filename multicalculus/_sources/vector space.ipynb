{
 "cells": [
  {
   "cell_type": "markdown",
   "id": "a2768355",
   "metadata": {},
   "source": [
    "# Vector space\n",
    "\n",
    "```{epigraph}\n",
    "*\"Do the difficult things while they are easy and do the great things while they are small. A journey of a thousand miles must begin with a single step.\"*\n",
    "\n",
    "-- Lao Tzu\n",
    "```\n",
    "\n",
    "```{seealso}\n",
    "- [Real number](https://www.britannica.com/science/real-number)\n",
    "- [Lecture note](https://tutorial.math.lamar.edu/)\n",
    "```\n",
    "\n",
    "````{prf:definition} vector space\n",
    "Definition. A vector space is a non-empty set $V$ equipped with two operations - vector addition \"+\" and scalar multiplication \".\" which satisfy the two closure axioms as well as the eight vector space axioms\n",
    "\n",
    "- Closure under vector addition: Given $\\mathbf{v}, \\mathbf{w} \\in V, \\mathbf{v}+\\mathbf{w} \\in V$.\n",
    "- Closure under scalar multiplication: Given $\\mathbf{v} \\in V$ and a scalar $\\alpha, \\alpha \\mathbf{v} \\in V$.\n",
    "\n",
    "For $\\mathbf{u}, \\mathbf{v}, \\mathbf{w}$ arbitrary vectors in $V$, and $\\alpha, \\beta$ arbitrary scalars in $\\mathbb{R}$,\n",
    "\n",
    "1. (Commutativity of addition) $\\mathbf{v}+\\mathbf{w}=\\mathbf{w}+\\mathbf{v}$.\n",
    "\n",
    "2. (Associativity of addition) $(\\mathbf{u}+\\mathbf{v})+\\mathbf{w}=\\mathbf{u}+(\\mathbf{v}+\\mathbf{w})$.\n",
    "\n",
    "3. (Existence of a zero vector) There is a vector $\\mathbf{z} \\in V$ with $\\mathbf{z}+\\mathbf{v}=\\mathbf{v}+\\mathbf{z}=\\mathbf{v}$.\n",
    "\n",
    "4. (Existence of additive inverses) For each $\\mathbf{v}$, there is a vector $-\\mathbf{v} \\in V$ with $\\mathbf{v}+(-\\mathbf{v})=(-\\mathbf{v})+\\mathbf{v}=\\mathbf{z}$.\n",
    "\n",
    "5. (Distributivity of scalar multiplication over vector addition) $\\alpha(\\mathbf{v}+\\mathbf{w})=\\alpha \\mathbf{v}+\\alpha \\mathbf{w}$.\n",
    "\n",
    "6. (Distributivity of scalar addition over scalar multiplication) $(\\alpha+\\beta) \\mathbf{v}=\\alpha \\mathbf{v}+\\beta \\mathbf{v}$.\n",
    "\n",
    "7. (Associativity of scalar multiplication $)(\\alpha \\beta) \\mathbf{v})=(\\alpha(\\beta \\mathbf{v})$.\n",
    "\n",
    "8. (Scalar multiplication with 1 is the identity) $1 \\mathbf{v}=\\mathbf{v}$.\n",
    "````\n",
    "\n",
    "All vectors in the vector space can be expressed as a linear combination of basis vectors.\n",
    "````{prf:definition} basis\n",
    ":label: basis\n",
    "A set of vectors $\\left\\{b_i\\right\\}$ is a basis of $\\mathbb{R}^n$ if every $x \\in \\mathbb{R}^n$ is uniquely expressible as a linear combination of the $b_i$.\n",
    "````\n",
    "\n",
    "## Norm\n",
    "\n",
    "\n",
    "## Limits in $\\mathbb{R}^n$\n",
    "\n",
    "\n",
    "## Continuous mappings\n",
    "We first define a sequence which converges to 0.\n",
    "````{prf:definition} null sequence\n",
    ":label: null_sequence\n",
    "The sequence $\\left\\{x_\\nu\\right\\}$ in $\\mathbb{R}^n$ is null if for every $\\varepsilon>0$ there exists some $\\nu_0$ such that\n",
    "if $\\nu>\\nu_0$ then $\\left|x_\\nu\\right|<\\varepsilon$.\n",
    "````\n",
    "\n",
    "Then, we can define the convergence of a sequence.\n",
    "````{prf:definition} sequence convergence\n",
    ":label: sequence_convergence\n",
    "Consider a sequence $\\left\\{x_\\nu\\right\\}$ in $A\\subset\\mathbb{R}^n$ and a point $a \\in \\mathbb{R}^n$. The sequence $\\left\\{x_\\nu\\right\\}$ converges to $a$ (or has limit a), written $\\left\\{x_\\nu\\right\\} \\rightarrow a$, if the sequence $\\left\\{x_\\nu-a\\right\\}$ is null. When the limit a is a point of $A$, the sequence $\\left\\{x_\\nu\\right\\}$ converges in $A$.\n",
    "\n",
    "````\n",
    "\n",
    "\n",
    "````{prf:definition} continuity\n",
    ":label: continuous_function\n",
    "A function $f(x)$ with domain $\\mathbb{R}^n$ is continuous at a point $x_0 \\in \\mathbb{R}^n$ if $f(x) \\rightarrow f(x_0)$ whenever $x \\rightarrow x_0$. The function $f$ is continuous on $\\mathbb{R}^n$, if $f$ is continuous for every point $x\\in\\mathbb{R}^n$.\n",
    "````\n",
    "\n",
    "- linearity: any linear combination of continuous functions is continuous\n",
    "- composition: the composition of two continuous functions is a continuous function\n",
    "- componentwise continuity: a function is continuous if and only if each of its components is continuous"
   ]
  }
 ],
 "metadata": {
  "jupytext": {
   "cell_metadata_filter": "-all",
   "formats": "md:myst",
   "text_representation": {
    "extension": ".md",
    "format_name": "myst",
    "format_version": 0.13,
    "jupytext_version": "1.11.5"
   }
  },
  "kernelspec": {
   "display_name": "Python 3",
   "language": "python",
   "name": "python3"
  },
  "language_info": {
   "codemirror_mode": {
    "name": "ipython",
    "version": 3
   },
   "file_extension": ".py",
   "mimetype": "text/x-python",
   "name": "python",
   "nbconvert_exporter": "python",
   "pygments_lexer": "ipython3",
   "version": "3.7.4"
  },
  "source_map": [
   14
  ]
 },
 "nbformat": 4,
 "nbformat_minor": 5
}