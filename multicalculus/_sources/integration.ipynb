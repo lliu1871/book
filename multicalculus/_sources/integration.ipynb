{
 "cells": [
  {
   "cell_type": "markdown",
   "id": "f00e5c9f",
   "metadata": {},
   "source": [
    "# Integration\n",
    "\n",
    "```{epigraph}\n",
    "*\"Do the difficult things while they are easy and do the great things while they are small. A journey of a thousand miles must begin with a single step.\"*\n",
    "\n",
    "-- Lao Tzu\n",
    "```\n",
    "\n",
    "```{seealso}\n",
    "- [Real number](https://www.britannica.com/science/real-number)\n",
    "- [Real number](https://en.wikipedia.org/wiki/Real_number)\n",
    "```\n",
    "In univariable calculus, we can calculate the area under a function curve $f(x)$ by an integral $\\int_xf(x)dx$. This idea can be generalized to high dimensional spaces where the volume can be calculated by an integral of a function $f(x_1,...,x_k)$ with respect to $(x_1,...,x_n)$. \n",
    "\n",
    "````{prf:example} \n",
    ":label: double_integral\n",
    "The double integral is defined as the limit of the Riemann sum\n",
    "\n",
    "$$\n",
    "\\iint_R f(x, y) dx dy = \\lim_{n \\rightarrow \\infty}\\left(\\frac{1}{n^2} \\sum_{(i/n, j/n) \\in R} f(i/n, j/n)\\right)\n",
    "$$\n",
    "````\n",
    "\n",
    "````{prf:example}\n",
    ":label: triple_integral\n",
    "If $f(x, y, z)$ is a function of three variables and $E$ is a solid region in space, then the triple integral is defined as the limit of the Riemann sum\n",
    "\n",
    "$$\n",
    "\\iiint_E f(x,y,z) dxdydz=\\lim_{n \\rightarrow \\infty}\\left(\\frac{1}{n^3} \\sum_{(i/n, j/n, k/n) \\in E} f(i/n, j/n, k/n)\\right)\n",
    "$$\n",
    "````\n",
    "\n",
    "Alternatively, we can calculate the surface area of a subset of $\\mathbb{R}^n$ using surface integrals\n",
    "\n",
    "````{prf:definition} surface integral\n",
    ":label: surface integral\n",
    "A parameterized surface $\\vec{r}(u, v)$ on a parameter domain $G\\subset\\mathbb{R}^2$ has the surface area\n",
    "\n",
    "$$\n",
    "\\iint_G\\left|\\vec{r}_u(u, v) \\times \\vec{r}_v(u, v)\\right| dudv\n",
    "$$\n",
    "````\n",
    "\n",
    "Under certain conditions, the order of the high dimensional integral does not matter.\n",
    "````{prf:theorem} Fubini's theorem\n",
    ":label: Fubini_theorem\n",
    "Fubini's theorem allows to switch the order of integration over a rectangle, if the function $f$ is continuous: \n",
    "\n",
    "$$\\int_a^b \\int_c^d f(x,y) dxdy=\\int_c^d \\int_a^b f(x,y) dydx$$\n",
    "````\n",
    "\n",
    "## Variable transformation\n",
    "In many cases, it is easier to integrate in the polar system. We here consider the relationship between the Cartesian integration and the Polar integration.\n",
    "\n",
    "````{prf:theorem} polar integral\n",
    ":label: polar_integral\n",
    "To integrate in polar coordinates, we evaluate the integral\n",
    "\n",
    "$$\n",
    "\\iint_R f(x, y) dxdy = \\iint_R f\\left(r \\cos (\\theta), r \\sin (\\theta)\\right) rdrd\\theta\n",
    "$$\n",
    "````\n",
    "\n",
    "## Continuity and Integrability\n",
    "\n",
    "\n",
    "## Change of variable"
   ]
  }
 ],
 "metadata": {
  "jupytext": {
   "cell_metadata_filter": "-all",
   "formats": "md:myst",
   "text_representation": {
    "extension": ".md",
    "format_name": "myst",
    "format_version": 0.13,
    "jupytext_version": "1.11.5"
   }
  },
  "kernelspec": {
   "display_name": "Python 3",
   "language": "python",
   "name": "python3"
  },
  "language_info": {
   "codemirror_mode": {
    "name": "ipython",
    "version": 3
   },
   "file_extension": ".py",
   "mimetype": "text/x-python",
   "name": "python",
   "nbconvert_exporter": "python",
   "pygments_lexer": "ipython3",
   "version": "3.7.4"
  },
  "source_map": [
   14
  ]
 },
 "nbformat": 4,
 "nbformat_minor": 5
}