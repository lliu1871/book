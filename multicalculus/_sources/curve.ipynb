{
 "cells": [
  {
   "cell_type": "markdown",
   "id": "8b1533a3",
   "metadata": {},
   "source": [
    "# Parameterized Curves\n",
    "\n",
    "```{epigraph}\n",
    "*\"Do the difficult things while they are easy and do the great things while they are small. A journey of a thousand miles must begin with a single step.\"*\n",
    "\n",
    "-- Lao Tzu\n",
    "```\n",
    "\n",
    "```{seealso}\n",
    "- [Real number](https://www.britannica.com/science/real-number)\n",
    "- [Real number](https://en.wikipedia.org/wiki/Real_number)\n",
    "```\n",
    "\n",
    "## Parametrized curves\n",
    "\n",
    "\n",
    "## Arc length\n",
    "\n",
    "\n",
    "## Curvature\n",
    "\n",
    "\n",
    "## Torsion\n",
    "\n",
    "\n",
    "\n",
    "## Frenet frames adn curvatures"
   ]
  }
 ],
 "metadata": {
  "jupytext": {
   "cell_metadata_filter": "-all",
   "formats": "md:myst",
   "text_representation": {
    "extension": ".md",
    "format_name": "myst",
    "format_version": 0.13,
    "jupytext_version": "1.11.5"
   }
  },
  "kernelspec": {
   "display_name": "Python 3",
   "language": "python",
   "name": "python3"
  },
  "language_info": {
   "codemirror_mode": {
    "name": "ipython",
    "version": 3
   },
   "file_extension": ".py",
   "mimetype": "text/x-python",
   "name": "python",
   "nbconvert_exporter": "python",
   "pygments_lexer": "ipython3",
   "version": "3.7.4"
  },
  "source_map": [
   14
  ]
 },
 "nbformat": 4,
 "nbformat_minor": 5
}