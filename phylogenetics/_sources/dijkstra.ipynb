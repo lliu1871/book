{
 "cells": [
  {
   "cell_type": "markdown",
   "id": "4284c4db",
   "metadata": {},
   "source": [
    "# Dijkstra's algorithm\n",
    "A network involves nodes and edges. The following directed network involves 6 nodes and 7 directed edges. The number on each directed edge denotes the length of the edge. Suppose each node represents a city and each arrow represents a one-way road between two cities. The number on each arrow is the distance between two cities. For example, the arrow between nodes B and D indicates that you can go from B to D with distance 10, but not from D to B. \n",
    "\n",
    "![network](network.png \"Title\").  \n",
    "\n",
    "Given a network, it is often to find the shortest path between two nodes. The network is represented by an adjacent matrix. For example, the above network is represented by the following adjacent matrix."
   ]
  },
  {
   "cell_type": "code",
   "execution_count": null,
   "id": "29adc32a",
   "metadata": {
    "vscode": {
     "languageId": "r"
    }
   },
   "outputs": [],
   "source": [
    "nnode = 6\n",
    "adjacentmatrix = matrix(0,nnode,nnode)\n",
    "colnames(adjacentmatrix) = c(\"A\",\"B\",\"C\",\"D\",\"E\",\"F\")\n",
    "row.names(adjacentmatrix) = c(\"A\",\"B\",\"C\",\"D\",\"E\",\"F\")\n",
    "adjacentmatrix[1,2] = 4\n",
    "adjacentmatrix[1,3] = 2\n",
    "adjacentmatrix[2,3] = 5\n",
    "adjacentmatrix[2,4] = 10\n",
    "adjacentmatrix[3,5] = 3\n",
    "adjacentmatrix[4,6] = 11\n",
    "adjacentmatrix[5,4] = 4\n",
    "adjacentmatrix"
   ]
  },
  {
   "cell_type": "markdown",
   "id": "ceeff8eb",
   "metadata": {},
   "source": [
    "The Dijkstra's algorithm for finding the shortest path involves the following steps\n",
    "\n",
    "1. A is the initial node and F is the destination node. We set A to be the current node and find the neighbor nodes of the current node and calculate the distance from the current node for each neighbor node. Then remove the current node from the node list\n",
    "\n",
    "2. Set the node with minimum distance to be the current node. Then repeat step 1 to find the shortest path from A\n",
    "\n",
    "3. Stop if it reaches the destination node\n",
    "\n",
    "4. Tracing back to find the shortest path"
   ]
  },
  {
   "cell_type": "code",
   "execution_count": 4,
   "id": "a8c574cd",
   "metadata": {
    "vscode": {
     "languageId": "r"
    }
   },
   "outputs": [
    {
     "data": {
      "text/html": [
       "'The shortest path: A -&gt; C -&gt; E -&gt; D -&gt; F with distance = 20'"
      ],
      "text/latex": [
       "'The shortest path: A -> C -> E -> D -> F with distance = 20'"
      ],
      "text/markdown": [
       "'The shortest path: A -&gt; C -&gt; E -&gt; D -&gt; F with distance = 20'"
      ],
      "text/plain": [
       "[1] \"The shortest path: A -> C -> E -> D -> F with distance = 20\""
      ]
     },
     "metadata": {},
     "output_type": "display_data"
    }
   ],
   "source": [
    "findshortestpath <- function(adjacent, from, to, nodenames){\n",
    "  nnode = dim(adjacent)[1]\n",
    "  result = matrix(0,3,nnode)\n",
    "  result[3,] = 10000\n",
    "  row.names = c(\"remove\",\"origin\",\"dist\")\n",
    "  \n",
    "  current = from\n",
    "  result[3,current] = 0\n",
    "  \n",
    "  while(current != to){\n",
    "    \n",
    "    #find neighbor nodes\n",
    "    neighbor = which(adjacentmatrix[current,] > 0)\n",
    "    \n",
    "    #updating distance of neighbor nodes\n",
    "    if(length(neighbor) > 0){\n",
    "      for(i in 1:length(neighbor)){\n",
    "        x = neighbor[i]\n",
    "        dist = result[3,current] + adjacentmatrix[current,x]\n",
    "        if(dist < result[3,x]){\n",
    "          result[3,x] = dist\n",
    "          result[2,x] = current\n",
    "        }\n",
    "      }\n",
    "    }\n",
    "    \n",
    "    #removing the current node\n",
    "    result[1,current] = 1\n",
    "    \n",
    "    #updating the current node\n",
    "    index = which(result[1,] == 0 & result[3,] < 10000)\n",
    "    \n",
    "    if(length(index) == 0){\n",
    "      return(paste(\"cannot go from\", nodenames[from],\"to\",nodenames[to]))\n",
    "    }else{\n",
    "      x = result[3,index]\n",
    "      current = index[which(x == min(x))[1]]\n",
    "    }\n",
    "    \n",
    "  }\n",
    "  \n",
    "  inode = result[2,to]\n",
    "  str = paste(nodenames[inode],\"->\",nodenames[to])\n",
    "  \n",
    "  while(inode != from){\n",
    "    inode = result[2,inode]\n",
    "    str = paste(nodenames[inode],\"->\",str)\n",
    "  }\n",
    "  return (paste(\"The shortest path:\",str,\"with distance =\", result[3,to]))\n",
    "  \n",
    "}\n",
    "\n",
    "nodenames = row.names(adjacentmatrix) \n",
    "findshortestpath(adjacentmatrix, 1, 6, nodenames)"
   ]
  }
 ],
 "metadata": {
  "kernelspec": {
   "display_name": "R",
   "language": "R",
   "name": "ir"
  },
  "language_info": {
   "file_extension": ".jl",
   "mimetype": "application/julia",
   "name": "R",
   "version": "1.6.2"
  },
  "vscode": {
   "interpreter": {
    "hash": "2a8dfe095fce2b5e88c64a2c3ee084c8e0e0d70b23e7b95b1cfb538be294c5c8"
   }
  }
 },
 "nbformat": 4,
 "nbformat_minor": 5
}
