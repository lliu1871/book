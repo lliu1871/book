{
 "cells": [
  {
   "cell_type": "markdown",
   "metadata": {},
   "source": [
    "# Substitution model\n",
    "\n",
    "## 1. Substitution model parameters\n",
    "\n",
    "Let $\\pi = (\\pi_A,\\pi_C,\\pi_G,\\pi_T)$ be the limiting probablities and $r=(\\alpha,\\beta,\\gamma,\\lambda,\\rho,\\omega)$ are six substitution rates. \n"
   ]
  },
  {
   "cell_type": "code",
   "execution_count": 9,
   "metadata": {
    "vscode": {
     "languageId": "r"
    }
   },
   "outputs": [
    {
     "ename": "ERROR",
     "evalue": "Error in parse(text = x, srcfile = src): <text>:2:24: unexpected input\n1: #rm(list=ls())\r\n2: pi = c(1/2,1/8,1/8,1/4)\r\n                          ^\n",
     "output_type": "error",
     "traceback": [
      "Error in parse(text = x, srcfile = src): <text>:2:24: unexpected input\n1: #rm(list=ls())\r\n2: pi = c(1/2,1/8,1/8,1/4)\r\n                          ^\nTraceback:\n"
     ]
    }
   ],
   "source": [
    "rm(list=ls())\n",
    "pi = c(1/2,1/8,1/8,1/4)\n",
    "rates = c(1,2,2,2,2,1)"
   ]
  },
  {
   "cell_type": "markdown",
   "metadata": {},
   "source": [
    "The rate matrix is given by \n",
    "\n",
    "$$Q = \\begin{pmatrix}\n",
    "- & \\pi_C \\alpha & \\pi_G \\beta & \\pi_T \\gamma \\\\\n",
    "\\pi_A \\alpha & - & \\pi_G \\lambda & \\pi_T \\rho \\\\\n",
    "\\pi_A \\beta  & \\pi_C \\lambda  & - & \\pi_T \\omega  \\\\\n",
    "\\pi_A \\gamma & \\pi_C \\rho & \\pi_G \\omega & - \n",
    "\\end{pmatrix}$$\n"
   ]
  },
  {
   "cell_type": "code",
   "execution_count": 10,
   "metadata": {
    "scrolled": true,
    "vscode": {
     "languageId": "r"
    }
   },
   "outputs": [
    {
     "ename": "ERROR",
     "evalue": "Error in parse(text = x, srcfile = src): <text>:1:24: unexpected input\n1: qmatrix = matrix(0,4,4)\r\n                           ^\n",
     "output_type": "error",
     "traceback": [
      "Error in parse(text = x, srcfile = src): <text>:1:24: unexpected input\n1: qmatrix = matrix(0,4,4)\r\n                           ^\nTraceback:\n"
     ]
    }
   ],
   "source": [
    "qmatrix = matrix(0,4,4)\n",
    "qmatrix[upper.tri(qmatrix)] = rates\n",
    "qmatrix = qmatrix+t(qmatrix)\n",
    "qmatrix = qmatrix %*% diag(pi)\n",
    "for(i in 1:4) qmatrix[i,i] = -sum(qmatrix[i,-i])\n",
    "qmatrix"
   ]
  },
  {
   "cell_type": "code",
   "execution_count": 14,
   "metadata": {
    "vscode": {
     "languageId": "r"
    }
   },
   "outputs": [
    {
     "ename": "ERROR",
     "evalue": "Error in parse(text = x, srcfile = src): <text>:1:5: unexpected input\n1: x=1;\r\n        ^\n",
     "output_type": "error",
     "traceback": [
      "Error in parse(text = x, srcfile = src): <text>:1:5: unexpected input\n1: x=1;\r\n        ^\nTraceback:\n"
     ]
    }
   ],
   "source": [
    "x=1;\n",
    "x;"
   ]
  },
  {
   "cell_type": "markdown",
   "metadata": {},
   "source": [
    "The diagonal values are those such that the row sums are equal to 0. Let $\\delta= -\\sum_{i=A,C,G,T} \\pi_i Q_{ii}$. We transform the branch length $\\tau=\\delta t$ and $Q^*=Q/\\delta$."
   ]
  },
  {
   "cell_type": "code",
   "execution_count": null,
   "metadata": {
    "scrolled": true,
    "vscode": {
     "languageId": "r"
    }
   },
   "outputs": [
    {
     "data": {
      "text/html": [
       "1.125"
      ],
      "text/latex": [
       "1.125"
      ],
      "text/markdown": [
       "1.125"
      ],
      "text/plain": [
       "[1] 1.125"
      ]
     },
     "metadata": {},
     "output_type": "display_data"
    },
    {
     "data": {
      "text/html": [
       "<table>\n",
       "<caption>A matrix: 4 × 4 of type dbl</caption>\n",
       "<tbody>\n",
       "\t<tr><td>-0.7777778</td><td> 0.1111111</td><td> 0.2222222</td><td> 0.4444444</td></tr>\n",
       "\t<tr><td> 0.4444444</td><td>-1.1111111</td><td> 0.2222222</td><td> 0.4444444</td></tr>\n",
       "\t<tr><td> 0.8888889</td><td> 0.2222222</td><td>-1.3333333</td><td> 0.2222222</td></tr>\n",
       "\t<tr><td> 0.8888889</td><td> 0.2222222</td><td> 0.1111111</td><td>-1.2222222</td></tr>\n",
       "</tbody>\n",
       "</table>\n"
      ],
      "text/latex": [
       "A matrix: 4 × 4 of type dbl\n",
       "\\begin{tabular}{llll}\n",
       "\t -0.7777778 &  0.1111111 &  0.2222222 &  0.4444444\\\\\n",
       "\t  0.4444444 & -1.1111111 &  0.2222222 &  0.4444444\\\\\n",
       "\t  0.8888889 &  0.2222222 & -1.3333333 &  0.2222222\\\\\n",
       "\t  0.8888889 &  0.2222222 &  0.1111111 & -1.2222222\\\\\n",
       "\\end{tabular}\n"
      ],
      "text/markdown": [
       "\n",
       "A matrix: 4 × 4 of type dbl\n",
       "\n",
       "| -0.7777778 |  0.1111111 |  0.2222222 |  0.4444444 |\n",
       "|  0.4444444 | -1.1111111 |  0.2222222 |  0.4444444 |\n",
       "|  0.8888889 |  0.2222222 | -1.3333333 |  0.2222222 |\n",
       "|  0.8888889 |  0.2222222 |  0.1111111 | -1.2222222 |\n",
       "\n"
      ],
      "text/plain": [
       "     [,1]       [,2]       [,3]       [,4]      \n",
       "[1,] -0.7777778  0.1111111  0.2222222  0.4444444\n",
       "[2,]  0.4444444 -1.1111111  0.2222222  0.4444444\n",
       "[3,]  0.8888889  0.2222222 -1.3333333  0.2222222\n",
       "[4,]  0.8888889  0.2222222  0.1111111 -1.2222222"
      ]
     },
     "metadata": {},
     "output_type": "display_data"
    },
    {
     "data": {
      "text/html": [
       "0.1125"
      ],
      "text/latex": [
       "0.1125"
      ],
      "text/markdown": [
       "0.1125"
      ],
      "text/plain": [
       "[1] 0.1125"
      ]
     },
     "metadata": {},
     "output_type": "display_data"
    }
   ],
   "source": [
    "delta = -sum(pi * diag(qmatrix))\n",
    "delta\n",
    "\n",
    "qmatrix = qmatrix/delta\n",
    "qmatrix\n",
    "\n",
    "t = 0.1\n",
    "tau = delta*t\n",
    "tau"
   ]
  },
  {
   "cell_type": "markdown",
   "metadata": {},
   "source": [
    "The transition probability matrix is given by $P(t)=e^{Q^*\\tau}$."
   ]
  },
  {
   "cell_type": "code",
   "execution_count": null,
   "metadata": {
    "vscode": {
     "languageId": "r"
    }
   },
   "outputs": [
    {
     "data": {
      "text/plain": [
       "4 x 4 Matrix of class \"dgeMatrix\"\n",
       "           [,1]       [,2]       [,3]       [,4]\n",
       "[1,] 0.91992610 0.01209794 0.02265866 0.04531731\n",
       "[2,] 0.04839175 0.88363229 0.02265866 0.04531731\n",
       "[3,] 0.09063462 0.02265866 0.86224630 0.02446042\n",
       "[4,] 0.09063462 0.02265866 0.01223021 0.87447651"
      ]
     },
     "metadata": {},
     "output_type": "display_data"
    }
   ],
   "source": [
    "library(Matrix)\n",
    "t=0.1\n",
    "pmatrix = expm(qmatrix*tau)\n",
    "\n",
    "pmatrix"
   ]
  },
  {
   "cell_type": "markdown",
   "metadata": {},
   "source": [
    "The probability distribution of 16 doublets $(AA,AC,...,TT)$ is equal to "
   ]
  },
  {
   "cell_type": "code",
   "execution_count": null,
   "metadata": {
    "scrolled": true,
    "vscode": {
     "languageId": "r"
    }
   },
   "outputs": [
    {
     "data": {
      "text/plain": [
       "4 x 4 Matrix of class \"dgeMatrix\"\n",
       "            [,1]        [,2]        [,3]        [,4]\n",
       "[1,] 0.459963048 0.006048968 0.011329328 0.022658656\n",
       "[2,] 0.006048968 0.110454036 0.002832332 0.005664664\n",
       "[3,] 0.011329328 0.002832332 0.107780788 0.003057553\n",
       "[4,] 0.022658656 0.005664664 0.003057553 0.218619128"
      ]
     },
     "metadata": {},
     "output_type": "display_data"
    }
   ],
   "source": [
    "doubleP=pmatrix\n",
    "for(i in 1:4) doubleP[i,] = pi[i]*pmatrix[i,]\n",
    "doubleP"
   ]
  },
  {
   "cell_type": "markdown",
   "metadata": {},
   "source": [
    "## 2. Simulation\n",
    "2.1 For simplicity, the nucleotides (A,C,G,T) are coded (1,2,3,4)."
   ]
  },
  {
   "cell_type": "code",
   "execution_count": null,
   "metadata": {
    "vscode": {
     "languageId": "r"
    }
   },
   "outputs": [
    {
     "data": {
      "text/html": [
       "<table class=\"dataframe\">\n",
       "<caption>A matrix: 2 × 10000 of type int</caption>\n",
       "<tbody>\n",
       "\t<tr><th scope=row>x1</th><td>3</td><td>2</td><td>1</td><td>1</td><td>1</td><td>1</td><td>3</td><td>1</td><td>2</td><td>3</td><td>...</td><td>1</td><td>2</td><td>1</td><td>2</td><td>3</td><td>2</td><td>3</td><td>2</td><td>1</td><td>1</td></tr>\n",
       "\t<tr><th scope=row>x2</th><td>3</td><td>2</td><td>1</td><td>1</td><td>1</td><td>1</td><td>3</td><td>1</td><td>2</td><td>3</td><td>...</td><td>1</td><td>2</td><td>1</td><td>2</td><td>3</td><td>1</td><td>3</td><td>2</td><td>1</td><td>1</td></tr>\n",
       "</tbody>\n",
       "</table>\n"
      ],
      "text/latex": [
       "A matrix: 2 × 10000 of type int\n",
       "\\begin{tabular}{r|lllllllllllllllllllll}\n",
       "\tx1 & 3 & 2 & 1 & 1 & 1 & 1 & 3 & 1 & 2 & 3 & ... & 1 & 2 & 1 & 2 & 3 & 2 & 3 & 2 & 1 & 1\\\\\n",
       "\tx2 & 3 & 2 & 1 & 1 & 1 & 1 & 3 & 1 & 2 & 3 & ... & 1 & 2 & 1 & 2 & 3 & 1 & 3 & 2 & 1 & 1\\\\\n",
       "\\end{tabular}\n"
      ],
      "text/markdown": [
       "\n",
       "A matrix: 2 × 10000 of type int\n",
       "\n",
       "| x1 | 3 | 2 | 1 | 1 | 1 | 1 | 3 | 1 | 2 | 3 | ... | 1 | 2 | 1 | 2 | 3 | 2 | 3 | 2 | 1 | 1 |\n",
       "| x2 | 3 | 2 | 1 | 1 | 1 | 1 | 3 | 1 | 2 | 3 | ... | 1 | 2 | 1 | 2 | 3 | 1 | 3 | 2 | 1 | 1 |\n",
       "\n"
      ],
      "text/plain": [
       "   [,1] [,2] [,3] [,4] [,5] [,6] [,7] [,8] [,9] [,10] [,11] [,12] [,13] [,14]\n",
       "x1 3    2    1    1    1    1    3    1    2    3     ...   1     2     1    \n",
       "x2 3    2    1    1    1    1    3    1    2    3     ...   1     2     1    \n",
       "   [,15] [,16] [,17] [,18] [,19] [,20] [,21]\n",
       "x1 2     3     2     3     2     1     1    \n",
       "x2 2     3     1     3     2     1     1    "
      ]
     },
     "metadata": {},
     "output_type": "display_data"
    }
   ],
   "source": [
    "n=10000\n",
    "x1=sample(1:4,n,prob=pi,replace=T)\n",
    "x2=1:n\n",
    "for(i in 1:n) x2[i] = sample(1:4,1,replace=T, prob=pmatrix[x1[i],])\n",
    "data = cbind(x1,x2)\n",
    "t(data)"
   ]
  },
  {
   "cell_type": "markdown",
   "metadata": {},
   "source": [
    "## 3. Estimation\n",
    "3.1 Estimating $\\pi$"
   ]
  },
  {
   "cell_type": "code",
   "execution_count": null,
   "metadata": {
    "vscode": {
     "languageId": "r"
    }
   },
   "outputs": [
    {
     "name": "stdout",
     "output_type": "stream",
     "text": [
      "[1] \"The true pi\"\n"
     ]
    },
    {
     "data": {
      "text/html": [
       "<style>\n",
       ".list-inline {list-style: none; margin:0; padding: 0}\n",
       ".list-inline>li {display: inline-block}\n",
       ".list-inline>li:not(:last-child)::after {content: \"\\00b7\"; padding: 0 .5ex}\n",
       "</style>\n",
       "<ol class=list-inline><li>0.5</li><li>0.125</li><li>0.125</li><li>0.25</li></ol>\n"
      ],
      "text/latex": [
       "\\begin{enumerate*}\n",
       "\\item 0.5\n",
       "\\item 0.125\n",
       "\\item 0.125\n",
       "\\item 0.25\n",
       "\\end{enumerate*}\n"
      ],
      "text/markdown": [
       "1. 0.5\n",
       "2. 0.125\n",
       "3. 0.125\n",
       "4. 0.25\n",
       "\n",
       "\n"
      ],
      "text/plain": [
       "[1] 0.500 0.125 0.125 0.250"
      ]
     },
     "metadata": {},
     "output_type": "display_data"
    },
    {
     "name": "stdout",
     "output_type": "stream",
     "text": [
      "[1] \"The estimates of pi\"\n"
     ]
    },
    {
     "data": {
      "text/html": [
       "<style>\n",
       ".list-inline {list-style: none; margin:0; padding: 0}\n",
       ".list-inline>li {display: inline-block}\n",
       ".list-inline>li:not(:last-child)::after {content: \"\\00b7\"; padding: 0 .5ex}\n",
       "</style>\n",
       "<ol class=list-inline><li>0.4941</li><li>0.1218</li><li>0.1308</li><li>0.2533</li></ol>\n"
      ],
      "text/latex": [
       "\\begin{enumerate*}\n",
       "\\item 0.4941\n",
       "\\item 0.1218\n",
       "\\item 0.1308\n",
       "\\item 0.2533\n",
       "\\end{enumerate*}\n"
      ],
      "text/markdown": [
       "1. 0.4941\n",
       "2. 0.1218\n",
       "3. 0.1308\n",
       "4. 0.2533\n",
       "\n",
       "\n"
      ],
      "text/plain": [
       "[1] 0.4941 0.1218 0.1308 0.2533"
      ]
     },
     "metadata": {},
     "output_type": "display_data"
    }
   ],
   "source": [
    "pi_hat = 1:4\n",
    "for(i in 1:4) pi_hat[i] = sum(x1==i)+sum(x2==i)\n",
    "pi_hat = pi_hat/20000\n",
    "\n",
    "print(\"The true pi\")\n",
    "pi\n",
    "\n",
    "print(\"The estimates of pi\")\n",
    "pi_hat"
   ]
  },
  {
   "cell_type": "markdown",
   "metadata": {},
   "source": [
    "3.2 Estimating the probabilities of 16 doublet by their frequencies"
   ]
  },
  {
   "cell_type": "code",
   "execution_count": null,
   "metadata": {
    "vscode": {
     "languageId": "r"
    }
   },
   "outputs": [
    {
     "data": {
      "text/plain": [
       "doublet\n",
       "  11   12   13   14   21   22   23   24   31   32   33   34   41   42   43   44 \n",
       "4714   57   64  110   62 1116   16   26   53   19 1199   42  108   24   24 2366 "
      ]
     },
     "metadata": {},
     "output_type": "display_data"
    },
    {
     "name": "stdout",
     "output_type": "stream",
     "text": [
      "[1] \"the doubleP estimate\"\n"
     ]
    },
    {
     "data": {
      "text/html": [
       "<table class=\"dataframe\">\n",
       "<caption>A matrix: 4 × 4 of type dbl</caption>\n",
       "<tbody>\n",
       "\t<tr><td>0.47140</td><td>0.00595</td><td>0.00585</td><td>0.0109</td></tr>\n",
       "\t<tr><td>0.00595</td><td>0.11160</td><td>0.00175</td><td>0.0025</td></tr>\n",
       "\t<tr><td>0.00585</td><td>0.00175</td><td>0.11990</td><td>0.0033</td></tr>\n",
       "\t<tr><td>0.01090</td><td>0.00250</td><td>0.00330</td><td>0.2366</td></tr>\n",
       "</tbody>\n",
       "</table>\n"
      ],
      "text/latex": [
       "A matrix: 4 × 4 of type dbl\n",
       "\\begin{tabular}{llll}\n",
       "\t 0.47140 & 0.00595 & 0.00585 & 0.0109\\\\\n",
       "\t 0.00595 & 0.11160 & 0.00175 & 0.0025\\\\\n",
       "\t 0.00585 & 0.00175 & 0.11990 & 0.0033\\\\\n",
       "\t 0.01090 & 0.00250 & 0.00330 & 0.2366\\\\\n",
       "\\end{tabular}\n"
      ],
      "text/markdown": [
       "\n",
       "A matrix: 4 × 4 of type dbl\n",
       "\n",
       "| 0.47140 | 0.00595 | 0.00585 | 0.0109 |\n",
       "| 0.00595 | 0.11160 | 0.00175 | 0.0025 |\n",
       "| 0.00585 | 0.00175 | 0.11990 | 0.0033 |\n",
       "| 0.01090 | 0.00250 | 0.00330 | 0.2366 |\n",
       "\n"
      ],
      "text/plain": [
       "     [,1]    [,2]    [,3]    [,4]  \n",
       "[1,] 0.47140 0.00595 0.00585 0.0109\n",
       "[2,] 0.00595 0.11160 0.00175 0.0025\n",
       "[3,] 0.00585 0.00175 0.11990 0.0033\n",
       "[4,] 0.01090 0.00250 0.00330 0.2366"
      ]
     },
     "metadata": {},
     "output_type": "display_data"
    },
    {
     "name": "stdout",
     "output_type": "stream",
     "text": [
      "[1] \"the true doubleP\"\n"
     ]
    },
    {
     "data": {
      "text/plain": [
       "4 x 4 Matrix of class \"dgeMatrix\"\n",
       "            [,1]        [,2]        [,3]        [,4]\n",
       "[1,] 0.476209355 0.005947661 0.005947661 0.011895323\n",
       "[2,] 0.005947661 0.114591593 0.001486915 0.002973831\n",
       "[3,] 0.005947661 0.001486915 0.114591593 0.002973831\n",
       "[4,] 0.011895323 0.002973831 0.002973831 0.232157016"
      ]
     },
     "metadata": {},
     "output_type": "display_data"
    }
   ],
   "source": [
    "doublet = paste(x1,x2,sep=\"\")\n",
    "freq = table(doublet)\n",
    "freq\n",
    "\n",
    "doubleP_hat = matrix(freq,4,4)\n",
    "doubleP_hat = doubleP_hat/sum(doubleP_hat)\n",
    "doubleP_hat = (doubleP_hat+t(doubleP_hat))/2\n",
    "\n",
    "print(\"the doubleP estimate\")\n",
    "doubleP_hat\n",
    "\n",
    "print(\"the true doubleP\")\n",
    "doubleP"
   ]
  },
  {
   "cell_type": "markdown",
   "metadata": {},
   "source": [
    "3.3 Estimating pmatrix"
   ]
  },
  {
   "cell_type": "code",
   "execution_count": null,
   "metadata": {
    "vscode": {
     "languageId": "r"
    }
   },
   "outputs": [
    {
     "name": "stdout",
     "output_type": "stream",
     "text": [
      "[1] \"true pmatrix\"\n"
     ]
    },
    {
     "data": {
      "text/plain": [
       "4 x 4 Matrix of class \"dgeMatrix\"\n",
       "           [,1]       [,2]       [,3]       [,4]\n",
       "[1,] 0.95241871 0.01189532 0.01189532 0.02379065\n",
       "[2,] 0.04758129 0.91673274 0.01189532 0.02379065\n",
       "[3,] 0.04758129 0.01189532 0.91673274 0.02379065\n",
       "[4,] 0.04758129 0.01189532 0.01189532 0.92862806"
      ]
     },
     "metadata": {},
     "output_type": "display_data"
    },
    {
     "name": "stdout",
     "output_type": "stream",
     "text": [
      "[1] \"pmatrix estimate\"\n"
     ]
    },
    {
     "data": {
      "text/html": [
       "<table class=\"dataframe\">\n",
       "<caption>A matrix: 4 × 4 of type dbl</caption>\n",
       "<tbody>\n",
       "\t<tr><td>0.95405788</td><td>0.01204210</td><td>0.01183971</td><td>0.02206031</td></tr>\n",
       "\t<tr><td>0.04885057</td><td>0.91625616</td><td>0.01436782</td><td>0.02052545</td></tr>\n",
       "\t<tr><td>0.04472477</td><td>0.01337920</td><td>0.91666667</td><td>0.02522936</td></tr>\n",
       "\t<tr><td>0.04303198</td><td>0.00986972</td><td>0.01302803</td><td>0.93407027</td></tr>\n",
       "</tbody>\n",
       "</table>\n"
      ],
      "text/latex": [
       "A matrix: 4 × 4 of type dbl\n",
       "\\begin{tabular}{llll}\n",
       "\t 0.95405788 & 0.01204210 & 0.01183971 & 0.02206031\\\\\n",
       "\t 0.04885057 & 0.91625616 & 0.01436782 & 0.02052545\\\\\n",
       "\t 0.04472477 & 0.01337920 & 0.91666667 & 0.02522936\\\\\n",
       "\t 0.04303198 & 0.00986972 & 0.01302803 & 0.93407027\\\\\n",
       "\\end{tabular}\n"
      ],
      "text/markdown": [
       "\n",
       "A matrix: 4 × 4 of type dbl\n",
       "\n",
       "| 0.95405788 | 0.01204210 | 0.01183971 | 0.02206031 |\n",
       "| 0.04885057 | 0.91625616 | 0.01436782 | 0.02052545 |\n",
       "| 0.04472477 | 0.01337920 | 0.91666667 | 0.02522936 |\n",
       "| 0.04303198 | 0.00986972 | 0.01302803 | 0.93407027 |\n",
       "\n"
      ],
      "text/plain": [
       "     [,1]       [,2]       [,3]       [,4]      \n",
       "[1,] 0.95405788 0.01204210 0.01183971 0.02206031\n",
       "[2,] 0.04885057 0.91625616 0.01436782 0.02052545\n",
       "[3,] 0.04472477 0.01337920 0.91666667 0.02522936\n",
       "[4,] 0.04303198 0.00986972 0.01302803 0.93407027"
      ]
     },
     "metadata": {},
     "output_type": "display_data"
    }
   ],
   "source": [
    "pmatrix_hat=matrix(0,4,4)\n",
    "for(i in 1:4) pmatrix_hat[i,] = doubleP_hat[i,]/pi_hat[i]\n",
    "\n",
    "print(\"true pmatrix\")\n",
    "pmatrix\n",
    "\n",
    "print(\"pmatrix estimate\")\n",
    "pmatrix_hat"
   ]
  },
  {
   "cell_type": "markdown",
   "metadata": {},
   "source": [
    "3.4 Estimating $Q\\tau$"
   ]
  },
  {
   "cell_type": "code",
   "execution_count": null,
   "metadata": {
    "vscode": {
     "languageId": "r"
    }
   },
   "outputs": [
    {
     "name": "stdout",
     "output_type": "stream",
     "text": [
      "[1] \"the estimate is\"\n"
     ]
    },
    {
     "data": {
      "text/html": [
       "<table class=\"dataframe\">\n",
       "<caption>A matrix: 4 × 4 of type dbl</caption>\n",
       "<tbody>\n",
       "\t<tr><td>-0.04816717</td><td> 0.01267673</td><td> 0.01240932</td><td> 0.02308112</td></tr>\n",
       "\t<tr><td> 0.05142505</td><td>-0.08801653</td><td> 0.01520541</td><td> 0.02138606</td></tr>\n",
       "\t<tr><td> 0.04687650</td><td> 0.01415917</td><td>-0.08760660</td><td> 0.02657093</td></tr>\n",
       "\t<tr><td> 0.04502321</td><td> 0.01028355</td><td> 0.01372079</td><td>-0.06902755</td></tr>\n",
       "</tbody>\n",
       "</table>\n"
      ],
      "text/latex": [
       "A matrix: 4 × 4 of type dbl\n",
       "\\begin{tabular}{llll}\n",
       "\t -0.04816717 &  0.01267673 &  0.01240932 &  0.02308112\\\\\n",
       "\t  0.05142505 & -0.08801653 &  0.01520541 &  0.02138606\\\\\n",
       "\t  0.04687650 &  0.01415917 & -0.08760660 &  0.02657093\\\\\n",
       "\t  0.04502321 &  0.01028355 &  0.01372079 & -0.06902755\\\\\n",
       "\\end{tabular}\n"
      ],
      "text/markdown": [
       "\n",
       "A matrix: 4 × 4 of type dbl\n",
       "\n",
       "| -0.04816717 |  0.01267673 |  0.01240932 |  0.02308112 |\n",
       "|  0.05142505 | -0.08801653 |  0.01520541 |  0.02138606 |\n",
       "|  0.04687650 |  0.01415917 | -0.08760660 |  0.02657093 |\n",
       "|  0.04502321 |  0.01028355 |  0.01372079 | -0.06902755 |\n",
       "\n"
      ],
      "text/plain": [
       "     [,1]        [,2]        [,3]        [,4]       \n",
       "[1,] -0.04816717  0.01267673  0.01240932  0.02308112\n",
       "[2,]  0.05142505 -0.08801653  0.01520541  0.02138606\n",
       "[3,]  0.04687650  0.01415917 -0.08760660  0.02657093\n",
       "[4,]  0.04502321  0.01028355  0.01372079 -0.06902755"
      ]
     },
     "metadata": {},
     "output_type": "display_data"
    },
    {
     "name": "stdout",
     "output_type": "stream",
     "text": [
      "[1] \"the true Qt is\"\n"
     ]
    },
    {
     "data": {
      "text/html": [
       "<table class=\"dataframe\">\n",
       "<caption>A matrix: 4 × 4 of type dbl</caption>\n",
       "<tbody>\n",
       "\t<tr><td>-0.05</td><td> 0.0125</td><td> 0.0125</td><td> 0.025</td></tr>\n",
       "\t<tr><td> 0.05</td><td>-0.0875</td><td> 0.0125</td><td> 0.025</td></tr>\n",
       "\t<tr><td> 0.05</td><td> 0.0125</td><td>-0.0875</td><td> 0.025</td></tr>\n",
       "\t<tr><td> 0.05</td><td> 0.0125</td><td> 0.0125</td><td>-0.075</td></tr>\n",
       "</tbody>\n",
       "</table>\n"
      ],
      "text/latex": [
       "A matrix: 4 × 4 of type dbl\n",
       "\\begin{tabular}{llll}\n",
       "\t -0.05 &  0.0125 &  0.0125 &  0.025\\\\\n",
       "\t  0.05 & -0.0875 &  0.0125 &  0.025\\\\\n",
       "\t  0.05 &  0.0125 & -0.0875 &  0.025\\\\\n",
       "\t  0.05 &  0.0125 &  0.0125 & -0.075\\\\\n",
       "\\end{tabular}\n"
      ],
      "text/markdown": [
       "\n",
       "A matrix: 4 × 4 of type dbl\n",
       "\n",
       "| -0.05 |  0.0125 |  0.0125 |  0.025 |\n",
       "|  0.05 | -0.0875 |  0.0125 |  0.025 |\n",
       "|  0.05 |  0.0125 | -0.0875 |  0.025 |\n",
       "|  0.05 |  0.0125 |  0.0125 | -0.075 |\n",
       "\n"
      ],
      "text/plain": [
       "     [,1]  [,2]    [,3]    [,4]  \n",
       "[1,] -0.05  0.0125  0.0125  0.025\n",
       "[2,]  0.05 -0.0875  0.0125  0.025\n",
       "[3,]  0.05  0.0125 -0.0875  0.025\n",
       "[4,]  0.05  0.0125  0.0125 -0.075"
      ]
     },
     "metadata": {},
     "output_type": "display_data"
    }
   ],
   "source": [
    "eig = eigen(pmatrix_hat)\n",
    "w = eig$vectors%*%diag(log(eig$values))%*%solve(eig$vectors)\n",
    "\n",
    "print(\"the estimate is\")\n",
    "w\n",
    "\n",
    "print(\"the true Qt is\")\n",
    "qmatrix*tau"
   ]
  },
  {
   "cell_type": "markdown",
   "metadata": {},
   "source": [
    "3.5 Estimating $\\tau$"
   ]
  },
  {
   "cell_type": "code",
   "execution_count": null,
   "metadata": {
    "vscode": {
     "languageId": "r"
    }
   },
   "outputs": [
    {
     "data": {
      "text/html": [
       "0.0634634322877603"
      ],
      "text/latex": [
       "0.0634634322877603"
      ],
      "text/markdown": [
       "0.0634634322877603"
      ],
      "text/plain": [
       "[1] 0.06346343"
      ]
     },
     "metadata": {},
     "output_type": "display_data"
    },
    {
     "data": {
      "text/html": [
       "0.065625"
      ],
      "text/latex": [
       "0.065625"
      ],
      "text/markdown": [
       "0.065625"
      ],
      "text/plain": [
       "[1] 0.065625"
      ]
     },
     "metadata": {},
     "output_type": "display_data"
    }
   ],
   "source": [
    "tau_hat = -sum(pi_hat * diag(w))\n",
    "tau_hat\n",
    "tau"
   ]
  },
  {
   "cell_type": "markdown",
   "metadata": {},
   "source": [
    "3.6 Estimating qmatrix"
   ]
  },
  {
   "cell_type": "code",
   "execution_count": null,
   "metadata": {
    "scrolled": true,
    "vscode": {
     "languageId": "r"
    }
   },
   "outputs": [
    {
     "name": "stdout",
     "output_type": "stream",
     "text": [
      "[1] \"estimate\"\n"
     ]
    },
    {
     "data": {
      "text/html": [
       "<table class=\"dataframe\">\n",
       "<caption>A matrix: 4 × 4 of type dbl</caption>\n",
       "<tbody>\n",
       "\t<tr><td>-0.7589751</td><td> 0.1997485</td><td> 0.1955350</td><td> 0.3636916</td></tr>\n",
       "\t<tr><td> 0.8103100</td><td>-1.3868857</td><td> 0.2395933</td><td> 0.3369824</td></tr>\n",
       "\t<tr><td> 0.7386380</td><td> 0.2231075</td><td>-1.3804264</td><td> 0.4186809</td></tr>\n",
       "\t<tr><td> 0.7094355</td><td> 0.1620389</td><td> 0.2162000</td><td>-1.0876744</td></tr>\n",
       "</tbody>\n",
       "</table>\n"
      ],
      "text/latex": [
       "A matrix: 4 × 4 of type dbl\n",
       "\\begin{tabular}{llll}\n",
       "\t -0.7589751 &  0.1997485 &  0.1955350 &  0.3636916\\\\\n",
       "\t  0.8103100 & -1.3868857 &  0.2395933 &  0.3369824\\\\\n",
       "\t  0.7386380 &  0.2231075 & -1.3804264 &  0.4186809\\\\\n",
       "\t  0.7094355 &  0.1620389 &  0.2162000 & -1.0876744\\\\\n",
       "\\end{tabular}\n"
      ],
      "text/markdown": [
       "\n",
       "A matrix: 4 × 4 of type dbl\n",
       "\n",
       "| -0.7589751 |  0.1997485 |  0.1955350 |  0.3636916 |\n",
       "|  0.8103100 | -1.3868857 |  0.2395933 |  0.3369824 |\n",
       "|  0.7386380 |  0.2231075 | -1.3804264 |  0.4186809 |\n",
       "|  0.7094355 |  0.1620389 |  0.2162000 | -1.0876744 |\n",
       "\n"
      ],
      "text/plain": [
       "     [,1]       [,2]       [,3]       [,4]      \n",
       "[1,] -0.7589751  0.1997485  0.1955350  0.3636916\n",
       "[2,]  0.8103100 -1.3868857  0.2395933  0.3369824\n",
       "[3,]  0.7386380  0.2231075 -1.3804264  0.4186809\n",
       "[4,]  0.7094355  0.1620389  0.2162000 -1.0876744"
      ]
     },
     "metadata": {},
     "output_type": "display_data"
    },
    {
     "name": "stdout",
     "output_type": "stream",
     "text": [
      "[1] \"true qmatrix\"\n"
     ]
    },
    {
     "data": {
      "text/html": [
       "<table class=\"dataframe\">\n",
       "<caption>A matrix: 4 × 4 of type dbl</caption>\n",
       "<tbody>\n",
       "\t<tr><td>-0.7619048</td><td> 0.1904762</td><td> 0.1904762</td><td> 0.3809524</td></tr>\n",
       "\t<tr><td> 0.7619048</td><td>-1.3333333</td><td> 0.1904762</td><td> 0.3809524</td></tr>\n",
       "\t<tr><td> 0.7619048</td><td> 0.1904762</td><td>-1.3333333</td><td> 0.3809524</td></tr>\n",
       "\t<tr><td> 0.7619048</td><td> 0.1904762</td><td> 0.1904762</td><td>-1.1428571</td></tr>\n",
       "</tbody>\n",
       "</table>\n"
      ],
      "text/latex": [
       "A matrix: 4 × 4 of type dbl\n",
       "\\begin{tabular}{llll}\n",
       "\t -0.7619048 &  0.1904762 &  0.1904762 &  0.3809524\\\\\n",
       "\t  0.7619048 & -1.3333333 &  0.1904762 &  0.3809524\\\\\n",
       "\t  0.7619048 &  0.1904762 & -1.3333333 &  0.3809524\\\\\n",
       "\t  0.7619048 &  0.1904762 &  0.1904762 & -1.1428571\\\\\n",
       "\\end{tabular}\n"
      ],
      "text/markdown": [
       "\n",
       "A matrix: 4 × 4 of type dbl\n",
       "\n",
       "| -0.7619048 |  0.1904762 |  0.1904762 |  0.3809524 |\n",
       "|  0.7619048 | -1.3333333 |  0.1904762 |  0.3809524 |\n",
       "|  0.7619048 |  0.1904762 | -1.3333333 |  0.3809524 |\n",
       "|  0.7619048 |  0.1904762 |  0.1904762 | -1.1428571 |\n",
       "\n"
      ],
      "text/plain": [
       "     [,1]       [,2]       [,3]       [,4]      \n",
       "[1,] -0.7619048  0.1904762  0.1904762  0.3809524\n",
       "[2,]  0.7619048 -1.3333333  0.1904762  0.3809524\n",
       "[3,]  0.7619048  0.1904762 -1.3333333  0.3809524\n",
       "[4,]  0.7619048  0.1904762  0.1904762 -1.1428571"
      ]
     },
     "metadata": {},
     "output_type": "display_data"
    }
   ],
   "source": [
    "qmatrix_hat = w/tau_hat\n",
    "for(i in 1:4) qmatrix_hat[i,i] = -sum(qmatrix_hat[i,-i])\n",
    "\n",
    "print(\"estimate\")\n",
    "qmatrix_hat\n",
    "\n",
    "print(\"true qmatrix\")\n",
    "qmatrix\n"
   ]
  },
  {
   "cell_type": "markdown",
   "metadata": {},
   "source": [
    "3.7 Estimating 6 rates"
   ]
  },
  {
   "cell_type": "code",
   "execution_count": null,
   "metadata": {
    "vscode": {
     "languageId": "r"
    }
   },
   "outputs": [
    {
     "name": "stdout",
     "output_type": "stream",
     "text": [
      "[1] \"rate estimates\"\n"
     ]
    },
    {
     "data": {
      "text/html": [
       "<style>\n",
       ".list-inline {list-style: none; margin:0; padding: 0}\n",
       ".list-inline>li {display: inline-block}\n",
       ".list-inline>li:not(:last-child)::after {content: \"\\00b7\"; padding: 0 .5ex}\n",
       "</style>\n",
       "<ol class=list-inline><li>0.992175201665277</li><li>0.904417233430024</li><li>1.10820210576439</li><li>0.86866052889689</li><li>0.804867007993346</li><li>1</li></ol>\n"
      ],
      "text/latex": [
       "\\begin{enumerate*}\n",
       "\\item 0.992175201665277\n",
       "\\item 0.904417233430024\n",
       "\\item 1.10820210576439\n",
       "\\item 0.86866052889689\n",
       "\\item 0.804867007993346\n",
       "\\item 1\n",
       "\\end{enumerate*}\n"
      ],
      "text/markdown": [
       "1. 0.992175201665277\n",
       "2. 0.904417233430024\n",
       "3. 1.10820210576439\n",
       "4. 0.86866052889689\n",
       "5. 0.804867007993346\n",
       "6. 1\n",
       "\n",
       "\n"
      ],
      "text/plain": [
       "[1] 0.9921752 0.9044172 1.1082021 0.8686605 0.8048670 1.0000000"
      ]
     },
     "metadata": {},
     "output_type": "display_data"
    },
    {
     "name": "stdout",
     "output_type": "stream",
     "text": [
      "[1] \"true rates\"\n"
     ]
    },
    {
     "data": {
      "text/html": [
       "<style>\n",
       ".list-inline {list-style: none; margin:0; padding: 0}\n",
       ".list-inline>li {display: inline-block}\n",
       ".list-inline>li:not(:last-child)::after {content: \"\\00b7\"; padding: 0 .5ex}\n",
       "</style>\n",
       "<ol class=list-inline><li>1</li><li>1</li><li>1</li><li>1</li><li>1</li><li>1</li></ol>\n"
      ],
      "text/latex": [
       "\\begin{enumerate*}\n",
       "\\item 1\n",
       "\\item 1\n",
       "\\item 1\n",
       "\\item 1\n",
       "\\item 1\n",
       "\\item 1\n",
       "\\end{enumerate*}\n"
      ],
      "text/markdown": [
       "1. 1\n",
       "2. 1\n",
       "3. 1\n",
       "4. 1\n",
       "5. 1\n",
       "6. 1\n",
       "\n",
       "\n"
      ],
      "text/plain": [
       "[1] 1 1 1 1 1 1"
      ]
     },
     "metadata": {},
     "output_type": "display_data"
    }
   ],
   "source": [
    "qmatrix_hat = qmatrix_hat %*% diag(1/pi_hat)\n",
    "qmatrix_hat = qmatrix_hat/qmatrix_hat[3,4]\n",
    "rate_hat = qmatrix_hat[upper.tri(qmatrix_hat)]\n",
    "\n",
    "print(\"rate estimates\")\n",
    "rate_hat\n",
    "\n",
    "print(\"true rates\")\n",
    "rates"
   ]
  },
  {
   "cell_type": "code",
   "execution_count": null,
   "metadata": {
    "vscode": {
     "languageId": "r"
    }
   },
   "outputs": [],
   "source": []
  }
 ],
 "metadata": {
  "kernelspec": {
   "display_name": "R",
   "language": "R",
   "name": "ir"
  },
  "language_info": {
   "codemirror_mode": "r",
   "file_extension": ".r",
   "mimetype": "text/x-r-source",
   "name": "R",
   "pygments_lexer": "r",
   "version": "4.0.3"
  }
 },
 "nbformat": 4,
 "nbformat_minor": 5
}
