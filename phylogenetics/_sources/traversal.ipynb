{
 "cells": [
  {
   "cell_type": "markdown",
   "id": "9cfd4a82",
   "metadata": {},
   "source": [
    "# Tree traversal algorithm\n",
    "\n",
    "\n",
    "```{seealso}\n",
    "- [Tree traversal algorithm](https://www.geeksforgeeks.org/tree-traversals-inorder-preorder-and-postorder/)\n",
    "```\n",
    "\n",
    "## Define two trees"
   ]
  },
  {
   "cell_type": "code",
   "execution_count": 1,
   "id": "ec3fa876",
   "metadata": {},
   "outputs": [
    {
     "data": {
      "text/html": [
       "TRUE"
      ],
      "text/latex": [
       "TRUE"
      ],
      "text/markdown": [
       "TRUE"
      ],
      "text/plain": [
       "[1] TRUE"
      ]
     },
     "metadata": {},
     "output_type": "display_data"
    },
    {
     "data": {
      "text/html": [
       "FALSE"
      ],
      "text/latex": [
       "FALSE"
      ],
      "text/markdown": [
       "FALSE"
      ],
      "text/plain": [
       "[1] FALSE"
      ]
     },
     "metadata": {},
     "output_type": "display_data"
    }
   ],
   "source": [
    "tree1 = \"((((s1,s2),s3),s4),s5);\"\n",
    "tree2 = \"(((s1,s2),s3),s4,s5);\"\n",
    "\n",
    "is.rooted = function(treestring){\n",
    "\tcharacter = unlist(strsplit(treestring,split=\"\"))\n",
    "\n",
    "\tcomma = sum(character==',')\n",
    "\tleftp = sum(character=='(')\n",
    "\n",
    "\tif(comma == leftp){\n",
    "\t\trooted=TRUE\n",
    "\t}else{\n",
    "\t\trooted=FALSE\n",
    "\t}\n",
    "\trooted\n",
    "}\n",
    "is.rooted(tree1)\n",
    "is.rooted(tree2)"
   ]
  },
  {
   "cell_type": "markdown",
   "id": "9fefae39",
   "metadata": {},
   "source": [
    "## Find the species under an internal node"
   ]
  },
  {
   "cell_type": "code",
   "execution_count": 2,
   "id": "a2fde1ab",
   "metadata": {},
   "outputs": [
    {
     "name": "stderr",
     "output_type": "stream",
     "text": [
      "Loading required package: ape\n",
      "\n"
     ]
    },
    {
     "name": "stderr",
     "output_type": "stream",
     "text": [
      "\n",
      "Attaching package: 'ape'\n",
      "\n",
      "\n"
     ]
    },
    {
     "name": "stderr",
     "output_type": "stream",
     "text": [
      "The following object is masked _by_ '.GlobalEnv':\n",
      "\n",
      "    is.rooted\n",
      "\n",
      "\n"
     ]
    },
    {
     "name": "stderr",
     "output_type": "stream",
     "text": [
      "Loading required package: Matrix\n",
      "\n"
     ]
    },
    {
     "name": "stderr",
     "output_type": "stream",
     "text": [
      "\n",
      "Attaching package: 'phybase'\n",
      "\n",
      "\n"
     ]
    },
    {
     "name": "stderr",
     "output_type": "stream",
     "text": [
      "The following objects are masked from 'package:ape':\n",
      "\n",
      "    dist.dna, node.height\n",
      "\n",
      "\n"
     ]
    },
    {
     "data": {
      "text/html": [
       "<style>\n",
       ".list-inline {list-style: none; margin:0; padding: 0}\n",
       ".list-inline>li {display: inline-block}\n",
       ".list-inline>li:not(:last-child)::after {content: \"\\00b7\"; padding: 0 .5ex}\n",
       "</style>\n",
       "<ol class=list-inline><li>1</li><li>1</li><li>1</li><li>0</li><li>0</li></ol>\n"
      ],
      "text/latex": [
       "\\begin{enumerate*}\n",
       "\\item 1\n",
       "\\item 1\n",
       "\\item 1\n",
       "\\item 0\n",
       "\\item 0\n",
       "\\end{enumerate*}\n"
      ],
      "text/markdown": [
       "1. 1\n",
       "2. 1\n",
       "3. 1\n",
       "4. 0\n",
       "5. 0\n",
       "\n",
       "\n"
      ],
      "text/plain": [
       "[1] 1 1 1 0 0"
      ]
     },
     "metadata": {},
     "output_type": "display_data"
    },
    {
     "data": {
      "image/png": "[encoded data removed]",
      "text/plain": [
       "plot without title"
      ]
     },
     "metadata": {
      "filenames": {
       "image/png": "D:\\OneDrive\\Github\\Jupyter\\jupyter_book\\phylogenetics\\_build\\jupyter_execute\\traversal_3_7.png"
      },
      "image/png": {
       "height": 420,
       "width": 420
      }
     },
     "output_type": "display_data"
    }
   ],
   "source": [
    "library(phybase)\n",
    "tree=read.tree.nodes(tree1)\n",
    "species = tree$names\n",
    "nspecies = length(species)\n",
    "nodes = tree$nodes\n",
    "\n",
    "find_offspring = function(inode, treenodes, taxanames, nspecies, offspring){\n",
    "\tif(inode <= nspecies){\n",
    "\t\toffspring[inode] = 1\n",
    "\t\treturn (offspring)\n",
    "\t}else{\n",
    "\t\tson1 = treenodes[inode,2]\n",
    "\t\tson2 = treenodes[inode,3]\n",
    "\t\toffspring = find_offspring(son1, treenodes, taxanames, nspecies, offspring)\n",
    "\t\toffspring = find_offspring(son2, treenodes, taxanames, nspecies, offspring)\n",
    "\t}\n",
    "\treturn (offspring)\n",
    "}\n",
    "\n",
    "offspring1 = rep(0,nspecies)\n",
    "find_offspring(inode=7, nodes, species, nspecies, offspring1)\n",
    "plot(read.tree(text=tree1))"
   ]
  },
  {
   "cell_type": "markdown",
   "id": "78b8699c",
   "metadata": {},
   "source": [
    "## Inorder tree traversal: left -> root -> right"
   ]
  },
  {
   "cell_type": "code",
   "execution_count": 3,
   "id": "163585b5",
   "metadata": {},
   "outputs": [
    {
     "name": "stdout",
     "output_type": "stream",
     "text": [
      "[1] 1\n",
      "[1] 6\n",
      "[1] 2\n",
      "[1] 7\n",
      "[1] 3\n",
      "[1] 8\n",
      "[1] 4\n",
      "[1] 9\n",
      "[1] 5\n"
     ]
    },
    {
     "data": {
      "image/png": "[encoded data removed]",
      "text/plain": [
       "plot without title"
      ]
     },
     "metadata": {
      "filenames": {
       "image/png": "D:\\OneDrive\\Github\\Jupyter\\jupyter_book\\phylogenetics\\_build\\jupyter_execute\\traversal_5_1.png"
      },
      "image/png": {
       "height": 420,
       "width": 420
      }
     },
     "output_type": "display_data"
    }
   ],
   "source": [
    "inor = rep(0, dim(nodes)[1])\n",
    "index=1\n",
    "\n",
    "inorder = function(inode, treenodes, nspecies){\n",
    "\tif(inode <= nspecies){\n",
    "\t\tprint(inode)\n",
    "\t\tinor[index] <<- inode\n",
    "\t\tindex<<-index+1\n",
    "\t}else{\n",
    "\t\tleft = treenodes[inode,2]\n",
    "\t\tright = treenodes[inode,3]\n",
    "\t\tinorder(left, treenodes, nspecies)\t\n",
    "\t\tprint(inode)\n",
    "\t\tinor[index] <<- inode\n",
    "\t\tindex<<-index+1\n",
    "\t\tinorder(right, treenodes, nspecies)\t\n",
    "\t}\n",
    "}\n",
    "\n",
    "inorder(9, nodes, nspecies)\n",
    "plot(read.tree(text=tree1))"
   ]
  },
  {
   "cell_type": "markdown",
   "id": "8c6de564",
   "metadata": {},
   "source": [
    "## Preorder tree traversal: root -> left -> right"
   ]
  },
  {
   "cell_type": "code",
   "execution_count": 4,
   "id": "208d0e7f",
   "metadata": {},
   "outputs": [
    {
     "name": "stdout",
     "output_type": "stream",
     "text": [
      "[1] 9\n",
      "[1] 8\n",
      "[1] 7\n",
      "[1] 6\n",
      "[1] 1\n",
      "[1] 2\n",
      "[1] 3\n",
      "[1] 4\n",
      "[1] 5\n"
     ]
    },
    {
     "data": {
      "image/png": "[encoded data removed]",
      "text/plain": [
       "plot without title"
      ]
     },
     "metadata": {
      "filenames": {
       "image/png": "D:\\OneDrive\\Github\\Jupyter\\jupyter_book\\phylogenetics\\_build\\jupyter_execute\\traversal_7_1.png"
      },
      "image/png": {
       "height": 420,
       "width": 420
      }
     },
     "output_type": "display_data"
    }
   ],
   "source": [
    "preorder = function(inode, treenodes, nspecies){\n",
    "\tif(inode <= nspecies){\n",
    "\t\tprint(inode)\n",
    "\t}else{\n",
    "\t\tleft = treenodes[inode,2]\n",
    "\t\tright = treenodes[inode,3]\n",
    "\t\tprint(inode)\n",
    "\t\tpreorder(left, treenodes, nspecies)\t\n",
    "\t\tpreorder(right, treenodes, nspecies)\n",
    "\t\t\t\t\n",
    "\t}\n",
    "}\n",
    "\n",
    "\n",
    "preorder(9, nodes, nspecies)\n",
    "plot(read.tree(text=tree1))"
   ]
  },
  {
   "cell_type": "markdown",
   "id": "72cffe2f",
   "metadata": {},
   "source": [
    "## Postorder tree traversal: left -> right -> root"
   ]
  },
  {
   "cell_type": "code",
   "execution_count": 5,
   "id": "7aec5e3d",
   "metadata": {},
   "outputs": [
    {
     "name": "stdout",
     "output_type": "stream",
     "text": [
      "[1] 1\n",
      "[1] 2\n",
      "[1] 6\n",
      "[1] 3\n",
      "[1] 7\n",
      "[1] 4\n",
      "[1] 8\n",
      "[1] 5\n",
      "[1] 9\n"
     ]
    },
    {
     "data": {
      "image/png": "[encoded data removed]",
      "text/plain": [
       "plot without title"
      ]
     },
     "metadata": {
      "filenames": {
       "image/png": "D:\\OneDrive\\Github\\Jupyter\\jupyter_book\\phylogenetics\\_build\\jupyter_execute\\traversal_9_1.png"
      },
      "image/png": {
       "height": 420,
       "width": 420
      }
     },
     "output_type": "display_data"
    }
   ],
   "source": [
    "postorder = function(inode, treenodes, nspecies){\n",
    "\tif(inode <= nspecies){\n",
    "\t\tprint(inode)\n",
    "\t}else{\n",
    "\t\tleft = treenodes[inode,2]\n",
    "\t\tright = treenodes[inode,3]\n",
    "\t\tpostorder(left, treenodes, nspecies)\t\n",
    "\t\tpostorder(right, treenodes, nspecies)\n",
    "\t\tprint(inode)\t\t\n",
    "\t}\n",
    "}\n",
    "\n",
    "postorder(9, nodes, nspecies)\n",
    "plot(read.tree(text=tree1))"
   ]
  }
 ],
 "metadata": {
  "jupytext": {
   "cell_metadata_filter": "-all",
   "formats": "md:myst",
   "text_representation": {
    "extension": ".md",
    "format_name": "myst",
    "format_version": 0.13,
    "jupytext_version": "1.11.5"
   }
  },
  "kernelspec": {
   "display_name": "R",
   "language": "R",
   "name": "ir"
  },
  "language_info": {
   "codemirror_mode": "r",
   "file_extension": ".r",
   "mimetype": "text/x-r-source",
   "name": "R",
   "pygments_lexer": "r",
   "version": "4.2.2"
  },
  "source_map": [
   14,
   24,
   43,
   46,
   69,
   72,
   94,
   97,
   114,
   117
  ]
 },
 "nbformat": 4,
 "nbformat_minor": 5
}