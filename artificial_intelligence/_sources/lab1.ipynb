{
 "cells": [
  {
   "cell_type": "markdown",
   "id": "a3481833",
   "metadata": {},
   "source": [
    "# Lab 1: Natural language processing\n",
    "\n",
    "## Text to speech\n",
    "\n",
    "We use google API text-to-speech to convert text to speech. The user must already have a google account and configure the google cloud console => APIs and Services => **Enable API and Services** and **Credentials**.\n",
    "\n",
    "### Python package - texttospeech\n",
    "To use google text-to-speech API in python, we need to download and install the [google-cloud-sdk](https://cloud.google.com/sdk/docs/). We also need to install the following python packages. \n",
    "\n",
    "- pip install google-api-python-client\n",
    "- pip install os\n",
    "\n",
    "Read the input text file in python and print out the text."
   ]
  },
  {
   "cell_type": "code",
   "execution_count": 1,
   "id": "3cbfd5f6",
   "metadata": {},
   "outputs": [
    {
     "name": "stdout",
     "output_type": "stream",
     "text": [
      "却说雨村忙回头看时，不是别人，乃是当日同僚一案参革的号张如圭者。他本系此地人，革后家居，今打听得都中奏准起复旧员之信，他便四下里寻情找门路，忽遇见雨村，故忙道喜。二人见了礼，张如圭便将此信告诉雨村，雨村自是欢喜，忙忙的叙了两句，遂作别各自回家。冷子兴听得此言，便忙献计，令雨村央烦林如海，转向都中去央烦贾政。雨村领其意，作别回至馆中，忙寻邸报看真确了。\n",
      "\n",
      "\n"
     ]
    }
   ],
   "source": [
    "f = open(file=\"./data/test.txt\", encoding= \"utf-8\")\n",
    "x = f.read()\n",
    "print(x)"
   ]
  },
  {
   "cell_type": "markdown",
   "id": "09a51922",
   "metadata": {},
   "source": [
    "The text is converted to speech and saved in an audio file output.mp3."
   ]
  },
  {
   "cell_type": "code",
   "execution_count": 2,
   "id": "fb280366",
   "metadata": {},
   "outputs": [],
   "source": [
    "from google.cloud import texttospeech\n",
    "\n",
    "# Instantiates a client\n",
    "client = texttospeech.TextToSpeechClient()\n",
    "\n",
    "# Set the text input to be synthesized\n",
    "synthesis_input = texttospeech.SynthesisInput(text=x)\n",
    "\n",
    "# Build the voice request, select the language code (\"en-US\") and the ssml\n",
    "# voice gender (\"neutral\")\n",
    "voice = texttospeech.VoiceSelectionParams(\n",
    "    language_code=\"cmn-CN\", ssml_gender=texttospeech.SsmlVoiceGender.NEUTRAL\n",
    ")\n",
    "\n",
    "# Select the type of audio file you want returned\n",
    "audio_config = texttospeech.AudioConfig(\n",
    "    audio_encoding=texttospeech.AudioEncoding.MP3\n",
    ")\n",
    "\n",
    "# Perform the text-to-speech request on the text input with the selected\n",
    "# voice parameters and audio file type\n",
    "response = client.synthesize_speech(\n",
    "    input=synthesis_input, voice=voice, audio_config=audio_config\n",
    ")\n",
    "\n",
    "# The response's audio_content is binary.\n",
    "with open(\"./_build/html/_images/output.mp3\", \"wb\") as out:\n",
    "    # Write the response to the output file.\n",
    "    out.write(response.audio_content)\n"
   ]
  },
  {
   "cell_type": "markdown",
   "id": "f5aac4d7",
   "metadata": {},
   "source": [
    "Click the audio player to listen to the speech.\n",
    "\n",
    "<audio controls>\n",
    "  <source src=\"_images/output.mp3\" type=\"audio/mpeg\">\n",
    "  Your browser does not support the audio element.\n",
    "</audio>\n",
    "\n",
    "Alternatively, you may play the audio file in python.\n",
    "```{code}\n",
    "import os\n",
    "os.system('start output.mp3')\n",
    "```\n",
    "\n",
    "### Python package - gTTS\n",
    "The package gTTS is a wrapper of the google API text-to-speech to convert text to speech. The speech is at a slow rate.\n",
    "\n",
    "- pip install gTTS"
   ]
  },
  {
   "cell_type": "code",
   "execution_count": 3,
   "id": "68bdd0ae",
   "metadata": {},
   "outputs": [],
   "source": [
    "from gtts import gTTS\n",
    "\n",
    "tts = gTTS(x, lang='zh-CN', slow=True)\n",
    "tts.save('./_build/html/_images/slow.mp3')"
   ]
  },
  {
   "cell_type": "markdown",
   "id": "9cab161a",
   "metadata": {},
   "source": [
    "Click the audio player to listen to the slower speech.\n",
    "\n",
    "<audio controls>\n",
    "  <source src=\"_images/slow.mp3\" type=\"audio/mpeg\">\n",
    "  Your browser does not support the audio element.\n",
    "</audio>\n",
    "\n",
    "```{code}\n",
    "from playsound import playsound\n",
    "import os\n",
    "\n",
    "os.system('start hello.mp3')\n",
    "playsound(\"hello.mp3\")\n",
    "```\n",
    "\n",
    "### Python package - pyttsx3\n",
    "The package pyttsx3 takes Microsoft speech utility to convert text to speech. Check setting -> Region and language -> Language and install the needed languages. By default, English has been installed. If you need to install other languages, please make to also add voices in the \"Speech\" section.\n",
    "\n",
    "- pip insatall pyttsx3"
   ]
  },
  {
   "cell_type": "code",
   "execution_count": 4,
   "id": "6d43b637",
   "metadata": {},
   "outputs": [
    {
     "name": "stdout",
     "output_type": "stream",
     "text": [
      "Voice:\n",
      " - ID: HKEY_LOCAL_MACHINE\\SOFTWARE\\Microsoft\\Speech\\Voices\\Tokens\\TTS_MS_EN-US_DAVID_11.0\n",
      " - Name: Microsoft David Desktop - English (United States)\n",
      " - Languages: []\n",
      " - Gender: None\n",
      " - Age: None\n",
      "Voice:\n",
      " - ID: HKEY_LOCAL_MACHINE\\SOFTWARE\\Microsoft\\Speech\\Voices\\Tokens\\TTS_MS_EN-US_ZIRA_11.0\n",
      " - Name: Microsoft Zira Desktop - English (United States)\n",
      " - Languages: []\n",
      " - Gender: None\n",
      " - Age: None\n",
      "Voice:\n",
      " - ID: HKEY_LOCAL_MACHINE\\SOFTWARE\\Microsoft\\Speech\\Voices\\Tokens\\TTS_MS_ZH-CN_HUIHUI_11.0\n",
      " - Name: Microsoft Huihui Desktop - Chinese (Simplified)\n",
      " - Languages: []\n",
      " - Gender: None\n",
      " - Age: None\n",
      "Voice:\n",
      " - ID: HKEY_LOCAL_MACHINE\\SOFTWARE\\Microsoft\\Speech\\Voices\\Tokens\\TTS_MS_ZH-TW_HANHAN_11.0\n",
      " - Name: Microsoft Hanhan Desktop - Chinese (Taiwan)\n",
      " - Languages: []\n",
      " - Gender: None\n",
      " - Age: None\n"
     ]
    }
   ],
   "source": [
    "import pyttsx3\n",
    "\n",
    "audio = pyttsx3.init()  \n",
    "voices = audio.getProperty('voices') \n",
    "\n",
    "for voice in voices:\n",
    "    print(\"Voice:\")\n",
    "    print(\" - ID: %s\" % voice.id)\n",
    "    print(\" - Name: %s\" % voice.name)\n",
    "    print(\" - Languages: %s\" % voice.languages)\n",
    "    print(\" - Gender: %s\" % voice.gender)\n",
    "    print(\" - Age: %s\" % voice.age)\n",
    "\n",
    "\n",
    "audio.setProperty('rate', 110)\n",
    "audio.setProperty('volume', 0.8)\n",
    "audio.setProperty('voice', voices[3].id)\n",
    "\n",
    "#audio.say(x)\n",
    "#audio.runAndWait()\n",
    "\n",
    "audio.save_to_file(x, './_build/html/_images/pyttsx3.mp3')\n",
    "audio.runAndWait()"
   ]
  },
  {
   "cell_type": "markdown",
   "id": "041f5b96",
   "metadata": {},
   "source": [
    "Click the audio player to listen to the Taiwan accent speech.\n",
    "\n",
    "<audio controls>\n",
    "  <source src=\"_images/pyttsx3.mp3\" type=\"audio/mpeg\">\n",
    "  Your browser does not support the audio element.\n",
    "</audio>\n",
    "\n",
    "## Speech to text\n",
    "Convert an Audio file to transcript using a python package SpeechRecognition.\n",
    "\n",
    "- pip install SpeechRecognition\n",
    "\n",
    "<audio controls>\n",
    "  <source src=\"_images/preamble.wav\" type=\"audio/mpeg\">\n",
    "  Your browser does not support the audio element.\n",
    "</audio>"
   ]
  },
  {
   "cell_type": "code",
   "execution_count": 5,
   "id": "7c32b679",
   "metadata": {},
   "outputs": [
    {
     "name": "stdout",
     "output_type": "stream",
     "text": [
      "result2:\n",
      "{   'alternative': [   {   'confidence': 0.96939272,\n",
      "                           'transcript': 'we the people of the United States '\n",
      "                                         'in order to form a more perfect '\n",
      "                                         'union establish justice and sure '\n",
      "                                         'domestic tranquility provide for the '\n",
      "                                         'common defense promote the general '\n",
      "                                         'welfare and secure the blessings of '\n",
      "                                         'liberty to ourselves and our '\n",
      "                                         'posterity do ordain and establish '\n",
      "                                         'this constitution for the United '\n",
      "                                         'States of America'},\n",
      "                       {   'transcript': 'we the people of the United States '\n",
      "                                         'in order to form a more perfect '\n",
      "                                         'union establish justice and sure '\n",
      "                                         'domestic tranquility provide for the '\n",
      "                                         'common defense promote the general '\n",
      "                                         'welfare and secure the blessings of '\n",
      "                                         'liberty to ourselves and our '\n",
      "                                         'posterity to ordain and establish '\n",
      "                                         'this constitution for the United '\n",
      "                                         'States of America'}],\n",
      "    'final': True}\n",
      "Converting audio transcripts into text ...\n",
      "we the people of the United States in order to form a more perfect union establish justice and sure domestic tranquility provide for the common defense promote the general welfare and secure the blessings of liberty to ourselves and our posterity do ordain and establish this constitution for the United States of America\n"
     ]
    }
   ],
   "source": [
    "import speech_recognition as sr\n",
    "\n",
    "r = sr.Recognizer()\n",
    "\n",
    "with sr.AudioFile('./data/preamble.wav') as source:\n",
    "    audio_text = r.listen(source)\n",
    "    try:    \n",
    "        # using google speech recognition\n",
    "        text = r.recognize_google(audio_text)\n",
    "        print('Converting audio transcripts into text ...')\n",
    "        print(text)\n",
    "    except:\n",
    "         print('Sorry.. run again...')"
   ]
  }
 ],
 "metadata": {
  "jupytext": {
   "cell_metadata_filter": "-all",
   "formats": "md:myst",
   "text_representation": {
    "extension": ".md",
    "format_name": "myst",
    "format_version": 0.13,
    "jupytext_version": "1.11.5"
   }
  },
  "kernelspec": {
   "display_name": "Python 3",
   "language": "python",
   "name": "python3"
  },
  "language_info": {
   "codemirror_mode": {
    "name": "ipython",
    "version": 3
   },
   "file_extension": ".py",
   "mimetype": "text/x-python",
   "name": "python",
   "nbconvert_exporter": "python",
   "pygments_lexer": "ipython3",
   "version": "3.7.4"
  },
  "source_map": [
   14,
   30,
   34,
   38,
   69,
   89,
   94,
   116,
   140,
   159
  ]
 },
 "nbformat": 4,
 "nbformat_minor": 5
}