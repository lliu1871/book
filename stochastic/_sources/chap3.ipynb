{
 "cells": [
  {
   "cell_type": "markdown",
   "id": "3978df4d",
   "metadata": {},
   "source": [
    "# Chapter 3: Renewal processes\n",
    "\n",
    "```{epigraph}\n",
    "*\"Do the difficult things while they are easy and do the great things while they are small. A journey of a thousand miles must begin with a single step.\"*\n",
    "\n",
    "-- Lao Tzu\n",
    "```\n",
    "\n",
    "```{seealso}\n",
    "- [Continuous function Wikipedia](https://en.wikipedia.org/wiki/Continuous_function)\n",
    "```\n",
    "\n",
    "Let $F_n(x)$ be the probablity distribution of $S_n = \\sum_{i=1}^n x_i$. Let $N_t$ be the number of events before time $t$. The probablity of $S_{n} < t$ is equal to the probability of $N_t > n$."
   ]
  }
 ],
 "metadata": {
  "jupytext": {
   "cell_metadata_filter": "-all",
   "formats": "md:myst",
   "text_representation": {
    "extension": ".md",
    "format_name": "myst",
    "format_version": 0.13,
    "jupytext_version": "1.11.5"
   }
  },
  "kernelspec": {
   "display_name": "Python 3",
   "language": "python",
   "name": "python3"
  },
  "language_info": {
   "codemirror_mode": {
    "name": "ipython",
    "version": 3
   },
   "file_extension": ".py",
   "mimetype": "text/x-python",
   "name": "python",
   "nbconvert_exporter": "python",
   "pygments_lexer": "ipython3",
   "version": "3.11.0"
  },
  "source_map": [
   14
  ]
 },
 "nbformat": 4,
 "nbformat_minor": 5
}