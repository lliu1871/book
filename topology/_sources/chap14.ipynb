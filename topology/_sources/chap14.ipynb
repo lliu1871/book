{
 "cells": [
  {
   "cell_type": "markdown",
   "id": "1dbe2914",
   "metadata": {},
   "source": [
    "# Chapter 14: Topological groups\n",
    "\n",
    "```{epigraph}\n",
    "*\"Do the difficult things while they are easy and do the great things while they are small. A journey of a thousand miles must begin with a single step.\"*\n",
    "\n",
    "-- Lao Tzu\n",
    "```\n",
    "\n",
    "```{seealso}\n",
    "- [Topological group at Wikipedia](https://en.wikipedia.org/wiki/Topological_group)\n",
    "```\n",
    "<div class=\"mxgraph\" style=\"max-width:100%;border:1px solid transparent;\" data-mxgraph=\"{&quot;highlight&quot;:&quot;#0000ff&quot;,&quot;nav&quot;:true,&quot;resize&quot;:true,&quot;toolbar&quot;:&quot;zoom layers tags lightbox&quot;,&quot;edit&quot;:&quot;_blank&quot;,&quot;xml&quot;:&quot;&lt;mxfile host=\\&quot;app.diagrams.net\\&quot; modified=\\&quot;2022-12-17T15:25:32.160Z\\&quot; agent=\\&quot;5.0 (Windows NT 10.0; Win64; x64) AppleWebKit/537.36 (KHTML, like Gecko) Chrome/108.0.0.0 Safari/537.36\\&quot; version=\\&quot;20.7.3\\&quot; etag=\\&quot;bkerDrsIg9soUQEsGcLf\\&quot; type=\\&quot;dropbox\\&quot;&gt;&lt;diagram id=\\&quot;uex-_djcYV4pW9uQENv0\\&quot; name=\\&quot;Page-1\\&quot;&gt;5VrLcpswFP0aL9sBBJgsWydpFu20nSyarjoyCFADXEaI2O7XVzKSMchOaG0HJ7EXRlfve859SHiCZvnyE8Nl+gUikk0cK1pO0OXEcWwXueJHSlaNZOp6jSBhNFKNWsEt/UOU0FLSmkak6jTkABmnZVcYQlGQkHdkmDFYdJvFkHVnLXFCDMFtiDNT+oNGPG2kgWe18htCk1TPbFuqJse6sRJUKY5gsSVCVxM0YwC8ecqXM5JJ5Wm9NP2u99RuFsZIwYd0iO04rb8+FL+Wd+8iWv68q77P3il0HnBWqw2rxfKV1gCJhEJUERhPIYECZ1et9CODuoiInMYSpbbNZ4BSCG0h/E04Xyl0cc1BiFKeZ6q24pjxDxItISigkIM265CT792vElVQs5A8skm1JzFJQvgj7dAGFUFnAjnhbCX6MZJhTh+668CKV8mmXat68aC0/w9I2AYSN7iuImBxvOZ8CRkkVBBT7rjEYsN9oFoYpE4XKeXkdt0QXS6EcXZVHtMsm4kh2bovioOQhOEaCgb3ZKtmHniuZ20AeSCMk+XjkJgq1B0CZQvKGTjajBatadnaXtIts/KtE2l9ehb8PyLX0UCu+2NyHRla7/I7ERotDSCeYHSX/qPw252eG79t0628cIIPdea2tRuqZ/LmzlvV+8Woaj+PfEYol63uZP/3ni7+3K67XKrBm9JKlcYwE+9AvFTXb0DFEjeeEPUivT31ukM0C1O9eqhvlvH/RDDNT8UUK6/l4SGjIadQyAUVURtxLFqIAFCta3q0Eel7KR9TssSCDQKtkjAq1klYK/2mRc6QDGxJ9IFnR8SKPBJE7q6IFThz5PvHiVjI7UUs14xYwa6A5e1nxEEW7J2JAUenO47oY+xTpumcxjL7iAe93KNZv2GZxkCu88RAJzZx+9Xl7v5Qnz1q8u4baq/q+Qky9jh2dmfskT/3vSP5P79vDaNn7BeGejMSS7PjDBeVBPiR4FQyCElVPR185ji8T9b6/1rzjBZ7ghB2LMuRKUwMBe+CIz67wPGvLfE5UnC66IKDpmODo28lt9Bh62nfIjwbWzkfeMzsQSd2KeTiy8qUVvkbwQf1ArQ9um+zTef2wkO2PThmB2PGbHtH0F7lOeaMhnut4XWddPwh3sp6VmsIDFAKOe8cWAogT6VzXNHKwOege/5Rsir3YmzP45gG8MI9jzP4GDnqRageeEvxIeSCrjJnerHvsXqJqT96ZNV0ftWvD1HPhXtodLWfx3XVMd2KNdStHHo9dZjizYMYXt/m6mtdkLTHBvX1caC5+h1oGa/0eOA9nxMTxfaPLs0FYPt3IXT1Fw==&lt;/diagram&gt;&lt;/mxfile&gt;&quot;}\"></div>\n",
    "<script type=\"text/javascript\" src=\"https://viewer.diagrams.net/js/viewer-static.min.js\"></script>\n",
    "\n",
    "---\n",
    "\n",
    "````{prf:definition} \n",
    "A topological group is a Hausdorff topological space $G$ together with a group structure on $G$ such that:\n",
    "1. group multiplication $(g, h) \\mapsto g h$ of $G \\times G \\rightarrow G$ is continuous; and\n",
    "2. group inversion $g \\mapsto g^{-1}$ of $G \\rightarrow G$ is continuous.\n",
    "````\n",
    "\n",
    "````{prf:definition} \n",
    "A subgroup $H$ of a topological group $G$ is a subspace which is also a subgroup in the algebraic sense.\n",
    "````\n",
    "\n",
    "````{prf:definition} \n",
    "If $G$ and $G^{\\prime}$ are topological groups then a homomorphism $f: G \\rightarrow G^{\\prime}$ is a group homomorphism which is also continuous.\n",
    "````\n",
    "\n",
    "````{prf:definition} \n",
    "If $G$ is a topological group and $g \\in G$, then left translation by $g$ is the map $L_g: G \\rightarrow G$ given by $L_g(h)=g h$. Similarly right translation by $g$ is the map $R_g: G \\rightarrow G$ given by $R_g(h)=h g^{-1}$.\n",
    "````\n",
    "\n",
    "````{prf:proposition}\n",
    "In a topological group $G$ we have $L_g L_k=L_{g h}$ and $R_g \\circ R_k=R_{g h}$ Moreover, both $L_g$ and $R_g$ are homeomorphisms as is conjugation by $g\\left(h \\mapsto g h g^{-1}\\right)$ and inversion $\\left(h \\mapsto h^{-1}\\right)$.\n",
    "````\n",
    "\n",
    "Proof. The first statement is a trivial computation, and implies that $L_{g^{-1}}=$ $L_g^{-1}$ and similarly for right translation, and it follows that these are homeomorphisms. Conjugation $h \\mapsto g h g^{-1}$ is the same as $R_g \\circ L_g$ and so is a homeomorphism. Inversion is continuous by assumption and is its own inverse, and thus is a homeomorphism.\n",
    "\n",
    "In a topological group $G$, if $A, B$ are subsets then we let $A B=\\{a b \\mid a \\in A$, $b \\in B\\}$ and $A^{-1}=\\left\\{a^{-1} \\mid a \\in A\\right\\}$\n",
    "\n",
    "````{prf:definition} \n",
    "A subset $A$ of a topological group is called symmetric if $A=A^{-1}$\n",
    "````\n",
    "````{prf:proposition} \n",
    "In a topological group $G$ with unity element $e$, the symmetric neighborhoods of $e$ form a neighborhood basis at $e$.\n",
    "````\n",
    "\n",
    "````{prf:definition} \n",
    "If $G$ is a topological group and $X$ is space, then an action of $G$ on $X$ is a map $G \\times X \\rightarrow X$, with the image of $(g, x)$ being denoted by $g(x)$, such that:\n",
    " \n",
    "$$(g h)(x)=g(h(x)) \\text{ and } e(x)=x$$\n",
    "````\n",
    "\n",
    "For a point $x \\in X$, the set $G(x)=\\{g(x) \\mid g \\in G\\}$ is called the orbit of $x$, and the subgroup $G_x=\\{g \\in G \\mid g(x)=x\\}$ is called the isotropy or stability group at $x$. The action is said to be transitive if there is only one orbit, the whole space $X$. The action is said to be effective if $(g(x)=x$ for all $x) \\Rightarrow g=e$, the identity element of $G$.\n",
    "\n",
    "Note that, in describing $G \\times X \\rightarrow X$ as a \"map,\" we are assuming it to be continuous. The following, then, is the general setting in which our comments on $\\mathbf{O}(n)$ acting on $\\mathbf{S}^{n-1}$ lie.\n",
    "\n",
    "````{prf:proposition} \n",
    "If G is a compact topological group acting on the Hausdorff space $X$ and $G_x$ is the isotropy group at $x$, then the map $\\phi: G / G_x \\rightarrow G(x)$ given by $g G_x \\mapsto g(x)$ is a homeomorphism.\n",
    "````"
   ]
  }
 ],
 "metadata": {
  "jupytext": {
   "cell_metadata_filter": "-all",
   "formats": "md:myst",
   "text_representation": {
    "extension": ".md",
    "format_name": "myst",
    "format_version": 0.13,
    "jupytext_version": "1.11.5"
   }
  },
  "kernelspec": {
   "display_name": "Python 3",
   "language": "python",
   "name": "python3"
  },
  "language_info": {
   "codemirror_mode": {
    "name": "ipython",
    "version": 3
   },
   "file_extension": ".py",
   "mimetype": "text/x-python",
   "name": "python",
   "nbconvert_exporter": "python",
   "pygments_lexer": "ipython3",
   "version": "3.7.4"
  },
  "source_map": [
   14
  ]
 },
 "nbformat": 4,
 "nbformat_minor": 5
}