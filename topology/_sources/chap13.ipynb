{
 "cells": [
  {
   "cell_type": "markdown",
   "id": "abbfcf0c",
   "metadata": {},
   "source": [
    "# Chapter 13: Homotopy\n",
    "\n",
    "```{epigraph}\n",
    "*\"Do the difficult things while they are easy and do the great things while they are small. A journey of a thousand miles must begin with a single step.\"*\n",
    "\n",
    "-- Lao Tzu\n",
    "```\n",
    "\n",
    "```{seealso}\n",
    "- [Homotopy at Wikipedia](https://en.wikipedia.org/wiki/Homotopy)\n",
    "```\n",
    "\n",
    "<div class=\"mxgraph\" style=\"max-width:100%;border:1px solid transparent;\" data-mxgraph=\"{&quot;highlight&quot;:&quot;#0000ff&quot;,&quot;nav&quot;:true,&quot;resize&quot;:true,&quot;toolbar&quot;:&quot;zoom layers tags lightbox&quot;,&quot;edit&quot;:&quot;_blank&quot;,&quot;xml&quot;:&quot;&lt;mxfile host=\\&quot;app.diagrams.net\\&quot; modified=\\&quot;2022-12-17T15:33:25.274Z\\&quot; agent=\\&quot;5.0 (Windows NT 10.0; Win64; x64) AppleWebKit/537.36 (KHTML, like Gecko) Chrome/108.0.0.0 Safari/537.36\\&quot; version=\\&quot;20.7.3\\&quot; etag=\\&quot;M6OXt7ohtaHfrxe-R1zR\\&quot; type=\\&quot;dropbox\\&quot;&gt;&lt;diagram id=\\&quot;-7EednXltsrisi7dukuI\\&quot; name=\\&quot;Page-1\\&quot;&gt;7Vtbc6M2FP41nmk7szuABMaP2dz2IZ1mmofNPsqgGHYxcmU5tvvrK4HERcIJjsGkYf2QoIMQ0rl8+o4kJuByubulaBX9SUKcTBwr3E3A1cRxbAgg/yck+1wyhW4uWNA4lJVKwUP8L5ZCS0o3cYjXtYqMkITFq7owIGmKA1aTIUrJtl7tiST1t67QAhuChwAlpvRbHLIol/quVcq/4ngRqTfblryzRKqyFKwjFJJtRQSuJ+CSEsLyq+XuEidCeUov+XM3B+4WHaM4ZW0eoOu7v8N0/u3H/vYriu7mD/YV+CSN8YySjRyw7CzbKw3gkCtEFgllEVmQFCXXpfQLJZs0xOI1Fi+Vde4IWXGhzYU/MGN7aV20YYSLIrZM5N01Q5RdCGtxQUpS0WjeD/Hyg+OVojXZ0AC/MEhP+g2iC8xeqAcLq3B3xmSJGd3z5yhOEIuf6/1A0q8WRb1S9fxCav8IS0DDEtylGUUBQ3OuZd0q3JtW4jLCO8SVzRW2wjTmXcG0lN4rER/Wl20UM/ywQpmqtjxa6zZ4indYxZ9d6P8ZU4Z3L1vA1Jh8wLOle8nYL0JhW0bSTIqiShCp4Opcx56h44gsCSMr0Wn8zybmd8TYBMaI94vRklgIDmh/RUmA1+vXtTtHwc9FFid/bVgSp7jQepJckoTQrF2AHMtyXCHntq/In7JfFimU/MSVO96NxX/d2At61qv28s9pr+m7QCechho24V3MHtVdfv1dNP7ZlaWrnXxXVtjLQod4ZrcFNO9EQJOP3ucxoNwEwHpYg5lm/3wA90Xk3BxoyAWvNJQP0Ggo86ViPG93L9vE3CH8q0PP8Fs6hg2GnOp8Q+1sSzLKxEmdoG1YAEyOzHEwEvD13Dr42sAEX9tpQF+vL/RVFPxjk0NbZRWvxYw/ZMioXtbpYZbx8K5XoufcNFGLodDFfgibYsV35sDzuokVVyOWtppIqrFinZOp2M67iJV3R1UUYL0+Ix2w+IlcBXqap+ho2ZarGPCsN9Q3VwGGg9USllxPPMLHgQC6OWDDZKlAogoAsDcAmL0LAOh5smwfzqemHicZw3kfy1pcvXT/qBBWFCroK4ol/GYlhb8Ks61hMFvFTf9GboZax6pjtu+2Qlru9WhfqZat3KwPv8a2rabXHJoA9OoOrNXnF3kHukV905F5TsQhdREHSDy9zmBa9+3Sc+02eF7D7yc/wEHQhN9z34VuR9lOYVSpTbeBwJ032THXBj+mph17aFU7JpUZAp2HmBbzkQ42LZoJfbn+PYpFFmBpLL6BNzbtSPRGGx0zrx+Gqeh54xB8orIt2ud6dZEYHJsD6g05ekM954DKN5r3r+KUh8b68E7hx4rkqR7I5qx23kA2F7UP7C2OIj+3tfx88K1EeORitoTBXhLyt+aFHWIycFpiMpz2g8nesFt/7kDu0KUJ225cwNmJJjwp8IDJcC4mxfbeWIinNl0Br2G98qxJmAKAillufkMT55L9nnGJEK84KcwmLC9hQs2UXy3EFXkSXjeSicwBmuWmA2cM8MiMoSvk6jVFaI1l4NQE+sDi3rSjIy3QGnZeg+baSkBSTkKyTo4MdHXUhf7QS1/QPNFWeK48dHgxEmAFPtCmRNM4fsMOXm8ZgjsQsHYIo3DWlhIOev5LdfOFKHgcSRT4GkLNGnjhWQ+yuA28cHwzh6utEwN/aL7umutLZ6J9g69VuKAlqrmnfsDxpn1kT2MZynd63Rh2TZ53+ytMYUNyduYwbfyMJ+D0G6fyfJaV5c8CVFEa8r/CbjzRJgyL0lwM7+aP25FYcOpoFhz81LN75Ecn/x+gPRN+mgCpnZyB1uzzG3fgpnrAm011dDrI05mZfRKq82L5pWdevfxeFlz/Bw==&lt;/diagram&gt;&lt;/mxfile&gt;&quot;}\"></div>\n",
    "<script type=\"text/javascript\" src=\"https://viewer.diagrams.net/js/viewer-static.min.js\"></script>\n",
    "\n",
    "---\n",
    "\n",
    "````{prf:definition} \n",
    "If $X$ and $Y$ are spaces then a homotopy of maps from $X$ to $Y$ is a map $F: X \\times I \\rightarrow Y$, where $I=[0,1]$.\n",
    "````\n",
    "\n",
    "````{prf:definition} \n",
    "Two maps $f_0, f_1: X \\rightarrow Y$ are said to be homotopic if there exists a homotopy $F: X \\times I \\rightarrow Y$ such that $F(x, 0)=f_0(x)$ and $F(x, 1)=f_1(x)$ for all $x \\in X$.\n",
    "````\n",
    "\n",
    "````{prf:definition} \n",
    "A map $f:X \\to Y$ is said to be a homotopy equivalence with\n",
    "homotopy inverse $g$ if there is a map $g: Y \\to X$ such that $g\\circ f \\sim 1 x$ and $f\\circ g \\sim 1 y$.\n",
    "This relationship is denoted by $X \\sim Y$. One also says, in this case, that $X$\n",
    "and $Y$ have the same homotopy type.\n",
    "````\n",
    "\n",
    "````{prf:definition} \n",
    "A space is said to be contractible if it is homotopy equivalent\n",
    "to the one-point space.\n",
    "````"
   ]
  }
 ],
 "metadata": {
  "jupytext": {
   "cell_metadata_filter": "-all",
   "formats": "md:myst",
   "text_representation": {
    "extension": ".md",
    "format_name": "myst",
    "format_version": 0.13,
    "jupytext_version": "1.11.5"
   }
  },
  "kernelspec": {
   "display_name": "Python 3",
   "language": "python",
   "name": "python3"
  },
  "language_info": {
   "codemirror_mode": {
    "name": "ipython",
    "version": 3
   },
   "file_extension": ".py",
   "mimetype": "text/x-python",
   "name": "python",
   "nbconvert_exporter": "python",
   "pygments_lexer": "ipython3",
   "version": "3.7.4"
  },
  "source_map": [
   14
  ]
 },
 "nbformat": 4,
 "nbformat_minor": 5
}